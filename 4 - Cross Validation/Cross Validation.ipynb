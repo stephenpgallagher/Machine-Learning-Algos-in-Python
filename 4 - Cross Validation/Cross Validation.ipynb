{
 "cells": [
  {
   "cell_type": "markdown",
   "metadata": {
    "cell_id": "00000-6b2b909d-de62-4725-b77a-4f7918b2f5a6",
    "deepnote_cell_type": "markdown"
   },
   "source": [
    "# Machine Learning in Python - Workshop 4"
   ]
  },
  {
   "cell_type": "markdown",
   "metadata": {
    "cell_id": "00001-2c500e66-1ebe-4eb7-8891-fa453665d1bb",
    "deepnote_cell_type": "markdown"
   },
   "source": [
    "## 1. Setup\n",
    "\n",
    "### 1.1 Packages\n",
    "\n",
    "In the cell below we will load the core libraries we will be using for this workshop and setting some sensible defaults for our plot size and resolution. "
   ]
  },
  {
   "cell_type": "code",
   "execution_count": null,
   "metadata": {
    "cell_id": "00002-be3af6fa-4647-4f8a-9ed8-40a8c51fb0ff",
    "deepnote_cell_type": "code",
    "deepnote_to_be_reexecuted": false,
    "execution_millis": 2318,
    "execution_start": 1612366038887,
    "output_cleared": true,
    "source_hash": "1fa5e1da"
   },
   "outputs": [],
   "source": [
    "# Display plots inline\n",
    "%matplotlib inline\n",
    "\n",
    "# Data libraries\n",
    "import pandas as pd\n",
    "import numpy as np\n",
    "\n",
    "# Plotting libraries\n",
    "import matplotlib.pyplot as plt\n",
    "import seaborn as sns\n",
    "\n",
    "# Plotting defaults\n",
    "plt.rcParams['figure.figsize'] = (8,5)\n",
    "plt.rcParams['figure.dpi'] = 80\n",
    "\n",
    "# sklearn modules\n",
    "import sklearn\n",
    "from sklearn.linear_model import LinearRegression\n",
    "from sklearn.preprocessing import PolynomialFeatures\n",
    "from sklearn.metrics import mean_squared_error\n",
    "from sklearn.pipeline import make_pipeline"
   ]
  },
  {
   "cell_type": "markdown",
   "metadata": {
    "cell_id": "00003-bd435956-0c3e-410f-8f68-8716dadde273",
    "deepnote_cell_type": "markdown"
   },
   "source": [
    "### 1.2 Data\n",
    "\n",
    "To start we will again be using the same data set from Workshop 3, which was generated via a random draw from a Gaussian Process model. It represent an unknown smooth function $f(x)$ that is observed with noise such that $y_i = f(x_i) + \\epsilon_i$. The data have been randomly thinned to include only 100 observations.\n",
    "\n",
    "We can read the data in from `gp.csv` and plot the data to see the overall trend in the data,"
   ]
  },
  {
   "cell_type": "code",
   "execution_count": null,
   "metadata": {
    "cell_id": "00004-c81f84a4-a191-49e1-9b96-ada4a1b11f39",
    "deepnote_cell_type": "code",
    "deepnote_to_be_reexecuted": false,
    "execution_millis": 244,
    "execution_start": 1612366041210,
    "output_cleared": false,
    "source_hash": "445cca0c"
   },
   "outputs": [
    {
     "data": {
      "text/plain": [
       "<AxesSubplot:xlabel='x', ylabel='y'>"
      ]
     },
     "execution_count": 2,
     "metadata": {},
     "output_type": "execute_result"
    },
    {
     "data": {
      "image/png": "[encoded data removed]",
      "text/plain": [
       "<Figure size 640x400 with 1 Axes>"
      ]
     },
     "metadata": {
      "needs_background": "light"
     },
     "output_type": "display_data"
    }
   ],
   "source": [
    "d = pd.read_csv(\"gp.csv\")\n",
    "n = d.shape[0] # number of rows\n",
    "\n",
    "sns.scatterplot(x='x', y='y', data=d, color=\"black\")"
   ]
  },
  {
   "cell_type": "markdown",
   "metadata": {
    "cell_id": "00005-ae22b630-ebc4-4001-9ec0-12f2556dd3b9",
    "deepnote_cell_type": "markdown"
   },
   "source": [
    "# 2. Cross validation\n",
    "\n",
    "In this section we will explore some of the tools that sklearn provides for cross validation for the purpose of model evaluation and selection. The most basic form of CV is to split the data into a testing and training set, this can be achieved using `train_test_split` from the `model_selection` submodule. Here we provide the function with our model matrix $X$ and outcome vector $y$ to obtain a test and train split of both."
   ]
  },
  {
   "cell_type": "code",
   "execution_count": null,
   "metadata": {
    "cell_id": "00006-8851c86b-4b81-4e35-bed2-9883cea07dfe",
    "deepnote_cell_type": "code",
    "deepnote_to_be_reexecuted": false,
    "execution_millis": 6,
    "execution_start": 1612366041458,
    "output_cleared": true,
    "source_hash": "c369c8f6"
   },
   "outputs": [],
   "source": [
    "from sklearn.model_selection import train_test_split\n",
    "\n",
    "X = np.c_[d.x]\n",
    "y = d.y\n",
    "\n",
    "X_train, X_test, y_train, y_test = train_test_split(X, y, test_size=0.4, random_state=0)"
   ]
  },
  {
   "cell_type": "markdown",
   "metadata": {
    "cell_id": "00007-d3cde2db-08cd-44fc-ac97-f57c7b556e98",
    "deepnote_cell_type": "markdown"
   },
   "source": [
    "The additional arguments `test_size` determines the proportion of data to include in the test set and `random_state` is the seed used when determining the partition assignments (keeping the seed the same will result in the same partition(s) each time this cell is rerun).\n",
    "\n",
    "We can check the dimensions of the original and new objects using their shape attributes,"
   ]
  },
  {
   "cell_type": "code",
   "execution_count": null,
   "metadata": {
    "cell_id": "00008-7e6d65e9-ae76-4e09-b146-0e3f2e88f304",
    "deepnote_cell_type": "code",
    "deepnote_to_be_reexecuted": false,
    "execution_millis": 13,
    "execution_start": 1612366041467,
    "output_cleared": false,
    "source_hash": "9b0b717f"
   },
   "outputs": [
    {
     "name": "stdout",
     "output_type": "stream",
     "text": [
      "orig sizes : (100, 1) (100,)\n",
      "train sizes: (60, 1) (60,)\n",
      "test sizes : (40, 1) (40,)\n"
     ]
    }
   ],
   "source": [
    "print(\"orig sizes :\", X.shape, y.shape)\n",
    "print(\"train sizes:\", X_train.shape, y_train.shape)\n",
    "print(\"test sizes :\", X_test.shape, y_test.shape)"
   ]
  },
  {
   "cell_type": "markdown",
   "metadata": {
    "cell_id": "00009-1a0d3b31-8cd8-4457-b3d0-82fb88370bce",
    "deepnote_cell_type": "markdown"
   },
   "source": [
    "With these new objects we can try several polynomial regression models, with different values of `M`, and compare their performance. Our goal is to fit the models using the training data and then evaluating their performance using the test data so that we can avoid potential overfitting.\n",
    "\n",
    "We will assess the models' performance using root mean squared error, \n",
    "\n",
    "$$ \\text{rmse} = \\left( \\frac{1}{n} \\sum_{i=1}^n (y_i - \\hat{y}_i)^2 \\right)^{1/2} $$\n",
    "\n",
    "with sklearn this is calculated using the `mean_squared_error` function with the argument `squared=False`. This metric is entirely equivalent to mean squared error for purposes of ranking / ordering models (as the square root is a monotonic transformation) but the rmse is often prefered as it is more interpretable, as it has the same units as $y$.\n",
    "\n",
    "The following code uses a `for` loop to fit 30 polynomial regression models with $M = [1,2,\\ldots,30]$ and calculates the rmse of the training data and the testing data for each model. Note that we are fitting the model *only* using the `train` split and predicting using both the `train` and the `test` split to get the train and test rmses respectively."
   ]
  },
  {
   "cell_type": "code",
   "execution_count": null,
   "metadata": {
    "cell_id": "00010-85d76a25-dba7-4875-801d-7fbbbc809899",
    "deepnote_cell_type": "code",
    "deepnote_to_be_reexecuted": false,
    "execution_millis": 78,
    "execution_start": 1612366041523,
    "output_cleared": true,
    "source_hash": "f9e85abc"
   },
   "outputs": [],
   "source": [
    "degree = []\n",
    "train_rmse = []\n",
    "test_rmse = []\n",
    "\n",
    "M = 30\n",
    "\n",
    "for i in np.arange(1, M+1):\n",
    "    m = make_pipeline(\n",
    "        PolynomialFeatures(degree=i),\n",
    "        LinearRegression(fit_intercept=False)\n",
    "    ).fit(X_train, y_train)\n",
    "    \n",
    "    degree.append(i)\n",
    "    train_rmse.append(mean_squared_error(y_train, m.predict(X_train), squared=False))\n",
    "    test_rmse.append(mean_squared_error(y_test, m.predict(X_test), squared=False))\n",
    "\n",
    "fit = pd.DataFrame(data = {\"degree\": degree, \"train_rmse\": train_rmse, \"test_rmse\": test_rmse})"
   ]
  },
  {
   "cell_type": "markdown",
   "metadata": {
    "cell_id": "00011-af5e2e4f-de74-46a0-b5bc-efd7ccb1b5a9",
    "deepnote_cell_type": "markdown"
   },
   "source": [
    "We can then plot `degree` vs `rmse` for these splits and observe the resulting pattern."
   ]
  },
  {
   "cell_type": "code",
   "execution_count": null,
   "metadata": {
    "cell_id": "00012-2a00fb71-ed7b-46d1-b4b6-fe299311cea4",
    "deepnote_cell_type": "code",
    "deepnote_to_be_reexecuted": false,
    "execution_millis": 239,
    "execution_start": 1612366041617,
    "output_cleared": false,
    "source_hash": "b1064138"
   },
   "outputs": [
    {
     "data": {
      "text/plain": [
       "<AxesSubplot:xlabel='degree', ylabel='value'>"
      ]
     },
     "execution_count": 6,
     "metadata": {},
     "output_type": "execute_result"
    },
    {
     "data": {
      "image/png": "[encoded data removed]",
      "text/plain": [
       "<Figure size 640x400 with 1 Axes>"
      ]
     },
     "metadata": {
      "needs_background": "light"
     },
     "output_type": "display_data"
    }
   ],
   "source": [
    "sns.lineplot(x=\"degree\", y=\"value\", hue=\"variable\", data = pd.melt(fit,id_vars=[\"degree\"]))"
   ]
  },
  {
   "cell_type": "markdown",
   "metadata": {
    "cell_id": "00013-02586468-5fb0-439c-b6b9-92b4400cd0ec",
    "deepnote_cell_type": "markdown"
   },
   "source": [
    "---\n",
    "\n",
    "### &diams; Exercise 1\n",
    "\n",
    "Based on these results, what value of $M$ produces the best model, justify your answer."
   ]
  },
  {
   "cell_type": "markdown",
   "metadata": {
    "cell_id": "00014-83186210-d6a1-471f-bb1d-a3f741b5531f",
    "deepnote_cell_type": "markdown"
   },
   "source": [
    "*It looks like the test rmse reaches a minimum around a degree of 17. Other large degree values pruduce\n",
    "rmses that are roughly equivalent, so all else being equal we should select the simpler mode, i.e. the model\n",
    "with fewer parameters.* "
   ]
  },
  {
   "cell_type": "markdown",
   "metadata": {
    "cell_id": "00015-da18e360-f2c1-466e-becf-5db18f897521",
    "deepnote_cell_type": "markdown"
   },
   "source": [
    "---\n",
    "\n",
    "### &diams; Exercise 2\n",
    "\n",
    "Try adjusting the proportion of the data in the test vs training data, how does this change the Training and Testing rmse curves?"
   ]
  },
  {
   "cell_type": "markdown",
   "metadata": {
    "cell_id": "00016-22057ba7-0790-4421-868e-a841e41147dc",
    "deepnote_cell_type": "markdown"
   },
   "source": [
    "*Changing the proportion does lead to the curves changing, particularly the test rmse, but generally the pattern seems consistent, \n",
    "with the \"best\" model having a degree of around 17.*"
   ]
  },
  {
   "cell_type": "markdown",
   "metadata": {
    "cell_id": "00017-3fe5ee3d-137d-4628-af61-7f99abd30a1b",
    "deepnote_cell_type": "markdown"
   },
   "source": [
    "---\n",
    "\n",
    "## 2.1 k-fold cross validation\n",
    "\n",
    "The basic implementation of k-fold cross validation is provided by `KFold` in the `model_selection` submodule of `sklearn`. This function / object behaves in a similar way to the other `sklearn` tools we've seen before, we use the function to construct an object with some basic options and the resulting object then can be used to interact with our data / model matrix."
   ]
  },
  {
   "cell_type": "code",
   "execution_count": null,
   "metadata": {
    "cell_id": "00018-311ded87-ebac-4e55-8f5b-52c258f832b1",
    "deepnote_cell_type": "code",
    "deepnote_to_be_reexecuted": false,
    "execution_millis": 1,
    "execution_start": 1612366041861,
    "output_cleared": true,
    "source_hash": "b96f44c5"
   },
   "outputs": [],
   "source": [
    "from sklearn.model_selection import KFold"
   ]
  },
  {
   "cell_type": "code",
   "execution_count": null,
   "metadata": {
    "cell_id": "00019-bcb249e3-613c-406f-8d27-7d3208bfc5ce",
    "deepnote_cell_type": "code",
    "deepnote_to_be_reexecuted": false,
    "execution_millis": 12,
    "execution_start": 1612366041869,
    "output_cleared": true,
    "source_hash": "2a7d2155"
   },
   "outputs": [],
   "source": [
    "kf = KFold(n_splits=5)"
   ]
  },
  {
   "cell_type": "markdown",
   "metadata": {
    "cell_id": "00020-6ed60165-fc48-46f9-b175-ca65386ed0f1",
    "deepnote_cell_type": "markdown"
   },
   "source": [
    "Here we have set up the object `kf` to implement 5-fold cross validation for our data, which we can then apply using the `split` method on our model matrix `X` and response vector `y`."
   ]
  },
  {
   "cell_type": "code",
   "execution_count": null,
   "metadata": {
    "cell_id": "00021-00980725-e830-40c5-a03b-c405027bbe8f",
    "deepnote_cell_type": "code",
    "deepnote_to_be_reexecuted": false,
    "execution_millis": 16,
    "execution_start": 1612366041884,
    "output_cleared": false,
    "source_hash": "e8722be6"
   },
   "outputs": [
    {
     "data": {
      "text/plain": [
       "<generator object _BaseKFold.split at 0x7f11e97edd50>"
      ]
     },
     "execution_count": 9,
     "metadata": {},
     "output_type": "execute_result"
    }
   ],
   "source": [
    "kf.split(X, y)"
   ]
  },
  {
   "cell_type": "markdown",
   "metadata": {
    "cell_id": "00022-c16ff884-b77c-4ab8-8df4-f5ecfc62894e",
    "deepnote_cell_type": "markdown"
   },
   "source": [
    "This returns a [generator](https://wiki.python.org/moin/Generators) which is then used to generate the indexes of the training data and test data for each fold. We can use list comprehension with this generator to view these values."
   ]
  },
  {
   "cell_type": "code",
   "execution_count": null,
   "metadata": {
    "cell_id": "00023-a4bde1e2-a0bd-4477-8020-3fcfd6948ca2",
    "deepnote_cell_type": "code",
    "deepnote_to_be_reexecuted": false,
    "execution_millis": 8,
    "execution_start": 1612366041909,
    "output_cleared": false,
    "source_hash": "19f02310"
   },
   "outputs": [
    {
     "data": {
      "text/plain": [
       "[array([20, 21, 22, 23, 24, 25, 26, 27, 28, 29, 30, 31, 32, 33, 34, 35, 36,\n",
       "        37, 38, 39, 40, 41, 42, 43, 44, 45, 46, 47, 48, 49, 50, 51, 52, 53,\n",
       "        54, 55, 56, 57, 58, 59, 60, 61, 62, 63, 64, 65, 66, 67, 68, 69, 70,\n",
       "        71, 72, 73, 74, 75, 76, 77, 78, 79, 80, 81, 82, 83, 84, 85, 86, 87,\n",
       "        88, 89, 90, 91, 92, 93, 94, 95, 96, 97, 98, 99]),\n",
       " array([ 0,  1,  2,  3,  4,  5,  6,  7,  8,  9, 10, 11, 12, 13, 14, 15, 16,\n",
       "        17, 18, 19, 40, 41, 42, 43, 44, 45, 46, 47, 48, 49, 50, 51, 52, 53,\n",
       "        54, 55, 56, 57, 58, 59, 60, 61, 62, 63, 64, 65, 66, 67, 68, 69, 70,\n",
       "        71, 72, 73, 74, 75, 76, 77, 78, 79, 80, 81, 82, 83, 84, 85, 86, 87,\n",
       "        88, 89, 90, 91, 92, 93, 94, 95, 96, 97, 98, 99]),\n",
       " array([ 0,  1,  2,  3,  4,  5,  6,  7,  8,  9, 10, 11, 12, 13, 14, 15, 16,\n",
       "        17, 18, 19, 20, 21, 22, 23, 24, 25, 26, 27, 28, 29, 30, 31, 32, 33,\n",
       "        34, 35, 36, 37, 38, 39, 60, 61, 62, 63, 64, 65, 66, 67, 68, 69, 70,\n",
       "        71, 72, 73, 74, 75, 76, 77, 78, 79, 80, 81, 82, 83, 84, 85, 86, 87,\n",
       "        88, 89, 90, 91, 92, 93, 94, 95, 96, 97, 98, 99]),\n",
       " array([ 0,  1,  2,  3,  4,  5,  6,  7,  8,  9, 10, 11, 12, 13, 14, 15, 16,\n",
       "        17, 18, 19, 20, 21, 22, 23, 24, 25, 26, 27, 28, 29, 30, 31, 32, 33,\n",
       "        34, 35, 36, 37, 38, 39, 40, 41, 42, 43, 44, 45, 46, 47, 48, 49, 50,\n",
       "        51, 52, 53, 54, 55, 56, 57, 58, 59, 80, 81, 82, 83, 84, 85, 86, 87,\n",
       "        88, 89, 90, 91, 92, 93, 94, 95, 96, 97, 98, 99]),\n",
       " array([ 0,  1,  2,  3,  4,  5,  6,  7,  8,  9, 10, 11, 12, 13, 14, 15, 16,\n",
       "        17, 18, 19, 20, 21, 22, 23, 24, 25, 26, 27, 28, 29, 30, 31, 32, 33,\n",
       "        34, 35, 36, 37, 38, 39, 40, 41, 42, 43, 44, 45, 46, 47, 48, 49, 50,\n",
       "        51, 52, 53, 54, 55, 56, 57, 58, 59, 60, 61, 62, 63, 64, 65, 66, 67,\n",
       "        68, 69, 70, 71, 72, 73, 74, 75, 76, 77, 78, 79])]"
      ]
     },
     "execution_count": 10,
     "metadata": {},
     "output_type": "execute_result"
    }
   ],
   "source": [
    "[train for train, test in kf.split(X, y)]"
   ]
  },
  {
   "cell_type": "code",
   "execution_count": null,
   "metadata": {
    "cell_id": "00024-8cb8140d-df07-4da3-99ca-a37c09d2e429",
    "deepnote_cell_type": "code",
    "deepnote_to_be_reexecuted": false,
    "execution_millis": 7,
    "execution_start": 1612366041910,
    "output_cleared": false,
    "source_hash": "965a69b"
   },
   "outputs": [
    {
     "data": {
      "text/plain": [
       "[array([ 0,  1,  2,  3,  4,  5,  6,  7,  8,  9, 10, 11, 12, 13, 14, 15, 16,\n",
       "        17, 18, 19]),\n",
       " array([20, 21, 22, 23, 24, 25, 26, 27, 28, 29, 30, 31, 32, 33, 34, 35, 36,\n",
       "        37, 38, 39]),\n",
       " array([40, 41, 42, 43, 44, 45, 46, 47, 48, 49, 50, 51, 52, 53, 54, 55, 56,\n",
       "        57, 58, 59]),\n",
       " array([60, 61, 62, 63, 64, 65, 66, 67, 68, 69, 70, 71, 72, 73, 74, 75, 76,\n",
       "        77, 78, 79]),\n",
       " array([80, 81, 82, 83, 84, 85, 86, 87, 88, 89, 90, 91, 92, 93, 94, 95, 96,\n",
       "        97, 98, 99])]"
      ]
     },
     "execution_count": 11,
     "metadata": {},
     "output_type": "execute_result"
    }
   ],
   "source": [
    "[test for train, test in kf.split(X, y)]"
   ]
  },
  {
   "cell_type": "markdown",
   "metadata": {
    "cell_id": "00025-3f00282f-aaec-44f2-b481-57752d0fd5a0",
    "deepnote_cell_type": "markdown"
   },
   "source": [
    "---\n",
    "\n",
    "### &diams; Exercise 3\n",
    "\n",
    "Examine the index values that make up the test and training sets, do you notice anything intesting about how `KFold` has divided up the data?"
   ]
  },
  {
   "cell_type": "markdown",
   "metadata": {
    "cell_id": "00026-cf05e4bb-5b1b-4dcf-a328-5770dd5bcb4e",
    "deepnote_cell_type": "markdown"
   },
   "source": [
    "*The fold partitions are sequential, e.g. fold 1 is 0,1,...,19; fold 2 is 20,...,39; and so on.*"
   ]
  },
  {
   "cell_type": "markdown",
   "metadata": {
    "cell_id": "00027-daa2a96a-1f67-41a8-a88a-3acf53d2e228",
    "deepnote_cell_type": "markdown"
   },
   "source": [
    "---\n",
    "\n",
    "### &diams; Exercise 4\n",
    "\n",
    "Does the structure in Exercise 3 have any implications for model evaluation? Specifically, are the data in the different folds independent of each other, explain why this is important."
   ]
  },
  {
   "cell_type": "markdown",
   "metadata": {
    "cell_id": "00028-8ee9ba96-765c-4ece-8ae1-2707aa77e7a1",
    "deepnote_cell_type": "markdown"
   },
   "source": [
    "*This is problematic for our model as our data is sorted over the x values, as such the folds represent \n",
    "the first 20 observations, and the next and so on. Given we are modeling a smooth function these observations\n",
    "and folds will not be independent of each other and this will signficantly affect our ability to accurately fit\n",
    "a model.*"
   ]
  },
  {
   "cell_type": "markdown",
   "metadata": {
    "cell_id": "00029-ec2c8ad1-4c94-4bac-8bff-39dc4f729b2e",
    "deepnote_cell_type": "markdown"
   },
   "source": [
    "---\n",
    "\n",
    "Using a `for` loop with the `KFold` generator it is then possible to create test and train subsets, fit the model of interest and calculate the training and testing metrics but this requires a fair bit of book keeping code to implement, see an example of this [here](https://scikit-learn.org/stable/modules/generated/sklearn.model_selection.KFold.html).\n",
    "\n",
    "However, `sklearn` provides a more convenient way of doing all of this using the  `cross_val_score` function from the `model_selection` submodule. This function takes as arguments our model or pipeline (any object implementing `fit`) and then our full model matrix $X$ and response $y$. The argument `cv` is a cross-validation generator that determines the splitting strategy (e.g. a `KFold` object)."
   ]
  },
  {
   "cell_type": "code",
   "execution_count": null,
   "metadata": {
    "cell_id": "00030-e994c03a-38a8-4a1a-be93-8b7beba1f130",
    "deepnote_cell_type": "code",
    "deepnote_to_be_reexecuted": false,
    "execution_millis": 19,
    "execution_start": 1612366041913,
    "output_cleared": false,
    "source_hash": "64cc1349"
   },
   "outputs": [
    {
     "data": {
      "text/plain": [
       "array([-0.53205832, -0.49736481, -0.66842376, -0.54219565, -0.570626  ])"
      ]
     },
     "execution_count": 12,
     "metadata": {},
     "output_type": "execute_result"
    }
   ],
   "source": [
    "from sklearn.model_selection import cross_val_score\n",
    "\n",
    "model = make_pipeline(\n",
    "    PolynomialFeatures(degree=1),\n",
    "    LinearRegression(fit_intercept=False)\n",
    ")\n",
    "\n",
    "# Use shuffle to avoid the issue seen w/ Ex. 3 & 4\n",
    "# random_state again sets a random seed so we get the same results each time this cell is run\n",
    "kf = KFold(n_splits=5, shuffle=True, random_state=0)\n",
    "cross_val_score(model, X, y, cv=kf, scoring=\"neg_root_mean_squared_error\")"
   ]
  },
  {
   "cell_type": "markdown",
   "metadata": {
    "cell_id": "00031-6b1fd7c2-d945-49aa-9688-b60c9a92977b",
    "deepnote_cell_type": "markdown"
   },
   "source": [
    "Here we have used `\"neg_root_mean_squared_error\"` as our scoring metric which returns the negative of the root mean squared error. As the name implies this returns the negative of the usual fit metric, this is because sklearn expects to always optimize for the maximum of a score and the model with the largest negative rmse  will therefore be the \"best\". To get a list of all available scoring metrics for `cross_val_score` you can run `sorted(sklearn.metrics.SCORERS.keys())`.\n",
    "\n",
    "To obtain these 5-fold CV estimates of rmse for our models we slightly modify our original code as follows,"
   ]
  },
  {
   "cell_type": "code",
   "execution_count": null,
   "metadata": {
    "cell_id": "00032-a69a71a5-819d-4021-9934-82f34d2c86c2",
    "deepnote_cell_type": "code",
    "deepnote_to_be_reexecuted": false,
    "execution_millis": 334,
    "execution_start": 1612366041971,
    "output_cleared": true,
    "source_hash": "9648f334"
   },
   "outputs": [],
   "source": [
    "degree = []\n",
    "test_mean_rmse = []\n",
    "test_rmse = []\n",
    "\n",
    "M = 30\n",
    "kf = KFold(n_splits=5, shuffle=True, random_state=0)\n",
    "\n",
    "for i in np.arange(1,M+1):\n",
    "    model = make_pipeline(\n",
    "        PolynomialFeatures(degree=i),\n",
    "        LinearRegression(fit_intercept=False)\n",
    "    )\n",
    "    cv = -1 * cross_val_score(model, X, y, cv=kf, scoring=\"neg_root_mean_squared_error\")\n",
    "    degree.append(i)\n",
    "    test_mean_rmse.append(np.mean(cv))\n",
    "    test_rmse.append(cv)\n",
    "\n",
    "cv = pd.DataFrame(\n",
    "    data = np.c_[degree, test_mean_rmse, test_rmse],\n",
    "    columns = [\"degree\", \"mean_rmse\"] + [\"fold\" + str(i) for i in range(1,6) ]\n",
    ")"
   ]
  },
  {
   "cell_type": "markdown",
   "metadata": {
    "cell_id": "00033-6188be56-e2de-48fa-a2d9-83d94dec834b",
    "deepnote_cell_type": "markdown"
   },
   "source": [
    "This fits $5 \\times 30$ polynomial regression models for and stores the results in the data frame `cv`. The `mean_rmse` column contains the average rmse across all 5 folds."
   ]
  },
  {
   "cell_type": "code",
   "execution_count": null,
   "metadata": {
    "cell_id": "00034-6843abcb-6994-4332-9d0d-5a9348e93ce4",
    "deepnote_cell_type": "code",
    "deepnote_to_be_reexecuted": false,
    "execution_millis": 56,
    "execution_start": 1612366042316,
    "output_cleared": false,
    "source_hash": "44c21495"
   },
   "outputs": [
    {
     "data": {
      "application/vnd.deepnote.dataframe.v2+json": {
       "column_count": 7,
       "columns": [
        {
         "dtype": "float64",
         "name": "degree",
         "stats": {
          "histogram": [
           {
            "bin_end": 2.4,
            "bin_start": 1,
            "count": 2
           },
           {
            "bin_end": 3.8,
            "bin_start": 2.4,
            "count": 1
           },
           {
            "bin_end": 5.199999999999999,
            "bin_start": 3.8,
            "count": 2
           },
           {
            "bin_end": 6.6,
            "bin_start": 5.199999999999999,
            "count": 1
           },
           {
            "bin_end": 8,
            "bin_start": 6.6,
            "count": 1
           },
           {
            "bin_end": 9.399999999999999,
            "bin_start": 8,
            "count": 2
           },
           {
            "bin_end": 10.799999999999999,
            "bin_start": 9.399999999999999,
            "count": 1
           },
           {
            "bin_end": 12.2,
            "bin_start": 10.799999999999999,
            "count": 2
           },
           {
            "bin_end": 13.6,
            "bin_start": 12.2,
            "count": 1
           },
           {
            "bin_end": 15,
            "bin_start": 13.6,
            "count": 2
           }
          ],
          "max": 15,
          "min": 1,
          "nan_count": 0,
          "unique_count": 15
         }
        },
        {
         "dtype": "float64",
         "name": "mean_rmse",
         "stats": {
          "histogram": [
           {
            "bin_end": 0.23305544534969758,
            "bin_start": 0.19616621662547432,
            "count": 5
           },
           {
            "bin_end": 0.26994467407392086,
            "bin_start": 0.23305544534969758,
            "count": 1
           },
           {
            "bin_end": 0.30683390279814415,
            "bin_start": 0.26994467407392086,
            "count": 3
           },
           {
            "bin_end": 0.3437231315223674,
            "bin_start": 0.30683390279814415,
            "count": 1
           },
           {
            "bin_end": 0.3806123602465906,
            "bin_start": 0.3437231315223674,
            "count": 1
           },
           {
            "bin_end": 0.4175015889708139,
            "bin_start": 0.3806123602465906,
            "count": 0
           },
           {
            "bin_end": 0.4543908176950372,
            "bin_start": 0.4175015889708139,
            "count": 0
           },
           {
            "bin_end": 0.4912800464192605,
            "bin_start": 0.4543908176950372,
            "count": 0
           },
           {
            "bin_end": 0.5281692751434838,
            "bin_start": 0.4912800464192605,
            "count": 1
           },
           {
            "bin_end": 0.565058503867707,
            "bin_start": 0.5281692751434838,
            "count": 3
           }
          ],
          "max": 0.565058503867707,
          "min": 0.19616621662547432,
          "nan_count": 0,
          "unique_count": 15
         }
        },
        {
         "dtype": "float64",
         "name": "fold1",
         "stats": {
          "histogram": [
           {
            "bin_end": 0.22624018686112454,
            "bin_start": 0.19200437142998375,
            "count": 5
           },
           {
            "bin_end": 0.2604760022922653,
            "bin_start": 0.22624018686112454,
            "count": 2
           },
           {
            "bin_end": 0.29471181772340616,
            "bin_start": 0.2604760022922653,
            "count": 1
           },
           {
            "bin_end": 0.3289476331545469,
            "bin_start": 0.29471181772340616,
            "count": 2
           },
           {
            "bin_end": 0.36318344858568774,
            "bin_start": 0.3289476331545469,
            "count": 1
           },
           {
            "bin_end": 0.3974192640168285,
            "bin_start": 0.36318344858568774,
            "count": 0
           },
           {
            "bin_end": 0.4316550794479693,
            "bin_start": 0.3974192640168285,
            "count": 0
           },
           {
            "bin_end": 0.46589089487911006,
            "bin_start": 0.4316550794479693,
            "count": 0
           },
           {
            "bin_end": 0.5001267103102509,
            "bin_start": 0.46589089487911006,
            "count": 1
           },
           {
            "bin_end": 0.5343625257413916,
            "bin_start": 0.5001267103102509,
            "count": 3
           }
          ],
          "max": 0.5343625257413916,
          "min": 0.19200437142998375,
          "nan_count": 0,
          "unique_count": 15
         }
        },
        {
         "dtype": "float64",
         "name": "fold2",
         "stats": {
          "histogram": [
           {
            "bin_end": 0.20580410142609973,
            "bin_start": 0.17049388306034038,
            "count": 4
           },
           {
            "bin_end": 0.24111431979185904,
            "bin_start": 0.20580410142609973,
            "count": 3
           },
           {
            "bin_end": 0.27642453815761836,
            "bin_start": 0.24111431979185904,
            "count": 1
           },
           {
            "bin_end": 0.3117347565233777,
            "bin_start": 0.27642453815761836,
            "count": 0
           },
           {
            "bin_end": 0.347044974889137,
            "bin_start": 0.3117347565233777,
            "count": 2
           },
           {
            "bin_end": 0.38235519325489636,
            "bin_start": 0.347044974889137,
            "count": 1
           },
           {
            "bin_end": 0.41766541162065574,
            "bin_start": 0.38235519325489636,
            "count": 0
           },
           {
            "bin_end": 0.45297562998641505,
            "bin_start": 0.41766541162065574,
            "count": 0
           },
           {
            "bin_end": 0.48828584835217437,
            "bin_start": 0.45297562998641505,
            "count": 1
           },
           {
            "bin_end": 0.5235960667179337,
            "bin_start": 0.48828584835217437,
            "count": 3
           }
          ],
          "max": 0.5235960667179337,
          "min": 0.17049388306034038,
          "nan_count": 0,
          "unique_count": 15
         }
        },
        {
         "dtype": "float64",
         "name": "fold3",
         "stats": {
          "histogram": [
           {
            "bin_end": 0.3020831848643054,
            "bin_start": 0.21045450477616154,
            "count": 3
           },
           {
            "bin_end": 0.39371186495244925,
            "bin_start": 0.3020831848643054,
            "count": 6
           },
           {
            "bin_end": 0.4853405450405931,
            "bin_start": 0.39371186495244925,
            "count": 0
           },
           {
            "bin_end": 0.5769692251287369,
            "bin_start": 0.4853405450405931,
            "count": 0
           },
           {
            "bin_end": 0.6685979052168808,
            "bin_start": 0.5769692251287369,
            "count": 2
           },
           {
            "bin_end": 0.7602265853050247,
            "bin_start": 0.6685979052168808,
            "count": 2
           },
           {
            "bin_end": 0.8518552653931686,
            "bin_start": 0.7602265853050247,
            "count": 1
           },
           {
            "bin_end": 0.9434839454813124,
            "bin_start": 0.8518552653931686,
            "count": 0
           },
           {
            "bin_end": 1.0351126255694563,
            "bin_start": 0.9434839454813124,
            "count": 0
           },
           {
            "bin_end": 1.1267413056576001,
            "bin_start": 1.0351126255694563,
            "count": 1
           }
          ],
          "max": 1.1267413056576001,
          "min": 0.21045450477616154,
          "nan_count": 0,
          "unique_count": 15
         }
        },
        {
         "dtype": "float64",
         "name": "fold4",
         "stats": {
          "histogram": [
           {
            "bin_end": 0.21552992525246667,
            "bin_start": 0.17923373362104988,
            "count": 1
           },
           {
            "bin_end": 0.25182611688388346,
            "bin_start": 0.21552992525246667,
            "count": 5
           },
           {
            "bin_end": 0.2881223085153003,
            "bin_start": 0.25182611688388346,
            "count": 1
           },
           {
            "bin_end": 0.3244185001467171,
            "bin_start": 0.2881223085153003,
            "count": 4
           },
           {
            "bin_end": 0.36071469177813387,
            "bin_start": 0.3244185001467171,
            "count": 0
           },
           {
            "bin_end": 0.3970108834095507,
            "bin_start": 0.36071469177813387,
            "count": 0
           },
           {
            "bin_end": 0.4333070750409675,
            "bin_start": 0.3970108834095507,
            "count": 0
           },
           {
            "bin_end": 0.4696032666723843,
            "bin_start": 0.4333070750409675,
            "count": 0
           },
           {
            "bin_end": 0.505899458303801,
            "bin_start": 0.4696032666723843,
            "count": 1
           },
           {
            "bin_end": 0.5421956499352178,
            "bin_start": 0.505899458303801,
            "count": 3
           }
          ],
          "max": 0.5421956499352178,
          "min": 0.17923373362104988,
          "nan_count": 0,
          "unique_count": 15
         }
        },
        {
         "dtype": "float64",
         "name": "fold5",
         "stats": {
          "histogram": [
           {
            "bin_end": 0.14531788191037742,
            "bin_start": 0.09806142396348233,
            "count": 8
           },
           {
            "bin_end": 0.1925743398572725,
            "bin_start": 0.14531788191037742,
            "count": 0
           },
           {
            "bin_end": 0.23983079780416755,
            "bin_start": 0.1925743398572725,
            "count": 2
           },
           {
            "bin_end": 0.28708725575106264,
            "bin_start": 0.23983079780416755,
            "count": 1
           },
           {
            "bin_end": 0.33434371369795773,
            "bin_start": 0.28708725575106264,
            "count": 0
           },
           {
            "bin_end": 0.38160017164485277,
            "bin_start": 0.33434371369795773,
            "count": 0
           },
           {
            "bin_end": 0.42885662959174786,
            "bin_start": 0.38160017164485277,
            "count": 0
           },
           {
            "bin_end": 0.47611308753864295,
            "bin_start": 0.42885662959174786,
            "count": 1
           },
           {
            "bin_end": 0.523369545485538,
            "bin_start": 0.47611308753864295,
            "count": 1
           },
           {
            "bin_end": 0.5706260034324331,
            "bin_start": 0.523369545485538,
            "count": 2
           }
          ],
          "max": 0.5706260034324331,
          "min": 0.09806142396348233,
          "nan_count": 0,
          "unique_count": 15
         }
        },
        {
         "dtype": "int64",
         "name": "_deepnote_index_column"
        }
       ],
       "row_count": 15,
       "rows_bottom": null,
       "rows_top": [
        {
         "_deepnote_index_column": 0,
         "degree": 1,
         "fold1": 0.5320583242342588,
         "fold2": 0.49736481266594157,
         "fold3": 0.6684237579346763,
         "fold4": 0.5421956499352178,
         "fold5": 0.5706260034324331,
         "mean_rmse": 0.5621337096405055
        },
        {
         "_deepnote_index_column": 1,
         "degree": 2,
         "fold1": 0.5244062799235245,
         "fold2": 0.5235960667179337,
         "fold3": 0.6708215536838249,
         "fold4": 0.5370150229852033,
         "fold5": 0.5632097056939375,
         "mean_rmse": 0.5638097258008848
        },
        {
         "_deepnote_index_column": 2,
         "degree": 3,
         "fold1": 0.5343625257413916,
         "fold2": 0.4692407283443966,
         "fold3": 0.8003060803756087,
         "fold4": 0.49997544198484783,
         "fold5": 0.5214077428922899,
         "mean_rmse": 0.565058503867707
        },
        {
         "_deepnote_index_column": 3,
         "degree": 4,
         "fold1": 0.4735630235051034,
         "fold2": 0.5026245224322503,
         "fold3": 0.6163821195434815,
         "fold4": 0.531899236796953,
         "fold5": 0.46883178051262725,
         "mean_rmse": 0.5186601365580831
        },
        {
         "_deepnote_index_column": 4,
         "degree": 5,
         "fold1": 0.3268070953986748,
         "fold2": 0.3310675592831077,
         "fold3": 0.3124906412507385,
         "fold4": 0.305006854048293,
         "fold5": 0.24304778764538945,
         "mean_rmse": 0.3036839875252407
        },
        {
         "_deepnote_index_column": 5,
         "degree": 6,
         "fold1": 0.3366682871346442,
         "fold2": 0.3711190066336437,
         "fold3": 0.3255947594024825,
         "fold4": 0.310843162371662,
         "fold5": 0.23919330451981777,
         "mean_rmse": 0.31668370401245005
        },
        {
         "_deepnote_index_column": 6,
         "degree": 7,
         "fold1": 0.297163873097074,
         "fold2": 0.3208324628514888,
         "fold3": 0.34601644108558577,
         "fold4": 0.3045926765195609,
         "fold5": 0.23006445598567257,
         "mean_rmse": 0.29973398190787637
        },
        {
         "_deepnote_index_column": 7,
         "degree": 8,
         "fold1": 0.259276022120792,
         "fold2": 0.19058795282963498,
         "fold3": 0.3238797405776134,
         "fold4": 0.288795853221064,
         "fold5": 0.13265667710662082,
         "mean_rmse": 0.23903924917114505
        },
        {
         "_deepnote_index_column": 8,
         "degree": 9,
         "fold1": 0.2614074891653251,
         "fold2": 0.20573878666058903,
         "fold3": 0.2168622387103539,
         "fold4": 0.2701346840617212,
         "fold5": 0.12230208199353895,
         "mean_rmse": 0.21528905611830562
        },
        {
         "_deepnote_index_column": 9,
         "degree": 10,
         "fold1": 0.2502599090970623,
         "fold2": 0.17049388306034038,
         "fold3": 0.33642365975092026,
         "fold4": 0.2481619191400611,
         "fold5": 0.11903577039646251,
         "mean_rmse": 0.22487502828896933
        },
        {
         "_deepnote_index_column": 10,
         "degree": 11,
         "fold1": 0.20907217081290558,
         "fold2": 0.23794874187728493,
         "fold3": 0.2534849157881504,
         "fold4": 0.22294651739098498,
         "fold5": 0.09806142396348233,
         "mean_rmse": 0.20430275396656167
        },
        {
         "_deepnote_index_column": 11,
         "degree": 12,
         "fold1": 0.20909311100640385,
         "fold2": 0.2604208605479588,
         "fold3": 0.3640236927121247,
         "fold4": 0.2273816967921854,
         "fold5": 0.09831351148936678,
         "mean_rmse": 0.23184657450960788
        },
        {
         "_deepnote_index_column": 12,
         "degree": 13,
         "fold1": 0.2008305323650258,
         "fold2": 0.23389940199880366,
         "fold3": 0.21045450477616154,
         "fold4": 0.22886538069492002,
         "fold5": 0.10678126329246053,
         "mean_rmse": 0.19616621662547432
        },
        {
         "_deepnote_index_column": 13,
         "degree": 14,
         "fold1": 0.21518114063937346,
         "fold2": 0.22460021454258242,
         "fold3": 0.6708411809215483,
         "fold4": 0.2273315705737882,
         "fold5": 0.11609204839172746,
         "mean_rmse": 0.29080923101380396
        },
        {
         "_deepnote_index_column": 14,
         "degree": 15,
         "fold1": 0.19200437142998375,
         "fold2": 0.17551140331019818,
         "fold3": 1.1267413056576001,
         "fold4": 0.17923373362104988,
         "fold5": 0.11517381065801632,
         "mean_rmse": 0.3577329249353696
        }
       ]
      },
      "text/html": [
       "<div>\n",
       "<style scoped>\n",
       "    .dataframe tbody tr th:only-of-type {\n",
       "        vertical-align: middle;\n",
       "    }\n",
       "\n",
       "    .dataframe tbody tr th {\n",
       "        vertical-align: top;\n",
       "    }\n",
       "\n",
       "    .dataframe thead th {\n",
       "        text-align: right;\n",
       "    }\n",
       "</style>\n",
       "<table border=\"1\" class=\"dataframe\">\n",
       "  <thead>\n",
       "    <tr style=\"text-align: right;\">\n",
       "      <th></th>\n",
       "      <th>degree</th>\n",
       "      <th>mean_rmse</th>\n",
       "      <th>fold1</th>\n",
       "      <th>fold2</th>\n",
       "      <th>fold3</th>\n",
       "      <th>fold4</th>\n",
       "      <th>fold5</th>\n",
       "    </tr>\n",
       "  </thead>\n",
       "  <tbody>\n",
       "    <tr>\n",
       "      <th>0</th>\n",
       "      <td>1.0</td>\n",
       "      <td>0.562134</td>\n",
       "      <td>0.532058</td>\n",
       "      <td>0.497365</td>\n",
       "      <td>0.668424</td>\n",
       "      <td>0.542196</td>\n",
       "      <td>0.570626</td>\n",
       "    </tr>\n",
       "    <tr>\n",
       "      <th>1</th>\n",
       "      <td>2.0</td>\n",
       "      <td>0.563810</td>\n",
       "      <td>0.524406</td>\n",
       "      <td>0.523596</td>\n",
       "      <td>0.670822</td>\n",
       "      <td>0.537015</td>\n",
       "      <td>0.563210</td>\n",
       "    </tr>\n",
       "    <tr>\n",
       "      <th>2</th>\n",
       "      <td>3.0</td>\n",
       "      <td>0.565059</td>\n",
       "      <td>0.534363</td>\n",
       "      <td>0.469241</td>\n",
       "      <td>0.800306</td>\n",
       "      <td>0.499975</td>\n",
       "      <td>0.521408</td>\n",
       "    </tr>\n",
       "    <tr>\n",
       "      <th>3</th>\n",
       "      <td>4.0</td>\n",
       "      <td>0.518660</td>\n",
       "      <td>0.473563</td>\n",
       "      <td>0.502625</td>\n",
       "      <td>0.616382</td>\n",
       "      <td>0.531899</td>\n",
       "      <td>0.468832</td>\n",
       "    </tr>\n",
       "    <tr>\n",
       "      <th>4</th>\n",
       "      <td>5.0</td>\n",
       "      <td>0.303684</td>\n",
       "      <td>0.326807</td>\n",
       "      <td>0.331068</td>\n",
       "      <td>0.312491</td>\n",
       "      <td>0.305007</td>\n",
       "      <td>0.243048</td>\n",
       "    </tr>\n",
       "    <tr>\n",
       "      <th>5</th>\n",
       "      <td>6.0</td>\n",
       "      <td>0.316684</td>\n",
       "      <td>0.336668</td>\n",
       "      <td>0.371119</td>\n",
       "      <td>0.325595</td>\n",
       "      <td>0.310843</td>\n",
       "      <td>0.239193</td>\n",
       "    </tr>\n",
       "    <tr>\n",
       "      <th>6</th>\n",
       "      <td>7.0</td>\n",
       "      <td>0.299734</td>\n",
       "      <td>0.297164</td>\n",
       "      <td>0.320832</td>\n",
       "      <td>0.346016</td>\n",
       "      <td>0.304593</td>\n",
       "      <td>0.230064</td>\n",
       "    </tr>\n",
       "    <tr>\n",
       "      <th>7</th>\n",
       "      <td>8.0</td>\n",
       "      <td>0.239039</td>\n",
       "      <td>0.259276</td>\n",
       "      <td>0.190588</td>\n",
       "      <td>0.323880</td>\n",
       "      <td>0.288796</td>\n",
       "      <td>0.132657</td>\n",
       "    </tr>\n",
       "    <tr>\n",
       "      <th>8</th>\n",
       "      <td>9.0</td>\n",
       "      <td>0.215289</td>\n",
       "      <td>0.261407</td>\n",
       "      <td>0.205739</td>\n",
       "      <td>0.216862</td>\n",
       "      <td>0.270135</td>\n",
       "      <td>0.122302</td>\n",
       "    </tr>\n",
       "    <tr>\n",
       "      <th>9</th>\n",
       "      <td>10.0</td>\n",
       "      <td>0.224875</td>\n",
       "      <td>0.250260</td>\n",
       "      <td>0.170494</td>\n",
       "      <td>0.336424</td>\n",
       "      <td>0.248162</td>\n",
       "      <td>0.119036</td>\n",
       "    </tr>\n",
       "    <tr>\n",
       "      <th>10</th>\n",
       "      <td>11.0</td>\n",
       "      <td>0.204303</td>\n",
       "      <td>0.209072</td>\n",
       "      <td>0.237949</td>\n",
       "      <td>0.253485</td>\n",
       "      <td>0.222947</td>\n",
       "      <td>0.098061</td>\n",
       "    </tr>\n",
       "    <tr>\n",
       "      <th>11</th>\n",
       "      <td>12.0</td>\n",
       "      <td>0.231847</td>\n",
       "      <td>0.209093</td>\n",
       "      <td>0.260421</td>\n",
       "      <td>0.364024</td>\n",
       "      <td>0.227382</td>\n",
       "      <td>0.098314</td>\n",
       "    </tr>\n",
       "    <tr>\n",
       "      <th>12</th>\n",
       "      <td>13.0</td>\n",
       "      <td>0.196166</td>\n",
       "      <td>0.200831</td>\n",
       "      <td>0.233899</td>\n",
       "      <td>0.210455</td>\n",
       "      <td>0.228865</td>\n",
       "      <td>0.106781</td>\n",
       "    </tr>\n",
       "    <tr>\n",
       "      <th>13</th>\n",
       "      <td>14.0</td>\n",
       "      <td>0.290809</td>\n",
       "      <td>0.215181</td>\n",
       "      <td>0.224600</td>\n",
       "      <td>0.670841</td>\n",
       "      <td>0.227332</td>\n",
       "      <td>0.116092</td>\n",
       "    </tr>\n",
       "    <tr>\n",
       "      <th>14</th>\n",
       "      <td>15.0</td>\n",
       "      <td>0.357733</td>\n",
       "      <td>0.192004</td>\n",
       "      <td>0.175511</td>\n",
       "      <td>1.126741</td>\n",
       "      <td>0.179234</td>\n",
       "      <td>0.115174</td>\n",
       "    </tr>\n",
       "  </tbody>\n",
       "</table>\n",
       "</div>"
      ],
      "text/plain": [
       "    degree  mean_rmse     fold1     fold2     fold3     fold4     fold5\n",
       "0      1.0   0.562134  0.532058  0.497365  0.668424  0.542196  0.570626\n",
       "1      2.0   0.563810  0.524406  0.523596  0.670822  0.537015  0.563210\n",
       "2      3.0   0.565059  0.534363  0.469241  0.800306  0.499975  0.521408\n",
       "3      4.0   0.518660  0.473563  0.502625  0.616382  0.531899  0.468832\n",
       "4      5.0   0.303684  0.326807  0.331068  0.312491  0.305007  0.243048\n",
       "5      6.0   0.316684  0.336668  0.371119  0.325595  0.310843  0.239193\n",
       "6      7.0   0.299734  0.297164  0.320832  0.346016  0.304593  0.230064\n",
       "7      8.0   0.239039  0.259276  0.190588  0.323880  0.288796  0.132657\n",
       "8      9.0   0.215289  0.261407  0.205739  0.216862  0.270135  0.122302\n",
       "9     10.0   0.224875  0.250260  0.170494  0.336424  0.248162  0.119036\n",
       "10    11.0   0.204303  0.209072  0.237949  0.253485  0.222947  0.098061\n",
       "11    12.0   0.231847  0.209093  0.260421  0.364024  0.227382  0.098314\n",
       "12    13.0   0.196166  0.200831  0.233899  0.210455  0.228865  0.106781\n",
       "13    14.0   0.290809  0.215181  0.224600  0.670841  0.227332  0.116092\n",
       "14    15.0   0.357733  0.192004  0.175511  1.126741  0.179234  0.115174"
      ]
     },
     "execution_count": 14,
     "metadata": {},
     "output_type": "execute_result"
    }
   ],
   "source": [
    "cv.head(n=15)"
   ]
  },
  {
   "cell_type": "markdown",
   "metadata": {
    "cell_id": "00035-03d3ad19-6973-4f99-84d2-2fb4085a5ff1",
    "deepnote_cell_type": "markdown"
   },
   "source": [
    "We can now plot these data, to assess the different models and their performance on fitting these data."
   ]
  },
  {
   "cell_type": "code",
   "execution_count": null,
   "metadata": {
    "cell_id": "00036-5f536a49-e2a2-41cd-97ca-2316b46664ab",
    "deepnote_cell_type": "code",
    "deepnote_to_be_reexecuted": false,
    "execution_millis": 392,
    "execution_start": 1612366042396,
    "output_cleared": false,
    "source_hash": "417d50fe"
   },
   "outputs": [
    {
     "data": {
      "text/plain": [
       "<AxesSubplot:xlabel='degree', ylabel='mean_rmse'>"
      ]
     },
     "execution_count": 15,
     "metadata": {},
     "output_type": "execute_result"
    },
    {
     "data": {
      "image/png": "[encoded data removed]",
      "text/plain": [
       "<Figure size 640x400 with 1 Axes>"
      ]
     },
     "metadata": {
      "needs_background": "light"
     },
     "output_type": "display_data"
    }
   ],
   "source": [
    "sns.lineplot(x=\"degree\", y=\"mean_rmse\", data = cv, color=\"black\")\n",
    "sns.scatterplot(x=\"degree\", y=\"value\", hue=\"variable\", data = pd.melt(cv,id_vars=[\"degree\", \"mean_rmse\"]))"
   ]
  },
  {
   "cell_type": "markdown",
   "metadata": {
    "cell_id": "00037-b8dda437-8456-481d-a19c-b6e94d9a38d2",
    "deepnote_cell_type": "markdown"
   },
   "source": [
    "The plot above is a bit hard to read and compare, particularly for the lower degree polynomial models. We can address this by using a log scale for the y-axis."
   ]
  },
  {
   "cell_type": "code",
   "execution_count": null,
   "metadata": {
    "cell_id": "00038-651dd95d-5ebc-40cd-9c30-de115aa1324a",
    "deepnote_cell_type": "code",
    "deepnote_to_be_reexecuted": false,
    "execution_millis": 765,
    "execution_start": 1612366042797,
    "output_cleared": false,
    "source_hash": "45b28492"
   },
   "outputs": [
    {
     "data": {
      "image/png": "[encoded data removed]",
      "text/plain": [
       "<Figure size 640x400 with 1 Axes>"
      ]
     },
     "metadata": {
      "needs_background": "light"
     },
     "output_type": "display_data"
    }
   ],
   "source": [
    "g = sns.lineplot(x=\"degree\", y=\"mean_rmse\", data = cv, color=\"black\")\n",
    "g = sns.scatterplot(x=\"degree\", y=\"value\", hue=\"variable\", data = pd.melt(cv,id_vars=[\"degree\", \"mean_rmse\"]))\n",
    "\n",
    "g.set_yscale(\"log\")"
   ]
  },
  {
   "cell_type": "markdown",
   "metadata": {
    "cell_id": "00039-893f6125-830b-467c-9125-28982d4c76ba",
    "deepnote_cell_type": "markdown"
   },
   "source": [
    "---\n",
    "\n",
    "### &diams; Exercise 5\n",
    "\n",
    "Do these CV rmse's agree with the results we obtained when using `train_test_split`? How do they differ, is it only a single fold that differs or several?"
   ]
  },
  {
   "cell_type": "markdown",
   "metadata": {
    "cell_id": "00040-b3e99ab8-7064-44f9-97dc-1693379f61df",
    "deepnote_cell_type": "markdown"
   },
   "source": [
    "*Some of the individual folds look similar to the previous results, e.g. fold 1. However, there is a \n",
    "fair bit of variability between the folds. Overall, the mean rmse seems to indicate models with slightly\n",
    "fewer degrees perform better vs. our previous results.*"
   ]
  },
  {
   "cell_type": "markdown",
   "metadata": {
    "cell_id": "00041-857cdad7-2681-4c5b-9468-37b4d62fe3a1",
    "deepnote_cell_type": "markdown"
   },
   "source": [
    "---\n",
    "\n",
    "### &diams; Exercise 6\n",
    "\n",
    "Based on these results, what value of $M$ do you think produces the best model, justify your answer."
   ]
  },
  {
   "cell_type": "markdown",
   "metadata": {
    "cell_id": "00042-039457ea-8aaf-471c-a1a9-e245726f456c",
    "deepnote_cell_type": "markdown"
   },
   "source": [
    "*Based on these plots it appears that $M=13$ produces the lowers average rmse, however $M=11$ is very close*"
   ]
  },
  {
   "cell_type": "markdown",
   "metadata": {
    "cell_id": "00043-c95d8c13-bdc0-4870-9e89-e900d920443c",
    "deepnote_cell_type": "markdown"
   },
   "source": [
    "---\n",
    "\n",
    "## 2.2 CV Grid Search\n"
   ]
  },
  {
   "cell_type": "markdown",
   "metadata": {
    "cell_id": "00044-e95138bd-5ab0-438e-8ad9-7d5a41b468e8",
    "deepnote_cell_type": "markdown"
   },
   "source": [
    "We can further reduce the amount of code needed if we wish to test over a specific set of parameter values  using cross validation. This is accomplished by using the `GridSearchCV` function from the `model_selection` submodule. \n",
    "\n",
    "This function works similarly to `cross_val_score`, but with the addition of the `param_grid` argument. This argument is a dictionary containing parameters names as keys and lists of parameter settings to try as values. Since we are using a pipeline, out parameter name will be the name of the pipeline step, `polynomialfeatures`, followed by `__`, and then the parameter name, `degree`. So for our pipeline the parameter is named `polynomialfeatures__degree`. If you want to list any models available parameters you can call the `get_params()` method on the model object, e.g. `m.get_params()` here."
   ]
  },
  {
   "cell_type": "code",
   "execution_count": null,
   "metadata": {
    "cell_id": "00045-e9da347e-236d-415b-9170-1101b6d4c66c",
    "deepnote_cell_type": "code",
    "deepnote_to_be_reexecuted": false,
    "execution_millis": 345,
    "execution_start": 1612366043602,
    "output_cleared": true,
    "source_hash": "91767f9f"
   },
   "outputs": [],
   "source": [
    "from sklearn.model_selection import GridSearchCV\n",
    "\n",
    "m = make_pipeline(\n",
    "        PolynomialFeatures(),\n",
    "        LinearRegression(fit_intercept=False)\n",
    "    )\n",
    "\n",
    "parameters = {\n",
    "    'polynomialfeatures__degree': np.arange(1,31,1)\n",
    "}\n",
    "\n",
    "kf = KFold(n_splits=5, shuffle=True, random_state=0)\n",
    "\n",
    "grid_search = GridSearchCV(m, parameters, cv=kf, scoring=\"neg_root_mean_squared_error\").fit(X, y)"
   ]
  },
  {
   "cell_type": "markdown",
   "metadata": {
    "cell_id": "00046-796b9f2a-55e9-4ee6-add8-9bb0490fe381",
    "deepnote_cell_type": "markdown"
   },
   "source": [
    "The above code goes through the process of fitting all $5 \\times 30$ models as well as storing and ranking the results for the requested scoring metric(s).\n",
    "\n",
    "Once all of the submodels are fit, we can determine the optimal hyperparameter value by accessing the object's `best_*` attributes,"
   ]
  },
  {
   "cell_type": "code",
   "execution_count": null,
   "metadata": {
    "cell_id": "00047-abb82df6-10c3-45cf-a3f0-f3e59e0988aa",
    "deepnote_cell_type": "code",
    "deepnote_to_be_reexecuted": false,
    "execution_millis": 31,
    "execution_start": 1612366043950,
    "output_cleared": false,
    "source_hash": "a05845bb"
   },
   "outputs": [
    {
     "name": "stdout",
     "output_type": "stream",
     "text": [
      "best index:  12\n",
      "best param:  {'polynomialfeatures__degree': 13}\n",
      "best score:  -0.19616621662547432\n"
     ]
    }
   ],
   "source": [
    "print(\"best index: \", grid_search.best_index_)\n",
    "print(\"best param: \", grid_search.best_params_)\n",
    "print(\"best score: \", grid_search.best_score_)"
   ]
  },
  {
   "cell_type": "markdown",
   "metadata": {
    "cell_id": "00048-3ff72d90-3254-42be-9cc2-a676a4d725a0",
    "deepnote_cell_type": "markdown"
   },
   "source": [
    "Here we see that this proceedure has selected the model with polynomial degree 13 as having the best fit, and this model achieved an average rmse of $0.196$.\n",
    "\n",
    "Additional useful details from the CV process are available in the `cv_results_` attribute, which provides CV and scoring details,"
   ]
  },
  {
   "cell_type": "code",
   "execution_count": null,
   "metadata": {
    "cell_id": "00049-d6562c8b-0795-4ba0-b49f-aad1b88c9725",
    "deepnote_cell_type": "code",
    "deepnote_to_be_reexecuted": false,
    "execution_millis": 37,
    "execution_start": 1612366043968,
    "output_cleared": false,
    "source_hash": "c1a2b0c6"
   },
   "outputs": [
    {
     "data": {
      "text/plain": [
       "array([-0.56213371, -0.56380973, -0.5650585 , -0.51866014, -0.30368399,\n",
       "       -0.3166837 , -0.29973398, -0.23903925, -0.21528906, -0.22487503,\n",
       "       -0.20430275, -0.23184657, -0.19616622, -0.29080923, -0.35773292,\n",
       "       -0.82913005, -0.66243253, -0.43332828, -1.27355987, -1.14142152,\n",
       "       -0.52313197, -0.34005747, -2.13307067, -1.59410742, -1.29324757,\n",
       "       -2.58791317, -2.54728502, -2.52929942, -2.46039051, -3.61257438])"
      ]
     },
     "execution_count": 19,
     "metadata": {},
     "output_type": "execute_result"
    }
   ],
   "source": [
    "grid_search.cv_results_[\"mean_test_score\"]"
   ]
  },
  {
   "cell_type": "code",
   "execution_count": null,
   "metadata": {
    "cell_id": "00050-dcbbfbdb-7761-46e4-bc2a-8298c5f084d8",
    "deepnote_cell_type": "code",
    "deepnote_to_be_reexecuted": false,
    "execution_millis": 16,
    "execution_start": 1612366043989,
    "output_cleared": false,
    "source_hash": "b245e2b9"
   },
   "outputs": [
    {
     "data": {
      "text/plain": [
       "array([-0.53205832, -0.52440628, -0.53436253, -0.47356302, -0.3268071 ,\n",
       "       -0.33666829, -0.29716387, -0.25927602, -0.26140749, -0.25025991,\n",
       "       -0.20907217, -0.20909311, -0.20083053, -0.21518114, -0.19200437,\n",
       "       -0.18888058, -0.17148171, -0.17268858, -0.17305934, -0.17241101,\n",
       "       -0.171139  , -0.16711333, -0.16641142, -0.1662845 , -0.17025798,\n",
       "       -0.16932611, -0.16818875, -0.1690039 , -0.16889557, -0.16860015])"
      ]
     },
     "execution_count": 20,
     "metadata": {},
     "output_type": "execute_result"
    }
   ],
   "source": [
    "grid_search.cv_results_[\"split0_test_score\"]"
   ]
  },
  {
   "cell_type": "markdown",
   "metadata": {
    "cell_id": "00051-3c129219-d7cd-4500-98cb-2f704cd6075e",
    "deepnote_cell_type": "markdown"
   },
   "source": [
    "Finally, the `best_estimator_` attribute gives direct access to the \"best\" model (pipeline) object. Which allows for direct inspection of model coefficients, make predictions, etc."
   ]
  },
  {
   "cell_type": "code",
   "execution_count": null,
   "metadata": {
    "cell_id": "00052-5f906237-40c9-4dbd-b803-44b7b5541ca8",
    "deepnote_cell_type": "code",
    "deepnote_to_be_reexecuted": false,
    "execution_millis": 14,
    "execution_start": 1612366043995,
    "output_cleared": false,
    "source_hash": "f753b60c"
   },
   "outputs": [
    {
     "data": {
      "text/plain": [
       "Pipeline(steps=[('polynomialfeatures', PolynomialFeatures(degree=13)),\n",
       "                ('linearregression', LinearRegression(fit_intercept=False))])"
      ]
     },
     "execution_count": 21,
     "metadata": {},
     "output_type": "execute_result"
    }
   ],
   "source": [
    "grid_search.best_estimator_"
   ]
  },
  {
   "cell_type": "code",
   "execution_count": null,
   "metadata": {
    "cell_id": "00053-573636ec-c073-40c2-9637-39918d20601f",
    "deepnote_cell_type": "code",
    "deepnote_to_be_reexecuted": false,
    "execution_millis": 8,
    "execution_start": 1612366044043,
    "output_cleared": false,
    "source_hash": "865e4d4"
   },
   "outputs": [
    {
     "data": {
      "text/plain": [
       "array([ 7.83450899e-01,  5.05424788e+00,  1.18440994e+03, -2.82448881e+04,\n",
       "        3.18747649e+05, -2.17343924e+06,  9.64967560e+06, -2.88731625e+07,\n",
       "        5.91270181e+07, -8.28575602e+07,  7.80245393e+07, -4.71577797e+07,\n",
       "        1.65164928e+07, -2.54747815e+06])"
      ]
     },
     "execution_count": 22,
     "metadata": {},
     "output_type": "execute_result"
    }
   ],
   "source": [
    "grid_search.best_estimator_.named_steps['linearregression'].coef_"
   ]
  },
  {
   "cell_type": "markdown",
   "metadata": {
    "cell_id": "00054-77d31192-0a7d-4f97-8d79-2891c1fcc6ae",
    "deepnote_cell_type": "markdown"
   },
   "source": [
    "For example if we wanted to plot this \"best\" model's fit to the data we can use the object's predict method directly."
   ]
  },
  {
   "cell_type": "code",
   "execution_count": null,
   "metadata": {
    "cell_id": "00055-1caf990c-bcc8-4ffc-9f3a-76ad398dc2b6",
    "deepnote_cell_type": "code",
    "deepnote_to_be_reexecuted": false,
    "execution_millis": 192,
    "execution_start": 1612366044044,
    "output_cleared": false,
    "source_hash": "e541fd9c"
   },
   "outputs": [
    {
     "data": {
      "text/plain": [
       "<AxesSubplot:xlabel='x', ylabel='y'>"
      ]
     },
     "execution_count": 23,
     "metadata": {},
     "output_type": "execute_result"
    },
    {
     "data": {
      "image/png": "[encoded data removed]",
      "text/plain": [
       "<Figure size 640x400 with 1 Axes>"
      ]
     },
     "metadata": {
      "needs_background": "light"
     },
     "output_type": "display_data"
    }
   ],
   "source": [
    "sns.scatterplot(x='x', y='y', data=d, color=\"black\")\n",
    "sns.lineplot(\n",
    "    x=d.x,\n",
    "    y=grid_search.best_estimator_.predict(X)\n",
    ")"
   ]
  },
  {
   "cell_type": "markdown",
   "metadata": {
    "cell_id": "00056-acd188c2-2933-41db-b55f-46d723921652",
    "deepnote_cell_type": "markdown"
   },
   "source": [
    "---\n",
    "\n",
    "### &diams; Exercise 7\n",
    "\n",
    "Do these results appear to be \"robust\"? More specifically, do you think that the degree 13 polynomial model is actually the best? If you were to change the `random_state` used for the shuffling of the folds, will this result change?"
   ]
  },
  {
   "cell_type": "markdown",
   "metadata": {
    "cell_id": "00057-ff0fe3bb-cce3-4084-9de6-ccb2cbdc70d3",
    "deepnote_cell_type": "markdown"
   },
   "source": [
    "*The $M=13$ model only seems marginally better than other models with slightly fewer degrees, it seems\n",
    "quite likely that different folds might produce a different but similar answer for the optimal model.*"
   ]
  },
  {
   "cell_type": "markdown",
   "metadata": {
    "cell_id": "00058-b81b792b-3b71-4614-8339-d5f365a7734c",
    "deepnote_cell_type": "markdown"
   },
   "source": [
    "---\n",
    "\n",
    "# 3. Additional dimensions and CV\n",
    "\n",
    "Let us now consider an additive regression model of the following form,\n",
    "\n",
    "$$ y = f(x_1) + g(x_2) + h(x_3) + \\epsilon $$\n",
    "\n",
    "where $f()$, $g()$, and $h()$ are polynomials with fix degrees, we will assume linear, quadratic and cubic in this case with the following coefficients:\n",
    "\n",
    "$$\n",
    "\\begin{aligned}\n",
    "f(x) &= 1.2 x + 1.1 \\\\\n",
    "g(x) &= 2.5 x^2 - 0.9 x - 3.2  \\\\\n",
    "h(x) &= 2 x^3 + 0.4 x^2 - 5.2 x + 2.7\n",
    "\\end{aligned}\n",
    "$$\n",
    "\n",
    "We generate values for $x_1$, $x_2$, $x_3$, and $\\epsilon$ and then use these values to calculate observations of $y$ using the following code.\n"
   ]
  },
  {
   "cell_type": "code",
   "execution_count": null,
   "metadata": {
    "cell_id": "00059-61dfe155-ff5d-4489-8012-e1aaf4dd0934",
    "deepnote_cell_type": "code",
    "deepnote_to_be_reexecuted": false,
    "execution_millis": 50,
    "execution_start": 1612366044271,
    "output_cleared": false,
    "source_hash": "15f1dd0a"
   },
   "outputs": [
    {
     "name": "stdout",
     "output_type": "stream",
     "text": [
      "           x1        x2        x3         y\n",
      "0    0.191519  0.883951  0.401106  0.207226\n",
      "1    0.622109  0.741361  0.930614 -0.966704\n",
      "2    0.437728  0.515711  0.515336 -0.899870\n",
      "3    0.785359  0.135252  0.809582 -1.917369\n",
      "4    0.779976  0.039884  0.881772 -1.179076\n",
      "..        ...       ...       ...       ...\n",
      "495  0.267568  0.995838  0.202188  1.562021\n",
      "496  0.932827  0.944205  0.372405  1.223071\n",
      "497  0.826145  0.131144  0.173656  0.741909\n",
      "498  0.145443  0.518355  0.345234 -0.633376\n",
      "499  0.647004  0.477245  0.567738 -0.833677\n",
      "\n",
      "[500 rows x 4 columns]\n"
     ]
    }
   ],
   "source": [
    "np.random.seed(1234)\n",
    "n = 500\n",
    "\n",
    "f = lambda x: 1.2 * x + 1.1\n",
    "g = lambda x: 2.5 * x**2 - 0.9 * x - 3.2 \n",
    "h = lambda x: 2 * x**3 + 0.4 * x**2 - 5.2 * x + 2.7\n",
    "\n",
    "ex2 = pd.DataFrame({\n",
    "    \"x1\": np.random.rand(n),\n",
    "    \"x2\": np.random.rand(n),\n",
    "    \"x3\": np.random.rand(n)\n",
    "}).assign(\n",
    "   y = lambda d: f(d.x1) + g(d.x2) + h(d.x3) + 0.25*np.random.randn(n) # epsilon\n",
    ")\n",
    "\n",
    "print(ex2)"
   ]
  },
  {
   "cell_type": "markdown",
   "metadata": {
    "cell_id": "00060-35cf3a8a-f874-48f9-859e-92c1e2c6884b",
    "deepnote_cell_type": "markdown"
   },
   "source": [
    "---\n",
    "\n",
    "### &diams; Exercise 8\n",
    "\n",
    "Create a pairs plot of these data, from this alone is it possible to identify the polynomial relationships between $y$ and the $x$s?"
   ]
  },
  {
   "cell_type": "code",
   "execution_count": null,
   "metadata": {
    "cell_id": "00061-45c01f8b-a3ca-490c-bb7e-37ea571b1ee6",
    "deepnote_cell_type": "code",
    "deepnote_to_be_reexecuted": false,
    "execution_millis": 2899,
    "execution_start": 1612366044316,
    "output_cleared": false,
    "source_hash": "77b4bb25"
   },
   "outputs": [
    {
     "data": {
      "text/plain": [
       "<seaborn.axisgrid.PairGrid at 0x7f11c486d1d0>"
      ]
     },
     "execution_count": 25,
     "metadata": {},
     "output_type": "execute_result"
    },
    {
     "data": {
      "image/png": "[encoded data removed]",
      "text/plain": [
       "<Figure size 800x800 with 20 Axes>"
      ]
     },
     "metadata": {
      "needs_background": "light"
     },
     "output_type": "display_data"
    }
   ],
   "source": [
    "sns.pairplot(ex2)"
   ]
  },
  {
   "cell_type": "markdown",
   "metadata": {
    "cell_id": "00062-420273ae-dd1f-46f0-8413-225ef493f906",
    "deepnote_cell_type": "markdown"
   },
   "source": [
    "*There are no obvious relationships between $x_1$, $x_2$, or $x_3$ but it does appear \n",
    "that there are relationships between $y$ and $x_1$, $x_2$, and $x_3$ - although they all look \n",
    "somewhat weak and linear*."
   ]
  },
  {
   "cell_type": "markdown",
   "metadata": {
    "cell_id": "00063-121ac542-b680-467d-8b37-74548312cc8d",
    "deepnote_cell_type": "markdown"
   },
   "source": [
    "---\n",
    "\n",
    "We will assume that we know that each of the functions $f()$, $g()$, and $h()$ are at most of degree 3 - we can try to fit a polynomial model to these data using the tools we've seen thus far. "
   ]
  },
  {
   "cell_type": "code",
   "execution_count": null,
   "metadata": {
    "cell_id": "00064-58bd31cf-ced6-4923-8023-f0eb811a676a",
    "deepnote_cell_type": "code",
    "deepnote_to_be_reexecuted": false,
    "execution_millis": 0,
    "execution_start": 1612366047216,
    "output_cleared": true,
    "source_hash": "edfbcfcb"
   },
   "outputs": [],
   "source": [
    "X = ex2.drop(columns=['y']) # Keep as a data frame not a nparray for later\n",
    "y = ex2.y"
   ]
  },
  {
   "cell_type": "code",
   "execution_count": null,
   "metadata": {
    "cell_id": "00065-eedf918c-1114-4d47-b833-beb6f5d02467",
    "deepnote_cell_type": "code",
    "deepnote_to_be_reexecuted": false,
    "execution_millis": 13,
    "execution_start": 1612366047218,
    "output_cleared": true,
    "source_hash": "dd2fffc3"
   },
   "outputs": [],
   "source": [
    "m = make_pipeline(\n",
    "    PolynomialFeatures(degree=3),\n",
    "    LinearRegression(fit_intercept=False)\n",
    ")\n",
    "\n",
    "fit = m.fit(X, y)"
   ]
  },
  {
   "cell_type": "markdown",
   "metadata": {
    "cell_id": "00066-c9e6805d-ee14-48a3-8e4d-aa398ca444b5",
    "deepnote_cell_type": "markdown"
   },
   "source": [
    "The following line prints out the model coefficients for the fitted model. While we may have expected only 10 (or 9) parameters in this model, we instead get 20 coefficients for this model."
   ]
  },
  {
   "cell_type": "code",
   "execution_count": null,
   "metadata": {
    "cell_id": "00067-55887400-ff15-4096-867a-057f44da3fda",
    "deepnote_cell_type": "code",
    "deepnote_to_be_reexecuted": false,
    "execution_millis": 8,
    "execution_start": 1612366047245,
    "output_cleared": false,
    "source_hash": "dec4102b"
   },
   "outputs": [
    {
     "name": "stdout",
     "output_type": "stream",
     "text": [
      "[ 0.28199407  2.32656568  0.20117018 -4.55915257 -1.10824194 -1.16081456\n",
      " -0.98352703  0.83509629 -0.48174047 -0.32581289  0.32341883  0.46312716\n",
      "  0.55649515  0.53131633  0.12888933  0.34799729  0.66614765  0.52534563\n",
      "  0.03664093  2.2074557 ]\n"
     ]
    }
   ],
   "source": [
    "print( fit.named_steps['linearregression'].coef_ )"
   ]
  },
  {
   "cell_type": "markdown",
   "metadata": {
    "cell_id": "00068-775cab03-ceba-4b55-b4fb-8f2531b341e2",
    "deepnote_cell_type": "markdown"
   },
   "source": [
    "The reason for this becomes more clear if we examine the `powers_` attribute which returns lists of the powers of $x_1$, $x_2$, and $x_3$ for each of the model terms. So for example the coeficient $0.282$ belongs to the $x_1^0 \\, x_2^0 \\, x_3^0$ term (i.e. the model intercept). "
   ]
  },
  {
   "cell_type": "code",
   "execution_count": null,
   "metadata": {
    "cell_id": "00069-68233f33-3caf-4b45-ad75-c3b4e6c651a9",
    "deepnote_cell_type": "code",
    "deepnote_to_be_reexecuted": false,
    "execution_millis": 0,
    "execution_start": 1612366047303,
    "output_cleared": false,
    "source_hash": "e2a779b4"
   },
   "outputs": [
    {
     "name": "stdout",
     "output_type": "stream",
     "text": [
      "[[0 0 0]\n",
      " [1 0 0]\n",
      " [0 1 0]\n",
      " [0 0 1]\n",
      " [2 0 0]\n",
      " [1 1 0]\n",
      " [1 0 1]\n",
      " [0 2 0]\n",
      " [0 1 1]\n",
      " [0 0 2]\n",
      " [3 0 0]\n",
      " [2 1 0]\n",
      " [2 0 1]\n",
      " [1 2 0]\n",
      " [1 1 1]\n",
      " [1 0 2]\n",
      " [0 3 0]\n",
      " [0 2 1]\n",
      " [0 1 2]\n",
      " [0 0 3]]\n"
     ]
    }
   ],
   "source": [
    "print( fit.named_steps['polynomialfeatures'].powers_ )"
   ]
  },
  {
   "cell_type": "markdown",
   "metadata": {
    "cell_id": "00070-19bed0bd-81c2-46c2-b3e4-9a0c8f46e2d9",
    "deepnote_cell_type": "markdown"
   },
   "source": [
    "---\n",
    "\n",
    "### &diams; Exercise 10\n",
    "\n",
    "Compare the fitted coefficients with the \"true\" values for our data, how close are they?"
   ]
  },
  {
   "cell_type": "markdown",
   "metadata": {
    "cell_id": "00072-a0bc7e27-d3ad-493c-952d-93909ff97d25",
    "deepnote_cell_type": "markdown",
    "tags": []
   },
   "source": [
    "*There is almost no correspondence between the true model and our model.*\n",
    "\n",
    "*The true model is*\n",
    "$$\n",
    "\\begin{aligned}\n",
    "f(x) &= 1.2 x + 1.1 \\\\\n",
    "g(x) &= 2.5 x^2 - 0.9 x - 3.2  \\\\\n",
    "h(x) &= 2 x^3 + 0.4 x^2 - 5.2 x + 2.7\n",
    "\\end{aligned}\n",
    "$$\n",
    "\n",
    "*The fitted model is*\n",
    "$$\n",
    "\\begin{aligned}\n",
    "\\hat{y} =& 0.282  + \\\\\n",
    "   & 2.327 x_1 - 1.108 x_1^2 + 0.323 x_1^3 + \\\\\n",
    "   & 0.201 x_2 + 0.835 x_2^2 + 0.666 x_2^3 + \\\\\n",
    "  -& 4.559 x_3 - 0.326 x_3^2 + 2.207 x_3^3 + \\\\\n",
    "  -& 1.161 x_1 x_2 -0.984 x_1 x_3 -0.482 x_2 x_3 + \\\\\n",
    "   & 0.463 x_1^2 x_2 +  0.556 x_1^2 x_3 +  0.531 x_1 x_2^2 + 0.348 x_1 x_3^2 + 0.525 x_2^2 x_3 + 0.037 x_2 x_3^2 \\\\\n",
    "   & 0.129 x_1 x_2 x_3\n",
    "\\end{aligned}\n",
    "$$\n",
    "\n",
    "\n",
    "*Note that our model has $f(x_1)+ g(x_2)+h(x_3)$, therefore the overall intercept of the model should be: \n",
    "$1.1-3.2+2.7 = 0.6$*"
   ]
  },
  {
   "cell_type": "markdown",
   "metadata": {
    "cell_id": "00072-e9ef7b8d-4d41-49c9-8ecd-82fdf579cda7",
    "deepnote_cell_type": "markdown"
   },
   "source": [
    "---\n",
    "\n",
    "### &diams; Exercise 11\n",
    "\n",
    "Calculate the 5-fold cross validation rmse for this model."
   ]
  },
  {
   "cell_type": "code",
   "execution_count": null,
   "metadata": {
    "cell_id": "00073-2f134b8f-d30d-4bcb-9450-ca90e1595b85",
    "deepnote_cell_type": "code",
    "deepnote_to_be_reexecuted": false,
    "execution_millis": 66,
    "execution_start": 1612366047304,
    "output_cleared": false,
    "source_hash": "bdd8b0ac"
   },
   "outputs": [
    {
     "name": "stdout",
     "output_type": "stream",
     "text": [
      "[-0.26798009 -0.25624857 -0.23095929 -0.24516022 -0.267326  ]\n",
      "-0.253534831926424\n"
     ]
    }
   ],
   "source": [
    "kf = KFold(n_splits=5, shuffle=True, random_state=0)\n",
    "cv = cross_val_score(m, X, y, cv=kf, scoring=\"neg_root_mean_squared_error\")\n",
    "print(cv)\n",
    "print(cv.mean())\n"
   ]
  },
  {
   "cell_type": "markdown",
   "metadata": {
    "cell_id": "00074-6239fcde-9583-4437-9188-9773672683c5",
    "deepnote_cell_type": "markdown"
   },
   "source": [
    "---\n",
    "\n",
    "## 3.2 Column Transformers\n",
    "\n",
    "For this particular model we do not want these interaction terms between our features, but this is not something that `sklearn` allows us to disable for `PolynomialFeatures`. This is actually a specific example of a more general issue where we do not want to apply a transformer to all of the features of a model at the same time. For this particularly example, we would like to apply an individual polynomial transformation to each of the three $x$. To do this we will use sklearn's `ColumnTransformer` and the `make_column_transformer` helper function from the `compose` submodule."
   ]
  },
  {
   "cell_type": "code",
   "execution_count": null,
   "metadata": {
    "cell_id": "00075-079592d1-a401-439c-a589-fa7b175bd301",
    "deepnote_cell_type": "code",
    "deepnote_to_be_reexecuted": false,
    "execution_millis": 14,
    "execution_start": 1612366047366,
    "output_cleared": true,
    "source_hash": "b168a9b1"
   },
   "outputs": [],
   "source": [
    "from sklearn.compose import ColumnTransformer, make_column_transformer"
   ]
  },
  {
   "cell_type": "code",
   "execution_count": null,
   "metadata": {
    "cell_id": "00076-c5d1484e-066f-4316-a666-55be6da5af8b",
    "deepnote_cell_type": "code",
    "deepnote_to_be_reexecuted": false,
    "execution_millis": 0,
    "execution_start": 1612366047427,
    "output_cleared": true,
    "source_hash": "c6d4d5e0"
   },
   "outputs": [],
   "source": [
    "ind_poly = make_column_transformer(\n",
    "    (PolynomialFeatures(degree=3, include_bias=False), ['x1']),\n",
    "    (PolynomialFeatures(degree=3, include_bias=False), ['x2']),\n",
    "    (PolynomialFeatures(degree=3, include_bias=False), ['x3']),\n",
    ")"
   ]
  },
  {
   "cell_type": "markdown",
   "metadata": {
    "cell_id": "00077-7b082005-ac52-40fc-9668-80028be94ea8",
    "deepnote_cell_type": "markdown"
   },
   "source": [
    "The arguments for `make_column_transformer` are tuples of the desired transformer object and the name of the columns that will have that transformer applied. Once constructed the column transfomer works like any other transformer object and can be applied via `fit` and `transform` or `fit_transform` methods."
   ]
  },
  {
   "cell_type": "code",
   "execution_count": null,
   "metadata": {
    "cell_id": "00078-1724bf64-e667-43e7-938a-5beb101b1315",
    "deepnote_cell_type": "code",
    "deepnote_to_be_reexecuted": false,
    "execution_millis": 1,
    "execution_start": 1612366047427,
    "output_cleared": true,
    "source_hash": "39a6771f"
   },
   "outputs": [],
   "source": [
    "trans = ind_poly.fit_transform(X, y)"
   ]
  },
  {
   "cell_type": "code",
   "execution_count": null,
   "metadata": {
    "cell_id": "00079-79426d1b-97d9-4cbf-8b5d-6a13de55c135",
    "deepnote_cell_type": "code",
    "deepnote_to_be_reexecuted": false,
    "execution_millis": 48,
    "execution_start": 1612366047428,
    "output_cleared": false,
    "source_hash": "c2e07d1"
   },
   "outputs": [
    {
     "data": {
      "application/vnd.deepnote.dataframe.v2+json": {
       "column_count": 9,
       "columns": [
        {
         "dtype": "float64",
         "name": 0,
         "stats": {
          "histogram": [
           {
            "bin_end": 0.10193544711782883,
            "bin_start": 0.0021894308231216186,
            "count": 48
           },
           {
            "bin_end": 0.20168146341253604,
            "bin_start": 0.10193544711782883,
            "count": 52
           },
           {
            "bin_end": 0.30142747970724326,
            "bin_start": 0.20168146341253604,
            "count": 39
           },
           {
            "bin_end": 0.40117349600195046,
            "bin_start": 0.30142747970724326,
            "count": 45
           },
           {
            "bin_end": 0.5009195122966577,
            "bin_start": 0.40117349600195046,
            "count": 41
           },
           {
            "bin_end": 0.6006655285913649,
            "bin_start": 0.5009195122966577,
            "count": 58
           },
           {
            "bin_end": 0.700411544886072,
            "bin_start": 0.6006655285913649,
            "count": 54
           },
           {
            "bin_end": 0.8001575611807793,
            "bin_start": 0.700411544886072,
            "count": 56
           },
           {
            "bin_end": 0.8999035774754865,
            "bin_start": 0.8001575611807793,
            "count": 43
           },
           {
            "bin_end": 0.9996495937701937,
            "bin_start": 0.8999035774754865,
            "count": 64
           }
          ],
          "max": 0.9996495937701937,
          "min": 0.0021894308231216186,
          "nan_count": 0,
          "unique_count": 500
         }
        },
        {
         "dtype": "float64",
         "name": 1,
         "stats": {
          "histogram": [
           {
            "bin_end": 0.09993424527908763,
            "bin_start": 4.793607329235008e-06,
            "count": 142
           },
           {
            "bin_end": 0.19986369695084605,
            "bin_start": 0.09993424527908763,
            "count": 64
           },
           {
            "bin_end": 0.2997931486226045,
            "bin_start": 0.19986369695084605,
            "count": 43
           },
           {
            "bin_end": 0.39972260029436285,
            "bin_start": 0.2997931486226045,
            "count": 56
           },
           {
            "bin_end": 0.4996520519661212,
            "bin_start": 0.39972260029436285,
            "count": 38
           },
           {
            "bin_end": 0.5995815036378797,
            "bin_start": 0.4996520519661212,
            "count": 35
           },
           {
            "bin_end": 0.699510955309638,
            "bin_start": 0.5995815036378797,
            "count": 30
           },
           {
            "bin_end": 0.7994404069813964,
            "bin_start": 0.699510955309638,
            "count": 28
           },
           {
            "bin_end": 0.8993698586531548,
            "bin_start": 0.7994404069813964,
            "count": 31
           },
           {
            "bin_end": 0.9992993103249133,
            "bin_start": 0.8993698586531548,
            "count": 33
           }
          ],
          "max": 0.9992993103249133,
          "min": 4.793607329235008e-06,
          "nan_count": 0,
          "unique_count": 500
         }
        },
        {
         "dtype": "float64",
         "name": 2,
         "stats": {
          "histogram": [
           {
            "bin_end": 0.0998949244078579,
            "bin_start": 1.0495271640568828e-08,
            "count": 211
           },
           {
            "bin_end": 0.19978983832044417,
            "bin_start": 0.0998949244078579,
            "count": 62
           },
           {
            "bin_end": 0.2996847522330304,
            "bin_start": 0.19978983832044417,
            "count": 49
           },
           {
            "bin_end": 0.3995796661456167,
            "bin_start": 0.2996847522330304,
            "count": 38
           },
           {
            "bin_end": 0.49947458005820294,
            "bin_start": 0.3995796661456167,
            "count": 31
           },
           {
            "bin_end": 0.5993694939707892,
            "bin_start": 0.49947458005820294,
            "count": 18
           },
           {
            "bin_end": 0.6992644078833755,
            "bin_start": 0.5993694939707892,
            "count": 24
           },
           {
            "bin_end": 0.7991593217959617,
            "bin_start": 0.6992644078833755,
            "count": 22
           },
           {
            "bin_end": 0.8990542357085479,
            "bin_start": 0.7991593217959617,
            "count": 23
           },
           {
            "bin_end": 0.9989491496211342,
            "bin_start": 0.8990542357085479,
            "count": 22
           }
          ],
          "max": 0.9989491496211342,
          "min": 1.0495271640568828e-08,
          "nan_count": 0,
          "unique_count": 500
         }
        },
        {
         "dtype": "float64",
         "name": 3,
         "stats": {
          "histogram": [
           {
            "bin_end": 0.10138575869192248,
            "bin_start": 0.001543762571176166,
            "count": 58
           },
           {
            "bin_end": 0.2012277548126688,
            "bin_start": 0.10138575869192248,
            "count": 53
           },
           {
            "bin_end": 0.30106975093341515,
            "bin_start": 0.2012277548126688,
            "count": 39
           },
           {
            "bin_end": 0.40091174705416144,
            "bin_start": 0.30106975093341515,
            "count": 52
           },
           {
            "bin_end": 0.5007537431749077,
            "bin_start": 0.40091174705416144,
            "count": 53
           },
           {
            "bin_end": 0.6005957392956541,
            "bin_start": 0.5007537431749077,
            "count": 47
           },
           {
            "bin_end": 0.7004377354164004,
            "bin_start": 0.6005957392956541,
            "count": 44
           },
           {
            "bin_end": 0.8002797315371467,
            "bin_start": 0.7004377354164004,
            "count": 42
           },
           {
            "bin_end": 0.900121727657893,
            "bin_start": 0.8002797315371467,
            "count": 63
           },
           {
            "bin_end": 0.9999637237786394,
            "bin_start": 0.900121727657893,
            "count": 49
           }
          ],
          "max": 0.9999637237786394,
          "min": 0.001543762571176166,
          "nan_count": 0,
          "unique_count": 500
         }
        },
        {
         "dtype": "float64",
         "name": 4,
         "stats": {
          "histogram": [
           {
            "bin_end": 0.09999488976991286,
            "bin_start": 2.383202876164447e-06,
            "count": 156
           },
           {
            "bin_end": 0.19998739633694954,
            "bin_start": 0.09999488976991286,
            "count": 80
           },
           {
            "bin_end": 0.29997990290398624,
            "bin_start": 0.19998739633694954,
            "count": 37
           },
           {
            "bin_end": 0.3999724094710229,
            "bin_start": 0.29997990290398624,
            "count": 49
           },
           {
            "bin_end": 0.4999649160380596,
            "bin_start": 0.3999724094710229,
            "count": 27
           },
           {
            "bin_end": 0.5999574226050963,
            "bin_start": 0.4999649160380596,
            "count": 26
           },
           {
            "bin_end": 0.699949929172133,
            "bin_start": 0.5999574226050963,
            "count": 39
           },
           {
            "bin_end": 0.7999424357391697,
            "bin_start": 0.699949929172133,
            "count": 34
           },
           {
            "bin_end": 0.8999349423062064,
            "bin_start": 0.7999424357391697,
            "count": 27
           },
           {
            "bin_end": 0.999927448873243,
            "bin_start": 0.8999349423062064,
            "count": 25
           }
          ],
          "max": 0.999927448873243,
          "min": 2.383202876164447e-06,
          "nan_count": 0,
          "unique_count": 500
         }
        },
        {
         "dtype": "float64",
         "name": 5,
         "stats": {
          "histogram": [
           {
            "bin_end": 0.09998912083956578,
            "bin_start": 3.6790993997420607e-09,
            "count": 243
           },
           {
            "bin_end": 0.19997823800003214,
            "bin_start": 0.09998912083956578,
            "count": 47
           },
           {
            "bin_end": 0.29996735516049855,
            "bin_start": 0.19997823800003214,
            "count": 46
           },
           {
            "bin_end": 0.39995647232096493,
            "bin_start": 0.29996735516049855,
            "count": 29
           },
           {
            "bin_end": 0.4999455894814313,
            "bin_start": 0.39995647232096493,
            "count": 20
           },
           {
            "bin_end": 0.5999347066418976,
            "bin_start": 0.4999455894814313,
            "count": 29
           },
           {
            "bin_end": 0.6999238238023641,
            "bin_start": 0.5999347066418976,
            "count": 30
           },
           {
            "bin_end": 0.7999129409628304,
            "bin_start": 0.6999238238023641,
            "count": 21
           },
           {
            "bin_end": 0.8999020581232967,
            "bin_start": 0.7999129409628304,
            "count": 17
           },
           {
            "bin_end": 0.9998911752837631,
            "bin_start": 0.8999020581232967,
            "count": 18
           }
          ],
          "max": 0.9998911752837631,
          "min": 3.6790993997420607e-09,
          "nan_count": 0,
          "unique_count": 500
         }
        },
        {
         "dtype": "float64",
         "name": 6,
         "stats": {
          "histogram": [
           {
            "bin_end": 0.0997998090215704,
            "bin_start": 0.00022724991417177876,
            "count": 67
           },
           {
            "bin_end": 0.19937236812896902,
            "bin_start": 0.0997998090215704,
            "count": 54
           },
           {
            "bin_end": 0.2989449272363677,
            "bin_start": 0.19937236812896902,
            "count": 49
           },
           {
            "bin_end": 0.39851748634376627,
            "bin_start": 0.2989449272363677,
            "count": 34
           },
           {
            "bin_end": 0.49809004545116486,
            "bin_start": 0.39851748634376627,
            "count": 61
           },
           {
            "bin_end": 0.5976626045585636,
            "bin_start": 0.49809004545116486,
            "count": 50
           },
           {
            "bin_end": 0.6972351636659622,
            "bin_start": 0.5976626045585636,
            "count": 39
           },
           {
            "bin_end": 0.7968077227733608,
            "bin_start": 0.6972351636659622,
            "count": 49
           },
           {
            "bin_end": 0.8963802818807594,
            "bin_start": 0.7968077227733608,
            "count": 55
           },
           {
            "bin_end": 0.9959528409881581,
            "bin_start": 0.8963802818807594,
            "count": 42
           }
          ],
          "max": 0.9959528409881581,
          "min": 0.00022724991417177876,
          "nan_count": 0,
          "unique_count": 500
         }
        },
        {
         "dtype": "float64",
         "name": 7,
         "stats": {
          "histogram": [
           {
            "bin_end": 0.09919225262550947,
            "bin_start": 5.164252349108081e-08,
            "count": 175
           },
           {
            "bin_end": 0.19838445360849544,
            "bin_start": 0.09919225262550947,
            "count": 55
           },
           {
            "bin_end": 0.2975766545914814,
            "bin_start": 0.19838445360849544,
            "count": 62
           },
           {
            "bin_end": 0.3967688555744674,
            "bin_start": 0.2975766545914814,
            "count": 33
           },
           {
            "bin_end": 0.4959610565574534,
            "bin_start": 0.3967688555744674,
            "count": 30
           },
           {
            "bin_end": 0.5951532575404394,
            "bin_start": 0.4959610565574534,
            "count": 37
           },
           {
            "bin_end": 0.6943454585234253,
            "bin_start": 0.5951532575404394,
            "count": 37
           },
           {
            "bin_end": 0.7935376595064113,
            "bin_start": 0.6943454585234253,
            "count": 26
           },
           {
            "bin_end": 0.8927298604893973,
            "bin_start": 0.7935376595064113,
            "count": 24
           },
           {
            "bin_end": 0.9919220614723833,
            "bin_start": 0.8927298604893973,
            "count": 21
           }
          ],
          "max": 0.9919220614723833,
          "min": 5.164252349108081e-08,
          "nan_count": 0,
          "unique_count": 500
         }
        },
        {
         "dtype": "float64",
         "name": 8,
         "stats": {
          "histogram": [
           {
            "bin_end": 0.09879075952678724,
            "bin_start": 1.1735759030962182e-11,
            "count": 240
           },
           {
            "bin_end": 0.1975815190418387,
            "bin_start": 0.09879075952678724,
            "count": 73
           },
           {
            "bin_end": 0.29637227855689025,
            "bin_start": 0.1975815190418387,
            "count": 28
           },
           {
            "bin_end": 0.3951630380719417,
            "bin_start": 0.29637227855689025,
            "count": 28
           },
           {
            "bin_end": 0.49395379758699315,
            "bin_start": 0.3951630380719417,
            "count": 31
           },
           {
            "bin_end": 0.5927445571020447,
            "bin_start": 0.49395379758699315,
            "count": 32
           },
           {
            "bin_end": 0.6915353166170961,
            "bin_start": 0.5927445571020447,
            "count": 18
           },
           {
            "bin_end": 0.7903260761321476,
            "bin_start": 0.6915353166170961,
            "count": 22
           },
           {
            "bin_end": 0.889116835647199,
            "bin_start": 0.7903260761321476,
            "count": 12
           },
           {
            "bin_end": 0.9879075951622505,
            "bin_start": 0.889116835647199,
            "count": 16
           }
          ],
          "max": 0.9879075951622505,
          "min": 1.1735759030962182e-11,
          "nan_count": 0,
          "unique_count": 500
         }
        },
        {
         "dtype": "int64",
         "name": "_deepnote_index_column"
        }
       ],
       "row_count": 500,
       "rows_bottom": [
        {
         "0": 0.7647002723992947,
         "1": 0.5847665066075556,
         "2": 0.4471711068927817,
         "3": 0.89188668456753,
         "4": 0.7954618581088607,
         "5": 0.7094618393286387,
         "6": 0.25346244577769883,
         "7": 0.06424321141961292,
         "8": 0.01628324149102888,
         "_deepnote_index_column": 444
        },
        {
         "0": 0.054605869154590536,
         "1": 0.0029818009461282623,
         "2": 0.00016282383230931414,
         "3": 0.8103532335210993,
         "4": 0.6566723630781014,
         "5": 0.5321365727842808,
         "6": 0.21876438944868448,
         "7": 0.047857858090855694,
         "8": 0.01046959510556783,
         "_deepnote_index_column": 445
        },
        {
         "0": 0.4901229891341178,
         "1": 0.24022054447776253,
         "2": 0.11773761131086627,
         "3": 0.9641012075430367,
         "4": 0.9294911383859417,
         "5": 0.8961235289184383,
         "6": 0.5633834695688613,
         "7": 0.3174009337834481,
         "8": 0.17881843931931538,
         "_deepnote_index_column": 446
        },
        {
         "0": 0.18069018170516393,
         "1": 0.03264894176464516,
         "2": 0.00589934321993505,
         "3": 0.9577140638355018,
         "4": 0.9172162280683117,
         "5": 0.8784308811991733,
         "6": 0.48006239636717896,
         "7": 0.23045990440579844,
         "8": 0.11063513397559858,
         "_deepnote_index_column": 447
        },
        {
         "0": 0.6309248464528918,
         "1": 0.3980661618716051,
         "2": 0.2511498320569344,
         "3": 0.591165504928018,
         "4": 0.34947665421679847,
         "5": 0.20659854275062803,
         "6": 0.09304686872398715,
         "7": 0.008657719779338898,
         "8": 0.0008055737157572136,
         "_deepnote_index_column": 448
        },
        {
         "0": 0.5512420333566405,
         "1": 0.30386777933916354,
         "2": 0.16750469255448744,
         "3": 0.31150331937007514,
         "4": 0.09703431797857504,
         "5": 0.03022651214313748,
         "6": 0.513906558829451,
         "7": 0.264099951207928,
         "8": 0.1357226971122922,
         "_deepnote_index_column": 449
        },
        {
         "0": 0.56708121448378,
         "1": 0.3215811038203989,
         "2": 0.18236260290950634,
         "3": 0.9184207302800608,
         "4": 0.8434966378081601,
         "5": 0.7746847980845463,
         "6": 0.19741779041318375,
         "7": 0.038973783971623745,
         "8": 0.007694118315718717,
         "_deepnote_index_column": 450
        },
        {
         "0": 0.8183449753362828,
         "1": 0.6696884986581413,
         "2": 0.5480362179173889,
         "3": 0.050650456231351226,
         "4": 0.002565468716444026,
         "5": 0.00012994216093514894,
         "6": 0.4802703405701564,
         "7": 0.230659600031374,
         "8": 0.11077896466284405,
         "_deepnote_index_column": 451
        },
        {
         "0": 0.9389873038064919,
         "1": 0.8816971567097851,
         "2": 0.827902435952771,
         "3": 0.22574268139336806,
         "4": 0.05095975820266768,
         "5": 0.011503792459827885,
         "6": 0.2770202544123689,
         "7": 0.07674022135469358,
         "8": 0.021258595643338717,
         "_deepnote_index_column": 452
        },
        {
         "0": 0.1929014148643482,
         "1": 0.03721095585666737,
         "2": 0.00717804603320594,
         "3": 0.3627060986740449,
         "4": 0.131555714015346,
         "5": 0.047716059788784515,
         "6": 0.010483744073551238,
         "7": 0.0001099088897997207,
         "8": 1.152256672068418e-06,
         "_deepnote_index_column": 453
        },
        {
         "0": 0.7128440242924551,
         "1": 0.5081466029694622,
         "2": 0.36222926939129185,
         "3": 0.41225570156048696,
         "4": 0.1699547634691293,
         "5": 0.07006482024751252,
         "6": 0.8877812016645108,
         "7": 0.7881554620288828,
         "8": 0.6997096031784492,
         "_deepnote_index_column": 454
        },
        {
         "0": 0.6979398042405625,
         "1": 0.48711997034335464,
         "2": 0.3399804167431095,
         "3": 0.9446212956883407,
         "4": 0.8923093922679197,
         "5": 0.8428944542789982,
         "6": 0.3738984675073812,
         "7": 0.1398000640043682,
         "8": 0.05227102968866708,
         "_deepnote_index_column": 455
        },
        {
         "0": 0.2582964987037648,
         "1": 0.06671708124262397,
         "2": 0.017232788488704395,
         "3": 0.5793825450262945,
         "4": 0.3356841334811462,
         "5": 0.19448952758125282,
         "6": 0.41621699620503405,
         "7": 0.17323658792994132,
         "8": 0.07210401226100943,
         "_deepnote_index_column": 456
        },
        {
         "0": 0.9158078195673033,
         "1": 0.8387039623806183,
         "2": 0.7680916470502516,
         "3": 0.18676015112638134,
         "4": 0.0348793540487488,
         "5": 0.006514073433334887,
         "6": 0.877582500103929,
         "7": 0.7701510444886626,
         "8": 0.6758710790800128,
         "_deepnote_index_column": 457
        },
        {
         "0": 0.532358186577165,
         "1": 0.28340523881572766,
         "2": 0.15087309900240917,
         "3": 0.5964846652939199,
         "4": 0.3557939559307996,
         "5": 0.21222563871698266,
         "6": 0.7607709251874066,
         "7": 0.5787724006105026,
         "8": 0.4403132146853884,
         "_deepnote_index_column": 458
        },
        {
         "0": 0.5579644194083464,
         "1": 0.3113242933256931,
         "2": 0.1737078785731841,
         "3": 0.9337562971862535,
         "4": 0.871900822534983,
         "5": 0.8141428835639145,
         "6": 0.548112380990173,
         "7": 0.3004271821947166,
         "8": 0.16466785814691462,
         "_deepnote_index_column": 459
        },
        {
         "0": 0.32277226816514915,
         "1": 0.10418193709647496,
         "2": 0.033627040138468116,
         "3": 0.13413814035982696,
         "4": 0.01799304069919264,
         "5": 0.002413553018808381,
         "6": 0.902340963755306,
         "7": 0.8142192148708545,
         "8": 0.7347033510546555,
         "_deepnote_index_column": 460
        },
        {
         "0": 0.3386307825985574,
         "1": 0.11467080692331144,
         "2": 0.03883106508964903,
         "3": 0.9822835302866814,
         "4": 0.9648809338724657,
         "5": 0.9477866500305555,
         "6": 0.9207013256318778,
         "7": 0.847690931020297,
         "8": 0.7804701639165081,
         "_deepnote_index_column": 461
        },
        {
         "0": 0.33230155404161943,
         "1": 0.11042432281847532,
         "2": 0.03669417407657281,
         "3": 0.15387565322303187,
         "4": 0.02367771665481476,
         "5": 0.0036434241170894823,
         "6": 0.4654408030835361,
         "7": 0.216635141175047,
         "8": 0.10083083408462909,
         "_deepnote_index_column": 462
        },
        {
         "0": 0.9788182055927462,
         "1": 0.9580850795998036,
         "2": 0.9377911184190632,
         "3": 0.8207281374584079,
         "4": 0.6735946756159473,
         "5": 0.5528381035201769,
         "6": 0.5656467715232186,
         "7": 0.3199562701346403,
         "8": 0.1809822312302701,
         "_deepnote_index_column": 463
        },
        {
         "0": 0.20321519554198297,
         "1": 0.041296415699166374,
         "2": 0.00839205919148911,
         "3": 0.6775364747468368,
         "4": 0.45905567461237096,
         "5": 0.3110269634893968,
         "6": 0.028558035544079097,
         "7": 0.000815561394136885,
         "8": 2.3290831282139863e-05,
         "_deepnote_index_column": 464
        },
        {
         "0": 0.6670260600647483,
         "1": 0.4449237648055012,
         "2": 0.2967757458673882,
         "3": 0.4040892596862298,
         "4": 0.16328812979376525,
         "5": 0.0659829794839116,
         "6": 0.14033061862458585,
         "7": 0.01969268252355896,
         "8": 0.002763486320908599,
         "_deepnote_index_column": 465
        },
        {
         "0": 0.574784266941896,
         "1": 0.33037695352393276,
         "2": 0.18989547504575052,
         "3": 0.21728704135130628,
         "4": 0.04721365833920428,
         "5": 0.010258916131897127,
         "6": 0.3999981917516745,
         "7": 0.15999855340460936,
         "8": 0.06399913204472747,
         "_deepnote_index_column": 466
        },
        {
         "0": 0.05197528656954964,
         "1": 0.002701430413986807,
         "2": 0.0001404076199146614,
         "3": 0.7735847352321291,
         "4": 0.5984333425841633,
         "5": 0.4629388988770479,
         "6": 0.8270977246405251,
         "7": 0.6840906461055339,
         "8": 0.5658098168417538,
         "_deepnote_index_column": 467
        },
        {
         "0": 0.5428381025901639,
         "1": 0.29467320562368926,
         "2": 0.15995984382492467,
         "3": 0.8476959291308404,
         "4": 0.7185883882649987,
         "5": 0.6091444514529312,
         "6": 0.455391369995628,
         "7": 0.20738129986649498,
         "8": 0.0944396542576773,
         "_deepnote_index_column": 468
        },
        {
         "0": 0.207949114938631,
         "1": 0.043242834403759964,
         "2": 0.008992309141699668,
         "3": 0.5296996198709953,
         "4": 0.280581687291477,
         "5": 0.14862401310105783,
         "6": 0.6935832059717176,
         "7": 0.4810576636060061,
         "8": 0.3336535165811178,
         "_deepnote_index_column": 469
        },
        {
         "0": 0.09109017971488453,
         "1": 0.008297420840489962,
         "2": 0.0007558135555302589,
         "3": 0.4095997195121094,
         "4": 0.16777193022439868,
         "5": 0.06871933556191889,
         "6": 0.6379803456244109,
         "7": 0.40701892140304274,
         "8": 0.25967007215238813,
         "_deepnote_index_column": 470
        },
        {
         "0": 0.8698557120089315,
         "1": 0.7566489597145653,
         "2": 0.6581754195933305,
         "3": 0.018307946647702078,
         "4": 0.00033518091045510576,
         "5": 6.136474225940284e-06,
         "6": 0.6558830272417713,
         "7": 0.4301825454238301,
         "8": 0.28214943015915245,
         "_deepnote_index_column": 471
        },
        {
         "0": 0.027369779496864033,
         "1": 0.0007491048297069587,
         "2": 2.050283400911534e-05,
         "3": 0.14865961285064577,
         "4": 0.022099680492903884,
         "5": 0.00328532994619806,
         "6": 0.7693189947219788,
         "7": 0.5918517156400361,
         "8": 0.4553227669006711,
         "_deepnote_index_column": 472
        },
        {
         "0": 0.9686245221962455,
         "1": 0.9382334649999049,
         "2": 0.9087959417440608,
         "3": 0.8043351900625192,
         "4": 0.6469550979729088,
         "5": 0.5203687516899553,
         "6": 0.00022724991417177876,
         "7": 5.164252349108081e-08,
         "8": 1.1735759030962182e-11,
         "_deepnote_index_column": 473
        },
        {
         "0": 0.32749988957479015,
         "1": 0.10725617767149974,
         "2": 0.03512638634363024,
         "3": 0.41977812359804045,
         "4": 0.17621367305149171,
         "5": 0.07397064502587378,
         "6": 0.3006954448400143,
         "7": 0.09041775054753409,
         "8": 0.02718820572232421,
         "_deepnote_index_column": 474
        },
        {
         "0": 0.4102779578675838,
         "1": 0.16832800271199488,
         "2": 0.06906126920460637,
         "3": 0.3392175702741931,
         "4": 0.11506855998272712,
         "5": 0.03903327733229094,
         "6": 0.6954714884023027,
         "7": 0.4836805911805142,
         "8": 0.3363860606596179,
         "_deepnote_index_column": 475
        },
        {
         "0": 0.13554421504611225,
         "1": 0.01837223423246672,
         "2": 0.002490250067683014,
         "3": 0.2971458504721979,
         "4": 0.08829565645284577,
         "5": 0.026236687929681864,
         "6": 0.09088742177309217,
         "7": 0.008260523436559948,
         "8": 0.0007507776776451368,
         "_deepnote_index_column": 476
        },
        {
         "0": 0.127066310744954,
         "1": 0.016145847326333212,
         "2": 0.0020515932536084407,
         "3": 0.7179859935634314,
         "4": 0.5155038869532678,
         "5": 0.3701245704599528,
         "6": 0.5236475240194501,
         "7": 0.2742067294117006,
         "8": 0.14358767492590835,
         "_deepnote_index_column": 477
        },
        {
         "0": 0.41398397976413726,
         "1": 0.1713827355013536,
         "2": 0.07094970690571487,
         "3": 0.9978071813139916,
         "4": 0.9956191710817729,
         "5": 0.9934359587592766,
         "6": 0.8945950286306611,
         "7": 0.8003002652506933,
         "8": 0.7159446387050696,
         "_deepnote_index_column": 478
        },
        {
         "0": 0.6174437360391936,
         "1": 0.3812367671740373,
         "2": 0.2353922538394418,
         "3": 0.5519022755385359,
         "4": 0.304596121744614,
         "5": 0.16810729271106536,
         "6": 0.9637058672505254,
         "7": 0.9287289985730873,
         "8": 0.8950215850105891,
         "_deepnote_index_column": 479
        },
        {
         "0": 0.13226690286735276,
         "1": 0.01749453359412173,
         "2": 0.0023139477756033387,
         "3": 0.8898960452095016,
         "4": 0.7919149712795114,
         "5": 0.7047220010838332,
         "6": 0.7056881874672379,
         "7": 0.49799581793079556,
         "8": 0.35142976612184773,
         "_deepnote_index_column": 480
        },
        {
         "0": 0.9744812178582788,
         "1": 0.9496136439585542,
         "2": 0.9253806602595699,
         "3": 0.1684682870642641,
         "4": 0.02838156374636729,
         "5": 0.004781393428555715,
         "6": 0.7640288870001651,
         "7": 0.5837401401707111,
         "8": 0.4459943295919488,
         "_deepnote_index_column": 481
        },
        {
         "0": 0.18063510244452918,
         "1": 0.032629040235145554,
         "2": 0.0058939500255421814,
         "3": 0.8835642961544377,
         "4": 0.7806858654388869,
         "5": 0.6897861572142281,
         "6": 0.34460785847683195,
         "7": 0.11875457612398824,
         "8": 0.040923760162411504,
         "_deepnote_index_column": 482
        },
        {
         "0": 0.760349911196316,
         "1": 0.5781319874562456,
         "2": 0.439582605322106,
         "3": 0.7027756374098312,
         "4": 0.4938935965367945,
         "5": 0.3470963871187797,
         "6": 0.2518503282303802,
         "7": 0.06342858782975025,
         "8": 0.0159745106641121,
         "_deepnote_index_column": 483
        },
        {
         "0": 0.4821618152044177,
         "1": 0.23248001604121904,
         "2": 0.11209298653318632,
         "3": 0.42210865394477726,
         "4": 0.1781757157350717,
         "5": 0.07520951153457839,
         "6": 0.6672091153778678,
         "7": 0.4451680036433168,
         "8": 0.29702014990538883,
         "_deepnote_index_column": 484
        },
        {
         "0": 0.7680788681442614,
         "1": 0.5899451476897697,
         "2": 0.45312440130475745,
         "3": 0.8633149477603772,
         "4": 0.7453126990265028,
         "5": 0.643439593825211,
         "6": 0.14930501508479133,
         "7": 0.022291987529469766,
         "8": 0.0033283055343574634,
         "_deepnote_index_column": 485
        },
        {
         "0": 0.3028984428297671,
         "1": 0.09174746666869768,
         "2": 0.027790164787524486,
         "3": 0.23504322614251094,
         "4": 0.05524531815547954,
         "5": 0.012985037808533342,
         "6": 0.47091669227772726,
         "7": 0.22176253106579566,
         "8": 0.10443167760064123,
         "_deepnote_index_column": 486
        },
        {
         "0": 0.015175090775453537,
         "1": 0.00023028338004325502,
         "2": 3.4945711962346604e-06,
         "3": 0.563750663429838,
         "4": 0.31781481051758254,
         "5": 0.1791683102771154,
         "6": 0.022291937575851017,
         "7": 0.0004969304808856385,
         "8": 1.107754325944028e-05,
         "_deepnote_index_column": 487
        },
        {
         "0": 0.4633686864669543,
         "1": 0.2147105395981106,
         "2": 0.09949014070418748,
         "3": 0.026560250936994545,
         "4": 0.0007054469298361196,
         "5": 1.8736847479179723e-05,
         "6": 0.7597110559297995,
         "7": 0.5771608885019709,
         "8": 0.43847550804521357,
         "_deepnote_index_column": 488
        },
        {
         "0": 0.7033370789190169,
         "1": 0.49468304658233536,
         "2": 0.3479289289739797,
         "3": 0.3800514541366583,
         "4": 0.1444391077913885,
         "5": 0.05489429295031873,
         "6": 0.20565707990659243,
         "7": 0.04229483451570654,
         "8": 0.008698232161632765,
         "_deepnote_index_column": 489
        },
        {
         "0": 0.06604089290965509,
         "1": 0.004361399536304532,
         "2": 0.000288030719713307,
         "3": 0.36183509707674444,
         "4": 0.13092463747653707,
         "5": 0.047373128911060366,
         "6": 0.8405904741259859,
         "7": 0.7065923451913497,
         "8": 0.5939547944581889,
         "_deepnote_index_column": 490
        },
        {
         "0": 0.6690114176568045,
         "1": 0.44757627695516733,
         "2": 0.29943363955533103,
         "3": 0.09124352492984988,
         "4": 0.008325380841624137,
         "5": 0.0007596370943732265,
         "6": 0.7748543323557293,
         "7": 0.600399236370443,
         "8": 0.46522194944470935,
         "_deepnote_index_column": 491
        },
        {
         "0": 0.3454790558421603,
         "1": 0.11935577802559053,
         "2": 0.04123492150158748,
         "3": 0.04525353373768126,
         "4": 0.0020478823157474564,
         "5": 9.267391146647835e-05,
         "6": 0.17616404516675943,
         "7": 0.031033770809516057,
         "8": 0.0054670346025824474,
         "_deepnote_index_column": 492
        },
        {
         "0": 0.5917214726030947,
         "1": 0.35013430113957494,
         "2": 0.2071819842791647,
         "3": 0.3424515132947733,
         "4": 0.1172730389578803,
         "5": 0.04016032965980301,
         "6": 0.884558790594128,
         "7": 0.7824442540173464,
         "8": 0.6921179430409087,
         "_deepnote_index_column": 493
        },
        {
         "0": 0.2290534578071075,
         "1": 0.05246548653339238,
         "2": 0.012017401106005758,
         "3": 0.3554139753162816,
         "4": 0.12631909385012244,
         "5": 0.04489557130362248,
         "6": 0.0930639540298075,
         "7": 0.008660899539662122,
         "8": 0.0008060175566158966,
         "_deepnote_index_column": 494
        },
        {
         "0": 0.26756836247775295,
         "1": 0.0715928285990262,
         "2": 0.01915597591339188,
         "3": 0.9958382380486689,
         "4": 0.9916937963598773,
         "5": 0.9875666028508157,
         "6": 0.2021884454300069,
         "7": 0.040880167465402885,
         "8": 0.008265497508748155,
         "_deepnote_index_column": 495
        },
        {
         "0": 0.9328269856396992,
         "1": 0.8701661851376477,
         "2": 0.8117144994875483,
         "3": 0.9442045718534874,
         "4": 0.8915222735090275,
         "5": 0.8417794065564389,
         "6": 0.3724054828574618,
         "7": 0.13868584366229925,
         "8": 0.05164736857455301,
         "_deepnote_index_column": 496
        },
        {
         "0": 0.8261450587838567,
         "1": 0.682515658152982,
         "2": 0.563856938525698,
         "3": 0.13114411183839636,
         "4": 0.017198778069881814,
         "5": 0.002255518474680339,
         "6": 0.17365571077313346,
         "7": 0.030156305884122183,
         "8": 0.0052368147325992645,
         "_deepnote_index_column": 497
        },
        {
         "0": 0.1454431928335156,
         "1": 0.0211537223416072,
         "2": 0.003076664917677023,
         "3": 0.5183550554747868,
         "4": 0.2686919635362693,
         "5": 0.13927783766447224,
         "6": 0.3452337427247997,
         "7": 0.11918633711577317,
         "8": 0.04114714524413808,
         "_deepnote_index_column": 498
        },
        {
         "0": 0.6470036098933348,
         "1": 0.4186136712150066,
         "2": 0.2708445564268108,
         "3": 0.4772453753499617,
         "4": 0.22776314829292582,
         "5": 0.10869890919794638,
         "6": 0.5677384811639643,
         "7": 0.3223269829943651,
         "8": 0.1829974317633838,
         "_deepnote_index_column": 499
        }
       ],
       "rows_top": [
        {
         "0": 0.1915194503788923,
         "1": 0.03667969987343298,
         "2": 0.007024875959822609,
         "3": 0.8839511653331675,
         "4": 0.7813696626938649,
         "5": 0.6906926238942259,
         "6": 0.40110640866052494,
         "7": 0.16088635106854404,
         "8": 0.0645325464796001,
         "_deepnote_index_column": 0
        },
        {
         "0": 0.6221087710398319,
         "1": 0.38701932300468994,
         "2": 0.24076811540311538,
         "3": 0.7413605341557461,
         "4": 0.5496154416036931,
         "5": 0.4074631973675602,
         "6": 0.9306144016650845,
         "7": 0.8660431645864631,
         "8": 0.8059522414277677,
         "_deepnote_index_column": 1
        },
        {
         "0": 0.4377277390071145,
         "1": 0.19160557349628052,
         "2": 0.08387107446768836,
         "3": 0.5157107993445175,
         "4": 0.26595762856056115,
         "5": 0.13715722121673926,
         "6": 0.5153361469497669,
         "7": 0.26557134435303176,
         "8": 0.13685851333916113,
         "_deepnote_index_column": 2
        },
        {
         "0": 0.7853585837137692,
         "1": 0.6167881050128975,
         "2": 0.4843998326044287,
         "3": 0.13525184356482722,
         "4": 0.018293061187684496,
         "5": 0.002474170250078516,
         "6": 0.8095820185970475,
         "7": 0.6554230448356702,
         "8": 0.530618711673085,
         "_deepnote_index_column": 3
        },
        {
         "0": 0.7799758081188035,
         "1": 0.6083622612505806,
         "2": 0.47450784634790427,
         "3": 0.03988365260534921,
         "4": 0.0015907057451441785,
         "5": 6.344315533666357e-05,
         "6": 0.8817722277751203,
         "7": 0.7775222616754986,
         "8": 0.6855975368223545,
         "_deepnote_index_column": 4
        },
        {
         "0": 0.2725926052826416,
         "1": 0.07430672845477805,
         "2": 0.020255464699517747,
         "3": 0.8343218320889686,
         "4": 0.6960929195002931,
         "5": 0.5807655199016435,
         "6": 0.7626677820706171,
         "7": 0.5816621458085144,
         "8": 0.4436149786582156,
         "_deepnote_index_column": 5
        },
        {
         "0": 0.2764642551430967,
         "1": 0.07643248437182727,
         "2": 0.021130849860593607,
         "3": 0.11705786929477491,
         "4": 0.013702544763832605,
         "5": 0.0016039906939705195,
         "6": 0.46442070218186504,
         "7": 0.2156865886150966,
         "8": 0.10016931693583422,
         "_deepnote_index_column": 6
        },
        {
         "0": 0.8018721775350193,
         "1": 0.6429989891047535,
         "2": 0.5156029995462448,
         "3": 0.523102313610054,
         "4": 0.2736360305041913,
         "5": 0.14313964064381376,
         "6": 0.07391960466043601,
         "7": 0.005464107953155153,
         "8": 0.00040390469971917313,
         "_deepnote_index_column": 7
        },
        {
         "0": 0.9581393536837052,
         "1": 0.9180310210774283,
         "2": 0.879601649196719,
         "3": 0.8730584682565505,
         "4": 0.7622310889944742,
         "5": 0.6654723070150381,
         "6": 0.4704993578739891,
         "7": 0.2213696457598361,
         "8": 0.10415427618279531,
         "_deepnote_index_column": 8
        },
        {
         "0": 0.8759326347420947,
         "1": 0.7672579806062279,
         "2": 0.6720663044793121,
         "3": 0.0387078369663274,
         "4": 0.0014982966426117822,
         "5": 5.7995822169412585e-05,
         "6": 0.2005719774576743,
         "7": 0.04022911814128181,
         "8": 0.00806883377697529,
         "_deepnote_index_column": 9
        },
        {
         "0": 0.35781726995786667,
         "1": 0.12803319868010082,
         "2": 0.04581248961568681,
         "3": 0.6923907867937034,
         "4": 0.4794050016368036,
         "5": 0.3319356062761431,
         "6": 0.20856722359570423,
         "7": 0.043500286758420485,
         "8": 0.009072734034820737,
         "_deepnote_index_column": 10
        },
        {
         "0": 0.5009951255234587,
         "1": 0.25099611579826614,
         "2": 0.12574783054025293,
         "3": 0.4762684781326564,
         "4": 0.22683166326279658,
         "5": 0.1080327710544713,
         "6": 0.17753960019911685,
         "7": 0.03152030963886225,
         "8": 0.005596103171435974,
         "_deepnote_index_column": 11
        },
        {
         "0": 0.6834629351721363,
         "1": 0.4671215837541118,
         "2": 0.31926028871484213,
         "3": 0.16926448845838715,
         "4": 0.028650467053079477,
         "5": 0.004849506649833373,
         "6": 0.3542414486212886,
         "7": 0.12548700392130904,
         "8": 0.04445269805222984,
         "_deepnote_index_column": 12
        },
        {
         "0": 0.7127020269829002,
         "1": 0.5079441792655346,
         "2": 0.36201284615671214,
         "3": 0.06317189225198372,
         "4": 0.003990687970696241,
         "5": 0.00025209931049611047,
         "6": 0.9117531262167204,
         "7": 0.8312937631659629,
         "8": 0.7579346873710288,
         "_deepnote_index_column": 13
        },
        {
         "0": 0.37025075479039493,
         "1": 0.13708562142285716,
         "2": 0.050756054802723195,
         "3": 0.032224091951774336,
         "4": 0.0010383921021164075,
         "5": 3.3461242580595365e-05,
         "6": 0.4335209190432803,
         "7": 0.18794038724813036,
         "8": 0.08147608940515946,
         "_deepnote_index_column": 14
        },
        {
         "0": 0.5611961860656249,
         "1": 0.31494115925460353,
         "2": 0.1767437774087701,
         "3": 0.2424308563800346,
         "4": 0.058772720125156955,
         "5": 0.014248320871725895,
         "6": 0.178295886319636,
         "7": 0.03178942307850456,
         "8": 0.005667923363371862,
         "_deepnote_index_column": 15
        },
        {
         "0": 0.5030831653078097,
         "1": 0.253092671216125,
         "2": 0.12732666215161695,
         "3": 0.11270682467406534,
         "4": 0.012702828328110505,
         "5": 0.0014316954452411013,
         "6": 0.7521622490756228,
         "7": 0.5657480489344993,
         "8": 0.42553432489671844,
         "_deepnote_index_column": 16
        },
        {
         "0": 0.013768449590682241,
         "1": 0.00018957020413115798,
         "2": 2.610087799475191e-06,
         "3": 0.4049900173998413,
         "4": 0.16401691419352377,
         "5": 0.06642521293310347,
         "6": 0.050470565702775194,
         "7": 0.0025472780023581476,
         "8": 0.00012856256178125084,
         "_deepnote_index_column": 17
        },
        {
         "0": 0.772826621612374,
         "1": 0.5972609870727955,
         "2": 0.4615791908603404,
         "3": 0.04207297124273657,
         "4": 0.0017701349091921383,
         "5": 7.447483513020495e-05,
         "6": 0.08266851738546488,
         "7": 0.006834083766710909,
         "8": 0.000564963572682064,
         "_deepnote_index_column": 18
        },
        {
         "0": 0.8826411906361166,
         "1": 0.7790554714075415,
         "2": 0.6876264488547335,
         "3": 0.9265654494018641,
         "4": 0.8585235320252784,
         "5": 0.7954782422730778,
         "6": 0.038583441544881136,
         "7": 0.0014886819614472596,
         "8": 5.7438473438419336e-05,
         "_deepnote_index_column": 19
        },
        {
         "0": 0.3648859839013723,
         "1": 0.1331417812476725,
         "2": 0.04858156984893826,
         "3": 0.9352629086037977,
         "4": 0.8747167082100357,
         "5": 0.8180900927248573,
         "6": 0.4652786064829074,
         "7": 0.2164841816506762,
         "8": 0.10072545836401922,
         "_deepnote_index_column": 20
        },
        {
         "0": 0.6153961784334937,
         "1": 0.3787124564305484,
         "2": 0.23305819841252048,
         "3": 0.8104268974896139,
         "4": 0.6567917561746413,
         "5": 0.5322817052533695,
         "6": 0.6038286634957863,
         "7": 0.3646090548591076,
         "8": 0.2201613982940368,
         "_deepnote_index_column": 21
        },
        {
         "0": 0.07538124164297655,
         "1": 0.005682331591636822,
         "2": 0.00042834121080469477,
         "3": 0.1883430784330069,
         "4": 0.03547311519362179,
         "5": 0.006681115717175398,
         "6": 0.18178934320545626,
         "7": 0.03304736530307117,
         "8": 0.006007658833116092,
         "_deepnote_index_column": 22
        },
        {
         "0": 0.3688240060019745,
         "1": 0.13603114740334454,
         "2": 0.05017155272634663,
         "3": 0.5873182233905117,
         "4": 0.34494269552658696,
         "5": 0.20259113110820925,
         "6": 0.5190297006211498,
         "7": 0.26939183012688045,
         "8": 0.1398223609405384,
         "_deepnote_index_column": 23
        },
        {
         "0": 0.9331401019825216,
         "1": 0.8707504499279508,
         "2": 0.8125321636470946,
         "3": 0.9035105556616785,
         "4": 0.816331324192075,
         "5": 0.7375639683248155,
         "6": 0.7101532758635656,
         "7": 0.5043176752197535,
         "8": 0.35814284913320565,
         "_deepnote_index_column": 24
        },
        {
         "0": 0.6513781432265774,
         "1": 0.4242934854733036,
         "2": 0.2763755027507333,
         "3": 0.9673422647363511,
         "4": 0.9357510571452528,
         "5": 0.9051915468483235,
         "6": 0.9249803784408488,
         "7": 0.8555887005005759,
         "8": 0.7914027599787368,
         "_deepnote_index_column": 25
        },
        {
         "0": 0.3972025777261542,
         "1": 0.15776988775230155,
         "2": 0.06266660610278017,
         "3": 0.0675392149333145,
         "4": 0.0045615455538084515,
         "5": 0.0003080832055867741,
         "6": 0.5291316448882264,
         "7": 0.2799802976221201,
         "8": 0.1481464354170876,
         "_deepnote_index_column": 26
        },
        {
         "0": 0.7887301429407455,
         "1": 0.6220952383833288,
         "2": 0.4906652662928401,
         "3": 0.31758607171718534,
         "4": 0.10086091294875318,
         "5": 0.03203202113320352,
         "6": 0.971185732324649,
         "7": 0.9432017266709648,
         "8": 0.9160240596468143,
         "_deepnote_index_column": 27
        },
        {
         "0": 0.31683612216887125,
         "1": 0.1003851283110079,
         "2": 0.03180563477748432,
         "3": 0.6968629710758295,
         "4": 0.4856180004566324,
         "5": 0.3384092026061124,
         "6": 0.5472527610162073,
         "7": 0.2994855844398622,
         "8": 0.16389431296926707,
         "_deepnote_index_column": 28
        },
        {
         "0": 0.5680986526260692,
         "1": 0.32273607911555524,
         "2": 0.1833459316993674,
         "3": 0.6402653755299328,
         "4": 0.40993975110248587,
         "5": 0.26247022868428027,
         "6": 0.006437978516888543,
         "7": 4.1447567383918404e-05,
         "8": 2.6683854839495696e-07,
         "_deepnote_index_column": 29
        },
        {
         "0": 0.8691273895612258,
         "1": 0.7553824192855108,
         "2": 0.6565235501940593,
         "3": 0.6326233136490094,
         "4": 0.4002122569722529,
         "5": 0.2531836041687355,
         "6": 0.47277674852894747,
         "7": 0.22351785394960363,
         "8": 0.10567404422846176,
         "_deepnote_index_column": 30
        },
        {
         "0": 0.43617342389567937,
         "1": 0.19024725571288,
         "2": 0.08298079691104372,
         "3": 0.8287506490793103,
         "4": 0.6868276383493781,
         "5": 0.5692088510876568,
         "6": 0.5220880797206794,
         "7": 0.2725759629864265,
         "8": 0.14230866109359838,
         "_deepnote_index_column": 31
        },
        {
         "0": 0.8021476420801591,
         "1": 0.6434408396947591,
         "2": 0.5161345523792287,
         "3": 0.7131104267315977,
         "4": 0.5085264807133214,
         "5": 0.36263553566579426,
         "6": 0.15220890808833232,
         "7": 0.023167551701442395,
         "8": 0.0035263077475565325,
         "_deepnote_index_column": 32
        },
        {
         "0": 0.14376682451456457,
         "1": 0.020668899831001605,
         "2": 0.0029715020949127213,
         "3": 0.33548022716525805,
         "4": 0.11254698281885314,
         "5": 0.03775728736283325,
         "6": 0.6542340841138883,
         "7": 0.4280222368163382,
         "8": 0.2800267360839148,
         "_deepnote_index_column": 33
        },
        {
         "0": 0.7042609711183354,
         "1": 0.49598351544054087,
         "2": 0.3493018322428412,
         "3": 0.1676946768408637,
         "4": 0.028121504640761706,
         "5": 0.004715826633011383,
         "6": 0.13044363016690508,
         "7": 0.01701554065112031,
         "8": 0.002219568891784677,
         "_deepnote_index_column": 34
        },
        {
         "0": 0.7045813081895725,
         "1": 0.4964348198501294,
         "2": 0.34977869480085894,
         "3": 0.7646898163213187,
         "4": 0.5847505151855321,
         "5": 0.44715276405102106,
         "6": 0.4541488737097188,
         "7": 0.20625119949180612,
         "8": 0.09366874995048227,
         "_deepnote_index_column": 35
        },
        {
         "0": 0.21879210567408858,
         "1": 0.04786998550530154,
         "2": 0.010473574927293023,
         "3": 0.35931506248110234,
         "4": 0.12910731412579848,
         "5": 0.04639020264187859,
         "6": 0.9823614509249957,
         "7": 0.9650340202634627,
         "8": 0.9480122203379969,
         "_deepnote_index_column": 36
        },
        {
         "0": 0.924867628615565,
         "1": 0.8553801304609787,
         "2": 0.791113392824318,
         "3": 0.08800478164562353,
         "4": 0.007744841592493877,
         "5": 0.0006815830932273668,
         "6": 0.13251409415261473,
         "7": 0.01755998514908804,
         "8": 0.002326945525364769,
         "_deepnote_index_column": 37
        },
        {
         "0": 0.44214075540417663,
         "1": 0.19548844758937595,
         "2": 0.08643340988995647,
         "3": 0.729567599641644,
         "4": 0.5322688824468701,
         "5": 0.3883261309307034,
         "6": 0.060278921246567974,
         "7": 0.003633548346649944,
         "8": 0.00021902637463330922,
         "_deepnote_index_column": 38
        },
        {
         "0": 0.9093159589724725,
         "1": 0.8268555132420273,
         "2": 0.75187291395535,
         "3": 0.8810499283806688,
         "4": 0.7762489762995816,
         "5": 0.6839141049743138,
         "6": 0.0678722782821386,
         "7": 0.004606646159208063,
         "8": 0.0003126635700651146,
         "_deepnote_index_column": 39
        },
        {
         "0": 0.0598092227798519,
         "1": 0.0035771431295299554,
         "2": 0.00021394615034947372,
         "3": 0.041263881190583884,
         "4": 0.0017027078909106225,
         "5": 7.026033611280559e-05,
         "6": 0.09614604704294494,
         "7": 0.009244062361984181,
         "8": 0.0008887800547232478,
         "_deepnote_index_column": 40
        },
        {
         "0": 0.18428708381381365,
         "1": 0.03396172926059957,
         "2": 0.006258708046710161,
         "3": 0.17486776146597938,
         "4": 0.030578734000122662,
         "5": 0.005347234763065083,
         "6": 0.8193423749125193,
         "7": 0.6713219273272872,
         "8": 0.5500425022671892,
         "_deepnote_index_column": 41
        },
        {
         "0": 0.04735527880151513,
         "1": 0.0022425224303692284,
         "2": 0.00010619527490878612,
         "3": 0.4200974148999833,
         "4": 0.17648183800564873,
         "5": 0.07413956392297066,
         "6": 0.629606504222664,
         "7": 0.3964043501594834,
         "8": 0.24957875716256914,
         "_deepnote_index_column": 42
        },
        {
         "0": 0.6748809435823302,
         "1": 0.45546428801057637,
         "2": 0.307384168460632,
         "3": 0.34060657930268423,
         "4": 0.11601284186427573,
         "5": 0.039514737222574196,
         "6": 0.7836310051410748,
         "7": 0.6140775522184111,
         "8": 0.4812102094794843,
         "_deepnote_index_column": 43
        },
        {
         "0": 0.5946247799344488,
         "1": 0.35357862891209174,
         "2": 0.2102466144063767,
         "3": 0.04476891580512821,
         "4": 0.002004255822366658,
         "5": 8.972836016347091e-05,
         "6": 0.07713540276216091,
         "7": 0.005949870359280781,
         "8": 0.0004589456465457661,
         "_deepnote_index_column": 44
        },
        {
         "0": 0.5333101629987506,
         "1": 0.2844197299577539,
         "2": 0.15168393254383034,
         "3": 0.11289131390858753,
         "4": 0.012744448756007248,
         "5": 0.0014387375651063222,
         "6": 0.9719983107656816,
         "7": 0.9447807161313384,
         "8": 0.9183252601236518,
         "_deepnote_index_column": 45
        },
        {
         "0": 0.04332406269480349,
         "1": 0.0018769744083832634,
         "2": 8.131815694533819e-05,
         "3": 0.43804148786497743,
         "4": 0.19188034509096316,
         "5": 0.08405155185569083,
         "6": 0.8828335629916416,
         "7": 0.7793950999445168,
         "8": 0.6880761530622445,
         "_deepnote_index_column": 46
        },
        {
         "0": 0.5614330800633979,
         "1": 0.3152071033894737,
         "2": 0.17696769491381412,
         "3": 0.07107320402361217,
         "4": 0.005051400330182001,
         "5": 0.0003590192062719672,
         "6": 0.630433129149583,
         "7": 0.39744593032933484,
         "8": 0.2505630815252897,
         "_deepnote_index_column": 47
        },
        {
         "0": 0.329668445620915,
         "1": 0.1086812840381102,
         "2": 0.035828789976928954,
         "3": 0.8162451076572044,
         "4": 0.6662560757743211,
         "5": 0.5438282622976772,
         "6": 0.929073088544468,
         "7": 0.8631768038575569,
         "8": 0.8019543391198829,
         "_deepnote_index_column": 48
        },
        {
         "0": 0.5029668331126184,
         "1": 0.2529756352113365,
         "2": 0.1272383540968989,
         "3": 0.8661156482926846,
         "4": 0.7501563162174574,
         "5": 0.6497221241415352,
         "6": 0.3981266056502629,
         "7": 0.15850479412659996,
         "8": 0.06310497566491698,
         "_deepnote_index_column": 49
        },
        {
         "0": 0.11189431757440382,
         "1": 0.012520338305441536,
         "2": 0.0014009547104880482,
         "3": 0.13111984191888182,
         "4": 0.017192412944832557,
         "5": 0.0022542664675305824,
         "6": 0.4889260966343114,
         "7": 0.23904872797006402,
         "8": 0.11687716147180074,
         "_deepnote_index_column": 50
        },
        {
         "0": 0.6071937062184846,
         "1": 0.36868419687133935,
         "2": 0.22386272392249396,
         "3": 0.19321944967382543,
         "4": 0.03733375573225596,
         "5": 0.007213607736843522,
         "6": 0.6858032342905105,
         "7": 0.47032607616332484,
         "8": 0.32255114420397313,
         "_deepnote_index_column": 51
        },
        {
         "0": 0.5659446430505314,
         "1": 0.3202933389975934,
         "2": 0.18126829941045583,
         "3": 0.43749275177383007,
         "4": 0.1913999078546381,
         "5": 0.08373607237658313,
         "6": 0.2815965798559724,
         "7": 0.07929663378658106,
         "8": 0.022329660868392772,
         "_deepnote_index_column": 52
        },
        {
         "0": 0.00676406199000279,
         "1": 4.57525346046005e-05,
         "2": 3.0947298026526556e-07,
         "3": 0.9709253246769842,
         "4": 0.9426959860991072,
         "5": 0.9152874063749655,
         "6": 0.6766999542448152,
         "7": 0.457922828074935,
         "8": 0.3098763568059649,
         "_deepnote_index_column": 53
        },
        {
         "0": 0.617441708804297,
         "1": 0.38123426377117037,
         "2": 0.23538993527761956,
         "3": 0.7738609642776244,
         "4": 0.5988607920326947,
         "5": 0.46343498999048305,
         "6": 0.4957317128913674,
         "7": 0.24574993116620913,
         "8": 0.12182603431996049,
         "_deepnote_index_column": 54
        }
       ]
      },
      "text/html": [
       "<div>\n",
       "<style scoped>\n",
       "    .dataframe tbody tr th:only-of-type {\n",
       "        vertical-align: middle;\n",
       "    }\n",
       "\n",
       "    .dataframe tbody tr th {\n",
       "        vertical-align: top;\n",
       "    }\n",
       "\n",
       "    .dataframe thead th {\n",
       "        text-align: right;\n",
       "    }\n",
       "</style>\n",
       "<table border=\"1\" class=\"dataframe\">\n",
       "  <thead>\n",
       "    <tr style=\"text-align: right;\">\n",
       "      <th></th>\n",
       "      <th>0</th>\n",
       "      <th>1</th>\n",
       "      <th>2</th>\n",
       "      <th>3</th>\n",
       "      <th>4</th>\n",
       "      <th>5</th>\n",
       "      <th>6</th>\n",
       "      <th>7</th>\n",
       "      <th>8</th>\n",
       "    </tr>\n",
       "  </thead>\n",
       "  <tbody>\n",
       "    <tr>\n",
       "      <th>0</th>\n",
       "      <td>0.191519</td>\n",
       "      <td>0.036680</td>\n",
       "      <td>0.007025</td>\n",
       "      <td>0.883951</td>\n",
       "      <td>0.781370</td>\n",
       "      <td>0.690693</td>\n",
       "      <td>0.401106</td>\n",
       "      <td>0.160886</td>\n",
       "      <td>0.064533</td>\n",
       "    </tr>\n",
       "    <tr>\n",
       "      <th>1</th>\n",
       "      <td>0.622109</td>\n",
       "      <td>0.387019</td>\n",
       "      <td>0.240768</td>\n",
       "      <td>0.741361</td>\n",
       "      <td>0.549615</td>\n",
       "      <td>0.407463</td>\n",
       "      <td>0.930614</td>\n",
       "      <td>0.866043</td>\n",
       "      <td>0.805952</td>\n",
       "    </tr>\n",
       "    <tr>\n",
       "      <th>2</th>\n",
       "      <td>0.437728</td>\n",
       "      <td>0.191606</td>\n",
       "      <td>0.083871</td>\n",
       "      <td>0.515711</td>\n",
       "      <td>0.265958</td>\n",
       "      <td>0.137157</td>\n",
       "      <td>0.515336</td>\n",
       "      <td>0.265571</td>\n",
       "      <td>0.136859</td>\n",
       "    </tr>\n",
       "    <tr>\n",
       "      <th>3</th>\n",
       "      <td>0.785359</td>\n",
       "      <td>0.616788</td>\n",
       "      <td>0.484400</td>\n",
       "      <td>0.135252</td>\n",
       "      <td>0.018293</td>\n",
       "      <td>0.002474</td>\n",
       "      <td>0.809582</td>\n",
       "      <td>0.655423</td>\n",
       "      <td>0.530619</td>\n",
       "    </tr>\n",
       "    <tr>\n",
       "      <th>4</th>\n",
       "      <td>0.779976</td>\n",
       "      <td>0.608362</td>\n",
       "      <td>0.474508</td>\n",
       "      <td>0.039884</td>\n",
       "      <td>0.001591</td>\n",
       "      <td>0.000063</td>\n",
       "      <td>0.881772</td>\n",
       "      <td>0.777522</td>\n",
       "      <td>0.685598</td>\n",
       "    </tr>\n",
       "    <tr>\n",
       "      <th>...</th>\n",
       "      <td>...</td>\n",
       "      <td>...</td>\n",
       "      <td>...</td>\n",
       "      <td>...</td>\n",
       "      <td>...</td>\n",
       "      <td>...</td>\n",
       "      <td>...</td>\n",
       "      <td>...</td>\n",
       "      <td>...</td>\n",
       "    </tr>\n",
       "    <tr>\n",
       "      <th>495</th>\n",
       "      <td>0.267568</td>\n",
       "      <td>0.071593</td>\n",
       "      <td>0.019156</td>\n",
       "      <td>0.995838</td>\n",
       "      <td>0.991694</td>\n",
       "      <td>0.987567</td>\n",
       "      <td>0.202188</td>\n",
       "      <td>0.040880</td>\n",
       "      <td>0.008265</td>\n",
       "    </tr>\n",
       "    <tr>\n",
       "      <th>496</th>\n",
       "      <td>0.932827</td>\n",
       "      <td>0.870166</td>\n",
       "      <td>0.811714</td>\n",
       "      <td>0.944205</td>\n",
       "      <td>0.891522</td>\n",
       "      <td>0.841779</td>\n",
       "      <td>0.372405</td>\n",
       "      <td>0.138686</td>\n",
       "      <td>0.051647</td>\n",
       "    </tr>\n",
       "    <tr>\n",
       "      <th>497</th>\n",
       "      <td>0.826145</td>\n",
       "      <td>0.682516</td>\n",
       "      <td>0.563857</td>\n",
       "      <td>0.131144</td>\n",
       "      <td>0.017199</td>\n",
       "      <td>0.002256</td>\n",
       "      <td>0.173656</td>\n",
       "      <td>0.030156</td>\n",
       "      <td>0.005237</td>\n",
       "    </tr>\n",
       "    <tr>\n",
       "      <th>498</th>\n",
       "      <td>0.145443</td>\n",
       "      <td>0.021154</td>\n",
       "      <td>0.003077</td>\n",
       "      <td>0.518355</td>\n",
       "      <td>0.268692</td>\n",
       "      <td>0.139278</td>\n",
       "      <td>0.345234</td>\n",
       "      <td>0.119186</td>\n",
       "      <td>0.041147</td>\n",
       "    </tr>\n",
       "    <tr>\n",
       "      <th>499</th>\n",
       "      <td>0.647004</td>\n",
       "      <td>0.418614</td>\n",
       "      <td>0.270845</td>\n",
       "      <td>0.477245</td>\n",
       "      <td>0.227763</td>\n",
       "      <td>0.108699</td>\n",
       "      <td>0.567738</td>\n",
       "      <td>0.322327</td>\n",
       "      <td>0.182997</td>\n",
       "    </tr>\n",
       "  </tbody>\n",
       "</table>\n",
       "<p>500 rows × 9 columns</p>\n",
       "</div>"
      ],
      "text/plain": [
       "            0         1         2         3         4         5         6  \\\n",
       "0    0.191519  0.036680  0.007025  0.883951  0.781370  0.690693  0.401106   \n",
       "1    0.622109  0.387019  0.240768  0.741361  0.549615  0.407463  0.930614   \n",
       "2    0.437728  0.191606  0.083871  0.515711  0.265958  0.137157  0.515336   \n",
       "3    0.785359  0.616788  0.484400  0.135252  0.018293  0.002474  0.809582   \n",
       "4    0.779976  0.608362  0.474508  0.039884  0.001591  0.000063  0.881772   \n",
       "..        ...       ...       ...       ...       ...       ...       ...   \n",
       "495  0.267568  0.071593  0.019156  0.995838  0.991694  0.987567  0.202188   \n",
       "496  0.932827  0.870166  0.811714  0.944205  0.891522  0.841779  0.372405   \n",
       "497  0.826145  0.682516  0.563857  0.131144  0.017199  0.002256  0.173656   \n",
       "498  0.145443  0.021154  0.003077  0.518355  0.268692  0.139278  0.345234   \n",
       "499  0.647004  0.418614  0.270845  0.477245  0.227763  0.108699  0.567738   \n",
       "\n",
       "            7         8  \n",
       "0    0.160886  0.064533  \n",
       "1    0.866043  0.805952  \n",
       "2    0.265571  0.136859  \n",
       "3    0.655423  0.530619  \n",
       "4    0.777522  0.685598  \n",
       "..        ...       ...  \n",
       "495  0.040880  0.008265  \n",
       "496  0.138686  0.051647  \n",
       "497  0.030156  0.005237  \n",
       "498  0.119186  0.041147  \n",
       "499  0.322327  0.182997  \n",
       "\n",
       "[500 rows x 9 columns]"
      ]
     },
     "execution_count": 34,
     "metadata": {},
     "output_type": "execute_result"
    }
   ],
   "source": [
    "pd.DataFrame(trans) # printing as a DataFrame makes the array more readable"
   ]
  },
  {
   "cell_type": "markdown",
   "metadata": {
    "cell_id": "00080-295e71f0-1654-42d2-bc4c-19662ce60c76",
    "deepnote_cell_type": "markdown"
   },
   "source": [
    "`ColumnTransformer`s are like `pipeline`s but they include a specific column or columns for the transformer to be applied. By using this transformer we take each feature and apply a single polynomial feature transformer, of degree 3 (excluding the intercept column (bias)), resulting in 9 total features as output (3 for each input feature). We can check these values make sense by examining them along with the original values of the $x$s. Here we are using `include_bias=False` to avoid creating a rank deficient model matrix, which would result if all three polynomial features transforms included the same intercept column."
   ]
  },
  {
   "cell_type": "code",
   "execution_count": null,
   "metadata": {
    "cell_id": "00081-5d42178d-4345-411e-8063-1d2d097881b2",
    "deepnote_cell_type": "code",
    "deepnote_to_be_reexecuted": false,
    "execution_millis": 56,
    "execution_start": 1612366047472,
    "output_cleared": false,
    "source_hash": "c66e33f2"
   },
   "outputs": [
    {
     "data": {
      "application/vnd.deepnote.dataframe.v2+json": {
       "column_count": 12,
       "columns": [
        {
         "dtype": "float64",
         "name": "x1",
         "stats": {
          "histogram": [
           {
            "bin_end": 0.10193544711782883,
            "bin_start": 0.0021894308231216186,
            "count": 48
           },
           {
            "bin_end": 0.20168146341253604,
            "bin_start": 0.10193544711782883,
            "count": 52
           },
           {
            "bin_end": 0.30142747970724326,
            "bin_start": 0.20168146341253604,
            "count": 39
           },
           {
            "bin_end": 0.40117349600195046,
            "bin_start": 0.30142747970724326,
            "count": 45
           },
           {
            "bin_end": 0.5009195122966577,
            "bin_start": 0.40117349600195046,
            "count": 41
           },
           {
            "bin_end": 0.6006655285913649,
            "bin_start": 0.5009195122966577,
            "count": 58
           },
           {
            "bin_end": 0.700411544886072,
            "bin_start": 0.6006655285913649,
            "count": 54
           },
           {
            "bin_end": 0.8001575611807793,
            "bin_start": 0.700411544886072,
            "count": 56
           },
           {
            "bin_end": 0.8999035774754865,
            "bin_start": 0.8001575611807793,
            "count": 43
           },
           {
            "bin_end": 0.9996495937701937,
            "bin_start": 0.8999035774754865,
            "count": 64
           }
          ],
          "max": 0.9996495937701937,
          "min": 0.0021894308231216186,
          "nan_count": 0,
          "unique_count": 500
         }
        },
        {
         "dtype": "float64",
         "name": "x2",
         "stats": {
          "histogram": [
           {
            "bin_end": 0.10138575869192248,
            "bin_start": 0.001543762571176166,
            "count": 58
           },
           {
            "bin_end": 0.2012277548126688,
            "bin_start": 0.10138575869192248,
            "count": 53
           },
           {
            "bin_end": 0.30106975093341515,
            "bin_start": 0.2012277548126688,
            "count": 39
           },
           {
            "bin_end": 0.40091174705416144,
            "bin_start": 0.30106975093341515,
            "count": 52
           },
           {
            "bin_end": 0.5007537431749077,
            "bin_start": 0.40091174705416144,
            "count": 53
           },
           {
            "bin_end": 0.6005957392956541,
            "bin_start": 0.5007537431749077,
            "count": 47
           },
           {
            "bin_end": 0.7004377354164004,
            "bin_start": 0.6005957392956541,
            "count": 44
           },
           {
            "bin_end": 0.8002797315371467,
            "bin_start": 0.7004377354164004,
            "count": 42
           },
           {
            "bin_end": 0.900121727657893,
            "bin_start": 0.8002797315371467,
            "count": 63
           },
           {
            "bin_end": 0.9999637237786394,
            "bin_start": 0.900121727657893,
            "count": 49
           }
          ],
          "max": 0.9999637237786394,
          "min": 0.001543762571176166,
          "nan_count": 0,
          "unique_count": 500
         }
        },
        {
         "dtype": "float64",
         "name": "x3",
         "stats": {
          "histogram": [
           {
            "bin_end": 0.0997998090215704,
            "bin_start": 0.00022724991417177876,
            "count": 67
           },
           {
            "bin_end": 0.19937236812896902,
            "bin_start": 0.0997998090215704,
            "count": 54
           },
           {
            "bin_end": 0.2989449272363677,
            "bin_start": 0.19937236812896902,
            "count": 49
           },
           {
            "bin_end": 0.39851748634376627,
            "bin_start": 0.2989449272363677,
            "count": 34
           },
           {
            "bin_end": 0.49809004545116486,
            "bin_start": 0.39851748634376627,
            "count": 61
           },
           {
            "bin_end": 0.5976626045585636,
            "bin_start": 0.49809004545116486,
            "count": 50
           },
           {
            "bin_end": 0.6972351636659622,
            "bin_start": 0.5976626045585636,
            "count": 39
           },
           {
            "bin_end": 0.7968077227733608,
            "bin_start": 0.6972351636659622,
            "count": 49
           },
           {
            "bin_end": 0.8963802818807594,
            "bin_start": 0.7968077227733608,
            "count": 55
           },
           {
            "bin_end": 0.9959528409881581,
            "bin_start": 0.8963802818807594,
            "count": 42
           }
          ],
          "max": 0.9959528409881581,
          "min": 0.00022724991417177876,
          "nan_count": 0,
          "unique_count": 500
         }
        },
        {
         "dtype": "float64",
         "name": 0,
         "stats": {
          "histogram": [
           {
            "bin_end": 0.10193544711782883,
            "bin_start": 0.0021894308231216186,
            "count": 48
           },
           {
            "bin_end": 0.20168146341253604,
            "bin_start": 0.10193544711782883,
            "count": 52
           },
           {
            "bin_end": 0.30142747970724326,
            "bin_start": 0.20168146341253604,
            "count": 39
           },
           {
            "bin_end": 0.40117349600195046,
            "bin_start": 0.30142747970724326,
            "count": 45
           },
           {
            "bin_end": 0.5009195122966577,
            "bin_start": 0.40117349600195046,
            "count": 41
           },
           {
            "bin_end": 0.6006655285913649,
            "bin_start": 0.5009195122966577,
            "count": 58
           },
           {
            "bin_end": 0.700411544886072,
            "bin_start": 0.6006655285913649,
            "count": 54
           },
           {
            "bin_end": 0.8001575611807793,
            "bin_start": 0.700411544886072,
            "count": 56
           },
           {
            "bin_end": 0.8999035774754865,
            "bin_start": 0.8001575611807793,
            "count": 43
           },
           {
            "bin_end": 0.9996495937701937,
            "bin_start": 0.8999035774754865,
            "count": 64
           }
          ],
          "max": 0.9996495937701937,
          "min": 0.0021894308231216186,
          "nan_count": 0,
          "unique_count": 500
         }
        },
        {
         "dtype": "float64",
         "name": 1,
         "stats": {
          "histogram": [
           {
            "bin_end": 0.09993424527908763,
            "bin_start": 4.793607329235008e-06,
            "count": 142
           },
           {
            "bin_end": 0.19986369695084605,
            "bin_start": 0.09993424527908763,
            "count": 64
           },
           {
            "bin_end": 0.2997931486226045,
            "bin_start": 0.19986369695084605,
            "count": 43
           },
           {
            "bin_end": 0.39972260029436285,
            "bin_start": 0.2997931486226045,
            "count": 56
           },
           {
            "bin_end": 0.4996520519661212,
            "bin_start": 0.39972260029436285,
            "count": 38
           },
           {
            "bin_end": 0.5995815036378797,
            "bin_start": 0.4996520519661212,
            "count": 35
           },
           {
            "bin_end": 0.699510955309638,
            "bin_start": 0.5995815036378797,
            "count": 30
           },
           {
            "bin_end": 0.7994404069813964,
            "bin_start": 0.699510955309638,
            "count": 28
           },
           {
            "bin_end": 0.8993698586531548,
            "bin_start": 0.7994404069813964,
            "count": 31
           },
           {
            "bin_end": 0.9992993103249133,
            "bin_start": 0.8993698586531548,
            "count": 33
           }
          ],
          "max": 0.9992993103249133,
          "min": 4.793607329235008e-06,
          "nan_count": 0,
          "unique_count": 500
         }
        },
        {
         "dtype": "float64",
         "name": 2,
         "stats": {
          "histogram": [
           {
            "bin_end": 0.0998949244078579,
            "bin_start": 1.0495271640568828e-08,
            "count": 211
           },
           {
            "bin_end": 0.19978983832044417,
            "bin_start": 0.0998949244078579,
            "count": 62
           },
           {
            "bin_end": 0.2996847522330304,
            "bin_start": 0.19978983832044417,
            "count": 49
           },
           {
            "bin_end": 0.3995796661456167,
            "bin_start": 0.2996847522330304,
            "count": 38
           },
           {
            "bin_end": 0.49947458005820294,
            "bin_start": 0.3995796661456167,
            "count": 31
           },
           {
            "bin_end": 0.5993694939707892,
            "bin_start": 0.49947458005820294,
            "count": 18
           },
           {
            "bin_end": 0.6992644078833755,
            "bin_start": 0.5993694939707892,
            "count": 24
           },
           {
            "bin_end": 0.7991593217959617,
            "bin_start": 0.6992644078833755,
            "count": 22
           },
           {
            "bin_end": 0.8990542357085479,
            "bin_start": 0.7991593217959617,
            "count": 23
           },
           {
            "bin_end": 0.9989491496211342,
            "bin_start": 0.8990542357085479,
            "count": 22
           }
          ],
          "max": 0.9989491496211342,
          "min": 1.0495271640568828e-08,
          "nan_count": 0,
          "unique_count": 500
         }
        },
        {
         "dtype": "float64",
         "name": 3,
         "stats": {
          "histogram": [
           {
            "bin_end": 0.10138575869192248,
            "bin_start": 0.001543762571176166,
            "count": 58
           },
           {
            "bin_end": 0.2012277548126688,
            "bin_start": 0.10138575869192248,
            "count": 53
           },
           {
            "bin_end": 0.30106975093341515,
            "bin_start": 0.2012277548126688,
            "count": 39
           },
           {
            "bin_end": 0.40091174705416144,
            "bin_start": 0.30106975093341515,
            "count": 52
           },
           {
            "bin_end": 0.5007537431749077,
            "bin_start": 0.40091174705416144,
            "count": 53
           },
           {
            "bin_end": 0.6005957392956541,
            "bin_start": 0.5007537431749077,
            "count": 47
           },
           {
            "bin_end": 0.7004377354164004,
            "bin_start": 0.6005957392956541,
            "count": 44
           },
           {
            "bin_end": 0.8002797315371467,
            "bin_start": 0.7004377354164004,
            "count": 42
           },
           {
            "bin_end": 0.900121727657893,
            "bin_start": 0.8002797315371467,
            "count": 63
           },
           {
            "bin_end": 0.9999637237786394,
            "bin_start": 0.900121727657893,
            "count": 49
           }
          ],
          "max": 0.9999637237786394,
          "min": 0.001543762571176166,
          "nan_count": 0,
          "unique_count": 500
         }
        },
        {
         "dtype": "float64",
         "name": 4,
         "stats": {
          "histogram": [
           {
            "bin_end": 0.09999488976991286,
            "bin_start": 2.383202876164447e-06,
            "count": 156
           },
           {
            "bin_end": 0.19998739633694954,
            "bin_start": 0.09999488976991286,
            "count": 80
           },
           {
            "bin_end": 0.29997990290398624,
            "bin_start": 0.19998739633694954,
            "count": 37
           },
           {
            "bin_end": 0.3999724094710229,
            "bin_start": 0.29997990290398624,
            "count": 49
           },
           {
            "bin_end": 0.4999649160380596,
            "bin_start": 0.3999724094710229,
            "count": 27
           },
           {
            "bin_end": 0.5999574226050963,
            "bin_start": 0.4999649160380596,
            "count": 26
           },
           {
            "bin_end": 0.699949929172133,
            "bin_start": 0.5999574226050963,
            "count": 39
           },
           {
            "bin_end": 0.7999424357391697,
            "bin_start": 0.699949929172133,
            "count": 34
           },
           {
            "bin_end": 0.8999349423062064,
            "bin_start": 0.7999424357391697,
            "count": 27
           },
           {
            "bin_end": 0.999927448873243,
            "bin_start": 0.8999349423062064,
            "count": 25
           }
          ],
          "max": 0.999927448873243,
          "min": 2.383202876164447e-06,
          "nan_count": 0,
          "unique_count": 500
         }
        },
        {
         "dtype": "float64",
         "name": 5,
         "stats": {
          "histogram": [
           {
            "bin_end": 0.09998912083956578,
            "bin_start": 3.6790993997420607e-09,
            "count": 243
           },
           {
            "bin_end": 0.19997823800003214,
            "bin_start": 0.09998912083956578,
            "count": 47
           },
           {
            "bin_end": 0.29996735516049855,
            "bin_start": 0.19997823800003214,
            "count": 46
           },
           {
            "bin_end": 0.39995647232096493,
            "bin_start": 0.29996735516049855,
            "count": 29
           },
           {
            "bin_end": 0.4999455894814313,
            "bin_start": 0.39995647232096493,
            "count": 20
           },
           {
            "bin_end": 0.5999347066418976,
            "bin_start": 0.4999455894814313,
            "count": 29
           },
           {
            "bin_end": 0.6999238238023641,
            "bin_start": 0.5999347066418976,
            "count": 30
           },
           {
            "bin_end": 0.7999129409628304,
            "bin_start": 0.6999238238023641,
            "count": 21
           },
           {
            "bin_end": 0.8999020581232967,
            "bin_start": 0.7999129409628304,
            "count": 17
           },
           {
            "bin_end": 0.9998911752837631,
            "bin_start": 0.8999020581232967,
            "count": 18
           }
          ],
          "max": 0.9998911752837631,
          "min": 3.6790993997420607e-09,
          "nan_count": 0,
          "unique_count": 500
         }
        },
        {
         "dtype": "float64",
         "name": 6,
         "stats": {
          "histogram": [
           {
            "bin_end": 0.0997998090215704,
            "bin_start": 0.00022724991417177876,
            "count": 67
           },
           {
            "bin_end": 0.19937236812896902,
            "bin_start": 0.0997998090215704,
            "count": 54
           },
           {
            "bin_end": 0.2989449272363677,
            "bin_start": 0.19937236812896902,
            "count": 49
           },
           {
            "bin_end": 0.39851748634376627,
            "bin_start": 0.2989449272363677,
            "count": 34
           },
           {
            "bin_end": 0.49809004545116486,
            "bin_start": 0.39851748634376627,
            "count": 61
           },
           {
            "bin_end": 0.5976626045585636,
            "bin_start": 0.49809004545116486,
            "count": 50
           },
           {
            "bin_end": 0.6972351636659622,
            "bin_start": 0.5976626045585636,
            "count": 39
           },
           {
            "bin_end": 0.7968077227733608,
            "bin_start": 0.6972351636659622,
            "count": 49
           },
           {
            "bin_end": 0.8963802818807594,
            "bin_start": 0.7968077227733608,
            "count": 55
           },
           {
            "bin_end": 0.9959528409881581,
            "bin_start": 0.8963802818807594,
            "count": 42
           }
          ],
          "max": 0.9959528409881581,
          "min": 0.00022724991417177876,
          "nan_count": 0,
          "unique_count": 500
         }
        },
        {
         "dtype": "float64",
         "name": 7,
         "stats": {
          "histogram": [
           {
            "bin_end": 0.09919225262550947,
            "bin_start": 5.164252349108081e-08,
            "count": 175
           },
           {
            "bin_end": 0.19838445360849544,
            "bin_start": 0.09919225262550947,
            "count": 55
           },
           {
            "bin_end": 0.2975766545914814,
            "bin_start": 0.19838445360849544,
            "count": 62
           },
           {
            "bin_end": 0.3967688555744674,
            "bin_start": 0.2975766545914814,
            "count": 33
           },
           {
            "bin_end": 0.4959610565574534,
            "bin_start": 0.3967688555744674,
            "count": 30
           },
           {
            "bin_end": 0.5951532575404394,
            "bin_start": 0.4959610565574534,
            "count": 37
           },
           {
            "bin_end": 0.6943454585234253,
            "bin_start": 0.5951532575404394,
            "count": 37
           },
           {
            "bin_end": 0.7935376595064113,
            "bin_start": 0.6943454585234253,
            "count": 26
           },
           {
            "bin_end": 0.8927298604893973,
            "bin_start": 0.7935376595064113,
            "count": 24
           },
           {
            "bin_end": 0.9919220614723833,
            "bin_start": 0.8927298604893973,
            "count": 21
           }
          ],
          "max": 0.9919220614723833,
          "min": 5.164252349108081e-08,
          "nan_count": 0,
          "unique_count": 500
         }
        },
        {
         "dtype": "float64",
         "name": 8,
         "stats": {
          "histogram": [
           {
            "bin_end": 0.09879075952678724,
            "bin_start": 1.1735759030962182e-11,
            "count": 240
           },
           {
            "bin_end": 0.1975815190418387,
            "bin_start": 0.09879075952678724,
            "count": 73
           },
           {
            "bin_end": 0.29637227855689025,
            "bin_start": 0.1975815190418387,
            "count": 28
           },
           {
            "bin_end": 0.3951630380719417,
            "bin_start": 0.29637227855689025,
            "count": 28
           },
           {
            "bin_end": 0.49395379758699315,
            "bin_start": 0.3951630380719417,
            "count": 31
           },
           {
            "bin_end": 0.5927445571020447,
            "bin_start": 0.49395379758699315,
            "count": 32
           },
           {
            "bin_end": 0.6915353166170961,
            "bin_start": 0.5927445571020447,
            "count": 18
           },
           {
            "bin_end": 0.7903260761321476,
            "bin_start": 0.6915353166170961,
            "count": 22
           },
           {
            "bin_end": 0.889116835647199,
            "bin_start": 0.7903260761321476,
            "count": 12
           },
           {
            "bin_end": 0.9879075951622505,
            "bin_start": 0.889116835647199,
            "count": 16
           }
          ],
          "max": 0.9879075951622505,
          "min": 1.1735759030962182e-11,
          "nan_count": 0,
          "unique_count": 500
         }
        },
        {
         "dtype": "int64",
         "name": "_deepnote_index_column"
        }
       ],
       "row_count": 500,
       "rows_bottom": [
        {
         "0": 0.532358186577165,
         "1": 0.28340523881572766,
         "2": 0.15087309900240917,
         "3": 0.5964846652939199,
         "4": 0.3557939559307996,
         "5": 0.21222563871698266,
         "6": 0.7607709251874066,
         "7": 0.5787724006105026,
         "8": 0.4403132146853884,
         "_deepnote_index_column": 458,
         "x1": 0.532358186577165,
         "x2": 0.5964846652939199,
         "x3": 0.7607709251874066
        },
        {
         "0": 0.5579644194083464,
         "1": 0.3113242933256931,
         "2": 0.1737078785731841,
         "3": 0.9337562971862535,
         "4": 0.871900822534983,
         "5": 0.8141428835639145,
         "6": 0.548112380990173,
         "7": 0.3004271821947166,
         "8": 0.16466785814691462,
         "_deepnote_index_column": 459,
         "x1": 0.5579644194083464,
         "x2": 0.9337562971862535,
         "x3": 0.548112380990173
        },
        {
         "0": 0.32277226816514915,
         "1": 0.10418193709647496,
         "2": 0.033627040138468116,
         "3": 0.13413814035982696,
         "4": 0.01799304069919264,
         "5": 0.002413553018808381,
         "6": 0.902340963755306,
         "7": 0.8142192148708545,
         "8": 0.7347033510546555,
         "_deepnote_index_column": 460,
         "x1": 0.32277226816514915,
         "x2": 0.13413814035982696,
         "x3": 0.902340963755306
        },
        {
         "0": 0.3386307825985574,
         "1": 0.11467080692331144,
         "2": 0.03883106508964903,
         "3": 0.9822835302866814,
         "4": 0.9648809338724657,
         "5": 0.9477866500305555,
         "6": 0.9207013256318778,
         "7": 0.847690931020297,
         "8": 0.7804701639165081,
         "_deepnote_index_column": 461,
         "x1": 0.3386307825985574,
         "x2": 0.9822835302866814,
         "x3": 0.9207013256318778
        },
        {
         "0": 0.33230155404161943,
         "1": 0.11042432281847532,
         "2": 0.03669417407657281,
         "3": 0.15387565322303187,
         "4": 0.02367771665481476,
         "5": 0.0036434241170894823,
         "6": 0.4654408030835361,
         "7": 0.216635141175047,
         "8": 0.10083083408462909,
         "_deepnote_index_column": 462,
         "x1": 0.33230155404161943,
         "x2": 0.15387565322303187,
         "x3": 0.4654408030835361
        },
        {
         "0": 0.9788182055927462,
         "1": 0.9580850795998036,
         "2": 0.9377911184190632,
         "3": 0.8207281374584079,
         "4": 0.6735946756159473,
         "5": 0.5528381035201769,
         "6": 0.5656467715232186,
         "7": 0.3199562701346403,
         "8": 0.1809822312302701,
         "_deepnote_index_column": 463,
         "x1": 0.9788182055927462,
         "x2": 0.8207281374584079,
         "x3": 0.5656467715232186
        },
        {
         "0": 0.20321519554198297,
         "1": 0.041296415699166374,
         "2": 0.00839205919148911,
         "3": 0.6775364747468368,
         "4": 0.45905567461237096,
         "5": 0.3110269634893968,
         "6": 0.028558035544079097,
         "7": 0.000815561394136885,
         "8": 2.3290831282139863e-05,
         "_deepnote_index_column": 464,
         "x1": 0.20321519554198297,
         "x2": 0.6775364747468368,
         "x3": 0.028558035544079097
        },
        {
         "0": 0.6670260600647483,
         "1": 0.4449237648055012,
         "2": 0.2967757458673882,
         "3": 0.4040892596862298,
         "4": 0.16328812979376525,
         "5": 0.0659829794839116,
         "6": 0.14033061862458585,
         "7": 0.01969268252355896,
         "8": 0.002763486320908599,
         "_deepnote_index_column": 465,
         "x1": 0.6670260600647483,
         "x2": 0.4040892596862298,
         "x3": 0.14033061862458585
        },
        {
         "0": 0.574784266941896,
         "1": 0.33037695352393276,
         "2": 0.18989547504575052,
         "3": 0.21728704135130628,
         "4": 0.04721365833920428,
         "5": 0.010258916131897127,
         "6": 0.3999981917516745,
         "7": 0.15999855340460936,
         "8": 0.06399913204472747,
         "_deepnote_index_column": 466,
         "x1": 0.574784266941896,
         "x2": 0.21728704135130628,
         "x3": 0.3999981917516745
        },
        {
         "0": 0.05197528656954964,
         "1": 0.002701430413986807,
         "2": 0.0001404076199146614,
         "3": 0.7735847352321291,
         "4": 0.5984333425841633,
         "5": 0.4629388988770479,
         "6": 0.8270977246405251,
         "7": 0.6840906461055339,
         "8": 0.5658098168417538,
         "_deepnote_index_column": 467,
         "x1": 0.05197528656954964,
         "x2": 0.7735847352321291,
         "x3": 0.8270977246405251
        },
        {
         "0": 0.5428381025901639,
         "1": 0.29467320562368926,
         "2": 0.15995984382492467,
         "3": 0.8476959291308404,
         "4": 0.7185883882649987,
         "5": 0.6091444514529312,
         "6": 0.455391369995628,
         "7": 0.20738129986649498,
         "8": 0.0944396542576773,
         "_deepnote_index_column": 468,
         "x1": 0.5428381025901639,
         "x2": 0.8476959291308404,
         "x3": 0.455391369995628
        },
        {
         "0": 0.207949114938631,
         "1": 0.043242834403759964,
         "2": 0.008992309141699668,
         "3": 0.5296996198709953,
         "4": 0.280581687291477,
         "5": 0.14862401310105783,
         "6": 0.6935832059717176,
         "7": 0.4810576636060061,
         "8": 0.3336535165811178,
         "_deepnote_index_column": 469,
         "x1": 0.207949114938631,
         "x2": 0.5296996198709953,
         "x3": 0.6935832059717176
        },
        {
         "0": 0.09109017971488453,
         "1": 0.008297420840489962,
         "2": 0.0007558135555302589,
         "3": 0.4095997195121094,
         "4": 0.16777193022439868,
         "5": 0.06871933556191889,
         "6": 0.6379803456244109,
         "7": 0.40701892140304274,
         "8": 0.25967007215238813,
         "_deepnote_index_column": 470,
         "x1": 0.09109017971488453,
         "x2": 0.4095997195121094,
         "x3": 0.6379803456244109
        },
        {
         "0": 0.8698557120089315,
         "1": 0.7566489597145653,
         "2": 0.6581754195933305,
         "3": 0.018307946647702078,
         "4": 0.00033518091045510576,
         "5": 6.136474225940284e-06,
         "6": 0.6558830272417713,
         "7": 0.4301825454238301,
         "8": 0.28214943015915245,
         "_deepnote_index_column": 471,
         "x1": 0.8698557120089315,
         "x2": 0.018307946647702078,
         "x3": 0.6558830272417713
        },
        {
         "0": 0.027369779496864033,
         "1": 0.0007491048297069587,
         "2": 2.050283400911534e-05,
         "3": 0.14865961285064577,
         "4": 0.022099680492903884,
         "5": 0.00328532994619806,
         "6": 0.7693189947219788,
         "7": 0.5918517156400361,
         "8": 0.4553227669006711,
         "_deepnote_index_column": 472,
         "x1": 0.027369779496864033,
         "x2": 0.14865961285064577,
         "x3": 0.7693189947219788
        },
        {
         "0": 0.9686245221962455,
         "1": 0.9382334649999049,
         "2": 0.9087959417440608,
         "3": 0.8043351900625192,
         "4": 0.6469550979729088,
         "5": 0.5203687516899553,
         "6": 0.00022724991417177876,
         "7": 5.164252349108081e-08,
         "8": 1.1735759030962182e-11,
         "_deepnote_index_column": 473,
         "x1": 0.9686245221962455,
         "x2": 0.8043351900625192,
         "x3": 0.00022724991417177876
        },
        {
         "0": 0.32749988957479015,
         "1": 0.10725617767149974,
         "2": 0.03512638634363024,
         "3": 0.41977812359804045,
         "4": 0.17621367305149171,
         "5": 0.07397064502587378,
         "6": 0.3006954448400143,
         "7": 0.09041775054753409,
         "8": 0.02718820572232421,
         "_deepnote_index_column": 474,
         "x1": 0.32749988957479015,
         "x2": 0.41977812359804045,
         "x3": 0.3006954448400143
        },
        {
         "0": 0.4102779578675838,
         "1": 0.16832800271199488,
         "2": 0.06906126920460637,
         "3": 0.3392175702741931,
         "4": 0.11506855998272712,
         "5": 0.03903327733229094,
         "6": 0.6954714884023027,
         "7": 0.4836805911805142,
         "8": 0.3363860606596179,
         "_deepnote_index_column": 475,
         "x1": 0.4102779578675838,
         "x2": 0.3392175702741931,
         "x3": 0.6954714884023027
        },
        {
         "0": 0.13554421504611225,
         "1": 0.01837223423246672,
         "2": 0.002490250067683014,
         "3": 0.2971458504721979,
         "4": 0.08829565645284577,
         "5": 0.026236687929681864,
         "6": 0.09088742177309217,
         "7": 0.008260523436559948,
         "8": 0.0007507776776451368,
         "_deepnote_index_column": 476,
         "x1": 0.13554421504611225,
         "x2": 0.2971458504721979,
         "x3": 0.09088742177309217
        },
        {
         "0": 0.127066310744954,
         "1": 0.016145847326333212,
         "2": 0.0020515932536084407,
         "3": 0.7179859935634314,
         "4": 0.5155038869532678,
         "5": 0.3701245704599528,
         "6": 0.5236475240194501,
         "7": 0.2742067294117006,
         "8": 0.14358767492590835,
         "_deepnote_index_column": 477,
         "x1": 0.127066310744954,
         "x2": 0.7179859935634314,
         "x3": 0.5236475240194501
        },
        {
         "0": 0.41398397976413726,
         "1": 0.1713827355013536,
         "2": 0.07094970690571487,
         "3": 0.9978071813139916,
         "4": 0.9956191710817729,
         "5": 0.9934359587592766,
         "6": 0.8945950286306611,
         "7": 0.8003002652506933,
         "8": 0.7159446387050696,
         "_deepnote_index_column": 478,
         "x1": 0.41398397976413726,
         "x2": 0.9978071813139916,
         "x3": 0.8945950286306611
        },
        {
         "0": 0.6174437360391936,
         "1": 0.3812367671740373,
         "2": 0.2353922538394418,
         "3": 0.5519022755385359,
         "4": 0.304596121744614,
         "5": 0.16810729271106536,
         "6": 0.9637058672505254,
         "7": 0.9287289985730873,
         "8": 0.8950215850105891,
         "_deepnote_index_column": 479,
         "x1": 0.6174437360391936,
         "x2": 0.5519022755385359,
         "x3": 0.9637058672505254
        },
        {
         "0": 0.13226690286735276,
         "1": 0.01749453359412173,
         "2": 0.0023139477756033387,
         "3": 0.8898960452095016,
         "4": 0.7919149712795114,
         "5": 0.7047220010838332,
         "6": 0.7056881874672379,
         "7": 0.49799581793079556,
         "8": 0.35142976612184773,
         "_deepnote_index_column": 480,
         "x1": 0.13226690286735276,
         "x2": 0.8898960452095016,
         "x3": 0.7056881874672379
        },
        {
         "0": 0.9744812178582788,
         "1": 0.9496136439585542,
         "2": 0.9253806602595699,
         "3": 0.1684682870642641,
         "4": 0.02838156374636729,
         "5": 0.004781393428555715,
         "6": 0.7640288870001651,
         "7": 0.5837401401707111,
         "8": 0.4459943295919488,
         "_deepnote_index_column": 481,
         "x1": 0.9744812178582788,
         "x2": 0.1684682870642641,
         "x3": 0.7640288870001651
        },
        {
         "0": 0.18063510244452918,
         "1": 0.032629040235145554,
         "2": 0.0058939500255421814,
         "3": 0.8835642961544377,
         "4": 0.7806858654388869,
         "5": 0.6897861572142281,
         "6": 0.34460785847683195,
         "7": 0.11875457612398824,
         "8": 0.040923760162411504,
         "_deepnote_index_column": 482,
         "x1": 0.18063510244452918,
         "x2": 0.8835642961544377,
         "x3": 0.34460785847683195
        },
        {
         "0": 0.760349911196316,
         "1": 0.5781319874562456,
         "2": 0.439582605322106,
         "3": 0.7027756374098312,
         "4": 0.4938935965367945,
         "5": 0.3470963871187797,
         "6": 0.2518503282303802,
         "7": 0.06342858782975025,
         "8": 0.0159745106641121,
         "_deepnote_index_column": 483,
         "x1": 0.760349911196316,
         "x2": 0.7027756374098312,
         "x3": 0.2518503282303802
        },
        {
         "0": 0.4821618152044177,
         "1": 0.23248001604121904,
         "2": 0.11209298653318632,
         "3": 0.42210865394477726,
         "4": 0.1781757157350717,
         "5": 0.07520951153457839,
         "6": 0.6672091153778678,
         "7": 0.4451680036433168,
         "8": 0.29702014990538883,
         "_deepnote_index_column": 484,
         "x1": 0.4821618152044177,
         "x2": 0.42210865394477726,
         "x3": 0.6672091153778678
        },
        {
         "0": 0.7680788681442614,
         "1": 0.5899451476897697,
         "2": 0.45312440130475745,
         "3": 0.8633149477603772,
         "4": 0.7453126990265028,
         "5": 0.643439593825211,
         "6": 0.14930501508479133,
         "7": 0.022291987529469766,
         "8": 0.0033283055343574634,
         "_deepnote_index_column": 485,
         "x1": 0.7680788681442614,
         "x2": 0.8633149477603772,
         "x3": 0.14930501508479133
        },
        {
         "0": 0.3028984428297671,
         "1": 0.09174746666869768,
         "2": 0.027790164787524486,
         "3": 0.23504322614251094,
         "4": 0.05524531815547954,
         "5": 0.012985037808533342,
         "6": 0.47091669227772726,
         "7": 0.22176253106579566,
         "8": 0.10443167760064123,
         "_deepnote_index_column": 486,
         "x1": 0.3028984428297671,
         "x2": 0.23504322614251094,
         "x3": 0.47091669227772726
        },
        {
         "0": 0.015175090775453537,
         "1": 0.00023028338004325502,
         "2": 3.4945711962346604e-06,
         "3": 0.563750663429838,
         "4": 0.31781481051758254,
         "5": 0.1791683102771154,
         "6": 0.022291937575851017,
         "7": 0.0004969304808856385,
         "8": 1.107754325944028e-05,
         "_deepnote_index_column": 487,
         "x1": 0.015175090775453537,
         "x2": 0.563750663429838,
         "x3": 0.022291937575851017
        },
        {
         "0": 0.4633686864669543,
         "1": 0.2147105395981106,
         "2": 0.09949014070418748,
         "3": 0.026560250936994545,
         "4": 0.0007054469298361196,
         "5": 1.8736847479179723e-05,
         "6": 0.7597110559297995,
         "7": 0.5771608885019709,
         "8": 0.43847550804521357,
         "_deepnote_index_column": 488,
         "x1": 0.4633686864669543,
         "x2": 0.026560250936994545,
         "x3": 0.7597110559297995
        },
        {
         "0": 0.7033370789190169,
         "1": 0.49468304658233536,
         "2": 0.3479289289739797,
         "3": 0.3800514541366583,
         "4": 0.1444391077913885,
         "5": 0.05489429295031873,
         "6": 0.20565707990659243,
         "7": 0.04229483451570654,
         "8": 0.008698232161632765,
         "_deepnote_index_column": 489,
         "x1": 0.7033370789190169,
         "x2": 0.3800514541366583,
         "x3": 0.20565707990659243
        },
        {
         "0": 0.06604089290965509,
         "1": 0.004361399536304532,
         "2": 0.000288030719713307,
         "3": 0.36183509707674444,
         "4": 0.13092463747653707,
         "5": 0.047373128911060366,
         "6": 0.8405904741259859,
         "7": 0.7065923451913497,
         "8": 0.5939547944581889,
         "_deepnote_index_column": 490,
         "x1": 0.06604089290965509,
         "x2": 0.36183509707674444,
         "x3": 0.8405904741259859
        },
        {
         "0": 0.6690114176568045,
         "1": 0.44757627695516733,
         "2": 0.29943363955533103,
         "3": 0.09124352492984988,
         "4": 0.008325380841624137,
         "5": 0.0007596370943732265,
         "6": 0.7748543323557293,
         "7": 0.600399236370443,
         "8": 0.46522194944470935,
         "_deepnote_index_column": 491,
         "x1": 0.6690114176568045,
         "x2": 0.09124352492984988,
         "x3": 0.7748543323557293
        },
        {
         "0": 0.3454790558421603,
         "1": 0.11935577802559053,
         "2": 0.04123492150158748,
         "3": 0.04525353373768126,
         "4": 0.0020478823157474564,
         "5": 9.267391146647835e-05,
         "6": 0.17616404516675943,
         "7": 0.031033770809516057,
         "8": 0.0054670346025824474,
         "_deepnote_index_column": 492,
         "x1": 0.3454790558421603,
         "x2": 0.04525353373768126,
         "x3": 0.17616404516675943
        },
        {
         "0": 0.5917214726030947,
         "1": 0.35013430113957494,
         "2": 0.2071819842791647,
         "3": 0.3424515132947733,
         "4": 0.1172730389578803,
         "5": 0.04016032965980301,
         "6": 0.884558790594128,
         "7": 0.7824442540173464,
         "8": 0.6921179430409087,
         "_deepnote_index_column": 493,
         "x1": 0.5917214726030947,
         "x2": 0.3424515132947733,
         "x3": 0.884558790594128
        },
        {
         "0": 0.2290534578071075,
         "1": 0.05246548653339238,
         "2": 0.012017401106005758,
         "3": 0.3554139753162816,
         "4": 0.12631909385012244,
         "5": 0.04489557130362248,
         "6": 0.0930639540298075,
         "7": 0.008660899539662122,
         "8": 0.0008060175566158966,
         "_deepnote_index_column": 494,
         "x1": 0.2290534578071075,
         "x2": 0.3554139753162816,
         "x3": 0.0930639540298075
        },
        {
         "0": 0.26756836247775295,
         "1": 0.0715928285990262,
         "2": 0.01915597591339188,
         "3": 0.9958382380486689,
         "4": 0.9916937963598773,
         "5": 0.9875666028508157,
         "6": 0.2021884454300069,
         "7": 0.040880167465402885,
         "8": 0.008265497508748155,
         "_deepnote_index_column": 495,
         "x1": 0.26756836247775295,
         "x2": 0.9958382380486689,
         "x3": 0.2021884454300069
        },
        {
         "0": 0.9328269856396992,
         "1": 0.8701661851376477,
         "2": 0.8117144994875483,
         "3": 0.9442045718534874,
         "4": 0.8915222735090275,
         "5": 0.8417794065564389,
         "6": 0.3724054828574618,
         "7": 0.13868584366229925,
         "8": 0.05164736857455301,
         "_deepnote_index_column": 496,
         "x1": 0.9328269856396992,
         "x2": 0.9442045718534874,
         "x3": 0.3724054828574618
        },
        {
         "0": 0.8261450587838567,
         "1": 0.682515658152982,
         "2": 0.563856938525698,
         "3": 0.13114411183839636,
         "4": 0.017198778069881814,
         "5": 0.002255518474680339,
         "6": 0.17365571077313346,
         "7": 0.030156305884122183,
         "8": 0.0052368147325992645,
         "_deepnote_index_column": 497,
         "x1": 0.8261450587838567,
         "x2": 0.13114411183839636,
         "x3": 0.17365571077313346
        },
        {
         "0": 0.1454431928335156,
         "1": 0.0211537223416072,
         "2": 0.003076664917677023,
         "3": 0.5183550554747868,
         "4": 0.2686919635362693,
         "5": 0.13927783766447224,
         "6": 0.3452337427247997,
         "7": 0.11918633711577317,
         "8": 0.04114714524413808,
         "_deepnote_index_column": 498,
         "x1": 0.1454431928335156,
         "x2": 0.5183550554747868,
         "x3": 0.3452337427247997
        },
        {
         "0": 0.6470036098933348,
         "1": 0.4186136712150066,
         "2": 0.2708445564268108,
         "3": 0.4772453753499617,
         "4": 0.22776314829292582,
         "5": 0.10869890919794638,
         "6": 0.5677384811639643,
         "7": 0.3223269829943651,
         "8": 0.1829974317633838,
         "_deepnote_index_column": 499,
         "x1": 0.6470036098933348,
         "x2": 0.4772453753499617,
         "x3": 0.5677384811639643
        }
       ],
       "rows_top": [
        {
         "0": 0.1915194503788923,
         "1": 0.03667969987343298,
         "2": 0.007024875959822609,
         "3": 0.8839511653331675,
         "4": 0.7813696626938649,
         "5": 0.6906926238942259,
         "6": 0.40110640866052494,
         "7": 0.16088635106854404,
         "8": 0.0645325464796001,
         "_deepnote_index_column": 0,
         "x1": 0.1915194503788923,
         "x2": 0.8839511653331675,
         "x3": 0.40110640866052494
        },
        {
         "0": 0.6221087710398319,
         "1": 0.38701932300468994,
         "2": 0.24076811540311538,
         "3": 0.7413605341557461,
         "4": 0.5496154416036931,
         "5": 0.4074631973675602,
         "6": 0.9306144016650845,
         "7": 0.8660431645864631,
         "8": 0.8059522414277677,
         "_deepnote_index_column": 1,
         "x1": 0.6221087710398319,
         "x2": 0.7413605341557461,
         "x3": 0.9306144016650845
        },
        {
         "0": 0.4377277390071145,
         "1": 0.19160557349628052,
         "2": 0.08387107446768836,
         "3": 0.5157107993445175,
         "4": 0.26595762856056115,
         "5": 0.13715722121673926,
         "6": 0.5153361469497669,
         "7": 0.26557134435303176,
         "8": 0.13685851333916113,
         "_deepnote_index_column": 2,
         "x1": 0.4377277390071145,
         "x2": 0.5157107993445175,
         "x3": 0.5153361469497669
        },
        {
         "0": 0.7853585837137692,
         "1": 0.6167881050128975,
         "2": 0.4843998326044287,
         "3": 0.13525184356482722,
         "4": 0.018293061187684496,
         "5": 0.002474170250078516,
         "6": 0.8095820185970475,
         "7": 0.6554230448356702,
         "8": 0.530618711673085,
         "_deepnote_index_column": 3,
         "x1": 0.7853585837137692,
         "x2": 0.13525184356482722,
         "x3": 0.8095820185970475
        },
        {
         "0": 0.7799758081188035,
         "1": 0.6083622612505806,
         "2": 0.47450784634790427,
         "3": 0.03988365260534921,
         "4": 0.0015907057451441785,
         "5": 6.344315533666357e-05,
         "6": 0.8817722277751203,
         "7": 0.7775222616754986,
         "8": 0.6855975368223545,
         "_deepnote_index_column": 4,
         "x1": 0.7799758081188035,
         "x2": 0.03988365260534921,
         "x3": 0.8817722277751203
        },
        {
         "0": 0.2725926052826416,
         "1": 0.07430672845477805,
         "2": 0.020255464699517747,
         "3": 0.8343218320889686,
         "4": 0.6960929195002931,
         "5": 0.5807655199016435,
         "6": 0.7626677820706171,
         "7": 0.5816621458085144,
         "8": 0.4436149786582156,
         "_deepnote_index_column": 5,
         "x1": 0.2725926052826416,
         "x2": 0.8343218320889686,
         "x3": 0.7626677820706171
        },
        {
         "0": 0.2764642551430967,
         "1": 0.07643248437182727,
         "2": 0.021130849860593607,
         "3": 0.11705786929477491,
         "4": 0.013702544763832605,
         "5": 0.0016039906939705195,
         "6": 0.46442070218186504,
         "7": 0.2156865886150966,
         "8": 0.10016931693583422,
         "_deepnote_index_column": 6,
         "x1": 0.2764642551430967,
         "x2": 0.11705786929477491,
         "x3": 0.46442070218186504
        },
        {
         "0": 0.8018721775350193,
         "1": 0.6429989891047535,
         "2": 0.5156029995462448,
         "3": 0.523102313610054,
         "4": 0.2736360305041913,
         "5": 0.14313964064381376,
         "6": 0.07391960466043601,
         "7": 0.005464107953155153,
         "8": 0.00040390469971917313,
         "_deepnote_index_column": 7,
         "x1": 0.8018721775350193,
         "x2": 0.523102313610054,
         "x3": 0.07391960466043601
        },
        {
         "0": 0.9581393536837052,
         "1": 0.9180310210774283,
         "2": 0.879601649196719,
         "3": 0.8730584682565505,
         "4": 0.7622310889944742,
         "5": 0.6654723070150381,
         "6": 0.4704993578739891,
         "7": 0.2213696457598361,
         "8": 0.10415427618279531,
         "_deepnote_index_column": 8,
         "x1": 0.9581393536837052,
         "x2": 0.8730584682565505,
         "x3": 0.4704993578739891
        },
        {
         "0": 0.8759326347420947,
         "1": 0.7672579806062279,
         "2": 0.6720663044793121,
         "3": 0.0387078369663274,
         "4": 0.0014982966426117822,
         "5": 5.7995822169412585e-05,
         "6": 0.2005719774576743,
         "7": 0.04022911814128181,
         "8": 0.00806883377697529,
         "_deepnote_index_column": 9,
         "x1": 0.8759326347420947,
         "x2": 0.0387078369663274,
         "x3": 0.2005719774576743
        },
        {
         "0": 0.35781726995786667,
         "1": 0.12803319868010082,
         "2": 0.04581248961568681,
         "3": 0.6923907867937034,
         "4": 0.4794050016368036,
         "5": 0.3319356062761431,
         "6": 0.20856722359570423,
         "7": 0.043500286758420485,
         "8": 0.009072734034820737,
         "_deepnote_index_column": 10,
         "x1": 0.35781726995786667,
         "x2": 0.6923907867937034,
         "x3": 0.20856722359570423
        },
        {
         "0": 0.5009951255234587,
         "1": 0.25099611579826614,
         "2": 0.12574783054025293,
         "3": 0.4762684781326564,
         "4": 0.22683166326279658,
         "5": 0.1080327710544713,
         "6": 0.17753960019911685,
         "7": 0.03152030963886225,
         "8": 0.005596103171435974,
         "_deepnote_index_column": 11,
         "x1": 0.5009951255234587,
         "x2": 0.4762684781326564,
         "x3": 0.17753960019911685
        },
        {
         "0": 0.6834629351721363,
         "1": 0.4671215837541118,
         "2": 0.31926028871484213,
         "3": 0.16926448845838715,
         "4": 0.028650467053079477,
         "5": 0.004849506649833373,
         "6": 0.3542414486212886,
         "7": 0.12548700392130904,
         "8": 0.04445269805222984,
         "_deepnote_index_column": 12,
         "x1": 0.6834629351721363,
         "x2": 0.16926448845838715,
         "x3": 0.3542414486212886
        },
        {
         "0": 0.7127020269829002,
         "1": 0.5079441792655346,
         "2": 0.36201284615671214,
         "3": 0.06317189225198372,
         "4": 0.003990687970696241,
         "5": 0.00025209931049611047,
         "6": 0.9117531262167204,
         "7": 0.8312937631659629,
         "8": 0.7579346873710288,
         "_deepnote_index_column": 13,
         "x1": 0.7127020269829002,
         "x2": 0.06317189225198372,
         "x3": 0.9117531262167204
        },
        {
         "0": 0.37025075479039493,
         "1": 0.13708562142285716,
         "2": 0.050756054802723195,
         "3": 0.032224091951774336,
         "4": 0.0010383921021164075,
         "5": 3.3461242580595365e-05,
         "6": 0.4335209190432803,
         "7": 0.18794038724813036,
         "8": 0.08147608940515946,
         "_deepnote_index_column": 14,
         "x1": 0.37025075479039493,
         "x2": 0.032224091951774336,
         "x3": 0.4335209190432803
        },
        {
         "0": 0.5611961860656249,
         "1": 0.31494115925460353,
         "2": 0.1767437774087701,
         "3": 0.2424308563800346,
         "4": 0.058772720125156955,
         "5": 0.014248320871725895,
         "6": 0.178295886319636,
         "7": 0.03178942307850456,
         "8": 0.005667923363371862,
         "_deepnote_index_column": 15,
         "x1": 0.5611961860656249,
         "x2": 0.2424308563800346,
         "x3": 0.178295886319636
        },
        {
         "0": 0.5030831653078097,
         "1": 0.253092671216125,
         "2": 0.12732666215161695,
         "3": 0.11270682467406534,
         "4": 0.012702828328110505,
         "5": 0.0014316954452411013,
         "6": 0.7521622490756228,
         "7": 0.5657480489344993,
         "8": 0.42553432489671844,
         "_deepnote_index_column": 16,
         "x1": 0.5030831653078097,
         "x2": 0.11270682467406534,
         "x3": 0.7521622490756228
        },
        {
         "0": 0.013768449590682241,
         "1": 0.00018957020413115798,
         "2": 2.610087799475191e-06,
         "3": 0.4049900173998413,
         "4": 0.16401691419352377,
         "5": 0.06642521293310347,
         "6": 0.050470565702775194,
         "7": 0.0025472780023581476,
         "8": 0.00012856256178125084,
         "_deepnote_index_column": 17,
         "x1": 0.013768449590682241,
         "x2": 0.4049900173998413,
         "x3": 0.050470565702775194
        },
        {
         "0": 0.772826621612374,
         "1": 0.5972609870727955,
         "2": 0.4615791908603404,
         "3": 0.04207297124273657,
         "4": 0.0017701349091921383,
         "5": 7.447483513020495e-05,
         "6": 0.08266851738546488,
         "7": 0.006834083766710909,
         "8": 0.000564963572682064,
         "_deepnote_index_column": 18,
         "x1": 0.772826621612374,
         "x2": 0.04207297124273657,
         "x3": 0.08266851738546488
        },
        {
         "0": 0.8826411906361166,
         "1": 0.7790554714075415,
         "2": 0.6876264488547335,
         "3": 0.9265654494018641,
         "4": 0.8585235320252784,
         "5": 0.7954782422730778,
         "6": 0.038583441544881136,
         "7": 0.0014886819614472596,
         "8": 5.7438473438419336e-05,
         "_deepnote_index_column": 19,
         "x1": 0.8826411906361166,
         "x2": 0.9265654494018641,
         "x3": 0.038583441544881136
        },
        {
         "0": 0.3648859839013723,
         "1": 0.1331417812476725,
         "2": 0.04858156984893826,
         "3": 0.9352629086037977,
         "4": 0.8747167082100357,
         "5": 0.8180900927248573,
         "6": 0.4652786064829074,
         "7": 0.2164841816506762,
         "8": 0.10072545836401922,
         "_deepnote_index_column": 20,
         "x1": 0.3648859839013723,
         "x2": 0.9352629086037977,
         "x3": 0.4652786064829074
        },
        {
         "0": 0.6153961784334937,
         "1": 0.3787124564305484,
         "2": 0.23305819841252048,
         "3": 0.8104268974896139,
         "4": 0.6567917561746413,
         "5": 0.5322817052533695,
         "6": 0.6038286634957863,
         "7": 0.3646090548591076,
         "8": 0.2201613982940368,
         "_deepnote_index_column": 21,
         "x1": 0.6153961784334937,
         "x2": 0.8104268974896139,
         "x3": 0.6038286634957863
        },
        {
         "0": 0.07538124164297655,
         "1": 0.005682331591636822,
         "2": 0.00042834121080469477,
         "3": 0.1883430784330069,
         "4": 0.03547311519362179,
         "5": 0.006681115717175398,
         "6": 0.18178934320545626,
         "7": 0.03304736530307117,
         "8": 0.006007658833116092,
         "_deepnote_index_column": 22,
         "x1": 0.07538124164297655,
         "x2": 0.1883430784330069,
         "x3": 0.18178934320545626
        },
        {
         "0": 0.3688240060019745,
         "1": 0.13603114740334454,
         "2": 0.05017155272634663,
         "3": 0.5873182233905117,
         "4": 0.34494269552658696,
         "5": 0.20259113110820925,
         "6": 0.5190297006211498,
         "7": 0.26939183012688045,
         "8": 0.1398223609405384,
         "_deepnote_index_column": 23,
         "x1": 0.3688240060019745,
         "x2": 0.5873182233905117,
         "x3": 0.5190297006211498
        },
        {
         "0": 0.9331401019825216,
         "1": 0.8707504499279508,
         "2": 0.8125321636470946,
         "3": 0.9035105556616785,
         "4": 0.816331324192075,
         "5": 0.7375639683248155,
         "6": 0.7101532758635656,
         "7": 0.5043176752197535,
         "8": 0.35814284913320565,
         "_deepnote_index_column": 24,
         "x1": 0.9331401019825216,
         "x2": 0.9035105556616785,
         "x3": 0.7101532758635656
        },
        {
         "0": 0.6513781432265774,
         "1": 0.4242934854733036,
         "2": 0.2763755027507333,
         "3": 0.9673422647363511,
         "4": 0.9357510571452528,
         "5": 0.9051915468483235,
         "6": 0.9249803784408488,
         "7": 0.8555887005005759,
         "8": 0.7914027599787368,
         "_deepnote_index_column": 25,
         "x1": 0.6513781432265774,
         "x2": 0.9673422647363511,
         "x3": 0.9249803784408488
        },
        {
         "0": 0.3972025777261542,
         "1": 0.15776988775230155,
         "2": 0.06266660610278017,
         "3": 0.0675392149333145,
         "4": 0.0045615455538084515,
         "5": 0.0003080832055867741,
         "6": 0.5291316448882264,
         "7": 0.2799802976221201,
         "8": 0.1481464354170876,
         "_deepnote_index_column": 26,
         "x1": 0.3972025777261542,
         "x2": 0.0675392149333145,
         "x3": 0.5291316448882264
        },
        {
         "0": 0.7887301429407455,
         "1": 0.6220952383833288,
         "2": 0.4906652662928401,
         "3": 0.31758607171718534,
         "4": 0.10086091294875318,
         "5": 0.03203202113320352,
         "6": 0.971185732324649,
         "7": 0.9432017266709648,
         "8": 0.9160240596468143,
         "_deepnote_index_column": 27,
         "x1": 0.7887301429407455,
         "x2": 0.31758607171718534,
         "x3": 0.971185732324649
        },
        {
         "0": 0.31683612216887125,
         "1": 0.1003851283110079,
         "2": 0.03180563477748432,
         "3": 0.6968629710758295,
         "4": 0.4856180004566324,
         "5": 0.3384092026061124,
         "6": 0.5472527610162073,
         "7": 0.2994855844398622,
         "8": 0.16389431296926707,
         "_deepnote_index_column": 28,
         "x1": 0.31683612216887125,
         "x2": 0.6968629710758295,
         "x3": 0.5472527610162073
        },
        {
         "0": 0.5680986526260692,
         "1": 0.32273607911555524,
         "2": 0.1833459316993674,
         "3": 0.6402653755299328,
         "4": 0.40993975110248587,
         "5": 0.26247022868428027,
         "6": 0.006437978516888543,
         "7": 4.1447567383918404e-05,
         "8": 2.6683854839495696e-07,
         "_deepnote_index_column": 29,
         "x1": 0.5680986526260692,
         "x2": 0.6402653755299328,
         "x3": 0.006437978516888543
        },
        {
         "0": 0.8691273895612258,
         "1": 0.7553824192855108,
         "2": 0.6565235501940593,
         "3": 0.6326233136490094,
         "4": 0.4002122569722529,
         "5": 0.2531836041687355,
         "6": 0.47277674852894747,
         "7": 0.22351785394960363,
         "8": 0.10567404422846176,
         "_deepnote_index_column": 30,
         "x1": 0.8691273895612258,
         "x2": 0.6326233136490094,
         "x3": 0.47277674852894747
        },
        {
         "0": 0.43617342389567937,
         "1": 0.19024725571288,
         "2": 0.08298079691104372,
         "3": 0.8287506490793103,
         "4": 0.6868276383493781,
         "5": 0.5692088510876568,
         "6": 0.5220880797206794,
         "7": 0.2725759629864265,
         "8": 0.14230866109359838,
         "_deepnote_index_column": 31,
         "x1": 0.43617342389567937,
         "x2": 0.8287506490793103,
         "x3": 0.5220880797206794
        },
        {
         "0": 0.8021476420801591,
         "1": 0.6434408396947591,
         "2": 0.5161345523792287,
         "3": 0.7131104267315977,
         "4": 0.5085264807133214,
         "5": 0.36263553566579426,
         "6": 0.15220890808833232,
         "7": 0.023167551701442395,
         "8": 0.0035263077475565325,
         "_deepnote_index_column": 32,
         "x1": 0.8021476420801591,
         "x2": 0.7131104267315977,
         "x3": 0.15220890808833232
        },
        {
         "0": 0.14376682451456457,
         "1": 0.020668899831001605,
         "2": 0.0029715020949127213,
         "3": 0.33548022716525805,
         "4": 0.11254698281885314,
         "5": 0.03775728736283325,
         "6": 0.6542340841138883,
         "7": 0.4280222368163382,
         "8": 0.2800267360839148,
         "_deepnote_index_column": 33,
         "x1": 0.14376682451456457,
         "x2": 0.33548022716525805,
         "x3": 0.6542340841138883
        },
        {
         "0": 0.7042609711183354,
         "1": 0.49598351544054087,
         "2": 0.3493018322428412,
         "3": 0.1676946768408637,
         "4": 0.028121504640761706,
         "5": 0.004715826633011383,
         "6": 0.13044363016690508,
         "7": 0.01701554065112031,
         "8": 0.002219568891784677,
         "_deepnote_index_column": 34,
         "x1": 0.7042609711183354,
         "x2": 0.1676946768408637,
         "x3": 0.13044363016690508
        },
        {
         "0": 0.7045813081895725,
         "1": 0.4964348198501294,
         "2": 0.34977869480085894,
         "3": 0.7646898163213187,
         "4": 0.5847505151855321,
         "5": 0.44715276405102106,
         "6": 0.4541488737097188,
         "7": 0.20625119949180612,
         "8": 0.09366874995048227,
         "_deepnote_index_column": 35,
         "x1": 0.7045813081895725,
         "x2": 0.7646898163213187,
         "x3": 0.4541488737097188
        },
        {
         "0": 0.21879210567408858,
         "1": 0.04786998550530154,
         "2": 0.010473574927293023,
         "3": 0.35931506248110234,
         "4": 0.12910731412579848,
         "5": 0.04639020264187859,
         "6": 0.9823614509249957,
         "7": 0.9650340202634627,
         "8": 0.9480122203379969,
         "_deepnote_index_column": 36,
         "x1": 0.21879210567408858,
         "x2": 0.35931506248110234,
         "x3": 0.9823614509249957
        },
        {
         "0": 0.924867628615565,
         "1": 0.8553801304609787,
         "2": 0.791113392824318,
         "3": 0.08800478164562353,
         "4": 0.007744841592493877,
         "5": 0.0006815830932273668,
         "6": 0.13251409415261473,
         "7": 0.01755998514908804,
         "8": 0.002326945525364769,
         "_deepnote_index_column": 37,
         "x1": 0.924867628615565,
         "x2": 0.08800478164562353,
         "x3": 0.13251409415261473
        },
        {
         "0": 0.44214075540417663,
         "1": 0.19548844758937595,
         "2": 0.08643340988995647,
         "3": 0.729567599641644,
         "4": 0.5322688824468701,
         "5": 0.3883261309307034,
         "6": 0.060278921246567974,
         "7": 0.003633548346649944,
         "8": 0.00021902637463330922,
         "_deepnote_index_column": 38,
         "x1": 0.44214075540417663,
         "x2": 0.729567599641644,
         "x3": 0.060278921246567974
        },
        {
         "0": 0.9093159589724725,
         "1": 0.8268555132420273,
         "2": 0.75187291395535,
         "3": 0.8810499283806688,
         "4": 0.7762489762995816,
         "5": 0.6839141049743138,
         "6": 0.0678722782821386,
         "7": 0.004606646159208063,
         "8": 0.0003126635700651146,
         "_deepnote_index_column": 39,
         "x1": 0.9093159589724725,
         "x2": 0.8810499283806688,
         "x3": 0.0678722782821386
        },
        {
         "0": 0.0598092227798519,
         "1": 0.0035771431295299554,
         "2": 0.00021394615034947372,
         "3": 0.041263881190583884,
         "4": 0.0017027078909106225,
         "5": 7.026033611280559e-05,
         "6": 0.09614604704294494,
         "7": 0.009244062361984181,
         "8": 0.0008887800547232478,
         "_deepnote_index_column": 40,
         "x1": 0.0598092227798519,
         "x2": 0.041263881190583884,
         "x3": 0.09614604704294494
        }
       ]
      },
      "text/html": [
       "<div>\n",
       "<style scoped>\n",
       "    .dataframe tbody tr th:only-of-type {\n",
       "        vertical-align: middle;\n",
       "    }\n",
       "\n",
       "    .dataframe tbody tr th {\n",
       "        vertical-align: top;\n",
       "    }\n",
       "\n",
       "    .dataframe thead th {\n",
       "        text-align: right;\n",
       "    }\n",
       "</style>\n",
       "<table border=\"1\" class=\"dataframe\">\n",
       "  <thead>\n",
       "    <tr style=\"text-align: right;\">\n",
       "      <th></th>\n",
       "      <th>x1</th>\n",
       "      <th>x2</th>\n",
       "      <th>x3</th>\n",
       "      <th>0</th>\n",
       "      <th>1</th>\n",
       "      <th>2</th>\n",
       "      <th>3</th>\n",
       "      <th>4</th>\n",
       "      <th>5</th>\n",
       "      <th>6</th>\n",
       "      <th>7</th>\n",
       "      <th>8</th>\n",
       "    </tr>\n",
       "  </thead>\n",
       "  <tbody>\n",
       "    <tr>\n",
       "      <th>0</th>\n",
       "      <td>0.191519</td>\n",
       "      <td>0.883951</td>\n",
       "      <td>0.401106</td>\n",
       "      <td>0.191519</td>\n",
       "      <td>0.036680</td>\n",
       "      <td>0.007025</td>\n",
       "      <td>0.883951</td>\n",
       "      <td>0.781370</td>\n",
       "      <td>0.690693</td>\n",
       "      <td>0.401106</td>\n",
       "      <td>0.160886</td>\n",
       "      <td>0.064533</td>\n",
       "    </tr>\n",
       "    <tr>\n",
       "      <th>1</th>\n",
       "      <td>0.622109</td>\n",
       "      <td>0.741361</td>\n",
       "      <td>0.930614</td>\n",
       "      <td>0.622109</td>\n",
       "      <td>0.387019</td>\n",
       "      <td>0.240768</td>\n",
       "      <td>0.741361</td>\n",
       "      <td>0.549615</td>\n",
       "      <td>0.407463</td>\n",
       "      <td>0.930614</td>\n",
       "      <td>0.866043</td>\n",
       "      <td>0.805952</td>\n",
       "    </tr>\n",
       "    <tr>\n",
       "      <th>2</th>\n",
       "      <td>0.437728</td>\n",
       "      <td>0.515711</td>\n",
       "      <td>0.515336</td>\n",
       "      <td>0.437728</td>\n",
       "      <td>0.191606</td>\n",
       "      <td>0.083871</td>\n",
       "      <td>0.515711</td>\n",
       "      <td>0.265958</td>\n",
       "      <td>0.137157</td>\n",
       "      <td>0.515336</td>\n",
       "      <td>0.265571</td>\n",
       "      <td>0.136859</td>\n",
       "    </tr>\n",
       "    <tr>\n",
       "      <th>3</th>\n",
       "      <td>0.785359</td>\n",
       "      <td>0.135252</td>\n",
       "      <td>0.809582</td>\n",
       "      <td>0.785359</td>\n",
       "      <td>0.616788</td>\n",
       "      <td>0.484400</td>\n",
       "      <td>0.135252</td>\n",
       "      <td>0.018293</td>\n",
       "      <td>0.002474</td>\n",
       "      <td>0.809582</td>\n",
       "      <td>0.655423</td>\n",
       "      <td>0.530619</td>\n",
       "    </tr>\n",
       "    <tr>\n",
       "      <th>4</th>\n",
       "      <td>0.779976</td>\n",
       "      <td>0.039884</td>\n",
       "      <td>0.881772</td>\n",
       "      <td>0.779976</td>\n",
       "      <td>0.608362</td>\n",
       "      <td>0.474508</td>\n",
       "      <td>0.039884</td>\n",
       "      <td>0.001591</td>\n",
       "      <td>0.000063</td>\n",
       "      <td>0.881772</td>\n",
       "      <td>0.777522</td>\n",
       "      <td>0.685598</td>\n",
       "    </tr>\n",
       "    <tr>\n",
       "      <th>...</th>\n",
       "      <td>...</td>\n",
       "      <td>...</td>\n",
       "      <td>...</td>\n",
       "      <td>...</td>\n",
       "      <td>...</td>\n",
       "      <td>...</td>\n",
       "      <td>...</td>\n",
       "      <td>...</td>\n",
       "      <td>...</td>\n",
       "      <td>...</td>\n",
       "      <td>...</td>\n",
       "      <td>...</td>\n",
       "    </tr>\n",
       "    <tr>\n",
       "      <th>495</th>\n",
       "      <td>0.267568</td>\n",
       "      <td>0.995838</td>\n",
       "      <td>0.202188</td>\n",
       "      <td>0.267568</td>\n",
       "      <td>0.071593</td>\n",
       "      <td>0.019156</td>\n",
       "      <td>0.995838</td>\n",
       "      <td>0.991694</td>\n",
       "      <td>0.987567</td>\n",
       "      <td>0.202188</td>\n",
       "      <td>0.040880</td>\n",
       "      <td>0.008265</td>\n",
       "    </tr>\n",
       "    <tr>\n",
       "      <th>496</th>\n",
       "      <td>0.932827</td>\n",
       "      <td>0.944205</td>\n",
       "      <td>0.372405</td>\n",
       "      <td>0.932827</td>\n",
       "      <td>0.870166</td>\n",
       "      <td>0.811714</td>\n",
       "      <td>0.944205</td>\n",
       "      <td>0.891522</td>\n",
       "      <td>0.841779</td>\n",
       "      <td>0.372405</td>\n",
       "      <td>0.138686</td>\n",
       "      <td>0.051647</td>\n",
       "    </tr>\n",
       "    <tr>\n",
       "      <th>497</th>\n",
       "      <td>0.826145</td>\n",
       "      <td>0.131144</td>\n",
       "      <td>0.173656</td>\n",
       "      <td>0.826145</td>\n",
       "      <td>0.682516</td>\n",
       "      <td>0.563857</td>\n",
       "      <td>0.131144</td>\n",
       "      <td>0.017199</td>\n",
       "      <td>0.002256</td>\n",
       "      <td>0.173656</td>\n",
       "      <td>0.030156</td>\n",
       "      <td>0.005237</td>\n",
       "    </tr>\n",
       "    <tr>\n",
       "      <th>498</th>\n",
       "      <td>0.145443</td>\n",
       "      <td>0.518355</td>\n",
       "      <td>0.345234</td>\n",
       "      <td>0.145443</td>\n",
       "      <td>0.021154</td>\n",
       "      <td>0.003077</td>\n",
       "      <td>0.518355</td>\n",
       "      <td>0.268692</td>\n",
       "      <td>0.139278</td>\n",
       "      <td>0.345234</td>\n",
       "      <td>0.119186</td>\n",
       "      <td>0.041147</td>\n",
       "    </tr>\n",
       "    <tr>\n",
       "      <th>499</th>\n",
       "      <td>0.647004</td>\n",
       "      <td>0.477245</td>\n",
       "      <td>0.567738</td>\n",
       "      <td>0.647004</td>\n",
       "      <td>0.418614</td>\n",
       "      <td>0.270845</td>\n",
       "      <td>0.477245</td>\n",
       "      <td>0.227763</td>\n",
       "      <td>0.108699</td>\n",
       "      <td>0.567738</td>\n",
       "      <td>0.322327</td>\n",
       "      <td>0.182997</td>\n",
       "    </tr>\n",
       "  </tbody>\n",
       "</table>\n",
       "<p>500 rows × 12 columns</p>\n",
       "</div>"
      ],
      "text/plain": [
       "           x1        x2        x3         0         1         2         3  \\\n",
       "0    0.191519  0.883951  0.401106  0.191519  0.036680  0.007025  0.883951   \n",
       "1    0.622109  0.741361  0.930614  0.622109  0.387019  0.240768  0.741361   \n",
       "2    0.437728  0.515711  0.515336  0.437728  0.191606  0.083871  0.515711   \n",
       "3    0.785359  0.135252  0.809582  0.785359  0.616788  0.484400  0.135252   \n",
       "4    0.779976  0.039884  0.881772  0.779976  0.608362  0.474508  0.039884   \n",
       "..        ...       ...       ...       ...       ...       ...       ...   \n",
       "495  0.267568  0.995838  0.202188  0.267568  0.071593  0.019156  0.995838   \n",
       "496  0.932827  0.944205  0.372405  0.932827  0.870166  0.811714  0.944205   \n",
       "497  0.826145  0.131144  0.173656  0.826145  0.682516  0.563857  0.131144   \n",
       "498  0.145443  0.518355  0.345234  0.145443  0.021154  0.003077  0.518355   \n",
       "499  0.647004  0.477245  0.567738  0.647004  0.418614  0.270845  0.477245   \n",
       "\n",
       "            4         5         6         7         8  \n",
       "0    0.781370  0.690693  0.401106  0.160886  0.064533  \n",
       "1    0.549615  0.407463  0.930614  0.866043  0.805952  \n",
       "2    0.265958  0.137157  0.515336  0.265571  0.136859  \n",
       "3    0.018293  0.002474  0.809582  0.655423  0.530619  \n",
       "4    0.001591  0.000063  0.881772  0.777522  0.685598  \n",
       "..        ...       ...       ...       ...       ...  \n",
       "495  0.991694  0.987567  0.202188  0.040880  0.008265  \n",
       "496  0.891522  0.841779  0.372405  0.138686  0.051647  \n",
       "497  0.017199  0.002256  0.173656  0.030156  0.005237  \n",
       "498  0.268692  0.139278  0.345234  0.119186  0.041147  \n",
       "499  0.227763  0.108699  0.567738  0.322327  0.182997  \n",
       "\n",
       "[500 rows x 12 columns]"
      ]
     },
     "execution_count": 35,
     "metadata": {},
     "output_type": "execute_result"
    }
   ],
   "source": [
    "pd.concat([X, pd.DataFrame(trans)], axis=1)"
   ]
  },
  {
   "cell_type": "markdown",
   "metadata": {
    "cell_id": "00082-d0a10e37-a5d8-4710-9079-2af9e670eeef",
    "deepnote_cell_type": "markdown"
   },
   "source": [
    "A `ColumnTransformer` is like any other transformer and can therefore be included in a pipeline, this enables us to create a pipeline for fitting our desired polynomial regression model (with no interaction terms). Since the polynomial features no longer include an intercept, we can add this back to the model with `fit_intercept=True` in the linear regression step."
   ]
  },
  {
   "cell_type": "code",
   "execution_count": null,
   "metadata": {
    "cell_id": "00083-b3b392dc-3583-4641-8e70-dd13b80d34af",
    "deepnote_cell_type": "code",
    "deepnote_to_be_reexecuted": false,
    "execution_millis": 1,
    "execution_start": 1612366047532,
    "output_cleared": true,
    "source_hash": "8bcba12d"
   },
   "outputs": [],
   "source": [
    "m2 = make_pipeline(\n",
    "    make_column_transformer(\n",
    "        (PolynomialFeatures(degree=3, include_bias=False), ['x1']),\n",
    "        (PolynomialFeatures(degree=3, include_bias=False), ['x2']),\n",
    "        (PolynomialFeatures(degree=3, include_bias=False), ['x3']),\n",
    "    ),\n",
    "    LinearRegression(fit_intercept=True)\n",
    ")\n",
    "\n",
    "fit = m2.fit(X, y)"
   ]
  },
  {
   "cell_type": "markdown",
   "metadata": {
    "cell_id": "00084-3b1ebab4-b0bc-4162-a5b4-d9560d2e74d2",
    "deepnote_cell_type": "markdown"
   },
   "source": [
    "We can examine the fitted values of the coefficients by accessing the `linearregression` step and its `coef_` and `intercept_` attributes."
   ]
  },
  {
   "cell_type": "code",
   "execution_count": null,
   "metadata": {
    "cell_id": "00085-87ebbf54-19e9-4213-8248-ccec75a2c9ad",
    "deepnote_cell_type": "code",
    "deepnote_to_be_reexecuted": false,
    "execution_millis": 23,
    "execution_start": 1612366047536,
    "output_cleared": false,
    "source_hash": "cfb14455"
   },
   "outputs": [
    {
     "data": {
      "text/plain": [
       "array([ 1.59319047, -0.60142411,  0.30713487, -0.47485212,  1.45500567,\n",
       "        0.61273406, -4.97657888,  0.05251414,  2.07979504])"
      ]
     },
     "execution_count": 37,
     "metadata": {},
     "output_type": "execute_result"
    }
   ],
   "source": [
    "fit.named_steps['linearregression'].coef_"
   ]
  },
  {
   "cell_type": "code",
   "execution_count": null,
   "metadata": {
    "cell_id": "00086-5913ba8d-a2e5-4d8d-af7b-c1c035476d53",
    "deepnote_cell_type": "code",
    "deepnote_to_be_reexecuted": false,
    "execution_millis": 17,
    "execution_start": 1612366047554,
    "output_cleared": false,
    "source_hash": "26e647c2"
   },
   "outputs": [
    {
     "data": {
      "text/plain": [
       "0.5121273713472773"
      ]
     },
     "execution_count": 38,
     "metadata": {},
     "output_type": "execute_result"
    }
   ],
   "source": [
    "fit.named_steps['linearregression'].intercept_"
   ]
  },
  {
   "cell_type": "markdown",
   "metadata": {
    "cell_id": "00087-c4e5a526-ad00-49ef-84d3-48d4b460dd25",
    "deepnote_cell_type": "markdown"
   },
   "source": [
    "Instead of directly fitting, we can also use this pipeline with cross validation functions like `cross_val_score` to obtain a more reliable estimate of our model's rmses."
   ]
  },
  {
   "cell_type": "code",
   "execution_count": null,
   "metadata": {
    "cell_id": "00088-3a9351c3-83e5-4203-b590-be2a85af00e0",
    "deepnote_cell_type": "code",
    "deepnote_to_be_reexecuted": false,
    "execution_millis": 61,
    "execution_start": 1612366047611,
    "output_cleared": false,
    "source_hash": "4cd6d299"
   },
   "outputs": [
    {
     "name": "stdout",
     "output_type": "stream",
     "text": [
      "[-0.26494573 -0.27297603 -0.23030777 -0.22129478 -0.2645753 ]\n",
      "-0.25081992382431384\n"
     ]
    }
   ],
   "source": [
    "cv = cross_val_score(m2, X, y, cv=5, scoring=\"neg_root_mean_squared_error\")\n",
    "\n",
    "print(cv)\n",
    "print(cv.mean())"
   ]
  },
  {
   "cell_type": "markdown",
   "metadata": {
    "cell_id": "00089-69aa3093-17cf-4169-b46e-c2d8740cbcfd",
    "deepnote_cell_type": "markdown"
   },
   "source": [
    "---\n",
    "\n",
    "### &diams; Exercise 12\n",
    "\n",
    "Is this rmse better or worse than the rmse calculated for the original model that included interactions? Explain why you think this is."
   ]
  },
  {
   "cell_type": "markdown",
   "metadata": {
    "cell_id": "00090-3961e74e-b1d7-42b1-8789-918d8ace2f79",
    "deepnote_cell_type": "markdown"
   },
   "source": [
    "*The average rmse is very slightly better, the extra parameters from the interactions does not appear \n",
    "to have improved the overall model fit. This makes sense as $x_1$, $x_2$, and $x_3$ are independent.*"
   ]
  },
  {
   "cell_type": "markdown",
   "metadata": {
    "cell_id": "00091-0fc2eaf8-6ed1-40f0-b01e-8af7d5a8aad9",
    "deepnote_cell_type": "markdown"
   },
   "source": [
    "---\n",
    "\n",
    "## 3.3 Column Transformers & CV Grid Search\n",
    "\n",
    "Finally we will see if we can come close to recovering the original forms of $f()$, $g()$, and $h()$ using `GridSearchCV`.  This builds on our previous use of this function, but now we need to optimize over the degree parameter of all three of the polynomial feature transformers. We can examine the names of these transforms by examining the `named_transformers_` attribute associated with the `columntransformer`,"
   ]
  },
  {
   "cell_type": "code",
   "execution_count": null,
   "metadata": {
    "cell_id": "00092-c94864c0-4d94-4e57-9ddb-be5c253513bf",
    "deepnote_cell_type": "code",
    "deepnote_to_be_reexecuted": false,
    "execution_millis": 11,
    "execution_start": 1612366047691,
    "output_cleared": false,
    "source_hash": "43511287"
   },
   "outputs": [
    {
     "data": {
      "text/plain": [
       "{'polynomialfeatures-1': PolynomialFeatures(degree=3, include_bias=False),\n",
       " 'polynomialfeatures-2': PolynomialFeatures(degree=3, include_bias=False),\n",
       " 'polynomialfeatures-3': PolynomialFeatures(degree=3, include_bias=False)}"
      ]
     },
     "execution_count": 40,
     "metadata": {},
     "output_type": "execute_result"
    }
   ],
   "source": [
    "m2.named_steps['columntransformer'].named_transformers_"
   ]
  },
  {
   "cell_type": "markdown",
   "metadata": {
    "cell_id": "00093-16e755ab-01db-405c-aec0-5584b928c902",
    "deepnote_cell_type": "markdown"
   },
   "source": [
    "This gives us the transformer names: `polynomialfeatures-1`, `polynomialfeatures-2`, and `polynomialfeatures-3` which are referenced in the same way by combining the step name with the transformer name and then the parameter name separated by `__`. As such, the degree parameter for the first transformer will be `columntransformer__polynomialfeatures-1__degree`. It is also possible to view all of the parameters for a model or pipeline by looking at the keys returns by the `get_params` method."
   ]
  },
  {
   "cell_type": "code",
   "execution_count": null,
   "metadata": {
    "cell_id": "00094-58cf93ba-82c3-4b94-9c20-50c7cd992317",
    "deepnote_cell_type": "code",
    "deepnote_to_be_reexecuted": false,
    "execution_millis": 10,
    "execution_start": 1612366047692,
    "output_cleared": false,
    "source_hash": "4b343cd7"
   },
   "outputs": [
    {
     "data": {
      "text/plain": [
       "dict_keys(['memory', 'steps', 'verbose', 'columntransformer', 'linearregression', 'columntransformer__n_jobs', 'columntransformer__remainder', 'columntransformer__sparse_threshold', 'columntransformer__transformer_weights', 'columntransformer__transformers', 'columntransformer__verbose', 'columntransformer__polynomialfeatures-1', 'columntransformer__polynomialfeatures-2', 'columntransformer__polynomialfeatures-3', 'columntransformer__polynomialfeatures-1__degree', 'columntransformer__polynomialfeatures-1__include_bias', 'columntransformer__polynomialfeatures-1__interaction_only', 'columntransformer__polynomialfeatures-1__order', 'columntransformer__polynomialfeatures-2__degree', 'columntransformer__polynomialfeatures-2__include_bias', 'columntransformer__polynomialfeatures-2__interaction_only', 'columntransformer__polynomialfeatures-2__order', 'columntransformer__polynomialfeatures-3__degree', 'columntransformer__polynomialfeatures-3__include_bias', 'columntransformer__polynomialfeatures-3__interaction_only', 'columntransformer__polynomialfeatures-3__order', 'linearregression__copy_X', 'linearregression__fit_intercept', 'linearregression__n_jobs', 'linearregression__normalize', 'linearregression__positive'])"
      ]
     },
     "execution_count": 41,
     "metadata": {},
     "output_type": "execute_result"
    }
   ],
   "source": [
    "m2.get_params().keys()"
   ]
  },
  {
   "cell_type": "markdown",
   "metadata": {
    "cell_id": "00095-18161060-1971-4d93-b5c4-97e09ff67f50",
    "deepnote_cell_type": "markdown"
   },
   "source": [
    "To keep the space of parameters being explored reasonable we will restrict the possible value of the degrees parameter to be in $[1,\\ldots,5]$. This may take a little bit as we are now fitting a decently large number of models."
   ]
  },
  {
   "cell_type": "code",
   "execution_count": null,
   "metadata": {
    "cell_id": "00096-98000146-9621-4249-a6b2-04d226605425",
    "deepnote_cell_type": "code",
    "deepnote_to_be_reexecuted": false,
    "execution_millis": 6368,
    "execution_start": 1612366047694,
    "output_cleared": true,
    "source_hash": "3cddb4ba"
   },
   "outputs": [],
   "source": [
    "parameters = {\n",
    "    'columntransformer__polynomialfeatures-1__degree': np.arange(1,5,1),\n",
    "    'columntransformer__polynomialfeatures-2__degree': np.arange(1,5,1),\n",
    "    'columntransformer__polynomialfeatures-3__degree': np.arange(1,5,1),\n",
    "}\n",
    "\n",
    "kf = KFold(n_splits=5, shuffle=True, random_state=0)\n",
    "\n",
    "grid_search = GridSearchCV(m2, parameters, cv=kf, scoring=\"neg_root_mean_squared_error\").fit(X, y)"
   ]
  },
  {
   "cell_type": "markdown",
   "metadata": {
    "cell_id": "00097-ac45301c-6bbd-4f63-9640-b5db92963df1",
    "deepnote_cell_type": "markdown"
   },
   "source": [
    "---\n",
    "\n",
    "### &diams; Exercise 13\n",
    "\n",
    "How many models have been fit and scored by `GridSearchCV`?"
   ]
  },
  {
   "cell_type": "markdown",
   "metadata": {
    "cell_id": "00098-ea57bfd8-f37f-41ba-b2f6-98b0ee5a0258",
    "deepnote_cell_type": "markdown"
   },
   "source": [
    "*The code as provided actually only fits models with degrees between 1 and 4 so in that case\n",
    "we are testing $4 \\times 4 \\times 4$ different degree values, and for each there are 5 folds - so \n",
    "there are $4^3 * 5 = 320$ models being fit.*\n",
    "\n",
    "*If we had correctly set the parameter ranges to $[1,2,3,4,5]$ then there would have been $5^4 = 625$ models fit.*\n",
    "\n"
   ]
  },
  {
   "cell_type": "markdown",
   "metadata": {
    "cell_id": "00099-373d648f-aa87-4b00-9722-2e39d2ea6708",
    "deepnote_cell_type": "markdown"
   },
   "source": [
    "---\n",
    "\n",
    "Once fit, we can determine the optimal parameter value by accessing `grid_search`'s attributes,"
   ]
  },
  {
   "cell_type": "code",
   "execution_count": null,
   "metadata": {
    "cell_id": "00100-8e303b0b-dc5b-4a29-a711-722a26a52041",
    "deepnote_cell_type": "code",
    "deepnote_to_be_reexecuted": false,
    "execution_start": 1612366054065,
    "output_cleared": false,
    "source_hash": "a05845bb"
   },
   "outputs": [
    {
     "name": "stdout",
     "output_type": "stream",
     "text": [
      "best index:  10\n",
      "best param:  {'columntransformer__polynomialfeatures-1__degree': 1, 'columntransformer__polynomialfeatures-2__degree': 3, 'columntransformer__polynomialfeatures-3__degree': 3}\n",
      "best score:  -0.24827845229249973\n"
     ]
    }
   ],
   "source": [
    "print(\"best index: \", grid_search.best_index_)\n",
    "print(\"best param: \", grid_search.best_params_)\n",
    "print(\"best score: \", grid_search.best_score_)"
   ]
  },
  {
   "cell_type": "markdown",
   "metadata": {
    "cell_id": "00101-faad4c5a-3516-410a-a300-12793af8e755",
    "deepnote_cell_type": "markdown"
   },
   "source": [
    "---\n",
    "\n",
    "### &diams; Exercise 14\n",
    "\n",
    "Based on these results have we done a good job of recovering the general structure of the functions $f()$, $g()$, and $h()$? e.g. have we correctly recovered the degrees of these functions."
   ]
  },
  {
   "cell_type": "markdown",
   "metadata": {
    "cell_id": "00102-33f82b64-a027-4ace-b4d1-72ae32ece948",
    "deepnote_cell_type": "markdown"
   },
   "source": [
    "*The recovered model is reasonably close to the true model - $f(x)$ is linear, $g(x)$ and $h(x)$ are cubic.*"
   ]
  },
  {
   "cell_type": "markdown",
   "metadata": {
    "cell_id": "00103-38f49527-036d-4328-8b93-0084bb27a402",
    "deepnote_cell_type": "markdown"
   },
   "source": [
    "---\n",
    "\n",
    "We can directly access the properties of the \"best\" model, according to our scoring method, using the `best_estimator_` attribute. From this we can access the `linearregression` step of the pipeline to recover the model coefficients."
   ]
  },
  {
   "cell_type": "code",
   "execution_count": null,
   "metadata": {
    "cell_id": "00104-a21f4363-ee5b-4220-8cab-58e61ec78b7c",
    "deepnote_cell_type": "code",
    "deepnote_to_be_reexecuted": false,
    "execution_millis": 6,
    "execution_start": 1612366054074,
    "output_cleared": false,
    "source_hash": "9d87442e"
   },
   "outputs": [
    {
     "data": {
      "text/plain": [
       "0.547234949864674"
      ]
     },
     "execution_count": 44,
     "metadata": {},
     "output_type": "execute_result"
    }
   ],
   "source": [
    "grid_search.best_estimator_.named_steps[\"linearregression\"].intercept_"
   ]
  },
  {
   "cell_type": "code",
   "execution_count": null,
   "metadata": {
    "cell_id": "00105-f94b6ca3-533f-4a61-a504-7354157512fe",
    "deepnote_cell_type": "code",
    "deepnote_to_be_reexecuted": false,
    "execution_millis": 0,
    "execution_start": 1612366054084,
    "output_cleared": false,
    "source_hash": "d29670ac"
   },
   "outputs": [
    {
     "data": {
      "text/plain": [
       "array([ 1.26880491e+00, -4.80356378e-01,  1.47923181e+00,  5.92674399e-01,\n",
       "       -4.95420711e+00,  2.40266994e-03,  2.11215152e+00])"
      ]
     },
     "execution_count": 45,
     "metadata": {},
     "output_type": "execute_result"
    }
   ],
   "source": [
    "grid_search.best_estimator_.named_steps[\"linearregression\"].coef_"
   ]
  },
  {
   "cell_type": "markdown",
   "metadata": {
    "cell_id": "00106-5da3164f-bbbc-4237-b3c2-3270f25aa6f2",
    "deepnote_cell_type": "markdown"
   },
   "source": [
    "---\n",
    "\n",
    "### &diams; Exercise 15\n",
    "\n",
    "Compare the coefficient values we obtained via `GridSearchCV` to the true values used to generate the $y$ observations, how well have recovered the truth values of the coefficients?"
   ]
  },
  {
   "cell_type": "markdown",
   "metadata": {
    "cell_id": "00107-51406b38-361f-4a07-807f-bd37b55f472f",
    "deepnote_cell_type": "markdown"
   },
   "source": [
    "*While not exactly correct, these values are much closer to the true model than our previous attempt.*\n",
    "\n",
    "*The true model is:*\n",
    "$$\n",
    "\\begin{aligned}\n",
    "f(x) &= 1.2 x + 1.1 \\\\\n",
    "g(x) &= 2.5 x^2 - 0.9 x - 3.2  \\\\\n",
    "h(x) &= 2 x^3 + 0.4 x^2 - 5.2 x + 2.7\n",
    "\\end{aligned}\n",
    "$$\n",
    "\n",
    "\n",
    "*The predicted model is:*\n",
    "$$\n",
    "\\begin{aligned}\n",
    "\\hat{y} = & 0.547 + \\\\\n",
    "          & 1.269x_1 + \\\\ \n",
    "         -& 0.480 x_2 + 1.479 x_2^2 +  0.593 x_2^3 + \\\\\n",
    "         -& 4.954 x_3 + 0.002 x_3^2 +  2.112 x_3^3\n",
    "\\end{aligned}\n",
    "$$\n",
    "\n"
   ]
  },
  {
   "cell_type": "markdown",
   "metadata": {
    "cell_id": "00109-b5bf2493-267b-443f-a0a6-7062d091d5ff",
    "deepnote_cell_type": "markdown",
    "tags": []
   },
   "source": [
    "---\n",
    "\n",
    "## 4. Competing the worksheet\n",
    "\n",
    "At this point you have hopefully been able to complete all the preceeding exercises. Now \n",
    "is a good time to check the reproducibility of this document by restarting the notebook's\n",
    "kernel and rerunning all cells in order.\n",
    "\n",
    "Once that is done and you are happy with everything, you can then run the following cell \n",
    "to generate your PDF and turn it in on gradescope under the `mlp-week04` assignment."
   ]
  },
  {
   "cell_type": "code",
   "execution_count": null,
   "metadata": {
    "cell_id": "00112-0fc6faf7-b9f4-426b-a462-726a2601e149",
    "deepnote_cell_type": "code",
    "deepnote_to_be_reexecuted": false,
    "execution_millis": 15654,
    "execution_start": 1612366054131,
    "output_cleared": false,
    "source_hash": "950a0210",
    "tags": []
   },
   "outputs": [
    {
     "name": "stdout",
     "output_type": "stream",
     "text": [
      "[NbConvertApp] Converting notebook mlp-week04.ipynb to pdf\n",
      "[NbConvertApp] Support files will be in mlp-week04_files/\n",
      "[NbConvertApp] Making directory ./mlp-week04_files\n",
      "[NbConvertApp] Making directory ./mlp-week04_files\n",
      "[NbConvertApp] Making directory ./mlp-week04_files\n",
      "[NbConvertApp] Making directory ./mlp-week04_files\n",
      "[NbConvertApp] Making directory ./mlp-week04_files\n",
      "[NbConvertApp] Making directory ./mlp-week04_files\n",
      "[NbConvertApp] Writing 95147 bytes to notebook.tex\n",
      "[NbConvertApp] Building PDF\n",
      "[NbConvertApp] Running xelatex 3 times: ['xelatex', 'notebook.tex', '-quiet']\n",
      "[NbConvertApp] Running bibtex 1 time: ['bibtex', 'notebook']\n",
      "[NbConvertApp] WARNING | bibtex had problems, most likely because there were no citations\n",
      "[NbConvertApp] PDF successfully created\n",
      "[NbConvertApp] Writing 439566 bytes to mlp-week04.pdf\n"
     ]
    }
   ],
   "source": [
    "!jupyter nbconvert --to pdf mlp-week04.ipynb"
   ]
  },
  {
   "cell_type": "markdown",
   "metadata": {
    "created_in_deepnote_cell": true,
    "deepnote_cell_type": "markdown",
    "tags": []
   },
   "source": [
    "<a style='text-decoration:none;line-height:16px;display:flex;color:#5B5B62;padding:10px;justify-content:end;' href='https://deepnote.com?utm_source=created-in-deepnote-cell&projectId=0da86d75-479e-4f01-8931-f4f109181a50' target=\"_blank\">\n",
    "<img style='display:inline;max-height:16px;margin:0px;margin-right:7.5px;' src='data:image/svg+xml;base64,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' > </img>\n",
    "Created in <span style='font-weight:600;margin-left:4px;'>Deepnote</span></a>"
   ]
  }
 ],
 "metadata": {
  "deepnote": {},
  "deepnote_execution_queue": [],
  "deepnote_notebook_id": "5023007d-9528-4a57-b3df-4db60e744e23",
  "kernelspec": {
   "display_name": "Python 3",
   "language": "python",
   "name": "python3"
  },
  "language_info": {
   "codemirror_mode": {
    "name": "ipython",
    "version": 3
   },
   "file_extension": ".py",
   "mimetype": "text/x-python",
   "name": "python",
   "nbconvert_exporter": "python",
   "pygments_lexer": "ipython3",
   "version": "3.8.3"
  }
 },
 "nbformat": 4,
 "nbformat_minor": 4
}
