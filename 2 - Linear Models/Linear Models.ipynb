{
 "cells": [
  {
   "cell_type": "markdown",
   "metadata": {
    "cell_id": "00000-34f9557d-8f15-494e-8d65-74c8ae429c5c",
    "deepnote_cell_type": "markdown"
   },
   "source": [
    "# Machine Learning in Python - Workshop 2 (KEY)"
   ]
  },
  {
   "cell_type": "markdown",
   "metadata": {
    "cell_id": "00001-645a25eb-6010-425a-88c0-ecf0093a9edc",
    "deepnote_cell_type": "markdown"
   },
   "source": [
    "## 1. Setup\n",
    "\n",
    "### 1.1 Packages\n",
    "In the cell below we will load the core libraries we will be using for this workshop and setting some sensible defaults for our plot size and resolution."
   ]
  },
  {
   "cell_type": "code",
   "execution_count": null,
   "metadata": {
    "cell_id": "00002-d0af5d8f-8894-4c5a-b754-353993666790",
    "deepnote_cell_type": "code",
    "deepnote_to_be_reexecuted": false,
    "execution_millis": 681,
    "execution_start": 1611238685226,
    "output_cleared": false,
    "source_hash": "46891e4d"
   },
   "outputs": [],
   "source": [
    "# Display plots inline\n",
    "%matplotlib inline\n",
    "\n",
    "# Data libraries\n",
    "import pandas as pd\n",
    "import numpy as np\n",
    "\n",
    "# Plotting libraries\n",
    "import matplotlib.pyplot as plt\n",
    "import seaborn as sns\n",
    "\n",
    "# Plotting defaults\n",
    "plt.rcParams['figure.figsize'] = (8,5)\n",
    "plt.rcParams['figure.dpi'] = 80"
   ]
  },
  {
   "cell_type": "markdown",
   "metadata": {
    "cell_id": "00003-90709695-8746-4669-9199-fd144a6ec872",
    "deepnote_cell_type": "markdown"
   },
   "source": [
    "### 1.2 Data\n",
    "\n",
    "To begin, we will examine a simple data set on the size and weight of a number of books. These data come from the `allbacks` data set from the `DAAG` package in R. Our goal is to model the weight of a book using some combination of the other features in the data. The included columns are as follows:\n",
    "\n",
    "* `volume` - book volumes in cubic centimeters\n",
    "* `area` - hard board cover areas in square centimeters\n",
    "* `weight` - book weights in grams\n",
    "* `cover` - a factor with levels `\"hb\"` hardback, `\"pb\"` paperback\n",
    "\n",
    "We read the data into python using pandas,"
   ]
  },
  {
   "cell_type": "code",
   "execution_count": null,
   "metadata": {
    "cell_id": "00004-a7f234aa-3b37-4fda-937b-9e437a814ec1",
    "deepnote_cell_type": "code",
    "deepnote_to_be_reexecuted": false,
    "execution_millis": 9,
    "execution_start": 1611238685934,
    "output_cleared": false,
    "source_hash": "27bc28ad"
   },
   "outputs": [
    {
     "data": {
      "application/vnd.deepnote.dataframe.v2+json": {
       "column_count": 4,
       "columns": [
        {
         "dtype": "int64",
         "name": "volume",
         "stats": {
          "histogram": [
           {
            "bin_end": 364.3,
            "bin_start": 239,
            "count": 1
           },
           {
            "bin_end": 489.6,
            "bin_start": 364.3,
            "count": 2
           },
           {
            "bin_end": 614.9,
            "bin_start": 489.6,
            "count": 1
           },
           {
            "bin_end": 740.2,
            "bin_start": 614.9,
            "count": 2
           },
           {
            "bin_end": 865.5,
            "bin_start": 740.2,
            "count": 0
           },
           {
            "bin_end": 990.8,
            "bin_start": 865.5,
            "count": 3
           },
           {
            "bin_end": 1116.1,
            "bin_start": 990.8,
            "count": 3
           },
           {
            "bin_end": 1241.4,
            "bin_start": 1116.1,
            "count": 2
           },
           {
            "bin_end": 1366.7,
            "bin_start": 1241.4,
            "count": 0
           },
           {
            "bin_end": 1492,
            "bin_start": 1366.7,
            "count": 1
           }
          ],
          "max": 1492,
          "min": 239,
          "nan_count": 0,
          "unique_count": 15
         }
        },
        {
         "dtype": "int64",
         "name": "area",
         "stats": {
          "histogram": [
           {
            "bin_end": 46.8,
            "bin_start": 0,
            "count": 8
           },
           {
            "bin_end": 93.6,
            "bin_start": 46.8,
            "count": 0
           },
           {
            "bin_end": 140.39999999999998,
            "bin_start": 93.6,
            "count": 0
           },
           {
            "bin_end": 187.2,
            "bin_start": 140.39999999999998,
            "count": 0
           },
           {
            "bin_end": 234,
            "bin_start": 187.2,
            "count": 0
           },
           {
            "bin_end": 280.79999999999995,
            "bin_start": 234,
            "count": 0
           },
           {
            "bin_end": 327.59999999999997,
            "bin_start": 280.79999999999995,
            "count": 0
           },
           {
            "bin_end": 374.4,
            "bin_start": 327.59999999999997,
            "count": 3
           },
           {
            "bin_end": 421.2,
            "bin_start": 374.4,
            "count": 3
           },
           {
            "bin_end": 468,
            "bin_start": 421.2,
            "count": 1
           }
          ],
          "max": 468,
          "min": 0,
          "nan_count": 0,
          "unique_count": 7
         }
        },
        {
         "dtype": "int64",
         "name": "weight",
         "stats": {
          "histogram": [
           {
            "bin_end": 332.5,
            "bin_start": 250,
            "count": 1
           },
           {
            "bin_end": 415,
            "bin_start": 332.5,
            "count": 2
           },
           {
            "bin_end": 497.5,
            "bin_start": 415,
            "count": 1
           },
           {
            "bin_end": 580,
            "bin_start": 497.5,
            "count": 0
           },
           {
            "bin_end": 662.5,
            "bin_start": 580,
            "count": 2
           },
           {
            "bin_end": 745,
            "bin_start": 662.5,
            "count": 2
           },
           {
            "bin_end": 827.5,
            "bin_start": 745,
            "count": 2
           },
           {
            "bin_end": 910,
            "bin_start": 827.5,
            "count": 0
           },
           {
            "bin_end": 992.5,
            "bin_start": 910,
            "count": 3
           },
           {
            "bin_end": 1075,
            "bin_start": 992.5,
            "count": 2
           }
          ],
          "max": 1075,
          "min": 250,
          "nan_count": 0,
          "unique_count": 13
         }
        },
        {
         "dtype": "object",
         "name": "cover",
         "stats": {
          "categories": [
           {
            "count": 8,
            "name": "pb"
           },
           {
            "count": 7,
            "name": "hb"
           }
          ],
          "nan_count": 0,
          "unique_count": 2
         }
        },
        {
         "dtype": "int64",
         "name": "_deepnote_index_column"
        }
       ],
       "row_count": 15,
       "rows_bottom": null,
       "rows_top": [
        {
         "_deepnote_index_column": 0,
         "area": 382,
         "cover": "hb",
         "volume": 885,
         "weight": 800
        },
        {
         "_deepnote_index_column": 1,
         "area": 468,
         "cover": "hb",
         "volume": 1016,
         "weight": 950
        },
        {
         "_deepnote_index_column": 2,
         "area": 387,
         "cover": "hb",
         "volume": 1125,
         "weight": 1050
        },
        {
         "_deepnote_index_column": 3,
         "area": 371,
         "cover": "hb",
         "volume": 239,
         "weight": 350
        },
        {
         "_deepnote_index_column": 4,
         "area": 371,
         "cover": "hb",
         "volume": 701,
         "weight": 750
        },
        {
         "_deepnote_index_column": 5,
         "area": 367,
         "cover": "hb",
         "volume": 641,
         "weight": 600
        },
        {
         "_deepnote_index_column": 6,
         "area": 396,
         "cover": "hb",
         "volume": 1228,
         "weight": 1075
        },
        {
         "_deepnote_index_column": 7,
         "area": 0,
         "cover": "pb",
         "volume": 412,
         "weight": 250
        },
        {
         "_deepnote_index_column": 8,
         "area": 0,
         "cover": "pb",
         "volume": 953,
         "weight": 700
        },
        {
         "_deepnote_index_column": 9,
         "area": 0,
         "cover": "pb",
         "volume": 929,
         "weight": 650
        },
        {
         "_deepnote_index_column": 10,
         "area": 0,
         "cover": "pb",
         "volume": 1492,
         "weight": 975
        },
        {
         "_deepnote_index_column": 11,
         "area": 0,
         "cover": "pb",
         "volume": 419,
         "weight": 350
        },
        {
         "_deepnote_index_column": 12,
         "area": 0,
         "cover": "pb",
         "volume": 1010,
         "weight": 950
        },
        {
         "_deepnote_index_column": 13,
         "area": 0,
         "cover": "pb",
         "volume": 595,
         "weight": 425
        },
        {
         "_deepnote_index_column": 14,
         "area": 0,
         "cover": "pb",
         "volume": 1034,
         "weight": 725
        }
       ]
      },
      "text/html": [
       "<div>\n",
       "<style scoped>\n",
       "    .dataframe tbody tr th:only-of-type {\n",
       "        vertical-align: middle;\n",
       "    }\n",
       "\n",
       "    .dataframe tbody tr th {\n",
       "        vertical-align: top;\n",
       "    }\n",
       "\n",
       "    .dataframe thead th {\n",
       "        text-align: right;\n",
       "    }\n",
       "</style>\n",
       "<table border=\"1\" class=\"dataframe\">\n",
       "  <thead>\n",
       "    <tr style=\"text-align: right;\">\n",
       "      <th></th>\n",
       "      <th>volume</th>\n",
       "      <th>area</th>\n",
       "      <th>weight</th>\n",
       "      <th>cover</th>\n",
       "    </tr>\n",
       "  </thead>\n",
       "  <tbody>\n",
       "    <tr>\n",
       "      <th>0</th>\n",
       "      <td>885</td>\n",
       "      <td>382</td>\n",
       "      <td>800</td>\n",
       "      <td>hb</td>\n",
       "    </tr>\n",
       "    <tr>\n",
       "      <th>1</th>\n",
       "      <td>1016</td>\n",
       "      <td>468</td>\n",
       "      <td>950</td>\n",
       "      <td>hb</td>\n",
       "    </tr>\n",
       "    <tr>\n",
       "      <th>2</th>\n",
       "      <td>1125</td>\n",
       "      <td>387</td>\n",
       "      <td>1050</td>\n",
       "      <td>hb</td>\n",
       "    </tr>\n",
       "    <tr>\n",
       "      <th>3</th>\n",
       "      <td>239</td>\n",
       "      <td>371</td>\n",
       "      <td>350</td>\n",
       "      <td>hb</td>\n",
       "    </tr>\n",
       "    <tr>\n",
       "      <th>4</th>\n",
       "      <td>701</td>\n",
       "      <td>371</td>\n",
       "      <td>750</td>\n",
       "      <td>hb</td>\n",
       "    </tr>\n",
       "    <tr>\n",
       "      <th>5</th>\n",
       "      <td>641</td>\n",
       "      <td>367</td>\n",
       "      <td>600</td>\n",
       "      <td>hb</td>\n",
       "    </tr>\n",
       "    <tr>\n",
       "      <th>6</th>\n",
       "      <td>1228</td>\n",
       "      <td>396</td>\n",
       "      <td>1075</td>\n",
       "      <td>hb</td>\n",
       "    </tr>\n",
       "    <tr>\n",
       "      <th>7</th>\n",
       "      <td>412</td>\n",
       "      <td>0</td>\n",
       "      <td>250</td>\n",
       "      <td>pb</td>\n",
       "    </tr>\n",
       "    <tr>\n",
       "      <th>8</th>\n",
       "      <td>953</td>\n",
       "      <td>0</td>\n",
       "      <td>700</td>\n",
       "      <td>pb</td>\n",
       "    </tr>\n",
       "    <tr>\n",
       "      <th>9</th>\n",
       "      <td>929</td>\n",
       "      <td>0</td>\n",
       "      <td>650</td>\n",
       "      <td>pb</td>\n",
       "    </tr>\n",
       "    <tr>\n",
       "      <th>10</th>\n",
       "      <td>1492</td>\n",
       "      <td>0</td>\n",
       "      <td>975</td>\n",
       "      <td>pb</td>\n",
       "    </tr>\n",
       "    <tr>\n",
       "      <th>11</th>\n",
       "      <td>419</td>\n",
       "      <td>0</td>\n",
       "      <td>350</td>\n",
       "      <td>pb</td>\n",
       "    </tr>\n",
       "    <tr>\n",
       "      <th>12</th>\n",
       "      <td>1010</td>\n",
       "      <td>0</td>\n",
       "      <td>950</td>\n",
       "      <td>pb</td>\n",
       "    </tr>\n",
       "    <tr>\n",
       "      <th>13</th>\n",
       "      <td>595</td>\n",
       "      <td>0</td>\n",
       "      <td>425</td>\n",
       "      <td>pb</td>\n",
       "    </tr>\n",
       "    <tr>\n",
       "      <th>14</th>\n",
       "      <td>1034</td>\n",
       "      <td>0</td>\n",
       "      <td>725</td>\n",
       "      <td>pb</td>\n",
       "    </tr>\n",
       "  </tbody>\n",
       "</table>\n",
       "</div>"
      ],
      "text/plain": [
       "    volume  area  weight cover\n",
       "0      885   382     800    hb\n",
       "1     1016   468     950    hb\n",
       "2     1125   387    1050    hb\n",
       "3      239   371     350    hb\n",
       "4      701   371     750    hb\n",
       "5      641   367     600    hb\n",
       "6     1228   396    1075    hb\n",
       "7      412     0     250    pb\n",
       "8      953     0     700    pb\n",
       "9      929     0     650    pb\n",
       "10    1492     0     975    pb\n",
       "11     419     0     350    pb\n",
       "12    1010     0     950    pb\n",
       "13     595     0     425    pb\n",
       "14    1034     0     725    pb"
      ]
     },
     "execution_count": 2,
     "metadata": {},
     "output_type": "execute_result"
    }
   ],
   "source": [
    "books = pd.read_csv(\"daag_books.csv\")\n",
    "books"
   ]
  },
  {
   "cell_type": "markdown",
   "metadata": {
    "cell_id": "00005-da6d5f4b-bf6b-43f7-9751-a015e6a9924e",
    "deepnote_cell_type": "markdown"
   },
   "source": [
    "---\n",
    "\n",
    "### &diams; Exercise 1\n",
    "\n",
    "Create a pairs plot of these data (make sure to include the `cover` column), describe any relationships you observe in the data."
   ]
  },
  {
   "cell_type": "code",
   "execution_count": null,
   "metadata": {
    "cell_id": "00006-4d9907ea-c7c7-4c16-aee7-5e12c3e00cc1",
    "deepnote_cell_type": "code",
    "deepnote_to_be_reexecuted": false,
    "execution_millis": 2717,
    "execution_start": 1611238685955,
    "output_cleared": false,
    "source_hash": "ec48cfde"
   },
   "outputs": [
    {
     "name": "stderr",
     "output_type": "stream",
     "text": [
      "/opt/venv/lib/python3.7/site-packages/seaborn/distributions.py:306: UserWarning: Dataset has 0 variance; skipping density estimate.\n",
      "  warnings.warn(msg, UserWarning)\n"
     ]
    },
    {
     "data": {
      "text/plain": [
       "<seaborn.axisgrid.PairGrid at 0x7f5d6e254ed0>"
      ]
     },
     "execution_count": 3,
     "metadata": {},
     "output_type": "execute_result"
    },
    {
     "data": {
      "image/png": "[encoded data removed]",
      "text/plain": [
       "<Figure size 654.125x600 with 12 Axes>"
      ]
     },
     "metadata": {
      "needs_background": "light"
     },
     "output_type": "display_data"
    }
   ],
   "source": [
    "sns.pairplot(data = books, hue = \"cover\")"
   ]
  },
  {
   "cell_type": "markdown",
   "metadata": {
    "cell_id": "00007-c6746a02-0fd7-4602-ab92-14d7a2cd658c",
    "deepnote_cell_type": "markdown",
    "tags": []
   },
   "source": [
    "Weight and volume seem to be linearly related for both types of books. Paperback books do not seem to have \n",
    "an area listed (all values are 0). Hardcover books seem to weigh more than paperback books."
   ]
  },
  {
   "cell_type": "markdown",
   "metadata": {
    "cell_id": "00007-a3d1594c-000b-48dd-b347-dfa5410fe0a7",
    "deepnote_cell_type": "markdown"
   },
   "source": [
    "---"
   ]
  },
  {
   "cell_type": "markdown",
   "metadata": {
    "cell_id": "00008-7d871b29-2a08-4b7f-8421-d36b23056000",
    "deepnote_cell_type": "markdown"
   },
   "source": [
    "## 1. Regression"
   ]
  },
  {
   "cell_type": "markdown",
   "metadata": {
    "cell_id": "00009-ca8096af-6bc2-4bf1-aea6-19d55952f208",
    "deepnote_cell_type": "markdown"
   },
   "source": [
    "We will begin by fitting a simple linear regression model for `weight` exclusively using `volume` as a feature in our model. "
   ]
  },
  {
   "cell_type": "markdown",
   "metadata": {
    "cell_id": "00010-92e05d0b-dedd-444b-a9f3-df423c4b0e70",
    "deepnote_cell_type": "markdown"
   },
   "source": [
    "---\n",
    "\n",
    "### &diams; Exercise 2\n",
    "\n",
    "Create a scatter plot of these data describe any apparent relationship between `weight` and `volume`."
   ]
  },
  {
   "cell_type": "code",
   "execution_count": null,
   "metadata": {
    "cell_id": "00011-abd9df3c-dd0b-43bc-a4b4-4369e7a9cc3e",
    "deepnote_cell_type": "code",
    "deepnote_to_be_reexecuted": false,
    "execution_millis": 218,
    "execution_start": 1611238688783,
    "output_cleared": false,
    "source_hash": "6e527132"
   },
   "outputs": [
    {
     "data": {
      "text/plain": [
       "<AxesSubplot:xlabel='volume', ylabel='weight'>"
      ]
     },
     "execution_count": 4,
     "metadata": {},
     "output_type": "execute_result"
    },
    {
     "data": {
      "image/png": "[encoded data removed]",
      "text/plain": [
       "<Figure size 640x400 with 1 Axes>"
      ]
     },
     "metadata": {
      "needs_background": "light"
     },
     "output_type": "display_data"
    }
   ],
   "source": [
    "sns.scatterplot(x=\"volume\", y=\"weight\", hue=\"cover\", data=books)"
   ]
  },
  {
   "cell_type": "markdown",
   "metadata": {
    "cell_id": "00012-63b4a2f0-021b-4255-871c-415d2730d90b",
    "deepnote_cell_type": "markdown"
   },
   "source": [
    "---"
   ]
  },
  {
   "cell_type": "markdown",
   "metadata": {
    "cell_id": "00013-6f049218-7709-422f-9a61-d6b2fd6da8da",
    "deepnote_cell_type": "markdown"
   },
   "source": [
    "### 1.1 Least Squares"
   ]
  },
  {
   "cell_type": "markdown",
   "metadata": {
    "cell_id": "00014-fbc0c5b1-65c6-41e3-b85a-6000792a1342",
    "deepnote_cell_type": "markdown"
   },
   "source": [
    "In lecture we discussed how we can represent a regression problem using matrix notation and we can derive a solution using least squares. We can express this as,\n",
    "\n",
    "$$\n",
    "\\underset{\\boldsymbol{\\beta}}{\\text{argmin}} \\,\\, \\lVert \\boldsymbol{y} - \\boldsymbol{X} \\boldsymbol{\\beta} \\rVert^2 \n",
    "= \\underset{\\boldsymbol{\\beta}}{\\text{argmin}} \\,\\, (\\boldsymbol{y} - \\boldsymbol{X} \\boldsymbol{\\beta})^\\top(\\boldsymbol{y} - \\boldsymbol{X} \\boldsymbol{\\beta})\n",
    "$$\n",
    "\n",
    "where,\n",
    "\n",
    "$$\n",
    "\\underset{n \\times 1}{\\boldsymbol{y}} = \\begin{pmatrix} y_1 \\\\ y_2 \\\\ \\vdots \\\\ y_{n-1} \\\\ y_n \\end{pmatrix} \n",
    "\\qquad\n",
    "\\underset{n \\times 2}{\\boldsymbol{X}} = \\begin{pmatrix} 1 & x_1 \\\\ 1 & x_2 \\\\ \\vdots & \\vdots \\\\ 1 & x_{n-1} \\\\ 1 & x_n \\\\ \\end{pmatrix}\n",
    "\\qquad \n",
    "\\underset{2 \\times 1}{\\boldsymbol{\\beta}} = \\begin{pmatrix} \\beta_0 \\\\ \\beta_1 \\end{pmatrix}\n",
    "$$"
   ]
  },
  {
   "cell_type": "markdown",
   "metadata": {
    "cell_id": "00015-e55877d4-ea16-4e4a-8b06-c452fee69c1e",
    "deepnote_cell_type": "markdown"
   },
   "source": [
    "The solution to this optimization problem is,\n",
    "\n",
    "$$\n",
    "\\boldsymbol{\\beta} = \\left(\\boldsymbol{X}^\\top\\boldsymbol{X}\\right)^{-1} \\boldsymbol{X}^\\top\\boldsymbol{y}\n",
    "$$"
   ]
  },
  {
   "cell_type": "markdown",
   "metadata": {
    "cell_id": "00016-0a1e2d21-4ae7-45f0-b0d5-da7f9fc56067",
    "deepnote_cell_type": "markdown"
   },
   "source": [
    "In Python we can construct the model matrix `X` by combining a column of ones, for the intercept, with our observed `volume` values. Similarly, `y` is a column vector of the `weight` values. In both cases we construct these objects as numpy array objects."
   ]
  },
  {
   "cell_type": "code",
   "execution_count": null,
   "metadata": {
    "cell_id": "00017-21e29cd3-56a0-4b48-899b-4409e4b6f9e2",
    "deepnote_cell_type": "code",
    "deepnote_to_be_reexecuted": false,
    "execution_millis": 0,
    "execution_start": 1611238689010,
    "output_cleared": false,
    "source_hash": "9701ab3b"
   },
   "outputs": [
    {
     "name": "stdout",
     "output_type": "stream",
     "text": [
      "[ 800  950 1050  350  750  600 1075  250  700  650  975  350  950  425\n",
      "  725]\n"
     ]
    }
   ],
   "source": [
    "y = np.array(books.weight)\n",
    "print(y)"
   ]
  },
  {
   "cell_type": "code",
   "execution_count": null,
   "metadata": {
    "cell_id": "00018-7d43b31a-6d5b-481f-9f2f-172e204c6c9a",
    "deepnote_cell_type": "code",
    "deepnote_to_be_reexecuted": false,
    "execution_millis": 37,
    "execution_start": 1611238689012,
    "output_cleared": false,
    "source_hash": "f57d7324"
   },
   "outputs": [
    {
     "name": "stdout",
     "output_type": "stream",
     "text": [
      "[[1.000e+00 8.850e+02]\n",
      " [1.000e+00 1.016e+03]\n",
      " [1.000e+00 1.125e+03]\n",
      " [1.000e+00 2.390e+02]\n",
      " [1.000e+00 7.010e+02]]\n"
     ]
    }
   ],
   "source": [
    "X = np.c_[\n",
    "    np.ones(len(y)),\n",
    "    books.volume\n",
    "]\n",
    "\n",
    "print(X[:5])"
   ]
  },
  {
   "cell_type": "markdown",
   "metadata": {
    "cell_id": "00019-17b55704-7eca-4662-a6a9-7de93e566521",
    "deepnote_cell_type": "markdown"
   },
   "source": [
    "Given the model matrix $(\\boldsymbol{X})$ and observed outcomes $(\\boldsymbol{y})$ we can then calculate the vector of solutions $(\\boldsymbol{\\beta})$ using numpy,"
   ]
  },
  {
   "cell_type": "code",
   "execution_count": null,
   "metadata": {
    "cell_id": "00020-f44bb993-8049-4e28-8da0-c8a2419a4950",
    "deepnote_cell_type": "code",
    "deepnote_to_be_reexecuted": false,
    "execution_millis": 0,
    "execution_start": 1611238689050,
    "output_cleared": false,
    "source_hash": "420994e9"
   },
   "outputs": [
    {
     "name": "stdout",
     "output_type": "stream",
     "text": [
      "[107.67931061   0.70863714]\n"
     ]
    }
   ],
   "source": [
    "from numpy.linalg import solve\n",
    "\n",
    "beta = solve(X.T @ X, X.T @ y)\n",
    "print(beta)"
   ]
  },
  {
   "cell_type": "markdown",
   "metadata": {
    "cell_id": "00021-611b22a9-a494-4ab7-a88a-ceed7c58b0a1",
    "deepnote_cell_type": "markdown"
   },
   "source": [
    "Note that when using numpy `@` performs  matrix multiplication while `*` performs elementwise multiplication between arrays. Numpy matrix multiplication can also be written using `A.dot(B)` or `np.matmul(A,B)`.\n",
    "\n",
    "We can calculate predictions from this model by calculating $\\hat{y} = \\boldsymbol{X} \\boldsymbol{\\beta}$. "
   ]
  },
  {
   "cell_type": "markdown",
   "metadata": {
    "cell_id": "00022-28a7a9d1-e95b-47b7-a31c-9b247c628087",
    "deepnote_cell_type": "markdown"
   },
   "source": [
    "---\n",
    "\n",
    "### &diams; Exercise 3\n",
    "\n",
    "Calculate these predicted book weights and store them in the origin `books` data frame in a column called `weight_ls_pred`. Print out the updated version of the data frame with this new column added."
   ]
  },
  {
   "cell_type": "code",
   "execution_count": null,
   "metadata": {
    "cell_id": "00023-04722d32-f420-4104-b25b-37656a71df76",
    "deepnote_cell_type": "code",
    "deepnote_to_be_reexecuted": false,
    "execution_millis": 8,
    "execution_start": 1611238689051,
    "output_cleared": false,
    "source_hash": "864d69cc"
   },
   "outputs": [
    {
     "data": {
      "application/vnd.deepnote.dataframe.v2+json": {
       "column_count": 5,
       "columns": [
        {
         "dtype": "int64",
         "name": "volume",
         "stats": {
          "histogram": [
           {
            "bin_end": 364.3,
            "bin_start": 239,
            "count": 1
           },
           {
            "bin_end": 489.6,
            "bin_start": 364.3,
            "count": 2
           },
           {
            "bin_end": 614.9,
            "bin_start": 489.6,
            "count": 1
           },
           {
            "bin_end": 740.2,
            "bin_start": 614.9,
            "count": 2
           },
           {
            "bin_end": 865.5,
            "bin_start": 740.2,
            "count": 0
           },
           {
            "bin_end": 990.8,
            "bin_start": 865.5,
            "count": 3
           },
           {
            "bin_end": 1116.1,
            "bin_start": 990.8,
            "count": 3
           },
           {
            "bin_end": 1241.4,
            "bin_start": 1116.1,
            "count": 2
           },
           {
            "bin_end": 1366.7,
            "bin_start": 1241.4,
            "count": 0
           },
           {
            "bin_end": 1492,
            "bin_start": 1366.7,
            "count": 1
           }
          ],
          "max": 1492,
          "min": 239,
          "nan_count": 0,
          "unique_count": 15
         }
        },
        {
         "dtype": "int64",
         "name": "area",
         "stats": {
          "histogram": [
           {
            "bin_end": 46.8,
            "bin_start": 0,
            "count": 8
           },
           {
            "bin_end": 93.6,
            "bin_start": 46.8,
            "count": 0
           },
           {
            "bin_end": 140.39999999999998,
            "bin_start": 93.6,
            "count": 0
           },
           {
            "bin_end": 187.2,
            "bin_start": 140.39999999999998,
            "count": 0
           },
           {
            "bin_end": 234,
            "bin_start": 187.2,
            "count": 0
           },
           {
            "bin_end": 280.79999999999995,
            "bin_start": 234,
            "count": 0
           },
           {
            "bin_end": 327.59999999999997,
            "bin_start": 280.79999999999995,
            "count": 0
           },
           {
            "bin_end": 374.4,
            "bin_start": 327.59999999999997,
            "count": 3
           },
           {
            "bin_end": 421.2,
            "bin_start": 374.4,
            "count": 3
           },
           {
            "bin_end": 468,
            "bin_start": 421.2,
            "count": 1
           }
          ],
          "max": 468,
          "min": 0,
          "nan_count": 0,
          "unique_count": 7
         }
        },
        {
         "dtype": "int64",
         "name": "weight",
         "stats": {
          "histogram": [
           {
            "bin_end": 332.5,
            "bin_start": 250,
            "count": 1
           },
           {
            "bin_end": 415,
            "bin_start": 332.5,
            "count": 2
           },
           {
            "bin_end": 497.5,
            "bin_start": 415,
            "count": 1
           },
           {
            "bin_end": 580,
            "bin_start": 497.5,
            "count": 0
           },
           {
            "bin_end": 662.5,
            "bin_start": 580,
            "count": 2
           },
           {
            "bin_end": 745,
            "bin_start": 662.5,
            "count": 2
           },
           {
            "bin_end": 827.5,
            "bin_start": 745,
            "count": 2
           },
           {
            "bin_end": 910,
            "bin_start": 827.5,
            "count": 0
           },
           {
            "bin_end": 992.5,
            "bin_start": 910,
            "count": 3
           },
           {
            "bin_end": 1075,
            "bin_start": 992.5,
            "count": 2
           }
          ],
          "max": 1075,
          "min": 250,
          "nan_count": 0,
          "unique_count": 13
         }
        },
        {
         "dtype": "object",
         "name": "cover",
         "stats": {
          "categories": [
           {
            "count": 8,
            "name": "pb"
           },
           {
            "count": 7,
            "name": "hb"
           }
          ],
          "nan_count": 0,
          "unique_count": 2
         }
        },
        {
         "dtype": "float64",
         "name": "weight_ls_pred",
         "stats": {
          "histogram": [
           {
            "bin_end": 365.8358219436089,
            "bin_start": 277.0435878792957,
            "count": 1
           },
           {
            "bin_end": 454.62805600792205,
            "bin_start": 365.8358219436089,
            "count": 2
           },
           {
            "bin_end": 543.4202900722352,
            "bin_start": 454.62805600792205,
            "count": 1
           },
           {
            "bin_end": 632.2125241365484,
            "bin_start": 543.4202900722352,
            "count": 2
           },
           {
            "bin_end": 721.0047582008615,
            "bin_start": 632.2125241365484,
            "count": 0
           },
           {
            "bin_end": 809.7969922651746,
            "bin_start": 721.0047582008615,
            "count": 3
           },
           {
            "bin_end": 898.5892263294878,
            "bin_start": 809.7969922651746,
            "count": 3
           },
           {
            "bin_end": 987.3814603938009,
            "bin_start": 898.5892263294878,
            "count": 2
           },
           {
            "bin_end": 1076.173694458114,
            "bin_start": 987.3814603938009,
            "count": 0
           },
           {
            "bin_end": 1164.9659285224272,
            "bin_start": 1076.173694458114,
            "count": 1
           }
          ],
          "max": 1164.9659285224272,
          "min": 277.0435878792957,
          "nan_count": 0,
          "unique_count": 15
         }
        },
        {
         "dtype": "int64",
         "name": "_deepnote_index_column"
        }
       ],
       "row_count": 15,
       "rows_bottom": null,
       "rows_top": [
        {
         "_deepnote_index_column": 0,
         "area": 382,
         "cover": "hb",
         "volume": 885,
         "weight": 800,
         "weight_ls_pred": 734.8231824965845
        },
        {
         "_deepnote_index_column": 1,
         "area": 468,
         "cover": "hb",
         "volume": 1016,
         "weight": 950,
         "weight_ls_pred": 827.6546482781091
        },
        {
         "_deepnote_index_column": 2,
         "area": 387,
         "cover": "hb",
         "volume": 1125,
         "weight": 1050,
         "weight_ls_pred": 904.8960969054845
        },
        {
         "_deepnote_index_column": 3,
         "area": 371,
         "cover": "hb",
         "volume": 239,
         "weight": 350,
         "weight_ls_pred": 277.0435878792957
        },
        {
         "_deepnote_index_column": 4,
         "area": 371,
         "cover": "hb",
         "volume": 701,
         "weight": 750,
         "weight_ls_pred": 604.433948116428
        },
        {
         "_deepnote_index_column": 5,
         "area": 367,
         "cover": "hb",
         "volume": 641,
         "weight": 600,
         "weight_ls_pred": 561.915719514203
        },
        {
         "_deepnote_index_column": 6,
         "area": 396,
         "cover": "hb",
         "volume": 1228,
         "weight": 1075,
         "weight_ls_pred": 977.8857226726373
        },
        {
         "_deepnote_index_column": 7,
         "area": 0,
         "cover": "pb",
         "volume": 412,
         "weight": 250,
         "weight_ls_pred": 399.63781368237767
        },
        {
         "_deepnote_index_column": 8,
         "area": 0,
         "cover": "pb",
         "volume": 953,
         "weight": 700,
         "weight_ls_pred": 783.0105082457728
        },
        {
         "_deepnote_index_column": 9,
         "area": 0,
         "cover": "pb",
         "volume": 929,
         "weight": 650,
         "weight_ls_pred": 766.0032168048829
        },
        {
         "_deepnote_index_column": 10,
         "area": 0,
         "cover": "pb",
         "volume": 1492,
         "weight": 975,
         "weight_ls_pred": 1164.9659285224272
        },
        {
         "_deepnote_index_column": 11,
         "area": 0,
         "cover": "pb",
         "volume": 419,
         "weight": 350,
         "weight_ls_pred": 404.59827368597064
        },
        {
         "_deepnote_index_column": 12,
         "area": 0,
         "cover": "pb",
         "volume": 1010,
         "weight": 950,
         "weight_ls_pred": 823.4028254178866
        },
        {
         "_deepnote_index_column": 13,
         "area": 0,
         "cover": "pb",
         "volume": 595,
         "weight": 425,
         "weight_ls_pred": 529.3184109191639
        },
        {
         "_deepnote_index_column": 14,
         "area": 0,
         "cover": "pb",
         "volume": 1034,
         "weight": 725,
         "weight_ls_pred": 840.4101168587765
        }
       ]
      },
      "text/html": [
       "<div>\n",
       "<style scoped>\n",
       "    .dataframe tbody tr th:only-of-type {\n",
       "        vertical-align: middle;\n",
       "    }\n",
       "\n",
       "    .dataframe tbody tr th {\n",
       "        vertical-align: top;\n",
       "    }\n",
       "\n",
       "    .dataframe thead th {\n",
       "        text-align: right;\n",
       "    }\n",
       "</style>\n",
       "<table border=\"1\" class=\"dataframe\">\n",
       "  <thead>\n",
       "    <tr style=\"text-align: right;\">\n",
       "      <th></th>\n",
       "      <th>volume</th>\n",
       "      <th>area</th>\n",
       "      <th>weight</th>\n",
       "      <th>cover</th>\n",
       "      <th>weight_ls_pred</th>\n",
       "    </tr>\n",
       "  </thead>\n",
       "  <tbody>\n",
       "    <tr>\n",
       "      <th>0</th>\n",
       "      <td>885</td>\n",
       "      <td>382</td>\n",
       "      <td>800</td>\n",
       "      <td>hb</td>\n",
       "      <td>734.823182</td>\n",
       "    </tr>\n",
       "    <tr>\n",
       "      <th>1</th>\n",
       "      <td>1016</td>\n",
       "      <td>468</td>\n",
       "      <td>950</td>\n",
       "      <td>hb</td>\n",
       "      <td>827.654648</td>\n",
       "    </tr>\n",
       "    <tr>\n",
       "      <th>2</th>\n",
       "      <td>1125</td>\n",
       "      <td>387</td>\n",
       "      <td>1050</td>\n",
       "      <td>hb</td>\n",
       "      <td>904.896097</td>\n",
       "    </tr>\n",
       "    <tr>\n",
       "      <th>3</th>\n",
       "      <td>239</td>\n",
       "      <td>371</td>\n",
       "      <td>350</td>\n",
       "      <td>hb</td>\n",
       "      <td>277.043588</td>\n",
       "    </tr>\n",
       "    <tr>\n",
       "      <th>4</th>\n",
       "      <td>701</td>\n",
       "      <td>371</td>\n",
       "      <td>750</td>\n",
       "      <td>hb</td>\n",
       "      <td>604.433948</td>\n",
       "    </tr>\n",
       "    <tr>\n",
       "      <th>5</th>\n",
       "      <td>641</td>\n",
       "      <td>367</td>\n",
       "      <td>600</td>\n",
       "      <td>hb</td>\n",
       "      <td>561.915720</td>\n",
       "    </tr>\n",
       "    <tr>\n",
       "      <th>6</th>\n",
       "      <td>1228</td>\n",
       "      <td>396</td>\n",
       "      <td>1075</td>\n",
       "      <td>hb</td>\n",
       "      <td>977.885723</td>\n",
       "    </tr>\n",
       "    <tr>\n",
       "      <th>7</th>\n",
       "      <td>412</td>\n",
       "      <td>0</td>\n",
       "      <td>250</td>\n",
       "      <td>pb</td>\n",
       "      <td>399.637814</td>\n",
       "    </tr>\n",
       "    <tr>\n",
       "      <th>8</th>\n",
       "      <td>953</td>\n",
       "      <td>0</td>\n",
       "      <td>700</td>\n",
       "      <td>pb</td>\n",
       "      <td>783.010508</td>\n",
       "    </tr>\n",
       "    <tr>\n",
       "      <th>9</th>\n",
       "      <td>929</td>\n",
       "      <td>0</td>\n",
       "      <td>650</td>\n",
       "      <td>pb</td>\n",
       "      <td>766.003217</td>\n",
       "    </tr>\n",
       "    <tr>\n",
       "      <th>10</th>\n",
       "      <td>1492</td>\n",
       "      <td>0</td>\n",
       "      <td>975</td>\n",
       "      <td>pb</td>\n",
       "      <td>1164.965929</td>\n",
       "    </tr>\n",
       "    <tr>\n",
       "      <th>11</th>\n",
       "      <td>419</td>\n",
       "      <td>0</td>\n",
       "      <td>350</td>\n",
       "      <td>pb</td>\n",
       "      <td>404.598274</td>\n",
       "    </tr>\n",
       "    <tr>\n",
       "      <th>12</th>\n",
       "      <td>1010</td>\n",
       "      <td>0</td>\n",
       "      <td>950</td>\n",
       "      <td>pb</td>\n",
       "      <td>823.402825</td>\n",
       "    </tr>\n",
       "    <tr>\n",
       "      <th>13</th>\n",
       "      <td>595</td>\n",
       "      <td>0</td>\n",
       "      <td>425</td>\n",
       "      <td>pb</td>\n",
       "      <td>529.318411</td>\n",
       "    </tr>\n",
       "    <tr>\n",
       "      <th>14</th>\n",
       "      <td>1034</td>\n",
       "      <td>0</td>\n",
       "      <td>725</td>\n",
       "      <td>pb</td>\n",
       "      <td>840.410117</td>\n",
       "    </tr>\n",
       "  </tbody>\n",
       "</table>\n",
       "</div>"
      ],
      "text/plain": [
       "    volume  area  weight cover  weight_ls_pred\n",
       "0      885   382     800    hb      734.823182\n",
       "1     1016   468     950    hb      827.654648\n",
       "2     1125   387    1050    hb      904.896097\n",
       "3      239   371     350    hb      277.043588\n",
       "4      701   371     750    hb      604.433948\n",
       "5      641   367     600    hb      561.915720\n",
       "6     1228   396    1075    hb      977.885723\n",
       "7      412     0     250    pb      399.637814\n",
       "8      953     0     700    pb      783.010508\n",
       "9      929     0     650    pb      766.003217\n",
       "10    1492     0     975    pb     1164.965929\n",
       "11     419     0     350    pb      404.598274\n",
       "12    1010     0     950    pb      823.402825\n",
       "13     595     0     425    pb      529.318411\n",
       "14    1034     0     725    pb      840.410117"
      ]
     },
     "execution_count": 8,
     "metadata": {},
     "output_type": "execute_result"
    }
   ],
   "source": [
    "books[\"weight_ls_pred\"] = X @ beta\n",
    "books"
   ]
  },
  {
   "cell_type": "markdown",
   "metadata": {
    "cell_id": "00024-66ad5764-457d-4ffe-9f28-cd42b9a0b5b7",
    "deepnote_cell_type": "markdown"
   },
   "source": [
    "---\n",
    "\n",
    "Given the predictions we can create a plot showing the models fit by overlaying a line plot of the predictions on top of the original scatter plot."
   ]
  },
  {
   "cell_type": "code",
   "execution_count": null,
   "metadata": {
    "cell_id": "00025-67f4357b-0a2c-46a2-90f1-8a75e8b62e2f",
    "deepnote_cell_type": "code",
    "deepnote_to_be_reexecuted": false,
    "execution_millis": 283,
    "execution_start": 1611238689064,
    "output_cleared": false,
    "source_hash": "92cf8461"
   },
   "outputs": [
    {
     "data": {
      "text/plain": [
       "<AxesSubplot:xlabel='volume', ylabel='weight'>"
      ]
     },
     "execution_count": 9,
     "metadata": {},
     "output_type": "execute_result"
    },
    {
     "data": {
      "image/png": "[encoded data removed]",
      "text/plain": [
       "<Figure size 640x400 with 1 Axes>"
      ]
     },
     "metadata": {
      "needs_background": "light"
     },
     "output_type": "display_data"
    }
   ],
   "source": [
    "sns.scatterplot(x=\"volume\", y=\"weight\", hue=\"cover\", data=books)\n",
    "sns.lineplot(x=\"volume\", y=\"weight_ls_pred\", color=\"black\", data=books)"
   ]
  },
  {
   "cell_type": "markdown",
   "metadata": {
    "cell_id": "00026-021075dd-c202-41db-9f49-2b4de4efd791",
    "deepnote_cell_type": "markdown"
   },
   "source": [
    "---\n",
    "\n",
    "### 1.2 scikit-Learn"
   ]
  },
  {
   "cell_type": "markdown",
   "metadata": {
    "cell_id": "00027-068e26c7-da60-4c7c-8551-5f914b53af75",
    "deepnote_cell_type": "markdown"
   },
   "source": [
    "Constructing the model matrix by hand and calculating $\\beta$ and model predictions using the least squares solution is less than ideal. As you might expect there are a number of higher level libraries that take care of many of these details. In this course we will be using the **scikit-learn** (**sklearn**) library to implement most of our machine learning models. As the semester progresses we will be learning about and implementing many different modeling methods. Additionally, we will also be learning how to use the larger data processing and workflow tools that are available in this library.\n",
    "\n",
    "sklearn separates its various modeling tools into submodules organized by model type - for today we will be using the `LinearRegression` model from the `linear_model` submodule. Which we can import as follows,"
   ]
  },
  {
   "cell_type": "code",
   "execution_count": null,
   "metadata": {
    "cell_id": "00028-40915b00-d692-4d82-9df3-1a72901e798d",
    "deepnote_cell_type": "code",
    "deepnote_to_be_reexecuted": false,
    "execution_millis": 557,
    "execution_start": 1611238689393,
    "output_cleared": true,
    "source_hash": "9527aab5"
   },
   "outputs": [],
   "source": [
    "from sklearn.linear_model import LinearRegression"
   ]
  },
  {
   "cell_type": "markdown",
   "metadata": {
    "cell_id": "00029-a3ead172-d8aa-4570-9aae-68cd6d18692d",
    "deepnote_cell_type": "markdown"
   },
   "source": [
    "In general sklearn's models are implemented by first creating a model object, which is configured via constructor arguments, and then using that object to fit your data. As such, we will now create a linear regression model object `lr` and use it to fit our data. Once this object is created we use the `fit` method to obtain a model object fitted to our data. "
   ]
  },
  {
   "cell_type": "code",
   "execution_count": null,
   "metadata": {
    "cell_id": "00030-d0c72235-001d-4cd4-a50f-302b40d9e4d3",
    "deepnote_cell_type": "code",
    "deepnote_to_be_reexecuted": false,
    "execution_millis": 0,
    "execution_start": 1611238689960,
    "output_cleared": true,
    "source_hash": "68cb7b3f"
   },
   "outputs": [],
   "source": [
    "lr = LinearRegression()\n",
    "l = lr.fit(\n",
    "    # X must be a matrix so we need to reshape the column\n",
    "    X = np.array(books.volume).reshape(-1,1), \n",
    "    y = books.weight\n",
    ")"
   ]
  },
  {
   "cell_type": "markdown",
   "metadata": {
    "cell_id": "00031-b1d09da5-a8c6-46db-a5ec-617662e344a9",
    "deepnote_cell_type": "markdown"
   },
   "source": [
    "This model object then has various useful methods and attributes, including `intercept_` and `coef_` which contain our estimates for $\\beta$."
   ]
  },
  {
   "cell_type": "code",
   "execution_count": null,
   "metadata": {
    "cell_id": "00032-d4cd3759-a588-4d95-b34e-507416ebc046",
    "deepnote_cell_type": "code",
    "deepnote_to_be_reexecuted": false,
    "execution_millis": 3,
    "execution_start": 1611238689960,
    "output_cleared": false,
    "source_hash": "f6189192"
   },
   "outputs": [
    {
     "name": "stdout",
     "output_type": "stream",
     "text": [
      "(107.679310613766, 0.7086371433704164)\n"
     ]
    }
   ],
   "source": [
    "b0 = l.intercept_\n",
    "b1 = l.coef_[0]   # Subsetting here returns a scalar value\n",
    "beta = (b0, b1)\n",
    "\n",
    "print(beta)"
   ]
  },
  {
   "cell_type": "markdown",
   "metadata": {
    "cell_id": "00033-9aecc749-af3c-4332-a238-370b1c7febc5",
    "deepnote_cell_type": "markdown"
   },
   "source": [
    "Using this default construction of `LinearRegression`, sklearn assumes that we have not included an intercept column (ones) in our model matrix and takes care of this for you. Additionally, since the intercept column is added the $\\beta$ estimated for this particular column is stored separately, in the `intercept_` attribue.\n",
    "\n",
    "I generally find this default behavior to be somewhat frustrating to work with, instead my preference is to handle all of the details of constructing the model matrix `X` myself and retrieving all `beta` values (including the intercept) from `coef_` directly. For example, if we use the `X` and `y` variables we defined for the least squares example above and construct the `LinearRegression` object using `fit_intercept=False` then,"
   ]
  },
  {
   "cell_type": "code",
   "execution_count": null,
   "metadata": {
    "cell_id": "00034-f6c94c6a-6fd5-4963-86db-3a815ae09eda",
    "deepnote_cell_type": "code",
    "deepnote_to_be_reexecuted": false,
    "execution_millis": 9,
    "execution_start": 1611238689967,
    "output_cleared": false,
    "source_hash": "79fc9f8b"
   },
   "outputs": [
    {
     "name": "stdout",
     "output_type": "stream",
     "text": [
      "[107.67931061   0.70863714]\n"
     ]
    }
   ],
   "source": [
    "l = LinearRegression(fit_intercept=False).fit(X = X, y = y)\n",
    "beta = l.coef_\n",
    "\n",
    "print(beta)"
   ]
  },
  {
   "cell_type": "markdown",
   "metadata": {
    "cell_id": "00035-9bb64eec-8879-48d5-832a-101c7a3dc752",
    "deepnote_cell_type": "markdown"
   },
   "source": [
    "Note that this is the same answers we obtained above.\n",
    "\n",
    "The model fit objects also provide additional useful methods for evaluating the model (`score`) and calculating predictions (`predict`). Using the later we can add another column of predictions to our data frame."
   ]
  },
  {
   "cell_type": "code",
   "execution_count": null,
   "metadata": {
    "cell_id": "00036-fdd889c3-0b7b-449e-a815-6e1e055f9703",
    "deepnote_cell_type": "code",
    "deepnote_to_be_reexecuted": false,
    "execution_millis": 35,
    "execution_start": 1611238689981,
    "output_cleared": false,
    "source_hash": "5835376a"
   },
   "outputs": [
    {
     "data": {
      "application/vnd.deepnote.dataframe.v2+json": {
       "column_count": 6,
       "columns": [
        {
         "dtype": "int64",
         "name": "volume",
         "stats": {
          "histogram": [
           {
            "bin_end": 364.3,
            "bin_start": 239,
            "count": 1
           },
           {
            "bin_end": 489.6,
            "bin_start": 364.3,
            "count": 2
           },
           {
            "bin_end": 614.9,
            "bin_start": 489.6,
            "count": 1
           },
           {
            "bin_end": 740.2,
            "bin_start": 614.9,
            "count": 2
           },
           {
            "bin_end": 865.5,
            "bin_start": 740.2,
            "count": 0
           },
           {
            "bin_end": 990.8,
            "bin_start": 865.5,
            "count": 3
           },
           {
            "bin_end": 1116.1,
            "bin_start": 990.8,
            "count": 3
           },
           {
            "bin_end": 1241.4,
            "bin_start": 1116.1,
            "count": 2
           },
           {
            "bin_end": 1366.7,
            "bin_start": 1241.4,
            "count": 0
           },
           {
            "bin_end": 1492,
            "bin_start": 1366.7,
            "count": 1
           }
          ],
          "max": 1492,
          "min": 239,
          "nan_count": 0,
          "unique_count": 15
         }
        },
        {
         "dtype": "int64",
         "name": "area",
         "stats": {
          "histogram": [
           {
            "bin_end": 46.8,
            "bin_start": 0,
            "count": 8
           },
           {
            "bin_end": 93.6,
            "bin_start": 46.8,
            "count": 0
           },
           {
            "bin_end": 140.39999999999998,
            "bin_start": 93.6,
            "count": 0
           },
           {
            "bin_end": 187.2,
            "bin_start": 140.39999999999998,
            "count": 0
           },
           {
            "bin_end": 234,
            "bin_start": 187.2,
            "count": 0
           },
           {
            "bin_end": 280.79999999999995,
            "bin_start": 234,
            "count": 0
           },
           {
            "bin_end": 327.59999999999997,
            "bin_start": 280.79999999999995,
            "count": 0
           },
           {
            "bin_end": 374.4,
            "bin_start": 327.59999999999997,
            "count": 3
           },
           {
            "bin_end": 421.2,
            "bin_start": 374.4,
            "count": 3
           },
           {
            "bin_end": 468,
            "bin_start": 421.2,
            "count": 1
           }
          ],
          "max": 468,
          "min": 0,
          "nan_count": 0,
          "unique_count": 7
         }
        },
        {
         "dtype": "int64",
         "name": "weight",
         "stats": {
          "histogram": [
           {
            "bin_end": 332.5,
            "bin_start": 250,
            "count": 1
           },
           {
            "bin_end": 415,
            "bin_start": 332.5,
            "count": 2
           },
           {
            "bin_end": 497.5,
            "bin_start": 415,
            "count": 1
           },
           {
            "bin_end": 580,
            "bin_start": 497.5,
            "count": 0
           },
           {
            "bin_end": 662.5,
            "bin_start": 580,
            "count": 2
           },
           {
            "bin_end": 745,
            "bin_start": 662.5,
            "count": 2
           },
           {
            "bin_end": 827.5,
            "bin_start": 745,
            "count": 2
           },
           {
            "bin_end": 910,
            "bin_start": 827.5,
            "count": 0
           },
           {
            "bin_end": 992.5,
            "bin_start": 910,
            "count": 3
           },
           {
            "bin_end": 1075,
            "bin_start": 992.5,
            "count": 2
           }
          ],
          "max": 1075,
          "min": 250,
          "nan_count": 0,
          "unique_count": 13
         }
        },
        {
         "dtype": "object",
         "name": "cover",
         "stats": {
          "categories": [
           {
            "count": 8,
            "name": "pb"
           },
           {
            "count": 7,
            "name": "hb"
           }
          ],
          "nan_count": 0,
          "unique_count": 2
         }
        },
        {
         "dtype": "float64",
         "name": "weight_ls_pred",
         "stats": {
          "histogram": [
           {
            "bin_end": 365.8358219436089,
            "bin_start": 277.0435878792957,
            "count": 1
           },
           {
            "bin_end": 454.62805600792205,
            "bin_start": 365.8358219436089,
            "count": 2
           },
           {
            "bin_end": 543.4202900722352,
            "bin_start": 454.62805600792205,
            "count": 1
           },
           {
            "bin_end": 632.2125241365484,
            "bin_start": 543.4202900722352,
            "count": 2
           },
           {
            "bin_end": 721.0047582008615,
            "bin_start": 632.2125241365484,
            "count": 0
           },
           {
            "bin_end": 809.7969922651746,
            "bin_start": 721.0047582008615,
            "count": 3
           },
           {
            "bin_end": 898.5892263294878,
            "bin_start": 809.7969922651746,
            "count": 3
           },
           {
            "bin_end": 987.3814603938009,
            "bin_start": 898.5892263294878,
            "count": 2
           },
           {
            "bin_end": 1076.173694458114,
            "bin_start": 987.3814603938009,
            "count": 0
           },
           {
            "bin_end": 1164.9659285224272,
            "bin_start": 1076.173694458114,
            "count": 1
           }
          ],
          "max": 1164.9659285224272,
          "min": 277.0435878792957,
          "nan_count": 0,
          "unique_count": 15
         }
        },
        {
         "dtype": "float64",
         "name": "weight_sk_pred",
         "stats": {
          "histogram": [
           {
            "bin_end": 365.8358219436089,
            "bin_start": 277.0435878792957,
            "count": 1
           },
           {
            "bin_end": 454.62805600792205,
            "bin_start": 365.8358219436089,
            "count": 2
           },
           {
            "bin_end": 543.4202900722352,
            "bin_start": 454.62805600792205,
            "count": 1
           },
           {
            "bin_end": 632.2125241365484,
            "bin_start": 543.4202900722352,
            "count": 2
           },
           {
            "bin_end": 721.0047582008615,
            "bin_start": 632.2125241365484,
            "count": 0
           },
           {
            "bin_end": 809.7969922651746,
            "bin_start": 721.0047582008615,
            "count": 3
           },
           {
            "bin_end": 898.5892263294878,
            "bin_start": 809.7969922651746,
            "count": 3
           },
           {
            "bin_end": 987.3814603938009,
            "bin_start": 898.5892263294878,
            "count": 2
           },
           {
            "bin_end": 1076.173694458114,
            "bin_start": 987.3814603938009,
            "count": 0
           },
           {
            "bin_end": 1164.9659285224272,
            "bin_start": 1076.173694458114,
            "count": 1
           }
          ],
          "max": 1164.9659285224272,
          "min": 277.0435878792957,
          "nan_count": 0,
          "unique_count": 15
         }
        },
        {
         "dtype": "int64",
         "name": "_deepnote_index_column"
        }
       ],
       "row_count": 15,
       "rows_bottom": null,
       "rows_top": [
        {
         "_deepnote_index_column": 0,
         "area": 382,
         "cover": "hb",
         "volume": 885,
         "weight": 800,
         "weight_ls_pred": 734.8231824965845,
         "weight_sk_pred": 734.8231824965845
        },
        {
         "_deepnote_index_column": 1,
         "area": 468,
         "cover": "hb",
         "volume": 1016,
         "weight": 950,
         "weight_ls_pred": 827.6546482781091,
         "weight_sk_pred": 827.6546482781091
        },
        {
         "_deepnote_index_column": 2,
         "area": 387,
         "cover": "hb",
         "volume": 1125,
         "weight": 1050,
         "weight_ls_pred": 904.8960969054845,
         "weight_sk_pred": 904.8960969054845
        },
        {
         "_deepnote_index_column": 3,
         "area": 371,
         "cover": "hb",
         "volume": 239,
         "weight": 350,
         "weight_ls_pred": 277.0435878792957,
         "weight_sk_pred": 277.0435878792957
        },
        {
         "_deepnote_index_column": 4,
         "area": 371,
         "cover": "hb",
         "volume": 701,
         "weight": 750,
         "weight_ls_pred": 604.433948116428,
         "weight_sk_pred": 604.433948116428
        },
        {
         "_deepnote_index_column": 5,
         "area": 367,
         "cover": "hb",
         "volume": 641,
         "weight": 600,
         "weight_ls_pred": 561.915719514203,
         "weight_sk_pred": 561.915719514203
        },
        {
         "_deepnote_index_column": 6,
         "area": 396,
         "cover": "hb",
         "volume": 1228,
         "weight": 1075,
         "weight_ls_pred": 977.8857226726373,
         "weight_sk_pred": 977.8857226726373
        },
        {
         "_deepnote_index_column": 7,
         "area": 0,
         "cover": "pb",
         "volume": 412,
         "weight": 250,
         "weight_ls_pred": 399.63781368237767,
         "weight_sk_pred": 399.6378136823777
        },
        {
         "_deepnote_index_column": 8,
         "area": 0,
         "cover": "pb",
         "volume": 953,
         "weight": 700,
         "weight_ls_pred": 783.0105082457728,
         "weight_sk_pred": 783.0105082457728
        },
        {
         "_deepnote_index_column": 9,
         "area": 0,
         "cover": "pb",
         "volume": 929,
         "weight": 650,
         "weight_ls_pred": 766.0032168048829,
         "weight_sk_pred": 766.0032168048829
        },
        {
         "_deepnote_index_column": 10,
         "area": 0,
         "cover": "pb",
         "volume": 1492,
         "weight": 975,
         "weight_ls_pred": 1164.9659285224272,
         "weight_sk_pred": 1164.9659285224272
        },
        {
         "_deepnote_index_column": 11,
         "area": 0,
         "cover": "pb",
         "volume": 419,
         "weight": 350,
         "weight_ls_pred": 404.59827368597064,
         "weight_sk_pred": 404.59827368597064
        },
        {
         "_deepnote_index_column": 12,
         "area": 0,
         "cover": "pb",
         "volume": 1010,
         "weight": 950,
         "weight_ls_pred": 823.4028254178866,
         "weight_sk_pred": 823.4028254178866
        },
        {
         "_deepnote_index_column": 13,
         "area": 0,
         "cover": "pb",
         "volume": 595,
         "weight": 425,
         "weight_ls_pred": 529.3184109191639,
         "weight_sk_pred": 529.3184109191639
        },
        {
         "_deepnote_index_column": 14,
         "area": 0,
         "cover": "pb",
         "volume": 1034,
         "weight": 725,
         "weight_ls_pred": 840.4101168587765,
         "weight_sk_pred": 840.4101168587765
        }
       ]
      },
      "text/html": [
       "<div>\n",
       "<style scoped>\n",
       "    .dataframe tbody tr th:only-of-type {\n",
       "        vertical-align: middle;\n",
       "    }\n",
       "\n",
       "    .dataframe tbody tr th {\n",
       "        vertical-align: top;\n",
       "    }\n",
       "\n",
       "    .dataframe thead th {\n",
       "        text-align: right;\n",
       "    }\n",
       "</style>\n",
       "<table border=\"1\" class=\"dataframe\">\n",
       "  <thead>\n",
       "    <tr style=\"text-align: right;\">\n",
       "      <th></th>\n",
       "      <th>volume</th>\n",
       "      <th>area</th>\n",
       "      <th>weight</th>\n",
       "      <th>cover</th>\n",
       "      <th>weight_ls_pred</th>\n",
       "      <th>weight_sk_pred</th>\n",
       "    </tr>\n",
       "  </thead>\n",
       "  <tbody>\n",
       "    <tr>\n",
       "      <th>0</th>\n",
       "      <td>885</td>\n",
       "      <td>382</td>\n",
       "      <td>800</td>\n",
       "      <td>hb</td>\n",
       "      <td>734.823182</td>\n",
       "      <td>734.823182</td>\n",
       "    </tr>\n",
       "    <tr>\n",
       "      <th>1</th>\n",
       "      <td>1016</td>\n",
       "      <td>468</td>\n",
       "      <td>950</td>\n",
       "      <td>hb</td>\n",
       "      <td>827.654648</td>\n",
       "      <td>827.654648</td>\n",
       "    </tr>\n",
       "    <tr>\n",
       "      <th>2</th>\n",
       "      <td>1125</td>\n",
       "      <td>387</td>\n",
       "      <td>1050</td>\n",
       "      <td>hb</td>\n",
       "      <td>904.896097</td>\n",
       "      <td>904.896097</td>\n",
       "    </tr>\n",
       "    <tr>\n",
       "      <th>3</th>\n",
       "      <td>239</td>\n",
       "      <td>371</td>\n",
       "      <td>350</td>\n",
       "      <td>hb</td>\n",
       "      <td>277.043588</td>\n",
       "      <td>277.043588</td>\n",
       "    </tr>\n",
       "    <tr>\n",
       "      <th>4</th>\n",
       "      <td>701</td>\n",
       "      <td>371</td>\n",
       "      <td>750</td>\n",
       "      <td>hb</td>\n",
       "      <td>604.433948</td>\n",
       "      <td>604.433948</td>\n",
       "    </tr>\n",
       "    <tr>\n",
       "      <th>5</th>\n",
       "      <td>641</td>\n",
       "      <td>367</td>\n",
       "      <td>600</td>\n",
       "      <td>hb</td>\n",
       "      <td>561.915720</td>\n",
       "      <td>561.915720</td>\n",
       "    </tr>\n",
       "    <tr>\n",
       "      <th>6</th>\n",
       "      <td>1228</td>\n",
       "      <td>396</td>\n",
       "      <td>1075</td>\n",
       "      <td>hb</td>\n",
       "      <td>977.885723</td>\n",
       "      <td>977.885723</td>\n",
       "    </tr>\n",
       "    <tr>\n",
       "      <th>7</th>\n",
       "      <td>412</td>\n",
       "      <td>0</td>\n",
       "      <td>250</td>\n",
       "      <td>pb</td>\n",
       "      <td>399.637814</td>\n",
       "      <td>399.637814</td>\n",
       "    </tr>\n",
       "    <tr>\n",
       "      <th>8</th>\n",
       "      <td>953</td>\n",
       "      <td>0</td>\n",
       "      <td>700</td>\n",
       "      <td>pb</td>\n",
       "      <td>783.010508</td>\n",
       "      <td>783.010508</td>\n",
       "    </tr>\n",
       "    <tr>\n",
       "      <th>9</th>\n",
       "      <td>929</td>\n",
       "      <td>0</td>\n",
       "      <td>650</td>\n",
       "      <td>pb</td>\n",
       "      <td>766.003217</td>\n",
       "      <td>766.003217</td>\n",
       "    </tr>\n",
       "    <tr>\n",
       "      <th>10</th>\n",
       "      <td>1492</td>\n",
       "      <td>0</td>\n",
       "      <td>975</td>\n",
       "      <td>pb</td>\n",
       "      <td>1164.965929</td>\n",
       "      <td>1164.965929</td>\n",
       "    </tr>\n",
       "    <tr>\n",
       "      <th>11</th>\n",
       "      <td>419</td>\n",
       "      <td>0</td>\n",
       "      <td>350</td>\n",
       "      <td>pb</td>\n",
       "      <td>404.598274</td>\n",
       "      <td>404.598274</td>\n",
       "    </tr>\n",
       "    <tr>\n",
       "      <th>12</th>\n",
       "      <td>1010</td>\n",
       "      <td>0</td>\n",
       "      <td>950</td>\n",
       "      <td>pb</td>\n",
       "      <td>823.402825</td>\n",
       "      <td>823.402825</td>\n",
       "    </tr>\n",
       "    <tr>\n",
       "      <th>13</th>\n",
       "      <td>595</td>\n",
       "      <td>0</td>\n",
       "      <td>425</td>\n",
       "      <td>pb</td>\n",
       "      <td>529.318411</td>\n",
       "      <td>529.318411</td>\n",
       "    </tr>\n",
       "    <tr>\n",
       "      <th>14</th>\n",
       "      <td>1034</td>\n",
       "      <td>0</td>\n",
       "      <td>725</td>\n",
       "      <td>pb</td>\n",
       "      <td>840.410117</td>\n",
       "      <td>840.410117</td>\n",
       "    </tr>\n",
       "  </tbody>\n",
       "</table>\n",
       "</div>"
      ],
      "text/plain": [
       "    volume  area  weight cover  weight_ls_pred  weight_sk_pred\n",
       "0      885   382     800    hb      734.823182      734.823182\n",
       "1     1016   468     950    hb      827.654648      827.654648\n",
       "2     1125   387    1050    hb      904.896097      904.896097\n",
       "3      239   371     350    hb      277.043588      277.043588\n",
       "4      701   371     750    hb      604.433948      604.433948\n",
       "5      641   367     600    hb      561.915720      561.915720\n",
       "6     1228   396    1075    hb      977.885723      977.885723\n",
       "7      412     0     250    pb      399.637814      399.637814\n",
       "8      953     0     700    pb      783.010508      783.010508\n",
       "9      929     0     650    pb      766.003217      766.003217\n",
       "10    1492     0     975    pb     1164.965929     1164.965929\n",
       "11     419     0     350    pb      404.598274      404.598274\n",
       "12    1010     0     950    pb      823.402825      823.402825\n",
       "13     595     0     425    pb      529.318411      529.318411\n",
       "14    1034     0     725    pb      840.410117      840.410117"
      ]
     },
     "execution_count": 14,
     "metadata": {},
     "output_type": "execute_result"
    }
   ],
   "source": [
    "books[\"weight_sk_pred\"] = l.predict(X)\n",
    "books"
   ]
  },
  {
   "cell_type": "markdown",
   "metadata": {
    "cell_id": "00037-fcdee620-68f8-4497-80c8-de602dd5eb66",
    "deepnote_cell_type": "markdown"
   },
   "source": [
    "---\n",
    "\n",
    "### &diams; Exercise 5\n",
    "\n",
    "Do these results agree with the results we obtained when using the numpy least squares method?"
   ]
  },
  {
   "cell_type": "markdown",
   "metadata": {
    "cell_id": "00039-2c73c7a9-2af4-4e93-9cc3-00b385ed5fa9",
    "deepnote_cell_type": "markdown",
    "tags": []
   },
   "source": [
    "*Yes, the results from the two methods are the same.*"
   ]
  },
  {
   "cell_type": "markdown",
   "metadata": {
    "cell_id": "00039-c822d4ea-c2e9-48e1-95be-ff75e367aca8",
    "deepnote_cell_type": "markdown"
   },
   "source": [
    "---"
   ]
  },
  {
   "cell_type": "markdown",
   "metadata": {
    "cell_id": "00040-63aa8c2c-08d1-49cc-bf68-4293361464ce",
    "deepnote_cell_type": "markdown"
   },
   "source": [
    "### 1.3 Residuals\n",
    "\n",
    "One of the most useful tools for evaluating a model is to examine the residuals of that model. For any standard regression model the residual for observation $i$ is defined as $y_i - \\hat{y}_i$ where $\\hat{y}_i$ is the model's predicted value for observation $i$. As mentioned previous, for the case of linear regression\n",
    "$\\hat{y} = \\boldsymbol{X} \\boldsymbol{\\beta}$."
   ]
  },
  {
   "cell_type": "markdown",
   "metadata": {
    "cell_id": "00041-5e48aa4f-5a03-4f54-9967-6435ddd29a9a",
    "deepnote_cell_type": "markdown"
   },
   "source": [
    "---\n",
    "\n",
    "### &diams; Exercise 6\n",
    "\n",
    "Calculate the residual for each observation and store it in a column named `resid`. Using this new column create a residual plot (scatter plot of `volume` vs `resid`) for this model. Color the points based on the `cover` type of each book. "
   ]
  },
  {
   "cell_type": "code",
   "execution_count": null,
   "metadata": {
    "cell_id": "00042-2c8ed59a-75d5-482d-b5da-241c1e058e0f",
    "deepnote_cell_type": "code",
    "deepnote_to_be_reexecuted": false,
    "execution_millis": 279,
    "execution_start": 1611238690027,
    "output_cleared": false,
    "source_hash": "4c058cdd"
   },
   "outputs": [
    {
     "data": {
      "text/plain": [
       "<AxesSubplot:xlabel='volume', ylabel='resid'>"
      ]
     },
     "execution_count": 15,
     "metadata": {},
     "output_type": "execute_result"
    },
    {
     "data": {
      "image/png": "[encoded data removed]",
      "text/plain": [
       "<Figure size 640x400 with 1 Axes>"
      ]
     },
     "metadata": {
      "needs_background": "light"
     },
     "output_type": "display_data"
    }
   ],
   "source": [
    "books[\"resid\"] = books.weight - books.weight_ls_pred\n",
    "sns.scatterplot(x=\"volume\", y=\"resid\", hue=\"cover\", data=books)"
   ]
  },
  {
   "cell_type": "markdown",
   "metadata": {
    "cell_id": "00043-6f14283a-42e8-489c-ae08-16f363bb022d",
    "deepnote_cell_type": "markdown"
   },
   "source": [
    "---\n",
    "\n",
    "### &diams; Exercise 7\n",
    "\n",
    "Are there any particular issues we should be concerned about with this model based on what you see in your residual plot?"
   ]
  },
  {
   "cell_type": "markdown",
   "metadata": {
    "cell_id": "00044-a439c965-a5a6-437c-9324-df0aff4a1525",
    "deepnote_cell_type": "markdown"
   },
   "source": [
    "*All of the paperback boooks have negative residuals (except for 1) and all of the hardcover books have positive residuals.*"
   ]
  },
  {
   "cell_type": "markdown",
   "metadata": {
    "cell_id": "00045-2510df6f-73e5-4a95-a0e6-84c3fcfc0d85",
    "deepnote_cell_type": "markdown"
   },
   "source": [
    "---\n",
    "\n",
    "## 2. Regression with Categorical Variables\n",
    "\n"
   ]
  },
  {
   "cell_type": "markdown",
   "metadata": {
    "cell_id": "00046-c8a96bcf-e22c-455d-b8f7-38de9f5226d0",
    "deepnote_cell_type": "markdown"
   },
   "source": [
    "### 2.1 Dummy Coding"
   ]
  },
  {
   "cell_type": "markdown",
   "metadata": {
    "cell_id": "00047-468c75ad-fcb3-4887-a165-c6d54e30a250",
    "deepnote_cell_type": "markdown"
   },
   "source": [
    "Based on these results, it should be clear that it is important that our model include information about whether or not a book is a hardback or paperback. As such, we need a way of encoding this information into our modeling framework. To do this we need a way of converting our string / categorical variable into a numeric representation that can be included in our model matrix.\n",
    "\n",
    "The most common approach for doing this is called dummy coding, in the case of a binary categorical variable it involves picking one of the two levels of the categorical variable and encoding it as 1 and the other level as 0. With Python we can accomplish this by comparing our categorical vector to the value of our choice and then casting (converting) the result to an integer type.\n",
    "\n",
    "For example if we wanted to code `hb` as 1 and `pb` as 0 we would do the following,"
   ]
  },
  {
   "cell_type": "code",
   "execution_count": null,
   "metadata": {
    "cell_id": "00048-e0a6938a-2785-45be-8495-613bd782b146",
    "deepnote_cell_type": "code",
    "deepnote_to_be_reexecuted": false,
    "execution_millis": 20,
    "execution_start": 1611238690330,
    "output_cleared": false,
    "source_hash": "a24645f8"
   },
   "outputs": [
    {
     "data": {
      "application/vnd.deepnote.dataframe.v2+json": {
       "column_count": 8,
       "columns": [
        {
         "dtype": "int64",
         "name": "volume",
         "stats": {
          "histogram": [
           {
            "bin_end": 364.3,
            "bin_start": 239,
            "count": 1
           },
           {
            "bin_end": 489.6,
            "bin_start": 364.3,
            "count": 2
           },
           {
            "bin_end": 614.9,
            "bin_start": 489.6,
            "count": 1
           },
           {
            "bin_end": 740.2,
            "bin_start": 614.9,
            "count": 2
           },
           {
            "bin_end": 865.5,
            "bin_start": 740.2,
            "count": 0
           },
           {
            "bin_end": 990.8,
            "bin_start": 865.5,
            "count": 3
           },
           {
            "bin_end": 1116.1,
            "bin_start": 990.8,
            "count": 3
           },
           {
            "bin_end": 1241.4,
            "bin_start": 1116.1,
            "count": 2
           },
           {
            "bin_end": 1366.7,
            "bin_start": 1241.4,
            "count": 0
           },
           {
            "bin_end": 1492,
            "bin_start": 1366.7,
            "count": 1
           }
          ],
          "max": 1492,
          "min": 239,
          "nan_count": 0,
          "unique_count": 15
         }
        },
        {
         "dtype": "int64",
         "name": "area",
         "stats": {
          "histogram": [
           {
            "bin_end": 46.8,
            "bin_start": 0,
            "count": 8
           },
           {
            "bin_end": 93.6,
            "bin_start": 46.8,
            "count": 0
           },
           {
            "bin_end": 140.39999999999998,
            "bin_start": 93.6,
            "count": 0
           },
           {
            "bin_end": 187.2,
            "bin_start": 140.39999999999998,
            "count": 0
           },
           {
            "bin_end": 234,
            "bin_start": 187.2,
            "count": 0
           },
           {
            "bin_end": 280.79999999999995,
            "bin_start": 234,
            "count": 0
           },
           {
            "bin_end": 327.59999999999997,
            "bin_start": 280.79999999999995,
            "count": 0
           },
           {
            "bin_end": 374.4,
            "bin_start": 327.59999999999997,
            "count": 3
           },
           {
            "bin_end": 421.2,
            "bin_start": 374.4,
            "count": 3
           },
           {
            "bin_end": 468,
            "bin_start": 421.2,
            "count": 1
           }
          ],
          "max": 468,
          "min": 0,
          "nan_count": 0,
          "unique_count": 7
         }
        },
        {
         "dtype": "int64",
         "name": "weight",
         "stats": {
          "histogram": [
           {
            "bin_end": 332.5,
            "bin_start": 250,
            "count": 1
           },
           {
            "bin_end": 415,
            "bin_start": 332.5,
            "count": 2
           },
           {
            "bin_end": 497.5,
            "bin_start": 415,
            "count": 1
           },
           {
            "bin_end": 580,
            "bin_start": 497.5,
            "count": 0
           },
           {
            "bin_end": 662.5,
            "bin_start": 580,
            "count": 2
           },
           {
            "bin_end": 745,
            "bin_start": 662.5,
            "count": 2
           },
           {
            "bin_end": 827.5,
            "bin_start": 745,
            "count": 2
           },
           {
            "bin_end": 910,
            "bin_start": 827.5,
            "count": 0
           },
           {
            "bin_end": 992.5,
            "bin_start": 910,
            "count": 3
           },
           {
            "bin_end": 1075,
            "bin_start": 992.5,
            "count": 2
           }
          ],
          "max": 1075,
          "min": 250,
          "nan_count": 0,
          "unique_count": 13
         }
        },
        {
         "dtype": "object",
         "name": "cover",
         "stats": {
          "categories": [
           {
            "count": 8,
            "name": "pb"
           },
           {
            "count": 7,
            "name": "hb"
           }
          ],
          "nan_count": 0,
          "unique_count": 2
         }
        },
        {
         "dtype": "float64",
         "name": "weight_ls_pred",
         "stats": {
          "histogram": [
           {
            "bin_end": 365.8358219436089,
            "bin_start": 277.0435878792957,
            "count": 1
           },
           {
            "bin_end": 454.62805600792205,
            "bin_start": 365.8358219436089,
            "count": 2
           },
           {
            "bin_end": 543.4202900722352,
            "bin_start": 454.62805600792205,
            "count": 1
           },
           {
            "bin_end": 632.2125241365484,
            "bin_start": 543.4202900722352,
            "count": 2
           },
           {
            "bin_end": 721.0047582008615,
            "bin_start": 632.2125241365484,
            "count": 0
           },
           {
            "bin_end": 809.7969922651746,
            "bin_start": 721.0047582008615,
            "count": 3
           },
           {
            "bin_end": 898.5892263294878,
            "bin_start": 809.7969922651746,
            "count": 3
           },
           {
            "bin_end": 987.3814603938009,
            "bin_start": 898.5892263294878,
            "count": 2
           },
           {
            "bin_end": 1076.173694458114,
            "bin_start": 987.3814603938009,
            "count": 0
           },
           {
            "bin_end": 1164.9659285224272,
            "bin_start": 1076.173694458114,
            "count": 1
           }
          ],
          "max": 1164.9659285224272,
          "min": 277.0435878792957,
          "nan_count": 0,
          "unique_count": 15
         }
        },
        {
         "dtype": "float64",
         "name": "weight_sk_pred",
         "stats": {
          "histogram": [
           {
            "bin_end": 365.8358219436089,
            "bin_start": 277.0435878792957,
            "count": 1
           },
           {
            "bin_end": 454.62805600792205,
            "bin_start": 365.8358219436089,
            "count": 2
           },
           {
            "bin_end": 543.4202900722352,
            "bin_start": 454.62805600792205,
            "count": 1
           },
           {
            "bin_end": 632.2125241365484,
            "bin_start": 543.4202900722352,
            "count": 2
           },
           {
            "bin_end": 721.0047582008615,
            "bin_start": 632.2125241365484,
            "count": 0
           },
           {
            "bin_end": 809.7969922651746,
            "bin_start": 721.0047582008615,
            "count": 3
           },
           {
            "bin_end": 898.5892263294878,
            "bin_start": 809.7969922651746,
            "count": 3
           },
           {
            "bin_end": 987.3814603938009,
            "bin_start": 898.5892263294878,
            "count": 2
           },
           {
            "bin_end": 1076.173694458114,
            "bin_start": 987.3814603938009,
            "count": 0
           },
           {
            "bin_end": 1164.9659285224272,
            "bin_start": 1076.173694458114,
            "count": 1
           }
          ],
          "max": 1164.9659285224272,
          "min": 277.0435878792957,
          "nan_count": 0,
          "unique_count": 15
         }
        },
        {
         "dtype": "float64",
         "name": "resid",
         "stats": {
          "histogram": [
           {
            "bin_end": -156.41273048182734,
            "bin_start": -189.96592852242725,
            "count": 1
           },
           {
            "bin_end": -122.8595324412274,
            "bin_start": -156.41273048182734,
            "count": 1
           },
           {
            "bin_end": -89.30633440062748,
            "bin_start": -122.8595324412274,
            "count": 3
           },
           {
            "bin_end": -55.753136360027554,
            "bin_start": -89.30633440062748,
            "count": 1
           },
           {
            "bin_end": -22.199938319427645,
            "bin_start": -55.753136360027554,
            "count": 1
           },
           {
            "bin_end": 11.353259721172293,
            "bin_start": -22.199938319427645,
            "count": 0
           },
           {
            "bin_end": 44.90645776177223,
            "bin_start": 11.353259721172293,
            "count": 1
           },
           {
            "bin_end": 78.45965580237214,
            "bin_start": 44.90645776177223,
            "count": 2
           },
           {
            "bin_end": 112.01285384297205,
            "bin_start": 78.45965580237214,
            "count": 1
           },
           {
            "bin_end": 145.56605188357196,
            "bin_start": 112.01285384297205,
            "count": 4
           }
          ],
          "max": 145.56605188357196,
          "min": -189.96592852242725,
          "nan_count": 0,
          "unique_count": 15
         }
        },
        {
         "dtype": "int64",
         "name": "cover_hb",
         "stats": {
          "histogram": [
           {
            "bin_end": 0.1,
            "bin_start": 0,
            "count": 8
           },
           {
            "bin_end": 0.2,
            "bin_start": 0.1,
            "count": 0
           },
           {
            "bin_end": 0.30000000000000004,
            "bin_start": 0.2,
            "count": 0
           },
           {
            "bin_end": 0.4,
            "bin_start": 0.30000000000000004,
            "count": 0
           },
           {
            "bin_end": 0.5,
            "bin_start": 0.4,
            "count": 0
           },
           {
            "bin_end": 0.6000000000000001,
            "bin_start": 0.5,
            "count": 0
           },
           {
            "bin_end": 0.7000000000000001,
            "bin_start": 0.6000000000000001,
            "count": 0
           },
           {
            "bin_end": 0.8,
            "bin_start": 0.7000000000000001,
            "count": 0
           },
           {
            "bin_end": 0.9,
            "bin_start": 0.8,
            "count": 0
           },
           {
            "bin_end": 1,
            "bin_start": 0.9,
            "count": 7
           }
          ],
          "max": 1,
          "min": 0,
          "nan_count": 0,
          "unique_count": 2
         }
        },
        {
         "dtype": "int64",
         "name": "_deepnote_index_column"
        }
       ],
       "row_count": 15,
       "rows_bottom": null,
       "rows_top": [
        {
         "_deepnote_index_column": 0,
         "area": 382,
         "cover": "hb",
         "cover_hb": 1,
         "resid": 65.17681750341546,
         "volume": 885,
         "weight": 800,
         "weight_ls_pred": 734.8231824965845,
         "weight_sk_pred": 734.8231824965845
        },
        {
         "_deepnote_index_column": 1,
         "area": 468,
         "cover": "hb",
         "cover_hb": 1,
         "resid": 122.34535172189089,
         "volume": 1016,
         "weight": 950,
         "weight_ls_pred": 827.6546482781091,
         "weight_sk_pred": 827.6546482781091
        },
        {
         "_deepnote_index_column": 2,
         "area": 387,
         "cover": "hb",
         "cover_hb": 1,
         "resid": 145.10390309451554,
         "volume": 1125,
         "weight": 1050,
         "weight_ls_pred": 904.8960969054845,
         "weight_sk_pred": 904.8960969054845
        },
        {
         "_deepnote_index_column": 3,
         "area": 371,
         "cover": "hb",
         "cover_hb": 1,
         "resid": 72.95641212070427,
         "volume": 239,
         "weight": 350,
         "weight_ls_pred": 277.0435878792957,
         "weight_sk_pred": 277.0435878792957
        },
        {
         "_deepnote_index_column": 4,
         "area": 371,
         "cover": "hb",
         "cover_hb": 1,
         "resid": 145.56605188357196,
         "volume": 701,
         "weight": 750,
         "weight_ls_pred": 604.433948116428,
         "weight_sk_pred": 604.433948116428
        },
        {
         "_deepnote_index_column": 5,
         "area": 367,
         "cover": "hb",
         "cover_hb": 1,
         "resid": 38.08428048579697,
         "volume": 641,
         "weight": 600,
         "weight_ls_pred": 561.915719514203,
         "weight_sk_pred": 561.915719514203
        },
        {
         "_deepnote_index_column": 6,
         "area": 396,
         "cover": "hb",
         "cover_hb": 1,
         "resid": 97.11427732736274,
         "volume": 1228,
         "weight": 1075,
         "weight_ls_pred": 977.8857226726373,
         "weight_sk_pred": 977.8857226726373
        },
        {
         "_deepnote_index_column": 7,
         "area": 0,
         "cover": "pb",
         "cover_hb": 0,
         "resid": -149.63781368237767,
         "volume": 412,
         "weight": 250,
         "weight_ls_pred": 399.63781368237767,
         "weight_sk_pred": 399.6378136823777
        },
        {
         "_deepnote_index_column": 8,
         "area": 0,
         "cover": "pb",
         "cover_hb": 0,
         "resid": -83.01050824577283,
         "volume": 953,
         "weight": 700,
         "weight_ls_pred": 783.0105082457728,
         "weight_sk_pred": 783.0105082457728
        },
        {
         "_deepnote_index_column": 9,
         "area": 0,
         "cover": "pb",
         "cover_hb": 0,
         "resid": -116.00321680488287,
         "volume": 929,
         "weight": 650,
         "weight_ls_pred": 766.0032168048829,
         "weight_sk_pred": 766.0032168048829
        },
        {
         "_deepnote_index_column": 10,
         "area": 0,
         "cover": "pb",
         "cover_hb": 0,
         "resid": -189.96592852242725,
         "volume": 1492,
         "weight": 975,
         "weight_ls_pred": 1164.9659285224272,
         "weight_sk_pred": 1164.9659285224272
        },
        {
         "_deepnote_index_column": 11,
         "area": 0,
         "cover": "pb",
         "cover_hb": 0,
         "resid": -54.59827368597064,
         "volume": 419,
         "weight": 350,
         "weight_ls_pred": 404.59827368597064,
         "weight_sk_pred": 404.59827368597064
        },
        {
         "_deepnote_index_column": 12,
         "area": 0,
         "cover": "pb",
         "cover_hb": 0,
         "resid": 126.59717458211344,
         "volume": 1010,
         "weight": 950,
         "weight_ls_pred": 823.4028254178866,
         "weight_sk_pred": 823.4028254178866
        },
        {
         "_deepnote_index_column": 13,
         "area": 0,
         "cover": "pb",
         "cover_hb": 0,
         "resid": -104.31841091916385,
         "volume": 595,
         "weight": 425,
         "weight_ls_pred": 529.3184109191639,
         "weight_sk_pred": 529.3184109191639
        },
        {
         "_deepnote_index_column": 14,
         "area": 0,
         "cover": "pb",
         "cover_hb": 0,
         "resid": -115.41011685877652,
         "volume": 1034,
         "weight": 725,
         "weight_ls_pred": 840.4101168587765,
         "weight_sk_pred": 840.4101168587765
        }
       ]
      },
      "text/html": [
       "<div>\n",
       "<style scoped>\n",
       "    .dataframe tbody tr th:only-of-type {\n",
       "        vertical-align: middle;\n",
       "    }\n",
       "\n",
       "    .dataframe tbody tr th {\n",
       "        vertical-align: top;\n",
       "    }\n",
       "\n",
       "    .dataframe thead th {\n",
       "        text-align: right;\n",
       "    }\n",
       "</style>\n",
       "<table border=\"1\" class=\"dataframe\">\n",
       "  <thead>\n",
       "    <tr style=\"text-align: right;\">\n",
       "      <th></th>\n",
       "      <th>volume</th>\n",
       "      <th>area</th>\n",
       "      <th>weight</th>\n",
       "      <th>cover</th>\n",
       "      <th>weight_ls_pred</th>\n",
       "      <th>weight_sk_pred</th>\n",
       "      <th>resid</th>\n",
       "      <th>cover_hb</th>\n",
       "    </tr>\n",
       "  </thead>\n",
       "  <tbody>\n",
       "    <tr>\n",
       "      <th>0</th>\n",
       "      <td>885</td>\n",
       "      <td>382</td>\n",
       "      <td>800</td>\n",
       "      <td>hb</td>\n",
       "      <td>734.823182</td>\n",
       "      <td>734.823182</td>\n",
       "      <td>65.176818</td>\n",
       "      <td>1</td>\n",
       "    </tr>\n",
       "    <tr>\n",
       "      <th>1</th>\n",
       "      <td>1016</td>\n",
       "      <td>468</td>\n",
       "      <td>950</td>\n",
       "      <td>hb</td>\n",
       "      <td>827.654648</td>\n",
       "      <td>827.654648</td>\n",
       "      <td>122.345352</td>\n",
       "      <td>1</td>\n",
       "    </tr>\n",
       "    <tr>\n",
       "      <th>2</th>\n",
       "      <td>1125</td>\n",
       "      <td>387</td>\n",
       "      <td>1050</td>\n",
       "      <td>hb</td>\n",
       "      <td>904.896097</td>\n",
       "      <td>904.896097</td>\n",
       "      <td>145.103903</td>\n",
       "      <td>1</td>\n",
       "    </tr>\n",
       "    <tr>\n",
       "      <th>3</th>\n",
       "      <td>239</td>\n",
       "      <td>371</td>\n",
       "      <td>350</td>\n",
       "      <td>hb</td>\n",
       "      <td>277.043588</td>\n",
       "      <td>277.043588</td>\n",
       "      <td>72.956412</td>\n",
       "      <td>1</td>\n",
       "    </tr>\n",
       "    <tr>\n",
       "      <th>4</th>\n",
       "      <td>701</td>\n",
       "      <td>371</td>\n",
       "      <td>750</td>\n",
       "      <td>hb</td>\n",
       "      <td>604.433948</td>\n",
       "      <td>604.433948</td>\n",
       "      <td>145.566052</td>\n",
       "      <td>1</td>\n",
       "    </tr>\n",
       "    <tr>\n",
       "      <th>5</th>\n",
       "      <td>641</td>\n",
       "      <td>367</td>\n",
       "      <td>600</td>\n",
       "      <td>hb</td>\n",
       "      <td>561.915720</td>\n",
       "      <td>561.915720</td>\n",
       "      <td>38.084280</td>\n",
       "      <td>1</td>\n",
       "    </tr>\n",
       "    <tr>\n",
       "      <th>6</th>\n",
       "      <td>1228</td>\n",
       "      <td>396</td>\n",
       "      <td>1075</td>\n",
       "      <td>hb</td>\n",
       "      <td>977.885723</td>\n",
       "      <td>977.885723</td>\n",
       "      <td>97.114277</td>\n",
       "      <td>1</td>\n",
       "    </tr>\n",
       "    <tr>\n",
       "      <th>7</th>\n",
       "      <td>412</td>\n",
       "      <td>0</td>\n",
       "      <td>250</td>\n",
       "      <td>pb</td>\n",
       "      <td>399.637814</td>\n",
       "      <td>399.637814</td>\n",
       "      <td>-149.637814</td>\n",
       "      <td>0</td>\n",
       "    </tr>\n",
       "    <tr>\n",
       "      <th>8</th>\n",
       "      <td>953</td>\n",
       "      <td>0</td>\n",
       "      <td>700</td>\n",
       "      <td>pb</td>\n",
       "      <td>783.010508</td>\n",
       "      <td>783.010508</td>\n",
       "      <td>-83.010508</td>\n",
       "      <td>0</td>\n",
       "    </tr>\n",
       "    <tr>\n",
       "      <th>9</th>\n",
       "      <td>929</td>\n",
       "      <td>0</td>\n",
       "      <td>650</td>\n",
       "      <td>pb</td>\n",
       "      <td>766.003217</td>\n",
       "      <td>766.003217</td>\n",
       "      <td>-116.003217</td>\n",
       "      <td>0</td>\n",
       "    </tr>\n",
       "    <tr>\n",
       "      <th>10</th>\n",
       "      <td>1492</td>\n",
       "      <td>0</td>\n",
       "      <td>975</td>\n",
       "      <td>pb</td>\n",
       "      <td>1164.965929</td>\n",
       "      <td>1164.965929</td>\n",
       "      <td>-189.965929</td>\n",
       "      <td>0</td>\n",
       "    </tr>\n",
       "    <tr>\n",
       "      <th>11</th>\n",
       "      <td>419</td>\n",
       "      <td>0</td>\n",
       "      <td>350</td>\n",
       "      <td>pb</td>\n",
       "      <td>404.598274</td>\n",
       "      <td>404.598274</td>\n",
       "      <td>-54.598274</td>\n",
       "      <td>0</td>\n",
       "    </tr>\n",
       "    <tr>\n",
       "      <th>12</th>\n",
       "      <td>1010</td>\n",
       "      <td>0</td>\n",
       "      <td>950</td>\n",
       "      <td>pb</td>\n",
       "      <td>823.402825</td>\n",
       "      <td>823.402825</td>\n",
       "      <td>126.597175</td>\n",
       "      <td>0</td>\n",
       "    </tr>\n",
       "    <tr>\n",
       "      <th>13</th>\n",
       "      <td>595</td>\n",
       "      <td>0</td>\n",
       "      <td>425</td>\n",
       "      <td>pb</td>\n",
       "      <td>529.318411</td>\n",
       "      <td>529.318411</td>\n",
       "      <td>-104.318411</td>\n",
       "      <td>0</td>\n",
       "    </tr>\n",
       "    <tr>\n",
       "      <th>14</th>\n",
       "      <td>1034</td>\n",
       "      <td>0</td>\n",
       "      <td>725</td>\n",
       "      <td>pb</td>\n",
       "      <td>840.410117</td>\n",
       "      <td>840.410117</td>\n",
       "      <td>-115.410117</td>\n",
       "      <td>0</td>\n",
       "    </tr>\n",
       "  </tbody>\n",
       "</table>\n",
       "</div>"
      ],
      "text/plain": [
       "    volume  area  weight cover  weight_ls_pred  weight_sk_pred       resid  \\\n",
       "0      885   382     800    hb      734.823182      734.823182   65.176818   \n",
       "1     1016   468     950    hb      827.654648      827.654648  122.345352   \n",
       "2     1125   387    1050    hb      904.896097      904.896097  145.103903   \n",
       "3      239   371     350    hb      277.043588      277.043588   72.956412   \n",
       "4      701   371     750    hb      604.433948      604.433948  145.566052   \n",
       "5      641   367     600    hb      561.915720      561.915720   38.084280   \n",
       "6     1228   396    1075    hb      977.885723      977.885723   97.114277   \n",
       "7      412     0     250    pb      399.637814      399.637814 -149.637814   \n",
       "8      953     0     700    pb      783.010508      783.010508  -83.010508   \n",
       "9      929     0     650    pb      766.003217      766.003217 -116.003217   \n",
       "10    1492     0     975    pb     1164.965929     1164.965929 -189.965929   \n",
       "11     419     0     350    pb      404.598274      404.598274  -54.598274   \n",
       "12    1010     0     950    pb      823.402825      823.402825  126.597175   \n",
       "13     595     0     425    pb      529.318411      529.318411 -104.318411   \n",
       "14    1034     0     725    pb      840.410117      840.410117 -115.410117   \n",
       "\n",
       "    cover_hb  \n",
       "0          1  \n",
       "1          1  \n",
       "2          1  \n",
       "3          1  \n",
       "4          1  \n",
       "5          1  \n",
       "6          1  \n",
       "7          0  \n",
       "8          0  \n",
       "9          0  \n",
       "10         0  \n",
       "11         0  \n",
       "12         0  \n",
       "13         0  \n",
       "14         0  "
      ]
     },
     "execution_count": 16,
     "metadata": {},
     "output_type": "execute_result"
    }
   ],
   "source": [
    "books[\"cover_hb\"] = (books.cover == \"hb\").astype(int) # Returns either 0 or 1\n",
    "books"
   ]
  },
  {
   "cell_type": "markdown",
   "metadata": {
    "cell_id": "00049-4d15a469-b618-486d-bccd-871ee7b40a5e",
    "deepnote_cell_type": "markdown"
   },
   "source": [
    "This is equivalent to using an indicator function in mathematical notation,\n",
    "\n",
    "$$ \n",
    "\\mathbb{1}_{hb_i} = \n",
    "\\begin{cases}\n",
    "1 & \\text {if cover of book $i$ is hardback} \\\\\n",
    "0 & \\text {if cover of book $i$ is paperback}\n",
    "\\end{cases}\n",
    "$$\n",
    "\n",
    "Alternatively, we can defined the opposite of this where we code `hardback` as 0 and `paperback` as 1,\n"
   ]
  },
  {
   "cell_type": "code",
   "execution_count": null,
   "metadata": {
    "cell_id": "00050-23300ecd-113d-41d8-a559-3a5de5616782",
    "deepnote_cell_type": "code",
    "deepnote_to_be_reexecuted": false,
    "execution_millis": 41,
    "execution_start": 1611238690353,
    "output_cleared": false,
    "source_hash": "efa15440"
   },
   "outputs": [
    {
     "data": {
      "application/vnd.deepnote.dataframe.v2+json": {
       "column_count": 9,
       "columns": [
        {
         "dtype": "int64",
         "name": "volume",
         "stats": {
          "histogram": [
           {
            "bin_end": 364.3,
            "bin_start": 239,
            "count": 1
           },
           {
            "bin_end": 489.6,
            "bin_start": 364.3,
            "count": 2
           },
           {
            "bin_end": 614.9,
            "bin_start": 489.6,
            "count": 1
           },
           {
            "bin_end": 740.2,
            "bin_start": 614.9,
            "count": 2
           },
           {
            "bin_end": 865.5,
            "bin_start": 740.2,
            "count": 0
           },
           {
            "bin_end": 990.8,
            "bin_start": 865.5,
            "count": 3
           },
           {
            "bin_end": 1116.1,
            "bin_start": 990.8,
            "count": 3
           },
           {
            "bin_end": 1241.4,
            "bin_start": 1116.1,
            "count": 2
           },
           {
            "bin_end": 1366.7,
            "bin_start": 1241.4,
            "count": 0
           },
           {
            "bin_end": 1492,
            "bin_start": 1366.7,
            "count": 1
           }
          ],
          "max": 1492,
          "min": 239,
          "nan_count": 0,
          "unique_count": 15
         }
        },
        {
         "dtype": "int64",
         "name": "area",
         "stats": {
          "histogram": [
           {
            "bin_end": 46.8,
            "bin_start": 0,
            "count": 8
           },
           {
            "bin_end": 93.6,
            "bin_start": 46.8,
            "count": 0
           },
           {
            "bin_end": 140.39999999999998,
            "bin_start": 93.6,
            "count": 0
           },
           {
            "bin_end": 187.2,
            "bin_start": 140.39999999999998,
            "count": 0
           },
           {
            "bin_end": 234,
            "bin_start": 187.2,
            "count": 0
           },
           {
            "bin_end": 280.79999999999995,
            "bin_start": 234,
            "count": 0
           },
           {
            "bin_end": 327.59999999999997,
            "bin_start": 280.79999999999995,
            "count": 0
           },
           {
            "bin_end": 374.4,
            "bin_start": 327.59999999999997,
            "count": 3
           },
           {
            "bin_end": 421.2,
            "bin_start": 374.4,
            "count": 3
           },
           {
            "bin_end": 468,
            "bin_start": 421.2,
            "count": 1
           }
          ],
          "max": 468,
          "min": 0,
          "nan_count": 0,
          "unique_count": 7
         }
        },
        {
         "dtype": "int64",
         "name": "weight",
         "stats": {
          "histogram": [
           {
            "bin_end": 332.5,
            "bin_start": 250,
            "count": 1
           },
           {
            "bin_end": 415,
            "bin_start": 332.5,
            "count": 2
           },
           {
            "bin_end": 497.5,
            "bin_start": 415,
            "count": 1
           },
           {
            "bin_end": 580,
            "bin_start": 497.5,
            "count": 0
           },
           {
            "bin_end": 662.5,
            "bin_start": 580,
            "count": 2
           },
           {
            "bin_end": 745,
            "bin_start": 662.5,
            "count": 2
           },
           {
            "bin_end": 827.5,
            "bin_start": 745,
            "count": 2
           },
           {
            "bin_end": 910,
            "bin_start": 827.5,
            "count": 0
           },
           {
            "bin_end": 992.5,
            "bin_start": 910,
            "count": 3
           },
           {
            "bin_end": 1075,
            "bin_start": 992.5,
            "count": 2
           }
          ],
          "max": 1075,
          "min": 250,
          "nan_count": 0,
          "unique_count": 13
         }
        },
        {
         "dtype": "object",
         "name": "cover",
         "stats": {
          "categories": [
           {
            "count": 8,
            "name": "pb"
           },
           {
            "count": 7,
            "name": "hb"
           }
          ],
          "nan_count": 0,
          "unique_count": 2
         }
        },
        {
         "dtype": "float64",
         "name": "weight_ls_pred",
         "stats": {
          "histogram": [
           {
            "bin_end": 365.8358219436089,
            "bin_start": 277.0435878792957,
            "count": 1
           },
           {
            "bin_end": 454.62805600792205,
            "bin_start": 365.8358219436089,
            "count": 2
           },
           {
            "bin_end": 543.4202900722352,
            "bin_start": 454.62805600792205,
            "count": 1
           },
           {
            "bin_end": 632.2125241365484,
            "bin_start": 543.4202900722352,
            "count": 2
           },
           {
            "bin_end": 721.0047582008615,
            "bin_start": 632.2125241365484,
            "count": 0
           },
           {
            "bin_end": 809.7969922651746,
            "bin_start": 721.0047582008615,
            "count": 3
           },
           {
            "bin_end": 898.5892263294878,
            "bin_start": 809.7969922651746,
            "count": 3
           },
           {
            "bin_end": 987.3814603938009,
            "bin_start": 898.5892263294878,
            "count": 2
           },
           {
            "bin_end": 1076.173694458114,
            "bin_start": 987.3814603938009,
            "count": 0
           },
           {
            "bin_end": 1164.9659285224272,
            "bin_start": 1076.173694458114,
            "count": 1
           }
          ],
          "max": 1164.9659285224272,
          "min": 277.0435878792957,
          "nan_count": 0,
          "unique_count": 15
         }
        },
        {
         "dtype": "float64",
         "name": "weight_sk_pred",
         "stats": {
          "histogram": [
           {
            "bin_end": 365.8358219436089,
            "bin_start": 277.0435878792957,
            "count": 1
           },
           {
            "bin_end": 454.62805600792205,
            "bin_start": 365.8358219436089,
            "count": 2
           },
           {
            "bin_end": 543.4202900722352,
            "bin_start": 454.62805600792205,
            "count": 1
           },
           {
            "bin_end": 632.2125241365484,
            "bin_start": 543.4202900722352,
            "count": 2
           },
           {
            "bin_end": 721.0047582008615,
            "bin_start": 632.2125241365484,
            "count": 0
           },
           {
            "bin_end": 809.7969922651746,
            "bin_start": 721.0047582008615,
            "count": 3
           },
           {
            "bin_end": 898.5892263294878,
            "bin_start": 809.7969922651746,
            "count": 3
           },
           {
            "bin_end": 987.3814603938009,
            "bin_start": 898.5892263294878,
            "count": 2
           },
           {
            "bin_end": 1076.173694458114,
            "bin_start": 987.3814603938009,
            "count": 0
           },
           {
            "bin_end": 1164.9659285224272,
            "bin_start": 1076.173694458114,
            "count": 1
           }
          ],
          "max": 1164.9659285224272,
          "min": 277.0435878792957,
          "nan_count": 0,
          "unique_count": 15
         }
        },
        {
         "dtype": "float64",
         "name": "resid",
         "stats": {
          "histogram": [
           {
            "bin_end": -156.41273048182734,
            "bin_start": -189.96592852242725,
            "count": 1
           },
           {
            "bin_end": -122.8595324412274,
            "bin_start": -156.41273048182734,
            "count": 1
           },
           {
            "bin_end": -89.30633440062748,
            "bin_start": -122.8595324412274,
            "count": 3
           },
           {
            "bin_end": -55.753136360027554,
            "bin_start": -89.30633440062748,
            "count": 1
           },
           {
            "bin_end": -22.199938319427645,
            "bin_start": -55.753136360027554,
            "count": 1
           },
           {
            "bin_end": 11.353259721172293,
            "bin_start": -22.199938319427645,
            "count": 0
           },
           {
            "bin_end": 44.90645776177223,
            "bin_start": 11.353259721172293,
            "count": 1
           },
           {
            "bin_end": 78.45965580237214,
            "bin_start": 44.90645776177223,
            "count": 2
           },
           {
            "bin_end": 112.01285384297205,
            "bin_start": 78.45965580237214,
            "count": 1
           },
           {
            "bin_end": 145.56605188357196,
            "bin_start": 112.01285384297205,
            "count": 4
           }
          ],
          "max": 145.56605188357196,
          "min": -189.96592852242725,
          "nan_count": 0,
          "unique_count": 15
         }
        },
        {
         "dtype": "int64",
         "name": "cover_hb",
         "stats": {
          "histogram": [
           {
            "bin_end": 0.1,
            "bin_start": 0,
            "count": 8
           },
           {
            "bin_end": 0.2,
            "bin_start": 0.1,
            "count": 0
           },
           {
            "bin_end": 0.30000000000000004,
            "bin_start": 0.2,
            "count": 0
           },
           {
            "bin_end": 0.4,
            "bin_start": 0.30000000000000004,
            "count": 0
           },
           {
            "bin_end": 0.5,
            "bin_start": 0.4,
            "count": 0
           },
           {
            "bin_end": 0.6000000000000001,
            "bin_start": 0.5,
            "count": 0
           },
           {
            "bin_end": 0.7000000000000001,
            "bin_start": 0.6000000000000001,
            "count": 0
           },
           {
            "bin_end": 0.8,
            "bin_start": 0.7000000000000001,
            "count": 0
           },
           {
            "bin_end": 0.9,
            "bin_start": 0.8,
            "count": 0
           },
           {
            "bin_end": 1,
            "bin_start": 0.9,
            "count": 7
           }
          ],
          "max": 1,
          "min": 0,
          "nan_count": 0,
          "unique_count": 2
         }
        },
        {
         "dtype": "int64",
         "name": "cover_pb",
         "stats": {
          "histogram": [
           {
            "bin_end": 0.1,
            "bin_start": 0,
            "count": 7
           },
           {
            "bin_end": 0.2,
            "bin_start": 0.1,
            "count": 0
           },
           {
            "bin_end": 0.30000000000000004,
            "bin_start": 0.2,
            "count": 0
           },
           {
            "bin_end": 0.4,
            "bin_start": 0.30000000000000004,
            "count": 0
           },
           {
            "bin_end": 0.5,
            "bin_start": 0.4,
            "count": 0
           },
           {
            "bin_end": 0.6000000000000001,
            "bin_start": 0.5,
            "count": 0
           },
           {
            "bin_end": 0.7000000000000001,
            "bin_start": 0.6000000000000001,
            "count": 0
           },
           {
            "bin_end": 0.8,
            "bin_start": 0.7000000000000001,
            "count": 0
           },
           {
            "bin_end": 0.9,
            "bin_start": 0.8,
            "count": 0
           },
           {
            "bin_end": 1,
            "bin_start": 0.9,
            "count": 8
           }
          ],
          "max": 1,
          "min": 0,
          "nan_count": 0,
          "unique_count": 2
         }
        },
        {
         "dtype": "int64",
         "name": "_deepnote_index_column"
        }
       ],
       "row_count": 15,
       "rows_bottom": null,
       "rows_top": [
        {
         "_deepnote_index_column": 0,
         "area": 382,
         "cover": "hb",
         "cover_hb": 1,
         "cover_pb": 0,
         "resid": 65.17681750341546,
         "volume": 885,
         "weight": 800,
         "weight_ls_pred": 734.8231824965845,
         "weight_sk_pred": 734.8231824965845
        },
        {
         "_deepnote_index_column": 1,
         "area": 468,
         "cover": "hb",
         "cover_hb": 1,
         "cover_pb": 0,
         "resid": 122.34535172189089,
         "volume": 1016,
         "weight": 950,
         "weight_ls_pred": 827.6546482781091,
         "weight_sk_pred": 827.6546482781091
        },
        {
         "_deepnote_index_column": 2,
         "area": 387,
         "cover": "hb",
         "cover_hb": 1,
         "cover_pb": 0,
         "resid": 145.10390309451554,
         "volume": 1125,
         "weight": 1050,
         "weight_ls_pred": 904.8960969054845,
         "weight_sk_pred": 904.8960969054845
        },
        {
         "_deepnote_index_column": 3,
         "area": 371,
         "cover": "hb",
         "cover_hb": 1,
         "cover_pb": 0,
         "resid": 72.95641212070427,
         "volume": 239,
         "weight": 350,
         "weight_ls_pred": 277.0435878792957,
         "weight_sk_pred": 277.0435878792957
        },
        {
         "_deepnote_index_column": 4,
         "area": 371,
         "cover": "hb",
         "cover_hb": 1,
         "cover_pb": 0,
         "resid": 145.56605188357196,
         "volume": 701,
         "weight": 750,
         "weight_ls_pred": 604.433948116428,
         "weight_sk_pred": 604.433948116428
        },
        {
         "_deepnote_index_column": 5,
         "area": 367,
         "cover": "hb",
         "cover_hb": 1,
         "cover_pb": 0,
         "resid": 38.08428048579697,
         "volume": 641,
         "weight": 600,
         "weight_ls_pred": 561.915719514203,
         "weight_sk_pred": 561.915719514203
        },
        {
         "_deepnote_index_column": 6,
         "area": 396,
         "cover": "hb",
         "cover_hb": 1,
         "cover_pb": 0,
         "resid": 97.11427732736274,
         "volume": 1228,
         "weight": 1075,
         "weight_ls_pred": 977.8857226726373,
         "weight_sk_pred": 977.8857226726373
        },
        {
         "_deepnote_index_column": 7,
         "area": 0,
         "cover": "pb",
         "cover_hb": 0,
         "cover_pb": 1,
         "resid": -149.63781368237767,
         "volume": 412,
         "weight": 250,
         "weight_ls_pred": 399.63781368237767,
         "weight_sk_pred": 399.6378136823777
        },
        {
         "_deepnote_index_column": 8,
         "area": 0,
         "cover": "pb",
         "cover_hb": 0,
         "cover_pb": 1,
         "resid": -83.01050824577283,
         "volume": 953,
         "weight": 700,
         "weight_ls_pred": 783.0105082457728,
         "weight_sk_pred": 783.0105082457728
        },
        {
         "_deepnote_index_column": 9,
         "area": 0,
         "cover": "pb",
         "cover_hb": 0,
         "cover_pb": 1,
         "resid": -116.00321680488287,
         "volume": 929,
         "weight": 650,
         "weight_ls_pred": 766.0032168048829,
         "weight_sk_pred": 766.0032168048829
        },
        {
         "_deepnote_index_column": 10,
         "area": 0,
         "cover": "pb",
         "cover_hb": 0,
         "cover_pb": 1,
         "resid": -189.96592852242725,
         "volume": 1492,
         "weight": 975,
         "weight_ls_pred": 1164.9659285224272,
         "weight_sk_pred": 1164.9659285224272
        },
        {
         "_deepnote_index_column": 11,
         "area": 0,
         "cover": "pb",
         "cover_hb": 0,
         "cover_pb": 1,
         "resid": -54.59827368597064,
         "volume": 419,
         "weight": 350,
         "weight_ls_pred": 404.59827368597064,
         "weight_sk_pred": 404.59827368597064
        },
        {
         "_deepnote_index_column": 12,
         "area": 0,
         "cover": "pb",
         "cover_hb": 0,
         "cover_pb": 1,
         "resid": 126.59717458211344,
         "volume": 1010,
         "weight": 950,
         "weight_ls_pred": 823.4028254178866,
         "weight_sk_pred": 823.4028254178866
        },
        {
         "_deepnote_index_column": 13,
         "area": 0,
         "cover": "pb",
         "cover_hb": 0,
         "cover_pb": 1,
         "resid": -104.31841091916385,
         "volume": 595,
         "weight": 425,
         "weight_ls_pred": 529.3184109191639,
         "weight_sk_pred": 529.3184109191639
        },
        {
         "_deepnote_index_column": 14,
         "area": 0,
         "cover": "pb",
         "cover_hb": 0,
         "cover_pb": 1,
         "resid": -115.41011685877652,
         "volume": 1034,
         "weight": 725,
         "weight_ls_pred": 840.4101168587765,
         "weight_sk_pred": 840.4101168587765
        }
       ]
      },
      "text/html": [
       "<div>\n",
       "<style scoped>\n",
       "    .dataframe tbody tr th:only-of-type {\n",
       "        vertical-align: middle;\n",
       "    }\n",
       "\n",
       "    .dataframe tbody tr th {\n",
       "        vertical-align: top;\n",
       "    }\n",
       "\n",
       "    .dataframe thead th {\n",
       "        text-align: right;\n",
       "    }\n",
       "</style>\n",
       "<table border=\"1\" class=\"dataframe\">\n",
       "  <thead>\n",
       "    <tr style=\"text-align: right;\">\n",
       "      <th></th>\n",
       "      <th>volume</th>\n",
       "      <th>area</th>\n",
       "      <th>weight</th>\n",
       "      <th>cover</th>\n",
       "      <th>weight_ls_pred</th>\n",
       "      <th>weight_sk_pred</th>\n",
       "      <th>resid</th>\n",
       "      <th>cover_hb</th>\n",
       "      <th>cover_pb</th>\n",
       "    </tr>\n",
       "  </thead>\n",
       "  <tbody>\n",
       "    <tr>\n",
       "      <th>0</th>\n",
       "      <td>885</td>\n",
       "      <td>382</td>\n",
       "      <td>800</td>\n",
       "      <td>hb</td>\n",
       "      <td>734.823182</td>\n",
       "      <td>734.823182</td>\n",
       "      <td>65.176818</td>\n",
       "      <td>1</td>\n",
       "      <td>0</td>\n",
       "    </tr>\n",
       "    <tr>\n",
       "      <th>1</th>\n",
       "      <td>1016</td>\n",
       "      <td>468</td>\n",
       "      <td>950</td>\n",
       "      <td>hb</td>\n",
       "      <td>827.654648</td>\n",
       "      <td>827.654648</td>\n",
       "      <td>122.345352</td>\n",
       "      <td>1</td>\n",
       "      <td>0</td>\n",
       "    </tr>\n",
       "    <tr>\n",
       "      <th>2</th>\n",
       "      <td>1125</td>\n",
       "      <td>387</td>\n",
       "      <td>1050</td>\n",
       "      <td>hb</td>\n",
       "      <td>904.896097</td>\n",
       "      <td>904.896097</td>\n",
       "      <td>145.103903</td>\n",
       "      <td>1</td>\n",
       "      <td>0</td>\n",
       "    </tr>\n",
       "    <tr>\n",
       "      <th>3</th>\n",
       "      <td>239</td>\n",
       "      <td>371</td>\n",
       "      <td>350</td>\n",
       "      <td>hb</td>\n",
       "      <td>277.043588</td>\n",
       "      <td>277.043588</td>\n",
       "      <td>72.956412</td>\n",
       "      <td>1</td>\n",
       "      <td>0</td>\n",
       "    </tr>\n",
       "    <tr>\n",
       "      <th>4</th>\n",
       "      <td>701</td>\n",
       "      <td>371</td>\n",
       "      <td>750</td>\n",
       "      <td>hb</td>\n",
       "      <td>604.433948</td>\n",
       "      <td>604.433948</td>\n",
       "      <td>145.566052</td>\n",
       "      <td>1</td>\n",
       "      <td>0</td>\n",
       "    </tr>\n",
       "    <tr>\n",
       "      <th>5</th>\n",
       "      <td>641</td>\n",
       "      <td>367</td>\n",
       "      <td>600</td>\n",
       "      <td>hb</td>\n",
       "      <td>561.915720</td>\n",
       "      <td>561.915720</td>\n",
       "      <td>38.084280</td>\n",
       "      <td>1</td>\n",
       "      <td>0</td>\n",
       "    </tr>\n",
       "    <tr>\n",
       "      <th>6</th>\n",
       "      <td>1228</td>\n",
       "      <td>396</td>\n",
       "      <td>1075</td>\n",
       "      <td>hb</td>\n",
       "      <td>977.885723</td>\n",
       "      <td>977.885723</td>\n",
       "      <td>97.114277</td>\n",
       "      <td>1</td>\n",
       "      <td>0</td>\n",
       "    </tr>\n",
       "    <tr>\n",
       "      <th>7</th>\n",
       "      <td>412</td>\n",
       "      <td>0</td>\n",
       "      <td>250</td>\n",
       "      <td>pb</td>\n",
       "      <td>399.637814</td>\n",
       "      <td>399.637814</td>\n",
       "      <td>-149.637814</td>\n",
       "      <td>0</td>\n",
       "      <td>1</td>\n",
       "    </tr>\n",
       "    <tr>\n",
       "      <th>8</th>\n",
       "      <td>953</td>\n",
       "      <td>0</td>\n",
       "      <td>700</td>\n",
       "      <td>pb</td>\n",
       "      <td>783.010508</td>\n",
       "      <td>783.010508</td>\n",
       "      <td>-83.010508</td>\n",
       "      <td>0</td>\n",
       "      <td>1</td>\n",
       "    </tr>\n",
       "    <tr>\n",
       "      <th>9</th>\n",
       "      <td>929</td>\n",
       "      <td>0</td>\n",
       "      <td>650</td>\n",
       "      <td>pb</td>\n",
       "      <td>766.003217</td>\n",
       "      <td>766.003217</td>\n",
       "      <td>-116.003217</td>\n",
       "      <td>0</td>\n",
       "      <td>1</td>\n",
       "    </tr>\n",
       "    <tr>\n",
       "      <th>10</th>\n",
       "      <td>1492</td>\n",
       "      <td>0</td>\n",
       "      <td>975</td>\n",
       "      <td>pb</td>\n",
       "      <td>1164.965929</td>\n",
       "      <td>1164.965929</td>\n",
       "      <td>-189.965929</td>\n",
       "      <td>0</td>\n",
       "      <td>1</td>\n",
       "    </tr>\n",
       "    <tr>\n",
       "      <th>11</th>\n",
       "      <td>419</td>\n",
       "      <td>0</td>\n",
       "      <td>350</td>\n",
       "      <td>pb</td>\n",
       "      <td>404.598274</td>\n",
       "      <td>404.598274</td>\n",
       "      <td>-54.598274</td>\n",
       "      <td>0</td>\n",
       "      <td>1</td>\n",
       "    </tr>\n",
       "    <tr>\n",
       "      <th>12</th>\n",
       "      <td>1010</td>\n",
       "      <td>0</td>\n",
       "      <td>950</td>\n",
       "      <td>pb</td>\n",
       "      <td>823.402825</td>\n",
       "      <td>823.402825</td>\n",
       "      <td>126.597175</td>\n",
       "      <td>0</td>\n",
       "      <td>1</td>\n",
       "    </tr>\n",
       "    <tr>\n",
       "      <th>13</th>\n",
       "      <td>595</td>\n",
       "      <td>0</td>\n",
       "      <td>425</td>\n",
       "      <td>pb</td>\n",
       "      <td>529.318411</td>\n",
       "      <td>529.318411</td>\n",
       "      <td>-104.318411</td>\n",
       "      <td>0</td>\n",
       "      <td>1</td>\n",
       "    </tr>\n",
       "    <tr>\n",
       "      <th>14</th>\n",
       "      <td>1034</td>\n",
       "      <td>0</td>\n",
       "      <td>725</td>\n",
       "      <td>pb</td>\n",
       "      <td>840.410117</td>\n",
       "      <td>840.410117</td>\n",
       "      <td>-115.410117</td>\n",
       "      <td>0</td>\n",
       "      <td>1</td>\n",
       "    </tr>\n",
       "  </tbody>\n",
       "</table>\n",
       "</div>"
      ],
      "text/plain": [
       "    volume  area  weight cover  weight_ls_pred  weight_sk_pred       resid  \\\n",
       "0      885   382     800    hb      734.823182      734.823182   65.176818   \n",
       "1     1016   468     950    hb      827.654648      827.654648  122.345352   \n",
       "2     1125   387    1050    hb      904.896097      904.896097  145.103903   \n",
       "3      239   371     350    hb      277.043588      277.043588   72.956412   \n",
       "4      701   371     750    hb      604.433948      604.433948  145.566052   \n",
       "5      641   367     600    hb      561.915720      561.915720   38.084280   \n",
       "6     1228   396    1075    hb      977.885723      977.885723   97.114277   \n",
       "7      412     0     250    pb      399.637814      399.637814 -149.637814   \n",
       "8      953     0     700    pb      783.010508      783.010508  -83.010508   \n",
       "9      929     0     650    pb      766.003217      766.003217 -116.003217   \n",
       "10    1492     0     975    pb     1164.965929     1164.965929 -189.965929   \n",
       "11     419     0     350    pb      404.598274      404.598274  -54.598274   \n",
       "12    1010     0     950    pb      823.402825      823.402825  126.597175   \n",
       "13     595     0     425    pb      529.318411      529.318411 -104.318411   \n",
       "14    1034     0     725    pb      840.410117      840.410117 -115.410117   \n",
       "\n",
       "    cover_hb  cover_pb  \n",
       "0          1         0  \n",
       "1          1         0  \n",
       "2          1         0  \n",
       "3          1         0  \n",
       "4          1         0  \n",
       "5          1         0  \n",
       "6          1         0  \n",
       "7          0         1  \n",
       "8          0         1  \n",
       "9          0         1  \n",
       "10         0         1  \n",
       "11         0         1  \n",
       "12         0         1  \n",
       "13         0         1  \n",
       "14         0         1  "
      ]
     },
     "execution_count": 17,
     "metadata": {},
     "output_type": "execute_result"
    }
   ],
   "source": [
    "books[\"cover_pb\"] = (books.cover == \"pb\").astype(int) # Returns either 0 or 1\n",
    "books"
   ]
  },
  {
   "cell_type": "markdown",
   "metadata": {
    "cell_id": "00051-ae64579f-1cea-4e7e-a044-10f7a2aee013",
    "deepnote_cell_type": "markdown"
   },
   "source": [
    "Now that we have recoded our categorical variable, `cover`, into a numerical variable we can fit a standard regression model with the form,\n",
    "\n",
    "$$ y_i = \\beta_0 + \\beta_1 \\, x_i + \\beta_2 \\, \\mathbb{1}_{hb_i} + \\epsilon_i $$\n",
    "\n",
    "which we can represent in matrix form using, $\\boldsymbol{y} = \\boldsymbol{X} \\boldsymbol{\\beta}$\n",
    "where $\\boldsymbol{X} = \\big[ \\boldsymbol{1},\\, \\boldsymbol{x},\\, \\boldsymbol{\\mathbb{1}_{hb}} \\big]$.\n",
    "\n",
    "Using Python, we can use the concatenate function with our 1s column, the `volume` column, and our new dummy coded indicator column, `cover_hb`,"
   ]
  },
  {
   "cell_type": "code",
   "execution_count": null,
   "metadata": {
    "cell_id": "00052-a2d2f82b-236a-4285-bb0c-c8477e3ae8df",
    "deepnote_cell_type": "code",
    "deepnote_to_be_reexecuted": false,
    "execution_millis": 7,
    "execution_start": 1611238690396,
    "output_cleared": false,
    "source_hash": "1b1e7939"
   },
   "outputs": [
    {
     "name": "stdout",
     "output_type": "stream",
     "text": [
      "[ 13.91557219   0.71795374 184.04727138]\n"
     ]
    }
   ],
   "source": [
    "X = np.c_[np.ones(len(y)), books.volume, books.cover_hb]\n",
    "l = LinearRegression(fit_intercept=False).fit(X, books.weight)\n",
    "\n",
    "beta = l.coef_\n",
    "\n",
    "print(beta)"
   ]
  },
  {
   "cell_type": "markdown",
   "metadata": {
    "cell_id": "00053-6b57cc0a-9f60-4df2-8bc4-7c69ac194de4",
    "deepnote_cell_type": "markdown"
   },
   "source": [
    "This gives us a regression equation of the form,\n",
    "\n",
    "$$ \n",
    "y_i = 13.9 + 0.72 \\, x_i + 184.0 \\, \\mathbb{1}_{hb_i} \n",
    "$$\n",
    "\n",
    "which can be rewritten as two separate line equations (one for each case of `cover`),\n",
    "\n",
    "$$\n",
    "y_i = \\begin{cases}\n",
    "        13.9 + 0.72 \\, x_i & \\text{if book cover $i$ is paperback} \\\\\n",
    "        (13.9 + 184.0) + 0.72 \\, x_i & \\text{if book cover $i$ is hardback} \\\\\n",
    "       \\end{cases}.\n",
    "$$\n",
    "\n",
    "We can calculate prediction points along those lines using the following Python code in which we hard code the possible values of $\\boldsymbol{\\mathbb{1}_{hb_i}}$"
   ]
  },
  {
   "cell_type": "code",
   "execution_count": null,
   "metadata": {
    "cell_id": "00054-0ddac0c5-1574-49ce-9363-aac34646813b",
    "deepnote_cell_type": "code",
    "deepnote_to_be_reexecuted": false,
    "execution_millis": 2,
    "execution_start": 1611238690446,
    "output_cleared": false,
    "source_hash": "a88804cf"
   },
   "outputs": [
    {
     "data": {
      "application/vnd.deepnote.dataframe.v2+json": {
       "column_count": 10,
       "columns": [
        {
         "dtype": "int64",
         "name": "volume",
         "stats": {
          "histogram": [
           {
            "bin_end": 364.3,
            "bin_start": 239,
            "count": 1
           },
           {
            "bin_end": 489.6,
            "bin_start": 364.3,
            "count": 2
           },
           {
            "bin_end": 614.9,
            "bin_start": 489.6,
            "count": 1
           },
           {
            "bin_end": 740.2,
            "bin_start": 614.9,
            "count": 2
           },
           {
            "bin_end": 865.5,
            "bin_start": 740.2,
            "count": 0
           },
           {
            "bin_end": 990.8,
            "bin_start": 865.5,
            "count": 3
           },
           {
            "bin_end": 1116.1,
            "bin_start": 990.8,
            "count": 3
           },
           {
            "bin_end": 1241.4,
            "bin_start": 1116.1,
            "count": 2
           },
           {
            "bin_end": 1366.7,
            "bin_start": 1241.4,
            "count": 0
           },
           {
            "bin_end": 1492,
            "bin_start": 1366.7,
            "count": 1
           }
          ],
          "max": 1492,
          "min": 239,
          "nan_count": 0,
          "unique_count": 15
         }
        },
        {
         "dtype": "int64",
         "name": "area",
         "stats": {
          "histogram": [
           {
            "bin_end": 46.8,
            "bin_start": 0,
            "count": 8
           },
           {
            "bin_end": 93.6,
            "bin_start": 46.8,
            "count": 0
           },
           {
            "bin_end": 140.39999999999998,
            "bin_start": 93.6,
            "count": 0
           },
           {
            "bin_end": 187.2,
            "bin_start": 140.39999999999998,
            "count": 0
           },
           {
            "bin_end": 234,
            "bin_start": 187.2,
            "count": 0
           },
           {
            "bin_end": 280.79999999999995,
            "bin_start": 234,
            "count": 0
           },
           {
            "bin_end": 327.59999999999997,
            "bin_start": 280.79999999999995,
            "count": 0
           },
           {
            "bin_end": 374.4,
            "bin_start": 327.59999999999997,
            "count": 3
           },
           {
            "bin_end": 421.2,
            "bin_start": 374.4,
            "count": 3
           },
           {
            "bin_end": 468,
            "bin_start": 421.2,
            "count": 1
           }
          ],
          "max": 468,
          "min": 0,
          "nan_count": 0,
          "unique_count": 7
         }
        },
        {
         "dtype": "int64",
         "name": "weight",
         "stats": {
          "histogram": [
           {
            "bin_end": 332.5,
            "bin_start": 250,
            "count": 1
           },
           {
            "bin_end": 415,
            "bin_start": 332.5,
            "count": 2
           },
           {
            "bin_end": 497.5,
            "bin_start": 415,
            "count": 1
           },
           {
            "bin_end": 580,
            "bin_start": 497.5,
            "count": 0
           },
           {
            "bin_end": 662.5,
            "bin_start": 580,
            "count": 2
           },
           {
            "bin_end": 745,
            "bin_start": 662.5,
            "count": 2
           },
           {
            "bin_end": 827.5,
            "bin_start": 745,
            "count": 2
           },
           {
            "bin_end": 910,
            "bin_start": 827.5,
            "count": 0
           },
           {
            "bin_end": 992.5,
            "bin_start": 910,
            "count": 3
           },
           {
            "bin_end": 1075,
            "bin_start": 992.5,
            "count": 2
           }
          ],
          "max": 1075,
          "min": 250,
          "nan_count": 0,
          "unique_count": 13
         }
        },
        {
         "dtype": "object",
         "name": "cover",
         "stats": {
          "categories": [
           {
            "count": 8,
            "name": "pb"
           },
           {
            "count": 7,
            "name": "hb"
           }
          ],
          "nan_count": 0,
          "unique_count": 2
         }
        },
        {
         "dtype": "float64",
         "name": "weight_ls_pred",
         "stats": {
          "histogram": [
           {
            "bin_end": 365.8358219436089,
            "bin_start": 277.0435878792957,
            "count": 1
           },
           {
            "bin_end": 454.62805600792205,
            "bin_start": 365.8358219436089,
            "count": 2
           },
           {
            "bin_end": 543.4202900722352,
            "bin_start": 454.62805600792205,
            "count": 1
           },
           {
            "bin_end": 632.2125241365484,
            "bin_start": 543.4202900722352,
            "count": 2
           },
           {
            "bin_end": 721.0047582008615,
            "bin_start": 632.2125241365484,
            "count": 0
           },
           {
            "bin_end": 809.7969922651746,
            "bin_start": 721.0047582008615,
            "count": 3
           },
           {
            "bin_end": 898.5892263294878,
            "bin_start": 809.7969922651746,
            "count": 3
           },
           {
            "bin_end": 987.3814603938009,
            "bin_start": 898.5892263294878,
            "count": 2
           },
           {
            "bin_end": 1076.173694458114,
            "bin_start": 987.3814603938009,
            "count": 0
           },
           {
            "bin_end": 1164.9659285224272,
            "bin_start": 1076.173694458114,
            "count": 1
           }
          ],
          "max": 1164.9659285224272,
          "min": 277.0435878792957,
          "nan_count": 0,
          "unique_count": 15
         }
        },
        {
         "dtype": "float64",
         "name": "weight_sk_pred",
         "stats": {
          "histogram": [
           {
            "bin_end": 365.8358219436089,
            "bin_start": 277.0435878792957,
            "count": 1
           },
           {
            "bin_end": 454.62805600792205,
            "bin_start": 365.8358219436089,
            "count": 2
           },
           {
            "bin_end": 543.4202900722352,
            "bin_start": 454.62805600792205,
            "count": 1
           },
           {
            "bin_end": 632.2125241365484,
            "bin_start": 543.4202900722352,
            "count": 2
           },
           {
            "bin_end": 721.0047582008615,
            "bin_start": 632.2125241365484,
            "count": 0
           },
           {
            "bin_end": 809.7969922651746,
            "bin_start": 721.0047582008615,
            "count": 3
           },
           {
            "bin_end": 898.5892263294878,
            "bin_start": 809.7969922651746,
            "count": 3
           },
           {
            "bin_end": 987.3814603938009,
            "bin_start": 898.5892263294878,
            "count": 2
           },
           {
            "bin_end": 1076.173694458114,
            "bin_start": 987.3814603938009,
            "count": 0
           },
           {
            "bin_end": 1164.9659285224272,
            "bin_start": 1076.173694458114,
            "count": 1
           }
          ],
          "max": 1164.9659285224272,
          "min": 277.0435878792957,
          "nan_count": 0,
          "unique_count": 15
         }
        },
        {
         "dtype": "float64",
         "name": "resid",
         "stats": {
          "histogram": [
           {
            "bin_end": -156.41273048182734,
            "bin_start": -189.96592852242725,
            "count": 1
           },
           {
            "bin_end": -122.8595324412274,
            "bin_start": -156.41273048182734,
            "count": 1
           },
           {
            "bin_end": -89.30633440062748,
            "bin_start": -122.8595324412274,
            "count": 3
           },
           {
            "bin_end": -55.753136360027554,
            "bin_start": -89.30633440062748,
            "count": 1
           },
           {
            "bin_end": -22.199938319427645,
            "bin_start": -55.753136360027554,
            "count": 1
           },
           {
            "bin_end": 11.353259721172293,
            "bin_start": -22.199938319427645,
            "count": 0
           },
           {
            "bin_end": 44.90645776177223,
            "bin_start": 11.353259721172293,
            "count": 1
           },
           {
            "bin_end": 78.45965580237214,
            "bin_start": 44.90645776177223,
            "count": 2
           },
           {
            "bin_end": 112.01285384297205,
            "bin_start": 78.45965580237214,
            "count": 1
           },
           {
            "bin_end": 145.56605188357196,
            "bin_start": 112.01285384297205,
            "count": 4
           }
          ],
          "max": 145.56605188357196,
          "min": -189.96592852242725,
          "nan_count": 0,
          "unique_count": 15
         }
        },
        {
         "dtype": "int64",
         "name": "cover_hb",
         "stats": {
          "histogram": [
           {
            "bin_end": 0.1,
            "bin_start": 0,
            "count": 8
           },
           {
            "bin_end": 0.2,
            "bin_start": 0.1,
            "count": 0
           },
           {
            "bin_end": 0.30000000000000004,
            "bin_start": 0.2,
            "count": 0
           },
           {
            "bin_end": 0.4,
            "bin_start": 0.30000000000000004,
            "count": 0
           },
           {
            "bin_end": 0.5,
            "bin_start": 0.4,
            "count": 0
           },
           {
            "bin_end": 0.6000000000000001,
            "bin_start": 0.5,
            "count": 0
           },
           {
            "bin_end": 0.7000000000000001,
            "bin_start": 0.6000000000000001,
            "count": 0
           },
           {
            "bin_end": 0.8,
            "bin_start": 0.7000000000000001,
            "count": 0
           },
           {
            "bin_end": 0.9,
            "bin_start": 0.8,
            "count": 0
           },
           {
            "bin_end": 1,
            "bin_start": 0.9,
            "count": 7
           }
          ],
          "max": 1,
          "min": 0,
          "nan_count": 0,
          "unique_count": 2
         }
        },
        {
         "dtype": "int64",
         "name": "cover_pb",
         "stats": {
          "histogram": [
           {
            "bin_end": 0.1,
            "bin_start": 0,
            "count": 7
           },
           {
            "bin_end": 0.2,
            "bin_start": 0.1,
            "count": 0
           },
           {
            "bin_end": 0.30000000000000004,
            "bin_start": 0.2,
            "count": 0
           },
           {
            "bin_end": 0.4,
            "bin_start": 0.30000000000000004,
            "count": 0
           },
           {
            "bin_end": 0.5,
            "bin_start": 0.4,
            "count": 0
           },
           {
            "bin_end": 0.6000000000000001,
            "bin_start": 0.5,
            "count": 0
           },
           {
            "bin_end": 0.7000000000000001,
            "bin_start": 0.6000000000000001,
            "count": 0
           },
           {
            "bin_end": 0.8,
            "bin_start": 0.7000000000000001,
            "count": 0
           },
           {
            "bin_end": 0.9,
            "bin_start": 0.8,
            "count": 0
           },
           {
            "bin_end": 1,
            "bin_start": 0.9,
            "count": 8
           }
          ],
          "max": 1,
          "min": 0,
          "nan_count": 0,
          "unique_count": 2
         }
        },
        {
         "dtype": "float64",
         "name": "weight_hb_pred",
         "stats": {
          "histogram": [
           {
            "bin_end": 387.25151895981486,
            "bin_start": 309.71251463093336,
            "count": 3
           },
           {
            "bin_end": 464.79052328869636,
            "bin_start": 387.25151895981486,
            "count": 1
           },
           {
            "bin_end": 542.3295276175779,
            "bin_start": 464.79052328869636,
            "count": 0
           },
           {
            "bin_end": 619.8685319464594,
            "bin_start": 542.3295276175779,
            "count": 0
           },
           {
            "bin_end": 697.4075362753409,
            "bin_start": 619.8685319464594,
            "count": 2
           },
           {
            "bin_end": 774.9465406042225,
            "bin_start": 697.4075362753409,
            "count": 4
           },
           {
            "bin_end": 852.4855449331039,
            "bin_start": 774.9465406042225,
            "count": 1
           },
           {
            "bin_end": 930.0245492619855,
            "bin_start": 852.4855449331039,
            "count": 1
           },
           {
            "bin_end": 1007.5635535908671,
            "bin_start": 930.0245492619855,
            "count": 1
           },
           {
            "bin_end": 1085.1025579197485,
            "bin_start": 1007.5635535908671,
            "count": 2
           }
          ],
          "max": 1085.1025579197485,
          "min": 309.71251463093336,
          "nan_count": 0,
          "unique_count": 15
         }
        },
        {
         "dtype": "int64",
         "name": "_deepnote_index_column"
        }
       ],
       "row_count": 15,
       "rows_bottom": null,
       "rows_top": [
        {
         "_deepnote_index_column": 0,
         "area": 382,
         "cover": "hb",
         "cover_hb": 1,
         "cover_pb": 0,
         "resid": 65.17681750341546,
         "volume": 885,
         "weight": 800,
         "weight_hb_pred": 833.3519068232746,
         "weight_ls_pred": 734.8231824965845,
         "weight_sk_pred": 734.8231824965845
        },
        {
         "_deepnote_index_column": 1,
         "area": 468,
         "cover": "hb",
         "cover_hb": 1,
         "cover_pb": 0,
         "resid": 122.34535172189089,
         "volume": 1016,
         "weight": 950,
         "weight_hb_pred": 927.4038472592327,
         "weight_ls_pred": 827.6546482781091,
         "weight_sk_pred": 827.6546482781091
        },
        {
         "_deepnote_index_column": 2,
         "area": 387,
         "cover": "hb",
         "cover_hb": 1,
         "cover_pb": 0,
         "resid": 145.10390309451554,
         "volume": 1125,
         "weight": 1050,
         "weight_hb_pred": 1005.6608053319002,
         "weight_ls_pred": 904.8960969054845,
         "weight_sk_pred": 904.8960969054845
        },
        {
         "_deepnote_index_column": 3,
         "area": 371,
         "cover": "hb",
         "cover_hb": 1,
         "cover_pb": 0,
         "resid": 72.95641212070427,
         "volume": 239,
         "weight": 350,
         "weight_hb_pred": 369.5537883375574,
         "weight_ls_pred": 277.0435878792957,
         "weight_sk_pred": 277.0435878792957
        },
        {
         "_deepnote_index_column": 4,
         "area": 371,
         "cover": "hb",
         "cover_hb": 1,
         "cover_pb": 0,
         "resid": 145.56605188357196,
         "volume": 701,
         "weight": 750,
         "weight_hb_pred": 701.2484179666617,
         "weight_ls_pred": 604.433948116428,
         "weight_sk_pred": 604.433948116428
        },
        {
         "_deepnote_index_column": 5,
         "area": 367,
         "cover": "hb",
         "cover_hb": 1,
         "cover_pb": 0,
         "resid": 38.08428048579697,
         "volume": 641,
         "weight": 600,
         "weight_hb_pred": 658.1711933395053,
         "weight_ls_pred": 561.915719514203,
         "weight_sk_pred": 561.915719514203
        },
        {
         "_deepnote_index_column": 6,
         "area": 396,
         "cover": "hb",
         "cover_hb": 1,
         "cover_pb": 0,
         "resid": 97.11427732736274,
         "volume": 1228,
         "weight": 1075,
         "weight_hb_pred": 1079.610040941852,
         "weight_ls_pred": 977.8857226726373,
         "weight_sk_pred": 977.8857226726373
        },
        {
         "_deepnote_index_column": 7,
         "area": 0,
         "cover": "pb",
         "cover_hb": 0,
         "cover_pb": 1,
         "resid": -149.63781368237767,
         "volume": 412,
         "weight": 250,
         "weight_hb_pred": 309.71251463093336,
         "weight_ls_pred": 399.63781368237767,
         "weight_sk_pred": 399.6378136823777
        },
        {
         "_deepnote_index_column": 8,
         "area": 0,
         "cover": "pb",
         "cover_hb": 0,
         "cover_pb": 1,
         "resid": -83.01050824577283,
         "volume": 953,
         "weight": 700,
         "weight_hb_pred": 698.1254900191268,
         "weight_ls_pred": 783.0105082457728,
         "weight_sk_pred": 783.0105082457728
        },
        {
         "_deepnote_index_column": 9,
         "area": 0,
         "cover": "pb",
         "cover_hb": 0,
         "cover_pb": 1,
         "resid": -116.00321680488287,
         "volume": 929,
         "weight": 650,
         "weight_hb_pred": 680.8946001682642,
         "weight_ls_pred": 766.0032168048829,
         "weight_sk_pred": 766.0032168048829
        },
        {
         "_deepnote_index_column": 10,
         "area": 0,
         "cover": "pb",
         "cover_hb": 0,
         "cover_pb": 1,
         "resid": -189.96592852242725,
         "volume": 1492,
         "weight": 975,
         "weight_hb_pred": 1085.1025579197485,
         "weight_ls_pred": 1164.9659285224272,
         "weight_sk_pred": 1164.9659285224272
        },
        {
         "_deepnote_index_column": 11,
         "area": 0,
         "cover": "pb",
         "cover_hb": 0,
         "cover_pb": 1,
         "resid": -54.59827368597064,
         "volume": 419,
         "weight": 350,
         "weight_hb_pred": 314.7381908374349,
         "weight_ls_pred": 404.59827368597064,
         "weight_sk_pred": 404.59827368597064
        },
        {
         "_deepnote_index_column": 12,
         "area": 0,
         "cover": "pb",
         "cover_hb": 0,
         "cover_pb": 1,
         "resid": 126.59717458211344,
         "volume": 1010,
         "weight": 950,
         "weight_hb_pred": 739.0488534149254,
         "weight_ls_pred": 823.4028254178866,
         "weight_sk_pred": 823.4028254178866
        },
        {
         "_deepnote_index_column": 13,
         "area": 0,
         "cover": "pb",
         "cover_hb": 0,
         "cover_pb": 1,
         "resid": -104.31841091916385,
         "volume": 595,
         "weight": 425,
         "weight_hb_pred": 441.0980497437603,
         "weight_ls_pred": 529.3184109191639,
         "weight_sk_pred": 529.3184109191639
        },
        {
         "_deepnote_index_column": 14,
         "area": 0,
         "cover": "pb",
         "cover_hb": 0,
         "cover_pb": 1,
         "resid": -115.41011685877652,
         "volume": 1034,
         "weight": 725,
         "weight_hb_pred": 756.2797432657879,
         "weight_ls_pred": 840.4101168587765,
         "weight_sk_pred": 840.4101168587765
        }
       ]
      },
      "text/html": [
       "<div>\n",
       "<style scoped>\n",
       "    .dataframe tbody tr th:only-of-type {\n",
       "        vertical-align: middle;\n",
       "    }\n",
       "\n",
       "    .dataframe tbody tr th {\n",
       "        vertical-align: top;\n",
       "    }\n",
       "\n",
       "    .dataframe thead th {\n",
       "        text-align: right;\n",
       "    }\n",
       "</style>\n",
       "<table border=\"1\" class=\"dataframe\">\n",
       "  <thead>\n",
       "    <tr style=\"text-align: right;\">\n",
       "      <th></th>\n",
       "      <th>volume</th>\n",
       "      <th>area</th>\n",
       "      <th>weight</th>\n",
       "      <th>cover</th>\n",
       "      <th>weight_ls_pred</th>\n",
       "      <th>weight_sk_pred</th>\n",
       "      <th>resid</th>\n",
       "      <th>cover_hb</th>\n",
       "      <th>cover_pb</th>\n",
       "      <th>weight_hb_pred</th>\n",
       "    </tr>\n",
       "  </thead>\n",
       "  <tbody>\n",
       "    <tr>\n",
       "      <th>0</th>\n",
       "      <td>885</td>\n",
       "      <td>382</td>\n",
       "      <td>800</td>\n",
       "      <td>hb</td>\n",
       "      <td>734.823182</td>\n",
       "      <td>734.823182</td>\n",
       "      <td>65.176818</td>\n",
       "      <td>1</td>\n",
       "      <td>0</td>\n",
       "      <td>833.351907</td>\n",
       "    </tr>\n",
       "    <tr>\n",
       "      <th>1</th>\n",
       "      <td>1016</td>\n",
       "      <td>468</td>\n",
       "      <td>950</td>\n",
       "      <td>hb</td>\n",
       "      <td>827.654648</td>\n",
       "      <td>827.654648</td>\n",
       "      <td>122.345352</td>\n",
       "      <td>1</td>\n",
       "      <td>0</td>\n",
       "      <td>927.403847</td>\n",
       "    </tr>\n",
       "    <tr>\n",
       "      <th>2</th>\n",
       "      <td>1125</td>\n",
       "      <td>387</td>\n",
       "      <td>1050</td>\n",
       "      <td>hb</td>\n",
       "      <td>904.896097</td>\n",
       "      <td>904.896097</td>\n",
       "      <td>145.103903</td>\n",
       "      <td>1</td>\n",
       "      <td>0</td>\n",
       "      <td>1005.660805</td>\n",
       "    </tr>\n",
       "    <tr>\n",
       "      <th>3</th>\n",
       "      <td>239</td>\n",
       "      <td>371</td>\n",
       "      <td>350</td>\n",
       "      <td>hb</td>\n",
       "      <td>277.043588</td>\n",
       "      <td>277.043588</td>\n",
       "      <td>72.956412</td>\n",
       "      <td>1</td>\n",
       "      <td>0</td>\n",
       "      <td>369.553788</td>\n",
       "    </tr>\n",
       "    <tr>\n",
       "      <th>4</th>\n",
       "      <td>701</td>\n",
       "      <td>371</td>\n",
       "      <td>750</td>\n",
       "      <td>hb</td>\n",
       "      <td>604.433948</td>\n",
       "      <td>604.433948</td>\n",
       "      <td>145.566052</td>\n",
       "      <td>1</td>\n",
       "      <td>0</td>\n",
       "      <td>701.248418</td>\n",
       "    </tr>\n",
       "    <tr>\n",
       "      <th>5</th>\n",
       "      <td>641</td>\n",
       "      <td>367</td>\n",
       "      <td>600</td>\n",
       "      <td>hb</td>\n",
       "      <td>561.915720</td>\n",
       "      <td>561.915720</td>\n",
       "      <td>38.084280</td>\n",
       "      <td>1</td>\n",
       "      <td>0</td>\n",
       "      <td>658.171193</td>\n",
       "    </tr>\n",
       "    <tr>\n",
       "      <th>6</th>\n",
       "      <td>1228</td>\n",
       "      <td>396</td>\n",
       "      <td>1075</td>\n",
       "      <td>hb</td>\n",
       "      <td>977.885723</td>\n",
       "      <td>977.885723</td>\n",
       "      <td>97.114277</td>\n",
       "      <td>1</td>\n",
       "      <td>0</td>\n",
       "      <td>1079.610041</td>\n",
       "    </tr>\n",
       "    <tr>\n",
       "      <th>7</th>\n",
       "      <td>412</td>\n",
       "      <td>0</td>\n",
       "      <td>250</td>\n",
       "      <td>pb</td>\n",
       "      <td>399.637814</td>\n",
       "      <td>399.637814</td>\n",
       "      <td>-149.637814</td>\n",
       "      <td>0</td>\n",
       "      <td>1</td>\n",
       "      <td>309.712515</td>\n",
       "    </tr>\n",
       "    <tr>\n",
       "      <th>8</th>\n",
       "      <td>953</td>\n",
       "      <td>0</td>\n",
       "      <td>700</td>\n",
       "      <td>pb</td>\n",
       "      <td>783.010508</td>\n",
       "      <td>783.010508</td>\n",
       "      <td>-83.010508</td>\n",
       "      <td>0</td>\n",
       "      <td>1</td>\n",
       "      <td>698.125490</td>\n",
       "    </tr>\n",
       "    <tr>\n",
       "      <th>9</th>\n",
       "      <td>929</td>\n",
       "      <td>0</td>\n",
       "      <td>650</td>\n",
       "      <td>pb</td>\n",
       "      <td>766.003217</td>\n",
       "      <td>766.003217</td>\n",
       "      <td>-116.003217</td>\n",
       "      <td>0</td>\n",
       "      <td>1</td>\n",
       "      <td>680.894600</td>\n",
       "    </tr>\n",
       "    <tr>\n",
       "      <th>10</th>\n",
       "      <td>1492</td>\n",
       "      <td>0</td>\n",
       "      <td>975</td>\n",
       "      <td>pb</td>\n",
       "      <td>1164.965929</td>\n",
       "      <td>1164.965929</td>\n",
       "      <td>-189.965929</td>\n",
       "      <td>0</td>\n",
       "      <td>1</td>\n",
       "      <td>1085.102558</td>\n",
       "    </tr>\n",
       "    <tr>\n",
       "      <th>11</th>\n",
       "      <td>419</td>\n",
       "      <td>0</td>\n",
       "      <td>350</td>\n",
       "      <td>pb</td>\n",
       "      <td>404.598274</td>\n",
       "      <td>404.598274</td>\n",
       "      <td>-54.598274</td>\n",
       "      <td>0</td>\n",
       "      <td>1</td>\n",
       "      <td>314.738191</td>\n",
       "    </tr>\n",
       "    <tr>\n",
       "      <th>12</th>\n",
       "      <td>1010</td>\n",
       "      <td>0</td>\n",
       "      <td>950</td>\n",
       "      <td>pb</td>\n",
       "      <td>823.402825</td>\n",
       "      <td>823.402825</td>\n",
       "      <td>126.597175</td>\n",
       "      <td>0</td>\n",
       "      <td>1</td>\n",
       "      <td>739.048853</td>\n",
       "    </tr>\n",
       "    <tr>\n",
       "      <th>13</th>\n",
       "      <td>595</td>\n",
       "      <td>0</td>\n",
       "      <td>425</td>\n",
       "      <td>pb</td>\n",
       "      <td>529.318411</td>\n",
       "      <td>529.318411</td>\n",
       "      <td>-104.318411</td>\n",
       "      <td>0</td>\n",
       "      <td>1</td>\n",
       "      <td>441.098050</td>\n",
       "    </tr>\n",
       "    <tr>\n",
       "      <th>14</th>\n",
       "      <td>1034</td>\n",
       "      <td>0</td>\n",
       "      <td>725</td>\n",
       "      <td>pb</td>\n",
       "      <td>840.410117</td>\n",
       "      <td>840.410117</td>\n",
       "      <td>-115.410117</td>\n",
       "      <td>0</td>\n",
       "      <td>1</td>\n",
       "      <td>756.279743</td>\n",
       "    </tr>\n",
       "  </tbody>\n",
       "</table>\n",
       "</div>"
      ],
      "text/plain": [
       "    volume  area  weight cover  weight_ls_pred  weight_sk_pred       resid  \\\n",
       "0      885   382     800    hb      734.823182      734.823182   65.176818   \n",
       "1     1016   468     950    hb      827.654648      827.654648  122.345352   \n",
       "2     1125   387    1050    hb      904.896097      904.896097  145.103903   \n",
       "3      239   371     350    hb      277.043588      277.043588   72.956412   \n",
       "4      701   371     750    hb      604.433948      604.433948  145.566052   \n",
       "5      641   367     600    hb      561.915720      561.915720   38.084280   \n",
       "6     1228   396    1075    hb      977.885723      977.885723   97.114277   \n",
       "7      412     0     250    pb      399.637814      399.637814 -149.637814   \n",
       "8      953     0     700    pb      783.010508      783.010508  -83.010508   \n",
       "9      929     0     650    pb      766.003217      766.003217 -116.003217   \n",
       "10    1492     0     975    pb     1164.965929     1164.965929 -189.965929   \n",
       "11     419     0     350    pb      404.598274      404.598274  -54.598274   \n",
       "12    1010     0     950    pb      823.402825      823.402825  126.597175   \n",
       "13     595     0     425    pb      529.318411      529.318411 -104.318411   \n",
       "14    1034     0     725    pb      840.410117      840.410117 -115.410117   \n",
       "\n",
       "    cover_hb  cover_pb  weight_hb_pred  \n",
       "0          1         0      833.351907  \n",
       "1          1         0      927.403847  \n",
       "2          1         0     1005.660805  \n",
       "3          1         0      369.553788  \n",
       "4          1         0      701.248418  \n",
       "5          1         0      658.171193  \n",
       "6          1         0     1079.610041  \n",
       "7          0         1      309.712515  \n",
       "8          0         1      698.125490  \n",
       "9          0         1      680.894600  \n",
       "10         0         1     1085.102558  \n",
       "11         0         1      314.738191  \n",
       "12         0         1      739.048853  \n",
       "13         0         1      441.098050  \n",
       "14         0         1      756.279743  "
      ]
     },
     "execution_count": 19,
     "metadata": {},
     "output_type": "execute_result"
    }
   ],
   "source": [
    "books[\"weight_hb_pred\"] = l.predict(X)\n",
    "books"
   ]
  },
  {
   "cell_type": "markdown",
   "metadata": {
    "cell_id": "00055-91fdbf58-e6a6-40de-b90d-0732d78cf919",
    "deepnote_cell_type": "markdown"
   },
   "source": [
    "and we can then plot both of these lines along with the observed data."
   ]
  },
  {
   "cell_type": "code",
   "execution_count": null,
   "metadata": {
    "cell_id": "00056-93efff57-d781-4351-9b19-08e434e15f57",
    "deepnote_cell_type": "code",
    "deepnote_to_be_reexecuted": false,
    "execution_millis": 304,
    "execution_start": 1611238690469,
    "output_cleared": false,
    "source_hash": "74b7b521"
   },
   "outputs": [
    {
     "data": {
      "text/plain": [
       "<AxesSubplot:xlabel='volume', ylabel='weight'>"
      ]
     },
     "execution_count": 20,
     "metadata": {},
     "output_type": "execute_result"
    },
    {
     "data": {
      "image/png": "[encoded data removed]",
      "text/plain": [
       "<Figure size 640x400 with 1 Axes>"
      ]
     },
     "metadata": {
      "needs_background": "light"
     },
     "output_type": "display_data"
    }
   ],
   "source": [
    "sns.scatterplot(x=\"volume\", y=\"weight\", hue=\"cover\", data=books)\n",
    "sns.lineplot(x=\"volume\", y=\"weight_hb_pred\", hue=\"cover\", data=books)"
   ]
  },
  {
   "cell_type": "markdown",
   "metadata": {
    "cell_id": "00057-d749fb2e-f46e-4e32-820b-0e528a5d19c5",
    "deepnote_cell_type": "markdown"
   },
   "source": [
    "As well as create plot a residual plot of this new model,"
   ]
  },
  {
   "cell_type": "code",
   "execution_count": null,
   "metadata": {
    "cell_id": "00058-c0a91d06-1802-44dd-b1fa-24788c4c9125",
    "deepnote_cell_type": "code",
    "deepnote_to_be_reexecuted": false,
    "execution_millis": 257,
    "execution_start": 1611238690789,
    "output_cleared": false,
    "source_hash": "4a8b0bbe"
   },
   "outputs": [
    {
     "data": {
      "text/plain": [
       "<AxesSubplot:xlabel='volume', ylabel='resid_hb'>"
      ]
     },
     "execution_count": 21,
     "metadata": {},
     "output_type": "execute_result"
    },
    {
     "data": {
      "image/png": "[encoded data removed]",
      "text/plain": [
       "<Figure size 640x400 with 1 Axes>"
      ]
     },
     "metadata": {
      "needs_background": "light"
     },
     "output_type": "display_data"
    }
   ],
   "source": [
    "books[\"resid_hb\"] = books.weight - books.weight_hb_pred\n",
    "sns.scatterplot(x=\"volume\", y=\"resid_hb\", hue=\"cover\", data=books)"
   ]
  },
  {
   "cell_type": "markdown",
   "metadata": {
    "cell_id": "00059-fef18a7d-f736-4ae5-9bc0-94cceaae2b1e",
    "deepnote_cell_type": "markdown"
   },
   "source": [
    "---\n",
    "\n",
    "### &diams; Exercise 8\n",
    "\n",
    "Based on these regression fits, do you think the model including the dummy coded `cover` variable produces a \"better\" model than our first regression model which did not include `cover`? Explain. "
   ]
  },
  {
   "cell_type": "markdown",
   "metadata": {
    "cell_id": "00060-05c7e049-ccbf-43bb-bd35-e949d9705323",
    "deepnote_cell_type": "markdown"
   },
   "source": [
    "*Fit is better (smaller sum of squares, smaller residuals) and no obvious structure in the residuals*"
   ]
  },
  {
   "cell_type": "markdown",
   "metadata": {
    "cell_id": "00061-0359dd99-1936-4981-906a-149556d2e6cf",
    "deepnote_cell_type": "markdown"
   },
   "source": [
    "---\n",
    "\n",
    "Note that by including a dummy variable in our model will change the interpretation of our regression coefficients. In this context,\n",
    "\n",
    "* $\\beta_0$ - This is the expected weight of a book with a `volume` of zero and a `hardback` indicator of zero, in other words a softcover book with zero volume.\n",
    "\n",
    "* $\\beta_1$ - This is the expected additional weight a book would have if its volume were to increase by 1 cm$^3$, all else being equal.\n",
    "\n",
    "* $\\beta_2$ - This is the expected additional weight a book would have if its hardcover indicator were to increase by 1, all else being equal. However, the hardcover indicator can only be 0 or 1 and hence this is the change in weight we would expect between a softcover book and a hardcover book with the same volume. In other words, hardcover books weight 184g more than softcover books.\n",
    "\n",
    "Based on these interpretations we can see that the level that was coded as 0 (what is often called the reference level) gets folded into our intercept and the slope coefficient for the indicator provides the difference in intercept between the reference and the contrast level (level coded as 1).\n"
   ]
  },
  {
   "cell_type": "markdown",
   "metadata": {
    "cell_id": "00062-7215839c-f34e-4c8b-95c7-c2c9f30e3db9",
    "deepnote_cell_type": "markdown"
   },
   "source": [
    "---\n",
    "\n",
    "### &diams; Exercise 9\n",
    "\n",
    "Repeat the analysis above but this time fit a model using `pb` instead of `hb` in your model matrix. You should fit the new model as well as calculate the predictions for both paperback and hardback books."
   ]
  },
  {
   "cell_type": "code",
   "execution_count": null,
   "metadata": {
    "cell_id": "00063-ad76176a-794e-4005-ae19-0b9606a7c115",
    "deepnote_cell_type": "code",
    "deepnote_to_be_reexecuted": false,
    "execution_millis": 1,
    "execution_start": 1611238691087,
    "output_cleared": false,
    "source_hash": "87947f83"
   },
   "outputs": [
    {
     "name": "stdout",
     "output_type": "stream",
     "text": [
      "[ 197.96284357    0.71795374 -184.04727138]\n"
     ]
    }
   ],
   "source": [
    "X = np.c_[\n",
    "    np.ones(len(y)), \n",
    "    books.volume, \n",
    "    books.cover_pb\n",
    "]\n",
    "l = LinearRegression(fit_intercept=False).fit(X, books.weight)\n",
    "\n",
    "beta = l.coef_\n",
    "\n",
    "print(beta)"
   ]
  },
  {
   "cell_type": "markdown",
   "metadata": {
    "cell_id": "00064-ab80c372-0087-43b2-8875-104cd0075f1d",
    "deepnote_cell_type": "markdown"
   },
   "source": [
    "---\n",
    "\n",
    "### &diams; Exercise 10\n",
    "\n",
    "What changed between the model with `cover_pb` vs the model with `cover_hb`? Specifically, comment on the values of $\\beta_0$, $\\beta_1$, and $\\beta_2$ and their interpretations.\n"
   ]
  },
  {
   "cell_type": "markdown",
   "metadata": {
    "cell_id": "00065-65180c5c-91ca-4811-8baa-092f0e45d275",
    "deepnote_cell_type": "markdown"
   },
   "source": [
    "*$\\beta_0$ and $\\beta_2$ have changed but $\\beta_1$ has stayed the same - the new values are related to the previous values (e.g. the new $\\underset{new}{\\beta_0} = \\underset{prev}{\\beta_0} + \n",
    "\\underset{prev}{\\beta_2}$).*"
   ]
  },
  {
   "cell_type": "markdown",
   "metadata": {
    "cell_id": "00066-fe6afd8c-708d-452c-9da5-82776f301e98",
    "deepnote_cell_type": "markdown"
   },
   "source": [
    "---\n",
    "\n",
    "### 2.3 One hot encoding\n",
    "\n",
    "Another common approach for transforming categorical variables is know as one hot encoding, in which all levels of the categorical variable are transformed into a new columns with values of 0 or 1. This is equivalent to what we have done manually above by including both `cover_hb` and `cover_pb`. This differs from dummy coding in that there is no longer a reference factor.\n",
    "\n",
    "Pandas has a built-in method for performing this on categorical columns. This is easiest to see with a simple example, below we construct a data frame `df` with a single column that we transform into a one hot encoded version using panda's `get_dummies` method."
   ]
  },
  {
   "cell_type": "code",
   "execution_count": null,
   "metadata": {
    "cell_id": "00067-c569ae1f-50a5-48e7-b52c-9202ff2460a8",
    "deepnote_cell_type": "code",
    "deepnote_to_be_reexecuted": false,
    "execution_millis": 0,
    "execution_start": 1611238691088,
    "output_cleared": false,
    "source_hash": "60f32a71"
   },
   "outputs": [
    {
     "data": {
      "application/vnd.deepnote.dataframe.v2+json": {
       "column_count": 1,
       "columns": [
        {
         "dtype": "object",
         "name": "col",
         "stats": {
          "categories": [
           {
            "count": 2,
            "name": "A"
           },
           {
            "count": 2,
            "name": "2 others"
           },
           {
            "count": 1,
            "name": "Missing"
           }
          ],
          "nan_count": 1,
          "unique_count": 3
         }
        },
        {
         "dtype": "int64",
         "name": "_deepnote_index_column"
        }
       ],
       "row_count": 5,
       "rows_bottom": null,
       "rows_top": [
        {
         "_deepnote_index_column": 0,
         "col": "A"
        },
        {
         "_deepnote_index_column": 1,
         "col": "B"
        },
        {
         "_deepnote_index_column": 2,
         "col": "C"
        },
        {
         "_deepnote_index_column": 3,
         "col": "A"
        },
        {
         "_deepnote_index_column": 4,
         "col": "nan"
        }
       ]
      },
      "text/html": [
       "<div>\n",
       "<style scoped>\n",
       "    .dataframe tbody tr th:only-of-type {\n",
       "        vertical-align: middle;\n",
       "    }\n",
       "\n",
       "    .dataframe tbody tr th {\n",
       "        vertical-align: top;\n",
       "    }\n",
       "\n",
       "    .dataframe thead th {\n",
       "        text-align: right;\n",
       "    }\n",
       "</style>\n",
       "<table border=\"1\" class=\"dataframe\">\n",
       "  <thead>\n",
       "    <tr style=\"text-align: right;\">\n",
       "      <th></th>\n",
       "      <th>col</th>\n",
       "    </tr>\n",
       "  </thead>\n",
       "  <tbody>\n",
       "    <tr>\n",
       "      <th>0</th>\n",
       "      <td>A</td>\n",
       "    </tr>\n",
       "    <tr>\n",
       "      <th>1</th>\n",
       "      <td>B</td>\n",
       "    </tr>\n",
       "    <tr>\n",
       "      <th>2</th>\n",
       "      <td>C</td>\n",
       "    </tr>\n",
       "    <tr>\n",
       "      <th>3</th>\n",
       "      <td>A</td>\n",
       "    </tr>\n",
       "    <tr>\n",
       "      <th>4</th>\n",
       "      <td>NaN</td>\n",
       "    </tr>\n",
       "  </tbody>\n",
       "</table>\n",
       "</div>"
      ],
      "text/plain": [
       "   col\n",
       "0    A\n",
       "1    B\n",
       "2    C\n",
       "3    A\n",
       "4  NaN"
      ]
     },
     "execution_count": 23,
     "metadata": {},
     "output_type": "execute_result"
    }
   ],
   "source": [
    "df = pd.DataFrame({\"col\": [\"A\",\"B\",\"C\",\"A\", np.nan]})\n",
    "df"
   ]
  },
  {
   "cell_type": "code",
   "execution_count": null,
   "metadata": {
    "cell_id": "00068-a8ba0c83-b1ac-49ff-b627-0acd4fca8a28",
    "deepnote_cell_type": "code",
    "deepnote_to_be_reexecuted": false,
    "execution_millis": 11,
    "execution_start": 1611238691089,
    "output_cleared": false,
    "source_hash": "6222fa4b"
   },
   "outputs": [
    {
     "data": {
      "application/vnd.deepnote.dataframe.v2+json": {
       "column_count": 3,
       "columns": [
        {
         "dtype": "uint8",
         "name": "col_A",
         "stats": {
          "histogram": [
           {
            "bin_end": 0.1,
            "bin_start": 0,
            "count": 3
           },
           {
            "bin_end": 0.2,
            "bin_start": 0.1,
            "count": 0
           },
           {
            "bin_end": 0.30000000000000004,
            "bin_start": 0.2,
            "count": 0
           },
           {
            "bin_end": 0.4,
            "bin_start": 0.30000000000000004,
            "count": 0
           },
           {
            "bin_end": 0.5,
            "bin_start": 0.4,
            "count": 0
           },
           {
            "bin_end": 0.6000000000000001,
            "bin_start": 0.5,
            "count": 0
           },
           {
            "bin_end": 0.7000000000000001,
            "bin_start": 0.6000000000000001,
            "count": 0
           },
           {
            "bin_end": 0.8,
            "bin_start": 0.7000000000000001,
            "count": 0
           },
           {
            "bin_end": 0.9,
            "bin_start": 0.8,
            "count": 0
           },
           {
            "bin_end": 1,
            "bin_start": 0.9,
            "count": 2
           }
          ],
          "max": 1,
          "min": 0,
          "nan_count": 0,
          "unique_count": 2
         }
        },
        {
         "dtype": "uint8",
         "name": "col_B",
         "stats": {
          "histogram": [
           {
            "bin_end": 0.1,
            "bin_start": 0,
            "count": 4
           },
           {
            "bin_end": 0.2,
            "bin_start": 0.1,
            "count": 0
           },
           {
            "bin_end": 0.30000000000000004,
            "bin_start": 0.2,
            "count": 0
           },
           {
            "bin_end": 0.4,
            "bin_start": 0.30000000000000004,
            "count": 0
           },
           {
            "bin_end": 0.5,
            "bin_start": 0.4,
            "count": 0
           },
           {
            "bin_end": 0.6000000000000001,
            "bin_start": 0.5,
            "count": 0
           },
           {
            "bin_end": 0.7000000000000001,
            "bin_start": 0.6000000000000001,
            "count": 0
           },
           {
            "bin_end": 0.8,
            "bin_start": 0.7000000000000001,
            "count": 0
           },
           {
            "bin_end": 0.9,
            "bin_start": 0.8,
            "count": 0
           },
           {
            "bin_end": 1,
            "bin_start": 0.9,
            "count": 1
           }
          ],
          "max": 1,
          "min": 0,
          "nan_count": 0,
          "unique_count": 2
         }
        },
        {
         "dtype": "uint8",
         "name": "col_C",
         "stats": {
          "histogram": [
           {
            "bin_end": 0.1,
            "bin_start": 0,
            "count": 4
           },
           {
            "bin_end": 0.2,
            "bin_start": 0.1,
            "count": 0
           },
           {
            "bin_end": 0.30000000000000004,
            "bin_start": 0.2,
            "count": 0
           },
           {
            "bin_end": 0.4,
            "bin_start": 0.30000000000000004,
            "count": 0
           },
           {
            "bin_end": 0.5,
            "bin_start": 0.4,
            "count": 0
           },
           {
            "bin_end": 0.6000000000000001,
            "bin_start": 0.5,
            "count": 0
           },
           {
            "bin_end": 0.7000000000000001,
            "bin_start": 0.6000000000000001,
            "count": 0
           },
           {
            "bin_end": 0.8,
            "bin_start": 0.7000000000000001,
            "count": 0
           },
           {
            "bin_end": 0.9,
            "bin_start": 0.8,
            "count": 0
           },
           {
            "bin_end": 1,
            "bin_start": 0.9,
            "count": 1
           }
          ],
          "max": 1,
          "min": 0,
          "nan_count": 0,
          "unique_count": 2
         }
        },
        {
         "dtype": "int64",
         "name": "_deepnote_index_column"
        }
       ],
       "row_count": 5,
       "rows_bottom": null,
       "rows_top": [
        {
         "_deepnote_index_column": 0,
         "col_A": 1,
         "col_B": 0,
         "col_C": 0
        },
        {
         "_deepnote_index_column": 1,
         "col_A": 0,
         "col_B": 1,
         "col_C": 0
        },
        {
         "_deepnote_index_column": 2,
         "col_A": 0,
         "col_B": 0,
         "col_C": 1
        },
        {
         "_deepnote_index_column": 3,
         "col_A": 1,
         "col_B": 0,
         "col_C": 0
        },
        {
         "_deepnote_index_column": 4,
         "col_A": 0,
         "col_B": 0,
         "col_C": 0
        }
       ]
      },
      "text/html": [
       "<div>\n",
       "<style scoped>\n",
       "    .dataframe tbody tr th:only-of-type {\n",
       "        vertical-align: middle;\n",
       "    }\n",
       "\n",
       "    .dataframe tbody tr th {\n",
       "        vertical-align: top;\n",
       "    }\n",
       "\n",
       "    .dataframe thead th {\n",
       "        text-align: right;\n",
       "    }\n",
       "</style>\n",
       "<table border=\"1\" class=\"dataframe\">\n",
       "  <thead>\n",
       "    <tr style=\"text-align: right;\">\n",
       "      <th></th>\n",
       "      <th>col_A</th>\n",
       "      <th>col_B</th>\n",
       "      <th>col_C</th>\n",
       "    </tr>\n",
       "  </thead>\n",
       "  <tbody>\n",
       "    <tr>\n",
       "      <th>0</th>\n",
       "      <td>1</td>\n",
       "      <td>0</td>\n",
       "      <td>0</td>\n",
       "    </tr>\n",
       "    <tr>\n",
       "      <th>1</th>\n",
       "      <td>0</td>\n",
       "      <td>1</td>\n",
       "      <td>0</td>\n",
       "    </tr>\n",
       "    <tr>\n",
       "      <th>2</th>\n",
       "      <td>0</td>\n",
       "      <td>0</td>\n",
       "      <td>1</td>\n",
       "    </tr>\n",
       "    <tr>\n",
       "      <th>3</th>\n",
       "      <td>1</td>\n",
       "      <td>0</td>\n",
       "      <td>0</td>\n",
       "    </tr>\n",
       "    <tr>\n",
       "      <th>4</th>\n",
       "      <td>0</td>\n",
       "      <td>0</td>\n",
       "      <td>0</td>\n",
       "    </tr>\n",
       "  </tbody>\n",
       "</table>\n",
       "</div>"
      ],
      "text/plain": [
       "   col_A  col_B  col_C\n",
       "0      1      0      0\n",
       "1      0      1      0\n",
       "2      0      0      1\n",
       "3      1      0      0\n",
       "4      0      0      0"
      ]
     },
     "execution_count": 24,
     "metadata": {},
     "output_type": "execute_result"
    }
   ],
   "source": [
    "pd.get_dummies(df)"
   ]
  },
  {
   "cell_type": "markdown",
   "metadata": {
    "cell_id": "00069-60ca05bc-7266-401a-963a-14412d9d2b23",
    "deepnote_cell_type": "markdown"
   },
   "source": [
    "We can also perform typical statistical dummy coding by using the `drop_first=True` argument, which excludes the first column as a reference level."
   ]
  },
  {
   "cell_type": "code",
   "execution_count": null,
   "metadata": {
    "cell_id": "00070-22cda6ad-2262-4f2f-bd1b-460e202aee2e",
    "deepnote_cell_type": "code",
    "deepnote_to_be_reexecuted": false,
    "execution_millis": 26,
    "execution_start": 1611238691106,
    "output_cleared": false,
    "source_hash": "52c638d6"
   },
   "outputs": [
    {
     "data": {
      "application/vnd.deepnote.dataframe.v2+json": {
       "column_count": 2,
       "columns": [
        {
         "dtype": "uint8",
         "name": "col_B",
         "stats": {
          "histogram": [
           {
            "bin_end": 0.1,
            "bin_start": 0,
            "count": 4
           },
           {
            "bin_end": 0.2,
            "bin_start": 0.1,
            "count": 0
           },
           {
            "bin_end": 0.30000000000000004,
            "bin_start": 0.2,
            "count": 0
           },
           {
            "bin_end": 0.4,
            "bin_start": 0.30000000000000004,
            "count": 0
           },
           {
            "bin_end": 0.5,
            "bin_start": 0.4,
            "count": 0
           },
           {
            "bin_end": 0.6000000000000001,
            "bin_start": 0.5,
            "count": 0
           },
           {
            "bin_end": 0.7000000000000001,
            "bin_start": 0.6000000000000001,
            "count": 0
           },
           {
            "bin_end": 0.8,
            "bin_start": 0.7000000000000001,
            "count": 0
           },
           {
            "bin_end": 0.9,
            "bin_start": 0.8,
            "count": 0
           },
           {
            "bin_end": 1,
            "bin_start": 0.9,
            "count": 1
           }
          ],
          "max": 1,
          "min": 0,
          "nan_count": 0,
          "unique_count": 2
         }
        },
        {
         "dtype": "uint8",
         "name": "col_C",
         "stats": {
          "histogram": [
           {
            "bin_end": 0.1,
            "bin_start": 0,
            "count": 4
           },
           {
            "bin_end": 0.2,
            "bin_start": 0.1,
            "count": 0
           },
           {
            "bin_end": 0.30000000000000004,
            "bin_start": 0.2,
            "count": 0
           },
           {
            "bin_end": 0.4,
            "bin_start": 0.30000000000000004,
            "count": 0
           },
           {
            "bin_end": 0.5,
            "bin_start": 0.4,
            "count": 0
           },
           {
            "bin_end": 0.6000000000000001,
            "bin_start": 0.5,
            "count": 0
           },
           {
            "bin_end": 0.7000000000000001,
            "bin_start": 0.6000000000000001,
            "count": 0
           },
           {
            "bin_end": 0.8,
            "bin_start": 0.7000000000000001,
            "count": 0
           },
           {
            "bin_end": 0.9,
            "bin_start": 0.8,
            "count": 0
           },
           {
            "bin_end": 1,
            "bin_start": 0.9,
            "count": 1
           }
          ],
          "max": 1,
          "min": 0,
          "nan_count": 0,
          "unique_count": 2
         }
        },
        {
         "dtype": "int64",
         "name": "_deepnote_index_column"
        }
       ],
       "row_count": 5,
       "rows_bottom": null,
       "rows_top": [
        {
         "_deepnote_index_column": 0,
         "col_B": 0,
         "col_C": 0
        },
        {
         "_deepnote_index_column": 1,
         "col_B": 1,
         "col_C": 0
        },
        {
         "_deepnote_index_column": 2,
         "col_B": 0,
         "col_C": 1
        },
        {
         "_deepnote_index_column": 3,
         "col_B": 0,
         "col_C": 0
        },
        {
         "_deepnote_index_column": 4,
         "col_B": 0,
         "col_C": 0
        }
       ]
      },
      "text/html": [
       "<div>\n",
       "<style scoped>\n",
       "    .dataframe tbody tr th:only-of-type {\n",
       "        vertical-align: middle;\n",
       "    }\n",
       "\n",
       "    .dataframe tbody tr th {\n",
       "        vertical-align: top;\n",
       "    }\n",
       "\n",
       "    .dataframe thead th {\n",
       "        text-align: right;\n",
       "    }\n",
       "</style>\n",
       "<table border=\"1\" class=\"dataframe\">\n",
       "  <thead>\n",
       "    <tr style=\"text-align: right;\">\n",
       "      <th></th>\n",
       "      <th>col_B</th>\n",
       "      <th>col_C</th>\n",
       "    </tr>\n",
       "  </thead>\n",
       "  <tbody>\n",
       "    <tr>\n",
       "      <th>0</th>\n",
       "      <td>0</td>\n",
       "      <td>0</td>\n",
       "    </tr>\n",
       "    <tr>\n",
       "      <th>1</th>\n",
       "      <td>1</td>\n",
       "      <td>0</td>\n",
       "    </tr>\n",
       "    <tr>\n",
       "      <th>2</th>\n",
       "      <td>0</td>\n",
       "      <td>1</td>\n",
       "    </tr>\n",
       "    <tr>\n",
       "      <th>3</th>\n",
       "      <td>0</td>\n",
       "      <td>0</td>\n",
       "    </tr>\n",
       "    <tr>\n",
       "      <th>4</th>\n",
       "      <td>0</td>\n",
       "      <td>0</td>\n",
       "    </tr>\n",
       "  </tbody>\n",
       "</table>\n",
       "</div>"
      ],
      "text/plain": [
       "   col_B  col_C\n",
       "0      0      0\n",
       "1      1      0\n",
       "2      0      1\n",
       "3      0      0\n",
       "4      0      0"
      ]
     },
     "execution_count": 25,
     "metadata": {},
     "output_type": "execute_result"
    }
   ],
   "source": [
    "pd.get_dummies(df, drop_first=True)"
   ]
  },
  {
   "cell_type": "markdown",
   "metadata": {
    "cell_id": "00071-6ef06938-ee0d-447e-b4f1-941961325a23",
    "deepnote_cell_type": "markdown"
   },
   "source": [
    "Missing values can also be included as an additional category via the `dummy_na=True` argument. This treats missing values as an additional category for the provided factor."
   ]
  },
  {
   "cell_type": "code",
   "execution_count": null,
   "metadata": {
    "cell_id": "00072-c524d8ad-4c73-4e1f-bfa9-ecabdcaca1ac",
    "deepnote_cell_type": "code",
    "deepnote_to_be_reexecuted": false,
    "execution_millis": 8,
    "execution_start": 1611238691145,
    "output_cleared": false,
    "source_hash": "c488ee20"
   },
   "outputs": [
    {
     "data": {
      "application/vnd.deepnote.dataframe.v2+json": {
       "column_count": 4,
       "columns": [
        {
         "dtype": "uint8",
         "name": "col_A",
         "stats": {
          "histogram": [
           {
            "bin_end": 0.1,
            "bin_start": 0,
            "count": 3
           },
           {
            "bin_end": 0.2,
            "bin_start": 0.1,
            "count": 0
           },
           {
            "bin_end": 0.30000000000000004,
            "bin_start": 0.2,
            "count": 0
           },
           {
            "bin_end": 0.4,
            "bin_start": 0.30000000000000004,
            "count": 0
           },
           {
            "bin_end": 0.5,
            "bin_start": 0.4,
            "count": 0
           },
           {
            "bin_end": 0.6000000000000001,
            "bin_start": 0.5,
            "count": 0
           },
           {
            "bin_end": 0.7000000000000001,
            "bin_start": 0.6000000000000001,
            "count": 0
           },
           {
            "bin_end": 0.8,
            "bin_start": 0.7000000000000001,
            "count": 0
           },
           {
            "bin_end": 0.9,
            "bin_start": 0.8,
            "count": 0
           },
           {
            "bin_end": 1,
            "bin_start": 0.9,
            "count": 2
           }
          ],
          "max": 1,
          "min": 0,
          "nan_count": 0,
          "unique_count": 2
         }
        },
        {
         "dtype": "uint8",
         "name": "col_B",
         "stats": {
          "histogram": [
           {
            "bin_end": 0.1,
            "bin_start": 0,
            "count": 4
           },
           {
            "bin_end": 0.2,
            "bin_start": 0.1,
            "count": 0
           },
           {
            "bin_end": 0.30000000000000004,
            "bin_start": 0.2,
            "count": 0
           },
           {
            "bin_end": 0.4,
            "bin_start": 0.30000000000000004,
            "count": 0
           },
           {
            "bin_end": 0.5,
            "bin_start": 0.4,
            "count": 0
           },
           {
            "bin_end": 0.6000000000000001,
            "bin_start": 0.5,
            "count": 0
           },
           {
            "bin_end": 0.7000000000000001,
            "bin_start": 0.6000000000000001,
            "count": 0
           },
           {
            "bin_end": 0.8,
            "bin_start": 0.7000000000000001,
            "count": 0
           },
           {
            "bin_end": 0.9,
            "bin_start": 0.8,
            "count": 0
           },
           {
            "bin_end": 1,
            "bin_start": 0.9,
            "count": 1
           }
          ],
          "max": 1,
          "min": 0,
          "nan_count": 0,
          "unique_count": 2
         }
        },
        {
         "dtype": "uint8",
         "name": "col_C",
         "stats": {
          "histogram": [
           {
            "bin_end": 0.1,
            "bin_start": 0,
            "count": 4
           },
           {
            "bin_end": 0.2,
            "bin_start": 0.1,
            "count": 0
           },
           {
            "bin_end": 0.30000000000000004,
            "bin_start": 0.2,
            "count": 0
           },
           {
            "bin_end": 0.4,
            "bin_start": 0.30000000000000004,
            "count": 0
           },
           {
            "bin_end": 0.5,
            "bin_start": 0.4,
            "count": 0
           },
           {
            "bin_end": 0.6000000000000001,
            "bin_start": 0.5,
            "count": 0
           },
           {
            "bin_end": 0.7000000000000001,
            "bin_start": 0.6000000000000001,
            "count": 0
           },
           {
            "bin_end": 0.8,
            "bin_start": 0.7000000000000001,
            "count": 0
           },
           {
            "bin_end": 0.9,
            "bin_start": 0.8,
            "count": 0
           },
           {
            "bin_end": 1,
            "bin_start": 0.9,
            "count": 1
           }
          ],
          "max": 1,
          "min": 0,
          "nan_count": 0,
          "unique_count": 2
         }
        },
        {
         "dtype": "uint8",
         "name": "col_nan",
         "stats": {
          "histogram": [
           {
            "bin_end": 0.1,
            "bin_start": 0,
            "count": 4
           },
           {
            "bin_end": 0.2,
            "bin_start": 0.1,
            "count": 0
           },
           {
            "bin_end": 0.30000000000000004,
            "bin_start": 0.2,
            "count": 0
           },
           {
            "bin_end": 0.4,
            "bin_start": 0.30000000000000004,
            "count": 0
           },
           {
            "bin_end": 0.5,
            "bin_start": 0.4,
            "count": 0
           },
           {
            "bin_end": 0.6000000000000001,
            "bin_start": 0.5,
            "count": 0
           },
           {
            "bin_end": 0.7000000000000001,
            "bin_start": 0.6000000000000001,
            "count": 0
           },
           {
            "bin_end": 0.8,
            "bin_start": 0.7000000000000001,
            "count": 0
           },
           {
            "bin_end": 0.9,
            "bin_start": 0.8,
            "count": 0
           },
           {
            "bin_end": 1,
            "bin_start": 0.9,
            "count": 1
           }
          ],
          "max": 1,
          "min": 0,
          "nan_count": 0,
          "unique_count": 2
         }
        },
        {
         "dtype": "int64",
         "name": "_deepnote_index_column"
        }
       ],
       "row_count": 5,
       "rows_bottom": null,
       "rows_top": [
        {
         "_deepnote_index_column": 0,
         "col_A": 1,
         "col_B": 0,
         "col_C": 0,
         "col_nan": 0
        },
        {
         "_deepnote_index_column": 1,
         "col_A": 0,
         "col_B": 1,
         "col_C": 0,
         "col_nan": 0
        },
        {
         "_deepnote_index_column": 2,
         "col_A": 0,
         "col_B": 0,
         "col_C": 1,
         "col_nan": 0
        },
        {
         "_deepnote_index_column": 3,
         "col_A": 1,
         "col_B": 0,
         "col_C": 0,
         "col_nan": 0
        },
        {
         "_deepnote_index_column": 4,
         "col_A": 0,
         "col_B": 0,
         "col_C": 0,
         "col_nan": 1
        }
       ]
      },
      "text/html": [
       "<div>\n",
       "<style scoped>\n",
       "    .dataframe tbody tr th:only-of-type {\n",
       "        vertical-align: middle;\n",
       "    }\n",
       "\n",
       "    .dataframe tbody tr th {\n",
       "        vertical-align: top;\n",
       "    }\n",
       "\n",
       "    .dataframe thead th {\n",
       "        text-align: right;\n",
       "    }\n",
       "</style>\n",
       "<table border=\"1\" class=\"dataframe\">\n",
       "  <thead>\n",
       "    <tr style=\"text-align: right;\">\n",
       "      <th></th>\n",
       "      <th>col_A</th>\n",
       "      <th>col_B</th>\n",
       "      <th>col_C</th>\n",
       "      <th>col_nan</th>\n",
       "    </tr>\n",
       "  </thead>\n",
       "  <tbody>\n",
       "    <tr>\n",
       "      <th>0</th>\n",
       "      <td>1</td>\n",
       "      <td>0</td>\n",
       "      <td>0</td>\n",
       "      <td>0</td>\n",
       "    </tr>\n",
       "    <tr>\n",
       "      <th>1</th>\n",
       "      <td>0</td>\n",
       "      <td>1</td>\n",
       "      <td>0</td>\n",
       "      <td>0</td>\n",
       "    </tr>\n",
       "    <tr>\n",
       "      <th>2</th>\n",
       "      <td>0</td>\n",
       "      <td>0</td>\n",
       "      <td>1</td>\n",
       "      <td>0</td>\n",
       "    </tr>\n",
       "    <tr>\n",
       "      <th>3</th>\n",
       "      <td>1</td>\n",
       "      <td>0</td>\n",
       "      <td>0</td>\n",
       "      <td>0</td>\n",
       "    </tr>\n",
       "    <tr>\n",
       "      <th>4</th>\n",
       "      <td>0</td>\n",
       "      <td>0</td>\n",
       "      <td>0</td>\n",
       "      <td>1</td>\n",
       "    </tr>\n",
       "  </tbody>\n",
       "</table>\n",
       "</div>"
      ],
      "text/plain": [
       "   col_A  col_B  col_C  col_nan\n",
       "0      1      0      0        0\n",
       "1      0      1      0        0\n",
       "2      0      0      1        0\n",
       "3      1      0      0        0\n",
       "4      0      0      0        1"
      ]
     },
     "execution_count": 26,
     "metadata": {},
     "output_type": "execute_result"
    }
   ],
   "source": [
    "pd.get_dummies(df, dummy_na=True)"
   ]
  },
  {
   "cell_type": "markdown",
   "metadata": {
    "cell_id": "00073-17ed189b-fa30-44f1-875a-d6a7315bfccc",
    "deepnote_cell_type": "markdown"
   },
   "source": [
    "We can now use this approach with sklearn's linear regression model to simplify the process of creating our model with both `volume` and `cover`. Using `get_dummies` on a clean copy of the `books` data frame automatically replaces the `cover` column with `cover_hb` and `cover_pb`, which should match the columns we created by hand above. "
   ]
  },
  {
   "cell_type": "code",
   "execution_count": null,
   "metadata": {
    "cell_id": "00074-45e3752f-e076-40ab-a7ea-c8a2e95cd6f6",
    "deepnote_cell_type": "code",
    "deepnote_to_be_reexecuted": false,
    "execution_millis": 9,
    "execution_start": 1611238691180,
    "output_cleared": false,
    "source_hash": "92e1bd6e"
   },
   "outputs": [
    {
     "data": {
      "application/vnd.deepnote.dataframe.v2+json": {
       "column_count": 5,
       "columns": [
        {
         "dtype": "int64",
         "name": "volume",
         "stats": {
          "histogram": [
           {
            "bin_end": 364.3,
            "bin_start": 239,
            "count": 1
           },
           {
            "bin_end": 489.6,
            "bin_start": 364.3,
            "count": 2
           },
           {
            "bin_end": 614.9,
            "bin_start": 489.6,
            "count": 1
           },
           {
            "bin_end": 740.2,
            "bin_start": 614.9,
            "count": 2
           },
           {
            "bin_end": 865.5,
            "bin_start": 740.2,
            "count": 0
           },
           {
            "bin_end": 990.8,
            "bin_start": 865.5,
            "count": 3
           },
           {
            "bin_end": 1116.1,
            "bin_start": 990.8,
            "count": 3
           },
           {
            "bin_end": 1241.4,
            "bin_start": 1116.1,
            "count": 2
           },
           {
            "bin_end": 1366.7,
            "bin_start": 1241.4,
            "count": 0
           },
           {
            "bin_end": 1492,
            "bin_start": 1366.7,
            "count": 1
           }
          ],
          "max": 1492,
          "min": 239,
          "nan_count": 0,
          "unique_count": 15
         }
        },
        {
         "dtype": "int64",
         "name": "area",
         "stats": {
          "histogram": [
           {
            "bin_end": 46.8,
            "bin_start": 0,
            "count": 8
           },
           {
            "bin_end": 93.6,
            "bin_start": 46.8,
            "count": 0
           },
           {
            "bin_end": 140.39999999999998,
            "bin_start": 93.6,
            "count": 0
           },
           {
            "bin_end": 187.2,
            "bin_start": 140.39999999999998,
            "count": 0
           },
           {
            "bin_end": 234,
            "bin_start": 187.2,
            "count": 0
           },
           {
            "bin_end": 280.79999999999995,
            "bin_start": 234,
            "count": 0
           },
           {
            "bin_end": 327.59999999999997,
            "bin_start": 280.79999999999995,
            "count": 0
           },
           {
            "bin_end": 374.4,
            "bin_start": 327.59999999999997,
            "count": 3
           },
           {
            "bin_end": 421.2,
            "bin_start": 374.4,
            "count": 3
           },
           {
            "bin_end": 468,
            "bin_start": 421.2,
            "count": 1
           }
          ],
          "max": 468,
          "min": 0,
          "nan_count": 0,
          "unique_count": 7
         }
        },
        {
         "dtype": "int64",
         "name": "weight",
         "stats": {
          "histogram": [
           {
            "bin_end": 332.5,
            "bin_start": 250,
            "count": 1
           },
           {
            "bin_end": 415,
            "bin_start": 332.5,
            "count": 2
           },
           {
            "bin_end": 497.5,
            "bin_start": 415,
            "count": 1
           },
           {
            "bin_end": 580,
            "bin_start": 497.5,
            "count": 0
           },
           {
            "bin_end": 662.5,
            "bin_start": 580,
            "count": 2
           },
           {
            "bin_end": 745,
            "bin_start": 662.5,
            "count": 2
           },
           {
            "bin_end": 827.5,
            "bin_start": 745,
            "count": 2
           },
           {
            "bin_end": 910,
            "bin_start": 827.5,
            "count": 0
           },
           {
            "bin_end": 992.5,
            "bin_start": 910,
            "count": 3
           },
           {
            "bin_end": 1075,
            "bin_start": 992.5,
            "count": 2
           }
          ],
          "max": 1075,
          "min": 250,
          "nan_count": 0,
          "unique_count": 13
         }
        },
        {
         "dtype": "uint8",
         "name": "cover_hb",
         "stats": {
          "histogram": [
           {
            "bin_end": 0.1,
            "bin_start": 0,
            "count": 8
           },
           {
            "bin_end": 0.2,
            "bin_start": 0.1,
            "count": 0
           },
           {
            "bin_end": 0.30000000000000004,
            "bin_start": 0.2,
            "count": 0
           },
           {
            "bin_end": 0.4,
            "bin_start": 0.30000000000000004,
            "count": 0
           },
           {
            "bin_end": 0.5,
            "bin_start": 0.4,
            "count": 0
           },
           {
            "bin_end": 0.6000000000000001,
            "bin_start": 0.5,
            "count": 0
           },
           {
            "bin_end": 0.7000000000000001,
            "bin_start": 0.6000000000000001,
            "count": 0
           },
           {
            "bin_end": 0.8,
            "bin_start": 0.7000000000000001,
            "count": 0
           },
           {
            "bin_end": 0.9,
            "bin_start": 0.8,
            "count": 0
           },
           {
            "bin_end": 1,
            "bin_start": 0.9,
            "count": 7
           }
          ],
          "max": 1,
          "min": 0,
          "nan_count": 0,
          "unique_count": 2
         }
        },
        {
         "dtype": "uint8",
         "name": "cover_pb",
         "stats": {
          "histogram": [
           {
            "bin_end": 0.1,
            "bin_start": 0,
            "count": 7
           },
           {
            "bin_end": 0.2,
            "bin_start": 0.1,
            "count": 0
           },
           {
            "bin_end": 0.30000000000000004,
            "bin_start": 0.2,
            "count": 0
           },
           {
            "bin_end": 0.4,
            "bin_start": 0.30000000000000004,
            "count": 0
           },
           {
            "bin_end": 0.5,
            "bin_start": 0.4,
            "count": 0
           },
           {
            "bin_end": 0.6000000000000001,
            "bin_start": 0.5,
            "count": 0
           },
           {
            "bin_end": 0.7000000000000001,
            "bin_start": 0.6000000000000001,
            "count": 0
           },
           {
            "bin_end": 0.8,
            "bin_start": 0.7000000000000001,
            "count": 0
           },
           {
            "bin_end": 0.9,
            "bin_start": 0.8,
            "count": 0
           },
           {
            "bin_end": 1,
            "bin_start": 0.9,
            "count": 8
           }
          ],
          "max": 1,
          "min": 0,
          "nan_count": 0,
          "unique_count": 2
         }
        },
        {
         "dtype": "int64",
         "name": "_deepnote_index_column"
        }
       ],
       "row_count": 15,
       "rows_bottom": null,
       "rows_top": [
        {
         "_deepnote_index_column": 0,
         "area": 382,
         "cover_hb": 1,
         "cover_pb": 0,
         "volume": 885,
         "weight": 800
        },
        {
         "_deepnote_index_column": 1,
         "area": 468,
         "cover_hb": 1,
         "cover_pb": 0,
         "volume": 1016,
         "weight": 950
        },
        {
         "_deepnote_index_column": 2,
         "area": 387,
         "cover_hb": 1,
         "cover_pb": 0,
         "volume": 1125,
         "weight": 1050
        },
        {
         "_deepnote_index_column": 3,
         "area": 371,
         "cover_hb": 1,
         "cover_pb": 0,
         "volume": 239,
         "weight": 350
        },
        {
         "_deepnote_index_column": 4,
         "area": 371,
         "cover_hb": 1,
         "cover_pb": 0,
         "volume": 701,
         "weight": 750
        },
        {
         "_deepnote_index_column": 5,
         "area": 367,
         "cover_hb": 1,
         "cover_pb": 0,
         "volume": 641,
         "weight": 600
        },
        {
         "_deepnote_index_column": 6,
         "area": 396,
         "cover_hb": 1,
         "cover_pb": 0,
         "volume": 1228,
         "weight": 1075
        },
        {
         "_deepnote_index_column": 7,
         "area": 0,
         "cover_hb": 0,
         "cover_pb": 1,
         "volume": 412,
         "weight": 250
        },
        {
         "_deepnote_index_column": 8,
         "area": 0,
         "cover_hb": 0,
         "cover_pb": 1,
         "volume": 953,
         "weight": 700
        },
        {
         "_deepnote_index_column": 9,
         "area": 0,
         "cover_hb": 0,
         "cover_pb": 1,
         "volume": 929,
         "weight": 650
        },
        {
         "_deepnote_index_column": 10,
         "area": 0,
         "cover_hb": 0,
         "cover_pb": 1,
         "volume": 1492,
         "weight": 975
        },
        {
         "_deepnote_index_column": 11,
         "area": 0,
         "cover_hb": 0,
         "cover_pb": 1,
         "volume": 419,
         "weight": 350
        },
        {
         "_deepnote_index_column": 12,
         "area": 0,
         "cover_hb": 0,
         "cover_pb": 1,
         "volume": 1010,
         "weight": 950
        },
        {
         "_deepnote_index_column": 13,
         "area": 0,
         "cover_hb": 0,
         "cover_pb": 1,
         "volume": 595,
         "weight": 425
        },
        {
         "_deepnote_index_column": 14,
         "area": 0,
         "cover_hb": 0,
         "cover_pb": 1,
         "volume": 1034,
         "weight": 725
        }
       ]
      },
      "text/html": [
       "<div>\n",
       "<style scoped>\n",
       "    .dataframe tbody tr th:only-of-type {\n",
       "        vertical-align: middle;\n",
       "    }\n",
       "\n",
       "    .dataframe tbody tr th {\n",
       "        vertical-align: top;\n",
       "    }\n",
       "\n",
       "    .dataframe thead th {\n",
       "        text-align: right;\n",
       "    }\n",
       "</style>\n",
       "<table border=\"1\" class=\"dataframe\">\n",
       "  <thead>\n",
       "    <tr style=\"text-align: right;\">\n",
       "      <th></th>\n",
       "      <th>volume</th>\n",
       "      <th>area</th>\n",
       "      <th>weight</th>\n",
       "      <th>cover_hb</th>\n",
       "      <th>cover_pb</th>\n",
       "    </tr>\n",
       "  </thead>\n",
       "  <tbody>\n",
       "    <tr>\n",
       "      <th>0</th>\n",
       "      <td>885</td>\n",
       "      <td>382</td>\n",
       "      <td>800</td>\n",
       "      <td>1</td>\n",
       "      <td>0</td>\n",
       "    </tr>\n",
       "    <tr>\n",
       "      <th>1</th>\n",
       "      <td>1016</td>\n",
       "      <td>468</td>\n",
       "      <td>950</td>\n",
       "      <td>1</td>\n",
       "      <td>0</td>\n",
       "    </tr>\n",
       "    <tr>\n",
       "      <th>2</th>\n",
       "      <td>1125</td>\n",
       "      <td>387</td>\n",
       "      <td>1050</td>\n",
       "      <td>1</td>\n",
       "      <td>0</td>\n",
       "    </tr>\n",
       "    <tr>\n",
       "      <th>3</th>\n",
       "      <td>239</td>\n",
       "      <td>371</td>\n",
       "      <td>350</td>\n",
       "      <td>1</td>\n",
       "      <td>0</td>\n",
       "    </tr>\n",
       "    <tr>\n",
       "      <th>4</th>\n",
       "      <td>701</td>\n",
       "      <td>371</td>\n",
       "      <td>750</td>\n",
       "      <td>1</td>\n",
       "      <td>0</td>\n",
       "    </tr>\n",
       "    <tr>\n",
       "      <th>5</th>\n",
       "      <td>641</td>\n",
       "      <td>367</td>\n",
       "      <td>600</td>\n",
       "      <td>1</td>\n",
       "      <td>0</td>\n",
       "    </tr>\n",
       "    <tr>\n",
       "      <th>6</th>\n",
       "      <td>1228</td>\n",
       "      <td>396</td>\n",
       "      <td>1075</td>\n",
       "      <td>1</td>\n",
       "      <td>0</td>\n",
       "    </tr>\n",
       "    <tr>\n",
       "      <th>7</th>\n",
       "      <td>412</td>\n",
       "      <td>0</td>\n",
       "      <td>250</td>\n",
       "      <td>0</td>\n",
       "      <td>1</td>\n",
       "    </tr>\n",
       "    <tr>\n",
       "      <th>8</th>\n",
       "      <td>953</td>\n",
       "      <td>0</td>\n",
       "      <td>700</td>\n",
       "      <td>0</td>\n",
       "      <td>1</td>\n",
       "    </tr>\n",
       "    <tr>\n",
       "      <th>9</th>\n",
       "      <td>929</td>\n",
       "      <td>0</td>\n",
       "      <td>650</td>\n",
       "      <td>0</td>\n",
       "      <td>1</td>\n",
       "    </tr>\n",
       "    <tr>\n",
       "      <th>10</th>\n",
       "      <td>1492</td>\n",
       "      <td>0</td>\n",
       "      <td>975</td>\n",
       "      <td>0</td>\n",
       "      <td>1</td>\n",
       "    </tr>\n",
       "    <tr>\n",
       "      <th>11</th>\n",
       "      <td>419</td>\n",
       "      <td>0</td>\n",
       "      <td>350</td>\n",
       "      <td>0</td>\n",
       "      <td>1</td>\n",
       "    </tr>\n",
       "    <tr>\n",
       "      <th>12</th>\n",
       "      <td>1010</td>\n",
       "      <td>0</td>\n",
       "      <td>950</td>\n",
       "      <td>0</td>\n",
       "      <td>1</td>\n",
       "    </tr>\n",
       "    <tr>\n",
       "      <th>13</th>\n",
       "      <td>595</td>\n",
       "      <td>0</td>\n",
       "      <td>425</td>\n",
       "      <td>0</td>\n",
       "      <td>1</td>\n",
       "    </tr>\n",
       "    <tr>\n",
       "      <th>14</th>\n",
       "      <td>1034</td>\n",
       "      <td>0</td>\n",
       "      <td>725</td>\n",
       "      <td>0</td>\n",
       "      <td>1</td>\n",
       "    </tr>\n",
       "  </tbody>\n",
       "</table>\n",
       "</div>"
      ],
      "text/plain": [
       "    volume  area  weight  cover_hb  cover_pb\n",
       "0      885   382     800         1         0\n",
       "1     1016   468     950         1         0\n",
       "2     1125   387    1050         1         0\n",
       "3      239   371     350         1         0\n",
       "4      701   371     750         1         0\n",
       "5      641   367     600         1         0\n",
       "6     1228   396    1075         1         0\n",
       "7      412     0     250         0         1\n",
       "8      953     0     700         0         1\n",
       "9      929     0     650         0         1\n",
       "10    1492     0     975         0         1\n",
       "11     419     0     350         0         1\n",
       "12    1010     0     950         0         1\n",
       "13     595     0     425         0         1\n",
       "14    1034     0     725         0         1"
      ]
     },
     "execution_count": 27,
     "metadata": {},
     "output_type": "execute_result"
    }
   ],
   "source": [
    "books = pd.read_csv(\"daag_books.csv\") # Reread in the data for a clean copy\n",
    "books = pd.get_dummies(books)\n",
    "books"
   ]
  },
  {
   "cell_type": "markdown",
   "metadata": {
    "cell_id": "00075-57bb54b9-c865-4ca9-8da7-9a518891e2ba",
    "deepnote_cell_type": "markdown"
   },
   "source": [
    "Note that `get_dummies` does not modify the underlying dataframe in place, and that it is necessary to save the result to a new variable (or overwrite the old version)."
   ]
  },
  {
   "cell_type": "markdown",
   "metadata": {
    "cell_id": "00076-d00291ff-97cc-4a4a-b877-db2c8fea0050",
    "deepnote_cell_type": "markdown"
   },
   "source": [
    "---\n",
    "\n",
    "### 2.2 Least Squares & rank deficiency\n",
    "\n",
    "Now lets consider the model where we naively include both `cover_hb` and `cover_pb` as well as an intercept column in our model matrix."
   ]
  },
  {
   "cell_type": "code",
   "execution_count": null,
   "metadata": {
    "cell_id": "00077-9f26669e-cc42-448a-ae1d-ce4ee2f07591",
    "deepnote_cell_type": "code",
    "deepnote_to_be_reexecuted": false,
    "execution_millis": 3,
    "execution_start": 1611238691195,
    "output_cleared": false,
    "source_hash": "c8f2a9df"
   },
   "outputs": [
    {
     "name": "stdout",
     "output_type": "stream",
     "text": [
      "[ 70.62613859   0.71795374 127.33670498 -56.7105664 ]\n"
     ]
    }
   ],
   "source": [
    "X = np.c_[\n",
    "    np.ones(len(y)), \n",
    "    books.volume, \n",
    "    books.cover_hb,\n",
    "    books.cover_pb\n",
    "]\n",
    "l = LinearRegression(fit_intercept=False).fit(X, books.weight)\n",
    "\n",
    "\n",
    "beta = l.coef_\n",
    "print( beta )"
   ]
  },
  {
   "cell_type": "markdown",
   "metadata": {
    "cell_id": "00078-37df9229-80c6-4d30-8452-ad168b04e9c9",
    "deepnote_cell_type": "markdown"
   },
   "source": [
    "---\n",
    "\n",
    "### &diams; Exercise 11\n",
    "\n",
    "Write out the equations that predict weight for hardback and paperback books according to this model.  \n"
   ]
  },
  {
   "cell_type": "markdown",
   "metadata": {
    "cell_id": "00079-4381beac-06ee-4113-b730-7b0e0338d1a7",
    "deepnote_cell_type": "markdown"
   },
   "source": [
    "$$\n",
    "y_i = \\begin{cases}\n",
    "        70.6 + 0.72 \\, x_i + 127.3 \\times 0 -56.7 \\times 1 = 13.9 + 0.72 \\, x_i & \\text{if book cover $i$ is paperback} \\\\\n",
    "        70.6 + 0.72 \\, x_i + 127.3 \\times 1 -56.7 \\times 0 = 197.9 + 0.72 \\, x_i & \\text{if book cover $i$ is hardback} \\\\\n",
    "       \\end{cases}.\n",
    "$$"
   ]
  },
  {
   "cell_type": "markdown",
   "metadata": {
    "cell_id": "00080-588e15d7-fd66-4632-a537-a392bc86310f",
    "deepnote_cell_type": "markdown"
   },
   "source": [
    "---\n",
    "\n",
    "### &diams; Exercise 12\n",
    "\n",
    "Are the solutions ($\\beta$) given above unique? Can you find different values of $\\beta_0$, $\\beta_1$, $\\beta_2$, and $\\beta_3$ that would give you the same regression equations you wrote out in the previous exercise?"
   ]
  },
  {
   "cell_type": "markdown",
   "metadata": {
    "cell_id": "00081-1d932bfa-a944-4ade-a30a-809b833cb8b2",
    "deepnote_cell_type": "markdown"
   },
   "source": [
    "*This solution is not unique, anything of the form $\\beta_0 + \\beta_2 = a$ and $\\beta_0 + \\beta_3 = b$ will work.*"
   ]
  },
  {
   "cell_type": "markdown",
   "metadata": {
    "cell_id": "00082-cc2ae745-ec4e-41bb-a558-e081eb69a9fd",
    "deepnote_cell_type": "markdown"
   },
   "source": [
    "---\n",
    "\n",
    "### &diams; Exercise 13\n",
    "\n",
    "Solve for $\\beta$ using the numpy approach mentioned in Section 1. Do the solutions differ from sklearn's solutions? Do they make sense? Explain."
   ]
  },
  {
   "cell_type": "code",
   "execution_count": null,
   "metadata": {
    "cell_id": "00083-24cf9f71-cacf-4424-ab28-9e053108dd38",
    "deepnote_cell_type": "code",
    "deepnote_to_be_reexecuted": false,
    "execution_millis": 1,
    "execution_start": 1611238691245,
    "output_cleared": false,
    "source_hash": "6947cf0b"
   },
   "outputs": [
    {
     "name": "stdout",
     "output_type": "stream",
     "text": [
      "[-120.20456982    0.71795374  318.16741339  134.12014201]\n"
     ]
    }
   ],
   "source": [
    "y = np.array(books.weight)\n",
    "X = np.c_[\n",
    "    np.ones(len(y)), \n",
    "    books.volume, \n",
    "    books.cover_hb,\n",
    "    books.cover_pb\n",
    "]\n",
    "\n",
    "beta = solve(X.T @ X, X.T @ y)\n",
    "\n",
    "print(beta)"
   ]
  },
  {
   "cell_type": "markdown",
   "metadata": {
    "cell_id": "00085-1bda8bac-f146-47d8-b4d0-8850bbff6154",
    "deepnote_cell_type": "markdown",
    "tags": []
   },
   "source": [
    "When using solve, we do get a solution for $\\beta$ that differs from our previous values but does produce an equivalent solution\n",
    "(this an be confirmed by calculating $\\beta_0+\\beta_2$ and $\\beta_0+\\beta_2$). However, if instead of using `solve` we had tried\n",
    "to directly find the inverse with `inv`, the solution we obtain is completely incorrect."
   ]
  },
  {
   "cell_type": "code",
   "execution_count": null,
   "metadata": {
    "cell_id": "00085-deddaa4c-26d2-4307-bf77-cc3a53d162b1",
    "deepnote_cell_type": "code",
    "deepnote_to_be_reexecuted": false,
    "execution_millis": 1,
    "execution_start": 1611238691246,
    "source_hash": "6cbb6507",
    "tags": []
   },
   "outputs": [
    {
     "data": {
      "text/plain": [
       "array([1.38437500e+03, 7.01606597e-01, 2.62500000e+02, 5.93750000e+01])"
      ]
     },
     "execution_count": 30,
     "metadata": {},
     "output_type": "execute_result"
    }
   ],
   "source": [
    "from numpy.linalg import inv\n",
    "inv(X.T @ X) @ X.T @ y"
   ]
  },
  {
   "cell_type": "markdown",
   "metadata": {
    "cell_id": "00085-0f166ff9-d7d5-42e4-ba46-6af575ee67ca",
    "deepnote_cell_type": "markdown",
    "tags": []
   },
   "source": [
    "*These values do not make sense and produce poor predictions, check by calculating `X @ beta`.*"
   ]
  },
  {
   "cell_type": "markdown",
   "metadata": {
    "cell_id": "00084-a1333812-72e2-4f74-9b20-ef1e1437b787",
    "deepnote_cell_type": "markdown"
   },
   "source": [
    "---"
   ]
  },
  {
   "cell_type": "markdown",
   "metadata": {
    "cell_id": "00085-db4eaf63-e5b7-4ebb-a8de-685e93159514",
    "deepnote_cell_type": "markdown"
   },
   "source": [
    "The issues we are seeing with the above approaches are occuring due to colinearity between our predictors - if you examine the data it should be clear that given any two of the intercept, `cover_hb`, and `cover_pb` it is possible to exactly determine the value of the other column. Mathematically, we describe this as these columns are linearly depenedent, which implies that our model matrix is *rank deficient*. You can check this explicitly by via the `numpy.linalg.matrix_rank` function which will report that `X` (and $\\boldsymbol{X}^\\top\\boldsymbol{X}$) are of rank 3 not 4 which is what we might have naievely expected.\n",
    "\n",
    "This is important as the underlying linear algrebra methods used to solve for $\\beta$ for a least squares problem often implicitly assume that $\\boldsymbol{X}^\\top\\boldsymbol{X}$ is full rank in order to solve the matrix inverse and violating these assumptions can have unexpected results."
   ]
  },
  {
   "cell_type": "markdown",
   "metadata": {
    "cell_id": "00086-7422c6b7-c86a-41ac-8d32-8ba6063dcba5",
    "deepnote_cell_type": "markdown"
   },
   "source": [
    "---\n",
    "\n",
    "## 3. Competing the worksheet\n",
    "\n",
    "At this point you have hopefully been able to complete all the preceeding exercises. Now \n",
    "is a good time to check the reproducibility of this document by restarting the notebook's\n",
    "kernel and rerunning all cells in order.\n",
    "\n",
    "Once that is done and you are happy with everything, you can then run the following cell \n",
    "to generate your PDF and turn it in on gradescope under the `mlp-week02` assignment."
   ]
  },
  {
   "cell_type": "code",
   "execution_count": null,
   "metadata": {
    "cell_id": "00087-b59d2c38-cc05-4acd-b8e7-415727f07c78",
    "deepnote_cell_type": "code",
    "deepnote_to_be_reexecuted": false,
    "execution_millis": 12287,
    "execution_start": 1611238691247,
    "output_cleared": false,
    "source_hash": "acbeadd",
    "tags": []
   },
   "outputs": [
    {
     "name": "stdout",
     "output_type": "stream",
     "text": [
      "[NbConvertApp] Converting notebook mlp-week02.ipynb to pdf\n",
      "[NbConvertApp] Support files will be in mlp-week02_files/\n",
      "[NbConvertApp] Making directory ./mlp-week02_files\n",
      "[NbConvertApp] Making directory ./mlp-week02_files\n",
      "[NbConvertApp] Making directory ./mlp-week02_files\n",
      "[NbConvertApp] Making directory ./mlp-week02_files\n",
      "[NbConvertApp] Writing 91882 bytes to notebook.tex\n",
      "[NbConvertApp] Building PDF\n",
      "[NbConvertApp] Running xelatex 3 times: ['xelatex', 'notebook.tex', '-quiet']\n",
      "[NbConvertApp] Running bibtex 1 time: ['bibtex', 'notebook']\n",
      "[NbConvertApp] WARNING | bibtex had problems, most likely because there were no citations\n",
      "[NbConvertApp] PDF successfully created\n",
      "[NbConvertApp] Writing 178089 bytes to mlp-week02.pdf\n"
     ]
    }
   ],
   "source": [
    "!jupyter nbconvert --to pdf mlp-week02.ipynb"
   ]
  }
 ],
 "metadata": {
  "deepnote_execution_queue": [],
  "deepnote_notebook_id": "2f0f4e4a-50b4-476a-ac32-ea3a1e98d30c",
  "kernelspec": {
   "display_name": "Python 3",
   "language": "python",
   "name": "python3"
  },
  "language_info": {
   "codemirror_mode": {
    "name": "ipython",
    "version": 3
   },
   "file_extension": ".py",
   "mimetype": "text/x-python",
   "name": "python",
   "nbconvert_exporter": "python",
   "pygments_lexer": "ipython3",
   "version": "3.8.3"
  }
 },
 "nbformat": 4,
 "nbformat_minor": 4
}
