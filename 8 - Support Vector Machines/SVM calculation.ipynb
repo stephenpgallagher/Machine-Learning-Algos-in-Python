{
 "cells": [
  {
   "cell_type": "markdown",
   "metadata": {},
   "source": [
    "## HARD Margin"
   ]
  },
  {
   "cell_type": "code",
   "execution_count": 3,
   "metadata": {},
   "outputs": [
    {
     "name": "stdout",
     "output_type": "stream",
     "text": [
      "w =  [[1.88193582 1.05844117]]\n",
      "b =  [-9.23297679]\n",
      "Indices of support vectors =  [3 6 9]\n",
      "Support vectors =  [[ 3.25  2.  ]\n",
      " [ 6.   -1.  ]\n",
      " [ 3.75  3.  ]]\n",
      "Number of support vectors for each class =  [1 2]\n",
      "Coefficients of the support vector in the decision function =  [[2.33158492 0.31828594 2.01329898]]\n"
     ]
    }
   ],
   "source": [
    "import numpy as np\n",
    "from sklearn.svm import SVC\n",
    "\n",
    "X = np.array([[1,1],[3,0],[2,3],[3.25,2],[1.5,3.5],[2,3],[6,-1],[4.5,3.5],[4,5],[3.75,3],[6,5]])\n",
    "y = np.array([1, 1, 1, 1, 1, 1, 2, 2, 2, 2, 2])\n",
    "\n",
    "clf = SVC(C = 1e5, kernel = 'linear')\n",
    "clf.fit(X, y) \n",
    "\n",
    "print('w = ',clf.coef_)\n",
    "print('b = ',clf.intercept_)\n",
    "print('Indices of support vectors = ', clf.support_)\n",
    "print('Support vectors = ', clf.support_vectors_)\n",
    "print('Number of support vectors for each class = ', clf.n_support_)\n",
    "print('Coefficients of the support vector in the decision function = ', np.abs(clf.dual_coef_))"
   ]
  },
  {
   "cell_type": "markdown",
   "metadata": {},
   "source": [
    "## SOFT Margin"
   ]
  },
  {
   "cell_type": "code",
   "execution_count": 4,
   "metadata": {},
   "outputs": [
    {
     "name": "stdout",
     "output_type": "stream",
     "text": [
      "w =  [[1.  0.5]]\n",
      "b =  [-4.5]\n",
      "Indices of support vectors =  [3 5 6 9]\n",
      "Support vectors =  [[ 3.25  2.  ]\n",
      " [ 2.    3.  ]\n",
      " [ 6.   -1.  ]\n",
      " [ 3.75  3.  ]]\n",
      "Number of support vectors for each class =  [2 2]\n",
      "Coefficients of the support vector in the decision function =  [[1.    0.125 0.125 1.   ]]\n"
     ]
    }
   ],
   "source": [
    "import numpy as np\n",
    "from sklearn.svm import SVC\n",
    "\n",
    "X = np.array([[1,1],[3,0],[2,3],[3.25,2],[1.5,3.5],[2,3],[6,-1],[4.5,3.5],[4,5],[3.75,3],[6,5]])\n",
    "y = np.array([1, 1, 1, 1, 1, 1, 2, 2, 2, 2, 2])\n",
    "\n",
    "clf = SVC(C = 1, kernel = 'linear')\n",
    "clf.fit(X, y) \n",
    "\n",
    "print('w = ',clf.coef_)\n",
    "print('b = ',clf.intercept_)\n",
    "print('Indices of support vectors = ', clf.support_)\n",
    "print('Support vectors = ', clf.support_vectors_)\n",
    "print('Number of support vectors for each class = ', clf.n_support_)\n",
    "print('Coefficients of the support vector in the decision function = ', np.abs(clf.dual_coef_))"
   ]
  },
  {
   "cell_type": "code",
   "execution_count": null,
   "metadata": {},
   "outputs": [],
   "source": []
  }
 ],
 "metadata": {
  "kernelspec": {
   "display_name": "Python 3",
   "language": "python",
   "name": "python3"
  },
  "language_info": {
   "codemirror_mode": {
    "name": "ipython",
    "version": 3
   },
   "file_extension": ".py",
   "mimetype": "text/x-python",
   "name": "python",
   "nbconvert_exporter": "python",
   "pygments_lexer": "ipython3",
   "version": "3.8.3"
  }
 },
 "nbformat": 4,
 "nbformat_minor": 4
}
