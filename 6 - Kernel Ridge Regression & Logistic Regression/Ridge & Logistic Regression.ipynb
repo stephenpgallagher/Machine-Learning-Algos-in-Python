{
 "cells": [
  {
   "cell_type": "markdown",
   "metadata": {
    "cell_id": "00000-553a5804-a245-413d-97a4-6dc0197900ef",
    "deepnote_cell_type": "markdown"
   },
   "source": [
    "# Machine Learning in Python - Workshop 6"
   ]
  },
  {
   "cell_type": "markdown",
   "metadata": {
    "cell_id": "00001-fad26215-8b0b-4901-9a13-0e9fd7f61f7a",
    "deepnote_cell_type": "markdown"
   },
   "source": [
    "# 1. Setup\n",
    "\n",
    "\n",
    "## 1.1 Packages\n"
   ]
  },
  {
   "cell_type": "markdown",
   "metadata": {
    "cell_id": "00002-1b8c4926-89df-442d-a982-64aa007dfe44",
    "deepnote_cell_type": "markdown"
   },
   "source": [
    "In the cell below we will load the core libraries we will be using for this workshop and setting some sensible defaults for our plot size and resolution. "
   ]
  },
  {
   "cell_type": "code",
   "execution_count": null,
   "metadata": {
    "cell_id": "00003-177280ef-8f7e-4deb-a875-c89b3b3ab495",
    "deepnote_cell_type": "code",
    "deepnote_to_be_reexecuted": false,
    "execution_millis": 6364,
    "execution_start": 1614250581833,
    "output_cleared": true,
    "source_hash": "ed6b4749"
   },
   "outputs": [],
   "source": [
    "# Display plots inline\n",
    "%matplotlib inline\n",
    "\n",
    "# Data libraries\n",
    "import pandas as pd\n",
    "import numpy as np\n",
    "\n",
    "# Plotting libraries\n",
    "import matplotlib.pyplot as plt\n",
    "import seaborn as sns\n",
    "\n",
    "# Plotting defaults\n",
    "plt.rcParams['figure.figsize'] = (10,6)\n",
    "plt.rcParams['figure.dpi'] = 80\n",
    "\n",
    "# ipython interactive widgets\n",
    "from ipywidgets import interact\n",
    "\n",
    "# sklearn modules\n",
    "import sklearn\n",
    "from sklearn.metrics import mean_squared_error\n",
    "from sklearn.pipeline import make_pipeline\n",
    "from sklearn.model_selection import GridSearchCV, KFold"
   ]
  },
  {
   "cell_type": "markdown",
   "metadata": {
    "cell_id": "00004-61d663c1-7140-4802-867f-5237862d76e8",
    "deepnote_cell_type": "markdown"
   },
   "source": [
    "--- \n",
    "\n",
    "# 2. Kernel Ridge Regression\n",
    "\n",
    "This is an approach that combines Ridge regression with the kernel trick to allow for the fitting of more complex relationships. Beginning with the Ridge regression optimization formulation,\n",
    "\n",
    "$$ \\underset{\\boldsymbol{\\beta}}{\\text{argmin}} \\; \\lVert \\boldsymbol{y} - \\boldsymbol{X} \\boldsymbol{\\beta} \\rVert^2 + \\alpha (\\boldsymbol{\\beta}^T\\boldsymbol{\\beta}) $$ \n",
    "\n",
    "We have seen that it has a closed form solution where\n",
    "\n",
    "$$ \\boldsymbol{\\beta} = \\left( \\boldsymbol{X}\\boldsymbol{X}^\\top + \\alpha \\boldsymbol{I}_p \\right)^{-1} \\boldsymbol{X}^\\top \\boldsymbol{y} $$\n",
    "\n",
    "which can be rewritten as \n",
    "\n",
    "$$ \n",
    "\\begin{aligned}\n",
    "\\boldsymbol{\\beta} \n",
    "    &= \\boldsymbol{X}^\\top \\left( \\boldsymbol{X}^\\top\\boldsymbol{X} + \\alpha \\boldsymbol{I}_p \\right)^{-1}  \\boldsymbol{y} \\\\\n",
    "    &= \\boldsymbol{X}^\\top \\left( \\boldsymbol{K} + \\alpha \\boldsymbol{I}_p \\right)^{-1}  \\boldsymbol{y}\n",
    "\\end{aligned}\n",
    "$$\n",
    "\n",
    "where $\\boldsymbol{K}$ is a Gram matrix defined by a given kernel.\n",
    "\n",
    "The implementation in scikit-learn is provided by the `KernelRidge` function in the `sklearn.kernel_ridge` submodule."
   ]
  },
  {
   "cell_type": "code",
   "execution_count": null,
   "metadata": {
    "cell_id": "00005-6602b51b-1689-47e3-b1fa-32af40be2115",
    "deepnote_cell_type": "code",
    "deepnote_to_be_reexecuted": false,
    "execution_millis": 31,
    "execution_start": 1614250588197,
    "output_cleared": true,
    "source_hash": "3c414c81"
   },
   "outputs": [],
   "source": [
    "from sklearn.kernel_ridge import KernelRidge"
   ]
  },
  {
   "cell_type": "markdown",
   "metadata": {
    "cell_id": "00006-90f0442d-d69f-41b7-a48d-5e02bee948bd",
    "deepnote_cell_type": "markdown"
   },
   "source": [
    "We will use this model to fit the gaussian process data we originally examined in week 3."
   ]
  },
  {
   "cell_type": "code",
   "execution_count": null,
   "metadata": {
    "cell_id": "00007-64bfbcc9-4467-4bc8-a219-8f1e93db7a29",
    "deepnote_cell_type": "code",
    "deepnote_to_be_reexecuted": false,
    "execution_millis": 4,
    "execution_start": 1614250588233,
    "output_cleared": true,
    "source_hash": "ee5f9cd0"
   },
   "outputs": [],
   "source": [
    "gp = pd.read_csv('gp.csv').sample(frac=1)"
   ]
  },
  {
   "cell_type": "code",
   "execution_count": null,
   "metadata": {
    "cell_id": "00008-03647e46-1af5-4b2d-bd78-16dd5ce576e3",
    "deepnote_cell_type": "code",
    "deepnote_to_be_reexecuted": false,
    "execution_millis": 359,
    "execution_start": 1614250588293,
    "output_cleared": false,
    "source_hash": "1ed4b251"
   },
   "outputs": [],
   "source": [
    "sns.scatterplot(x='x', y='y', data=gp)\n",
    "plt.show()"
   ]
  },
  {
   "cell_type": "code",
   "execution_count": null,
   "metadata": {
    "cell_id": "00009-a4bc9ad9-cbbe-4858-9ee9-5e77d7000bcc",
    "deepnote_cell_type": "code",
    "deepnote_to_be_reexecuted": false,
    "execution_millis": 7,
    "execution_start": 1614250588657,
    "output_cleared": true,
    "source_hash": "e6aac642"
   },
   "outputs": [],
   "source": [
    "# Define outcome vector and model matrix\n",
    "y = gp.y\n",
    "X = gp.drop('y', axis=1)"
   ]
  },
  {
   "cell_type": "markdown",
   "metadata": {
    "cell_id": "00010-dff63eb1-5c81-4e5f-9d3a-8bd04afc5460",
    "deepnote_cell_type": "markdown"
   },
   "source": [
    "## 2.1 Model Parameters\n",
    "\n",
    "To fit a kernel ridge regression model we first must choose a kernel function, here we will be using a radial basis function (`rbf`), other possible choices are available as part of the `sklearn.metrics.pairwise` submodule. Each kernel will have additional parameters, generally sklearn attempts to label all primary kernel parameters using the name `gamma` and any additional required parameters will have more informative names. In the lectures this parameter was referred to as the bandwidth and labelled as $l$. The parameterization of the radial basis function used by scikit-learn is as follows:\n",
    "\n",
    "$$\n",
    "K(\\boldsymbol{x}, \\boldsymbol{y}) = \\exp(-\\gamma \\lVert \\boldsymbol{x}-\\boldsymbol{y} \\rVert^2).\n",
    "$$\n",
    "\n",
    "As such, when fitting a rbf based kernel ridge regression model we now have two parameters to optimize over: `alpha` from the ridge $\\ell_2$ penalty, and `gamma` the bandwidth of the rbf kernel.\n",
    "\n",
    "Below we define a function that fits the kernel ridge regression to the `gp` data and then plots the fit along with reporting the root mean squared error. By including the `interact` decorator we provide simple interactive widgets that you can use to adjust these two parameters to explore their effect on the model's fit."
   ]
  },
  {
   "cell_type": "code",
   "execution_count": null,
   "metadata": {
    "cell_id": "00011-c4b0832d-184e-4ff5-b23e-268b4f3de205",
    "deepnote_cell_type": "code",
    "deepnote_to_be_reexecuted": false,
    "execution_millis": 1,
    "execution_start": 1614250588709,
    "output_cleared": true,
    "source_hash": "a7a85e93"
   },
   "outputs": [],
   "source": [
    "def kernel_ridge_fit(alpha, gamma):\n",
    "    # Fit the model\n",
    "    m = KernelRidge(kernel='rbf', alpha=alpha, gamma=gamma).fit(X, y)\n",
    "\n",
    "    rmse = np.sqrt(mean_squared_error(y, m.predict(X)))\n",
    "\n",
    "    # Create DF for predictions\n",
    "    gp_pred = pd.DataFrame({'x': np.linspace(0, 1, num=100)})\n",
    "    gp_pred[\"y\"] = m.predict(gp_pred)\n",
    "\n",
    "    sns.scatterplot(x='x', y='y', data=gp)\n",
    "    sns.lineplot(x='x', y='y', data=gp_pred, color='black')\n",
    "    plt.title(\"alpha = %s gamma = %.1f\\nrmse = %.4f\" % (alpha, gamma, rmse))\n",
    "    plt.show()\n"
   ]
  },
  {
   "cell_type": "markdown",
   "metadata": {
    "cell_id": "00012-bcf25672-3b69-4452-b076-ce4b30a5d221",
    "deepnote_cell_type": "markdown"
   },
   "source": [
    "You can try adjusting the values of these parameters in the code chunk below and exploring the effect they have on the overall model fit. We recommend trying values of `alpha` between 0 and 1 and `gamma` between 0 and 1000. Note the behavior of `gamma` will depend on your choice of `alpha`."
   ]
  },
  {
   "cell_type": "code",
   "execution_count": null,
   "metadata": {
    "cell_id": "00013-e6ff45bb-7d0c-49d7-a976-c0aeddcdbe7c",
    "deepnote_cell_type": "code",
    "deepnote_to_be_reexecuted": false,
    "execution_millis": 437,
    "execution_start": 1614250588710,
    "output_cleared": false,
    "source_hash": "c973edda"
   },
   "outputs": [
    {
     "data": {
      "image/png": "[encoded data removed]",
      "text/plain": [
       "<Figure size 800x480 with 1 Axes>"
      ]
     },
     "metadata": {
      "needs_background": "light"
     },
     "output_type": "display_data"
    }
   ],
   "source": [
    "kernel_ridge_fit(alpha = 0.01, gamma = 100)"
   ]
  },
  {
   "cell_type": "markdown",
   "metadata": {
    "cell_id": "00014-c23583b2-f423-4994-8a23-3ab350d2507e",
    "deepnote_cell_type": "markdown"
   },
   "source": [
    "---\n",
    "\n",
    "### &diams; Exercise 1\n",
    "\n",
    "How does changing the value of `alpha` and `gamma` affect the fit of this model? Which of the two seems more important? Explain."
   ]
  },
  {
   "cell_type": "markdown",
   "metadata": {
    "cell_id": "00015-6c58dbf0-baa9-4b92-8f91-09b51c0892ef",
    "deepnote_cell_type": "markdown"
   },
   "source": [
    "* *Increasing `gamma` appears to have the most significant impact*\n",
    "* *Smaller `alpha` appears slightly better but can lead to over fitting when combined with large `gamma`.*\n",
    "\n",
    "* *Generally, `gamma` should be more important here as it is defining the length scale of the rbf kernel which dictates the sharing of information between nearby points - this helps us achieve the desired smooth function for these data. Also, given how kernel ridge regression is implemented alpha is not a direct penalty on the parameters but rather it helps in the conditioning of the problem and numeric stability of the solution.*"
   ]
  },
  {
   "cell_type": "markdown",
   "metadata": {
    "cell_id": "00016-299d47da-fa45-40eb-903b-03751238bb8c",
    "deepnote_cell_type": "markdown"
   },
   "source": [
    "---\n",
    "\n",
    "## 2.2 Model Tuning\n",
    "\n",
    "As with ridge and lasso regression models we can use `GridSearchCV` to explore the space of possible parameters to determine the optimal model under cross validation. "
   ]
  },
  {
   "cell_type": "code",
   "execution_count": null,
   "metadata": {
    "cell_id": "00017-04a456dc-7326-44e4-b53f-246b4098c6e1",
    "deepnote_cell_type": "code",
    "deepnote_to_be_reexecuted": false,
    "execution_millis": 46925,
    "execution_start": 1614250589152,
    "output_cleared": true,
    "source_hash": "977925ff"
   },
   "outputs": [],
   "source": [
    "m = GridSearchCV(\n",
    "    KernelRidge(kernel='rbf'),\n",
    "    param_grid={\"alpha\": np.logspace(-3, 0, num=4),\n",
    "                \"gamma\": np.logspace(0, 3, num=50)},\n",
    "    scoring = 'neg_mean_squared_error', \n",
    "    cv = KFold(5, shuffle=True, random_state=1234)\n",
    ")\n",
    "\n",
    "m = m.fit(X,y)"
   ]
  },
  {
   "cell_type": "markdown",
   "metadata": {
    "cell_id": "00018-48777488-f697-44f9-ac64-f98b3d4e7bbe",
    "deepnote_cell_type": "markdown"
   },
   "source": [
    "Note that with two parameters we now need to fit $n_\\alpha \\times n_\\gamma \\times n_{cv}$ models which can be somewhat slow. \n",
    "\n",
    "For our grid search we obtain the following as the best values of these parameters:"
   ]
  },
  {
   "cell_type": "code",
   "execution_count": null,
   "metadata": {
    "cell_id": "00019-c610cb90-2e1d-4a8f-b823-9eacce565dd6",
    "deepnote_cell_type": "code",
    "deepnote_to_be_reexecuted": false,
    "execution_millis": 9,
    "execution_start": 1614250636078,
    "output_cleared": false,
    "source_hash": "88b045b3"
   },
   "outputs": [
    {
     "data": {
      "text/plain": [
       "{'alpha': 0.1, 'gamma': 212.09508879201903}"
      ]
     },
     "execution_count": 10,
     "metadata": {},
     "output_type": "execute_result"
    }
   ],
   "source": [
    "m.best_params_"
   ]
  },
  {
   "cell_type": "markdown",
   "metadata": {
    "cell_id": "00020-e526cd3d-4fde-4b69-ab42-aaa2635ba311",
    "deepnote_cell_type": "markdown"
   },
   "source": [
    "Once the parameter values have been determined we can then examine the model's performance with the entire data set using the `kernel_ridge_fit` function we previously defined."
   ]
  },
  {
   "cell_type": "code",
   "execution_count": null,
   "metadata": {
    "cell_id": "00021-8b1020e5-2ecc-490f-983c-92466d4c56f6",
    "deepnote_cell_type": "code",
    "deepnote_to_be_reexecuted": false,
    "execution_millis": 685,
    "execution_start": 1614250636099,
    "output_cleared": false,
    "source_hash": "e519aa42"
   },
   "outputs": [
    {
     "data": {
      "image/png": "[encoded data removed]",
      "text/plain": [
       "<Figure size 800x480 with 1 Axes>"
      ]
     },
     "metadata": {
      "needs_background": "light"
     },
     "output_type": "display_data"
    }
   ],
   "source": [
    "kernel_ridge_fit(m.best_params_[\"alpha\"], m.best_params_[\"gamma\"])"
   ]
  },
  {
   "cell_type": "markdown",
   "metadata": {
    "cell_id": "00022-aac47b53-c1f6-4cf3-ac50-e956939ca751",
    "deepnote_cell_type": "markdown"
   },
   "source": [
    "---\n",
    "\n",
    "### &diams; Exercise 2\n",
    "\n",
    "Repeat the grid search above but fix `alpha` to be 0.01, 0.1 and 1 and search over the possible values of `gamma`. For each of these three models compare the rmses of the models."
   ]
  },
  {
   "cell_type": "code",
   "execution_count": null,
   "metadata": {
    "cell_id": "00023-953ecb06-5861-4855-b79f-8c25a2a9c44c",
    "deepnote_cell_type": "code",
    "deepnote_to_be_reexecuted": false,
    "execution_millis": 12435,
    "execution_start": 1614250636768,
    "output_cleared": false,
    "source_hash": "d3b8b6c4"
   },
   "outputs": [
    {
     "data": {
      "image/png": "[encoded data removed]",
      "text/plain": [
       "<Figure size 800x480 with 1 Axes>"
      ]
     },
     "metadata": {
      "needs_background": "light"
     },
     "output_type": "display_data"
    }
   ],
   "source": [
    "# alpha = 0.01\n",
    "x = GridSearchCV(\n",
    "    KernelRidge(kernel='rbf'),\n",
    "    param_grid={\"alpha\": [0.01],\n",
    "                \"gamma\": np.logspace(0, 3, num=50)},\n",
    "    scoring = 'neg_mean_squared_error', \n",
    "    cv = KFold(5, shuffle=True, random_state=1234)\n",
    ").fit(X,y).best_params_\n",
    "kernel_ridge_fit(x[\"alpha\"], x[\"gamma\"])"
   ]
  },
  {
   "cell_type": "code",
   "execution_count": null,
   "metadata": {
    "cell_id": "00024-6d951b76-9e94-4482-a232-9eddaea75873",
    "deepnote_cell_type": "code",
    "deepnote_to_be_reexecuted": false,
    "execution_millis": 14854,
    "execution_start": 1614250649198,
    "output_cleared": false,
    "source_hash": "f17ae49c"
   },
   "outputs": [
    {
     "data": {
      "image/png": "[encoded data removed]",
      "text/plain": [
       "<Figure size 800x480 with 1 Axes>"
      ]
     },
     "metadata": {
      "needs_background": "light"
     },
     "output_type": "display_data"
    }
   ],
   "source": [
    "# alpha = 0.1\n",
    "x = GridSearchCV(\n",
    "    KernelRidge(kernel='rbf'),\n",
    "    param_grid={\"alpha\": [0.1],\n",
    "                \"gamma\": np.logspace(0, 3, num=50)},\n",
    "    scoring = 'neg_mean_squared_error', \n",
    "    cv = KFold(5, shuffle=True, random_state=1234)\n",
    ").fit(X,y).best_params_\n",
    "kernel_ridge_fit(x[\"alpha\"], x[\"gamma\"])"
   ]
  },
  {
   "cell_type": "code",
   "execution_count": null,
   "metadata": {
    "cell_id": "00025-e981d9b6-df55-4efd-b208-29dbb549884f",
    "deepnote_cell_type": "code",
    "deepnote_to_be_reexecuted": false,
    "execution_millis": 9361,
    "execution_start": 1614250664050,
    "output_cleared": false,
    "source_hash": "f6c3d70b"
   },
   "outputs": [
    {
     "data": {
      "image/png": "[encoded data removed]",
      "text/plain": [
       "<Figure size 800x480 with 1 Axes>"
      ]
     },
     "metadata": {
      "needs_background": "light"
     },
     "output_type": "display_data"
    }
   ],
   "source": [
    "# alpha = 1\n",
    "x = GridSearchCV(\n",
    "    KernelRidge(kernel='rbf'),\n",
    "    param_grid={\"alpha\": [1],\n",
    "                \"gamma\": np.logspace(0, 3, num=50)},\n",
    "    scoring = 'neg_mean_squared_error', \n",
    "    cv = KFold(5, shuffle=True, random_state=1234)\n",
    ").fit(X,y).best_params_\n",
    "kernel_ridge_fit(x[\"alpha\"], x[\"gamma\"])"
   ]
  },
  {
   "cell_type": "markdown",
   "metadata": {
    "cell_id": "00026-568eb7a3-727d-49f7-b71a-bd065b4a0acc",
    "deepnote_cell_type": "markdown"
   },
   "source": [
    "*rmses are very similar: 0.1446, 0.1445, & 0.1499 respectively.*"
   ]
  },
  {
   "cell_type": "markdown",
   "metadata": {
    "cell_id": "00027-6e511ea2-a474-4055-93e4-fd0c7f732ade",
    "deepnote_cell_type": "markdown"
   },
   "source": [
    "---\n",
    "\n",
    "### &diams; Exercise 3\n",
    "\n",
    "Based on your finding in Exercise 2 comment on the relative importance of `alpha` for the performance of the model."
   ]
  },
  {
   "cell_type": "markdown",
   "metadata": {
    "cell_id": "00028-f4b4f64b-b02e-416c-b990-3f8e5152f4be",
    "deepnote_cell_type": "markdown"
   },
   "source": [
    "*Fits are indistinguishable based on visual inspection, rmse are slightly improved but this seems unlikely to be significant, particularly between 0.1 and 0.01*\n"
   ]
  },
  {
   "cell_type": "markdown",
   "metadata": {
    "cell_id": "00029-b0eade11-9279-492e-860a-03a44eef2bcb",
    "deepnote_cell_type": "markdown"
   },
   "source": [
    "---\n",
    "\n",
    "### &diams; Exercise 4\n",
    "\n",
    "What happens if you set `alpha = 0`?"
   ]
  },
  {
   "cell_type": "code",
   "execution_count": null,
   "metadata": {
    "cell_id": "00030-10731848-3385-4153-b7c2-68205262e257",
    "deepnote_cell_type": "code",
    "deepnote_to_be_reexecuted": false,
    "execution_millis": 560,
    "execution_start": 1614250673406,
    "output_cleared": false,
    "source_hash": "5c719994"
   },
   "outputs": [
    {
     "name": "stderr",
     "output_type": "stream",
     "text": [
      "/shared-libs/python3.7/py/lib/python3.7/site-packages/sklearn/linear_model/_ridge.py:190: UserWarning: Singular matrix in solving dual problem. Using least-squares solution instead.\n",
      "  warnings.warn(\"Singular matrix in solving dual problem. Using \"\n"
     ]
    },
    {
     "data": {
      "image/png": "[encoded data removed]",
      "text/plain": [
       "<Figure size 800x480 with 1 Axes>"
      ]
     },
     "metadata": {
      "needs_background": "light"
     },
     "output_type": "display_data"
    }
   ],
   "source": [
    "kernel_ridge_fit(alpha = 0, gamma = 10)"
   ]
  },
  {
   "cell_type": "markdown",
   "metadata": {
    "cell_id": "00031-fea223b1-b829-4d2a-800e-cd173a981339",
    "deepnote_cell_type": "markdown"
   },
   "source": [
    "*A warning is produced about a singular matrix and sklearn uses a least-squares iterative solution instead of a direct matrix inverse solve (via cholesky). Otherwise, fit looks relatively similar once gamma is tuned, some weird behaviors in the tails (towards x = 0 or 1).*"
   ]
  },
  {
   "cell_type": "markdown",
   "metadata": {
    "cell_id": "00032-74410366-cd9e-4815-afff-1ad6ea6cc1f2",
    "deepnote_cell_type": "markdown"
   },
   "source": [
    "---\n",
    "\n",
    "# 3. Logistic Regression (Introduction)\n",
    " \n",
    "## 3.1 Data\n",
    "\n",
    "For this introduction we will be using a data set on spam emails from the [OpenIntro project](https://www.openintro.org/), these data are similar in spirit to those used in lecture (which came from Machine Learning: A Probabilistic Perspective). These data have been provided as `email.csv` along with this worksheet. A full data dictionary can be found [here](https://www.openintro.org/data/index.php?data=email). To keep things simple this week we will restrict our exploration to including only the following columns: `spam`, `exclaim_mess`, `format`, `num_char`,  `line_breaks`, and `number`. Brief descriptions of these variables are below:\n",
    "\n",
    "* `spam` - Indicator for whether the email was spam.\n",
    "* `exclaim_mess` - The number of exclamation points in the email message.\n",
    "* `format` - Indicates whether the email was written using HTML (e.g. may have included bolding or active links).\n",
    "* `num_char` - The number of characters in the email, in thousands.\n",
    "* `line_breaks` - The number of line breaks in the email (does not count text wrapping).\n",
    "* `number` - Factor variable saying whether there was no number, a small number (under 1 million), or a big number."
   ]
  },
  {
   "cell_type": "code",
   "execution_count": null,
   "metadata": {
    "cell_id": "00033-5f8f9d36-39ef-423a-a86d-77e14436d927",
    "deepnote_cell_type": "code",
    "deepnote_to_be_reexecuted": false,
    "execution_millis": 107,
    "execution_start": 1614250673963,
    "output_cleared": false,
    "source_hash": "67475667"
   },
   "outputs": [
    {
     "data": {
      "application/vnd.deepnote.dataframe.v2+json": {
       "column_count": 6,
       "columns": [
        {
         "dtype": "int64",
         "name": "spam",
         "stats": {
          "histogram": [
           {
            "bin_end": 0.1,
            "bin_start": 0,
            "count": 3554
           },
           {
            "bin_end": 0.2,
            "bin_start": 0.1,
            "count": 0
           },
           {
            "bin_end": 0.30000000000000004,
            "bin_start": 0.2,
            "count": 0
           },
           {
            "bin_end": 0.4,
            "bin_start": 0.30000000000000004,
            "count": 0
           },
           {
            "bin_end": 0.5,
            "bin_start": 0.4,
            "count": 0
           },
           {
            "bin_end": 0.6000000000000001,
            "bin_start": 0.5,
            "count": 0
           },
           {
            "bin_end": 0.7000000000000001,
            "bin_start": 0.6000000000000001,
            "count": 0
           },
           {
            "bin_end": 0.8,
            "bin_start": 0.7000000000000001,
            "count": 0
           },
           {
            "bin_end": 0.9,
            "bin_start": 0.8,
            "count": 0
           },
           {
            "bin_end": 1,
            "bin_start": 0.9,
            "count": 367
           }
          ],
          "max": 1,
          "min": 0,
          "nan_count": 0,
          "unique_count": 2
         }
        },
        {
         "dtype": "int64",
         "name": "exclaim_mess",
         "stats": {
          "histogram": [
           {
            "bin_end": 123.6,
            "bin_start": 0,
            "count": 3908
           },
           {
            "bin_end": 247.2,
            "bin_start": 123.6,
            "count": 4
           },
           {
            "bin_end": 370.79999999999995,
            "bin_start": 247.2,
            "count": 0
           },
           {
            "bin_end": 494.4,
            "bin_start": 370.79999999999995,
            "count": 1
           },
           {
            "bin_end": 618,
            "bin_start": 494.4,
            "count": 0
           },
           {
            "bin_end": 741.5999999999999,
            "bin_start": 618,
            "count": 0
           },
           {
            "bin_end": 865.1999999999999,
            "bin_start": 741.5999999999999,
            "count": 0
           },
           {
            "bin_end": 988.8,
            "bin_start": 865.1999999999999,
            "count": 3
           },
           {
            "bin_end": 1112.3999999999999,
            "bin_start": 988.8,
            "count": 0
           },
           {
            "bin_end": 1236,
            "bin_start": 1112.3999999999999,
            "count": 5
           }
          ],
          "max": 1236,
          "min": 0,
          "nan_count": 0,
          "unique_count": 73
         }
        },
        {
         "dtype": "int64",
         "name": "format",
         "stats": {
          "histogram": [
           {
            "bin_end": 0.1,
            "bin_start": 0,
            "count": 1195
           },
           {
            "bin_end": 0.2,
            "bin_start": 0.1,
            "count": 0
           },
           {
            "bin_end": 0.30000000000000004,
            "bin_start": 0.2,
            "count": 0
           },
           {
            "bin_end": 0.4,
            "bin_start": 0.30000000000000004,
            "count": 0
           },
           {
            "bin_end": 0.5,
            "bin_start": 0.4,
            "count": 0
           },
           {
            "bin_end": 0.6000000000000001,
            "bin_start": 0.5,
            "count": 0
           },
           {
            "bin_end": 0.7000000000000001,
            "bin_start": 0.6000000000000001,
            "count": 0
           },
           {
            "bin_end": 0.8,
            "bin_start": 0.7000000000000001,
            "count": 0
           },
           {
            "bin_end": 0.9,
            "bin_start": 0.8,
            "count": 0
           },
           {
            "bin_end": 1,
            "bin_start": 0.9,
            "count": 2726
           }
          ],
          "max": 1,
          "min": 0,
          "nan_count": 0,
          "unique_count": 2
         }
        },
        {
         "dtype": "float64",
         "name": "num_char",
         "stats": {
          "histogram": [
           {
            "bin_end": 19.0096,
            "bin_start": 0.001,
            "count": 3191
           },
           {
            "bin_end": 38.01819999999999,
            "bin_start": 19.0096,
            "count": 589
           },
           {
            "bin_end": 57.02679999999999,
            "bin_start": 38.01819999999999,
            "count": 79
           },
           {
            "bin_end": 76.0354,
            "bin_start": 57.02679999999999,
            "count": 37
           },
           {
            "bin_end": 95.044,
            "bin_start": 76.0354,
            "count": 10
           },
           {
            "bin_end": 114.05259999999998,
            "bin_start": 95.044,
            "count": 5
           },
           {
            "bin_end": 133.06119999999999,
            "bin_start": 114.05259999999998,
            "count": 2
           },
           {
            "bin_end": 152.0698,
            "bin_start": 133.06119999999999,
            "count": 3
           },
           {
            "bin_end": 171.0784,
            "bin_start": 152.0698,
            "count": 3
           },
           {
            "bin_end": 190.087,
            "bin_start": 171.0784,
            "count": 2
           }
          ],
          "max": 190.087,
          "min": 0.001,
          "nan_count": 0,
          "unique_count": 3362
         }
        },
        {
         "dtype": "int64",
         "name": "line_breaks",
         "stats": {
          "histogram": [
           {
            "bin_end": 403.1,
            "bin_start": 1,
            "count": 3185
           },
           {
            "bin_end": 805.2,
            "bin_start": 403.1,
            "count": 593
           },
           {
            "bin_end": 1207.3000000000002,
            "bin_start": 805.2,
            "count": 81
           },
           {
            "bin_end": 1609.4,
            "bin_start": 1207.3000000000002,
            "count": 31
           },
           {
            "bin_end": 2011.5,
            "bin_start": 1609.4,
            "count": 12
           },
           {
            "bin_end": 2413.6000000000004,
            "bin_start": 2011.5,
            "count": 11
           },
           {
            "bin_end": 2815.7000000000003,
            "bin_start": 2413.6000000000004,
            "count": 0
           },
           {
            "bin_end": 3217.8,
            "bin_start": 2815.7000000000003,
            "count": 3
           },
           {
            "bin_end": 3619.9,
            "bin_start": 3217.8,
            "count": 3
           },
           {
            "bin_end": 4022,
            "bin_start": 3619.9,
            "count": 2
           }
          ],
          "max": 4022,
          "min": 1,
          "nan_count": 0,
          "unique_count": 797
         }
        },
        {
         "dtype": "object",
         "name": "number",
         "stats": {
          "categories": [
           {
            "count": 2827,
            "name": "small"
           },
           {
            "count": 549,
            "name": "none"
           },
           {
            "count": 545,
            "name": "big"
           }
          ],
          "nan_count": 0,
          "unique_count": 3
         }
        },
        {
         "dtype": "int64",
         "name": "_deepnote_index_column"
        }
       ],
       "row_count": 3921,
       "rows_bottom": [
        {
         "_deepnote_index_column": 3838,
         "exclaim_mess": 3,
         "format": 0,
         "line_breaks": 22,
         "num_char": 0.537,
         "number": "small",
         "spam": 1
        },
        {
         "_deepnote_index_column": 3839,
         "exclaim_mess": 2,
         "format": 1,
         "line_breaks": 15,
         "num_char": 0.99,
         "number": "small",
         "spam": 1
        },
        {
         "_deepnote_index_column": 3840,
         "exclaim_mess": 0,
         "format": 1,
         "line_breaks": 7,
         "num_char": 0.09,
         "number": "none",
         "spam": 1
        },
        {
         "_deepnote_index_column": 3841,
         "exclaim_mess": 0,
         "format": 1,
         "line_breaks": 3,
         "num_char": 0.232,
         "number": "none",
         "spam": 1
        },
        {
         "_deepnote_index_column": 3842,
         "exclaim_mess": 1,
         "format": 1,
         "line_breaks": 11,
         "num_char": 0.594,
         "number": "small",
         "spam": 1
        },
        {
         "_deepnote_index_column": 3843,
         "exclaim_mess": 0,
         "format": 0,
         "line_breaks": 13,
         "num_char": 0.448,
         "number": "none",
         "spam": 1
        },
        {
         "_deepnote_index_column": 3844,
         "exclaim_mess": 1,
         "format": 1,
         "line_breaks": 15,
         "num_char": 0.775,
         "number": "small",
         "spam": 1
        },
        {
         "_deepnote_index_column": 3845,
         "exclaim_mess": 2,
         "format": 1,
         "line_breaks": 751,
         "num_char": 43.427,
         "number": "big",
         "spam": 1
        },
        {
         "_deepnote_index_column": 3846,
         "exclaim_mess": 0,
         "format": 0,
         "line_breaks": 15,
         "num_char": 1.643,
         "number": "big",
         "spam": 1
        },
        {
         "_deepnote_index_column": 3847,
         "exclaim_mess": 1,
         "format": 1,
         "line_breaks": 104,
         "num_char": 4.724,
         "number": "big",
         "spam": 1
        },
        {
         "_deepnote_index_column": 3848,
         "exclaim_mess": 0,
         "format": 0,
         "line_breaks": 1,
         "num_char": 0.001,
         "number": "none",
         "spam": 1
        },
        {
         "_deepnote_index_column": 3849,
         "exclaim_mess": 16,
         "format": 1,
         "line_breaks": 247,
         "num_char": 13.521,
         "number": "small",
         "spam": 1
        },
        {
         "_deepnote_index_column": 3850,
         "exclaim_mess": 1,
         "format": 1,
         "line_breaks": 15,
         "num_char": 0.775,
         "number": "small",
         "spam": 1
        },
        {
         "_deepnote_index_column": 3851,
         "exclaim_mess": 1,
         "format": 1,
         "line_breaks": 15,
         "num_char": 0.775,
         "number": "small",
         "spam": 1
        },
        {
         "_deepnote_index_column": 3852,
         "exclaim_mess": 0,
         "format": 1,
         "line_breaks": 56,
         "num_char": 0.996,
         "number": "none",
         "spam": 1
        },
        {
         "_deepnote_index_column": 3853,
         "exclaim_mess": 1,
         "format": 1,
         "line_breaks": 66,
         "num_char": 4.178,
         "number": "big",
         "spam": 1
        },
        {
         "_deepnote_index_column": 3854,
         "exclaim_mess": 0,
         "format": 0,
         "line_breaks": 14,
         "num_char": 0.463,
         "number": "small",
         "spam": 1
        },
        {
         "_deepnote_index_column": 3855,
         "exclaim_mess": 1,
         "format": 0,
         "line_breaks": 36,
         "num_char": 0.757,
         "number": "small",
         "spam": 1
        },
        {
         "_deepnote_index_column": 3856,
         "exclaim_mess": 1,
         "format": 1,
         "line_breaks": 31,
         "num_char": 1.259,
         "number": "small",
         "spam": 1
        },
        {
         "_deepnote_index_column": 3857,
         "exclaim_mess": 0,
         "format": 0,
         "line_breaks": 18,
         "num_char": 0.341,
         "number": "none",
         "spam": 1
        },
        {
         "_deepnote_index_column": 3858,
         "exclaim_mess": 1,
         "format": 0,
         "line_breaks": 42,
         "num_char": 1.379,
         "number": "big",
         "spam": 1
        },
        {
         "_deepnote_index_column": 3859,
         "exclaim_mess": 0,
         "format": 0,
         "line_breaks": 25,
         "num_char": 1.584,
         "number": "none",
         "spam": 1
        },
        {
         "_deepnote_index_column": 3860,
         "exclaim_mess": 9,
         "format": 1,
         "line_breaks": 159,
         "num_char": 4.961,
         "number": "small",
         "spam": 1
        },
        {
         "_deepnote_index_column": 3861,
         "exclaim_mess": 2,
         "format": 1,
         "line_breaks": 712,
         "num_char": 42.238,
         "number": "big",
         "spam": 1
        },
        {
         "_deepnote_index_column": 3862,
         "exclaim_mess": 0,
         "format": 1,
         "line_breaks": 3,
         "num_char": 0.238,
         "number": "none",
         "spam": 1
        },
        {
         "_deepnote_index_column": 3863,
         "exclaim_mess": 1,
         "format": 1,
         "line_breaks": 15,
         "num_char": 1.001,
         "number": "small",
         "spam": 1
        },
        {
         "_deepnote_index_column": 3864,
         "exclaim_mess": 4,
         "format": 1,
         "line_breaks": 437,
         "num_char": 13.1,
         "number": "big",
         "spam": 1
        },
        {
         "_deepnote_index_column": 3865,
         "exclaim_mess": 2,
         "format": 0,
         "line_breaks": 33,
         "num_char": 3.708,
         "number": "small",
         "spam": 1
        },
        {
         "_deepnote_index_column": 3866,
         "exclaim_mess": 1,
         "format": 1,
         "line_breaks": 93,
         "num_char": 4.747,
         "number": "small",
         "spam": 1
        },
        {
         "_deepnote_index_column": 3867,
         "exclaim_mess": 1,
         "format": 1,
         "line_breaks": 77,
         "num_char": 3.555,
         "number": "small",
         "spam": 1
        },
        {
         "_deepnote_index_column": 3868,
         "exclaim_mess": 0,
         "format": 0,
         "line_breaks": 25,
         "num_char": 1.584,
         "number": "none",
         "spam": 1
        },
        {
         "_deepnote_index_column": 3869,
         "exclaim_mess": 17,
         "format": 1,
         "line_breaks": 232,
         "num_char": 14.792,
         "number": "small",
         "spam": 1
        },
        {
         "_deepnote_index_column": 3870,
         "exclaim_mess": 1,
         "format": 0,
         "line_breaks": 10,
         "num_char": 0.214,
         "number": "none",
         "spam": 1
        },
        {
         "_deepnote_index_column": 3871,
         "exclaim_mess": 0,
         "format": 1,
         "line_breaks": 7,
         "num_char": 0.09,
         "number": "none",
         "spam": 1
        },
        {
         "_deepnote_index_column": 3872,
         "exclaim_mess": 0,
         "format": 1,
         "line_breaks": 6,
         "num_char": 0.312,
         "number": "none",
         "spam": 1
        },
        {
         "_deepnote_index_column": 3873,
         "exclaim_mess": 0,
         "format": 1,
         "line_breaks": 102,
         "num_char": 2.776,
         "number": "small",
         "spam": 1
        },
        {
         "_deepnote_index_column": 3874,
         "exclaim_mess": 1,
         "format": 1,
         "line_breaks": 32,
         "num_char": 1.149,
         "number": "small",
         "spam": 1
        },
        {
         "_deepnote_index_column": 3875,
         "exclaim_mess": 3,
         "format": 1,
         "line_breaks": 31,
         "num_char": 1.247,
         "number": "small",
         "spam": 1
        },
        {
         "_deepnote_index_column": 3876,
         "exclaim_mess": 0,
         "format": 0,
         "line_breaks": 5,
         "num_char": 0.13,
         "number": "none",
         "spam": 1
        },
        {
         "_deepnote_index_column": 3877,
         "exclaim_mess": 0,
         "format": 0,
         "line_breaks": 11,
         "num_char": 0.71,
         "number": "small",
         "spam": 1
        },
        {
         "_deepnote_index_column": 3878,
         "exclaim_mess": 0,
         "format": 0,
         "line_breaks": 11,
         "num_char": 0.71,
         "number": "small",
         "spam": 1
        },
        {
         "_deepnote_index_column": 3879,
         "exclaim_mess": 0,
         "format": 1,
         "line_breaks": 7,
         "num_char": 0.09,
         "number": "none",
         "spam": 1
        },
        {
         "_deepnote_index_column": 3880,
         "exclaim_mess": 1,
         "format": 1,
         "line_breaks": 33,
         "num_char": 0.885,
         "number": "small",
         "spam": 1
        },
        {
         "_deepnote_index_column": 3881,
         "exclaim_mess": 1,
         "format": 1,
         "line_breaks": 84,
         "num_char": 3.374,
         "number": "small",
         "spam": 1
        },
        {
         "_deepnote_index_column": 3882,
         "exclaim_mess": 0,
         "format": 1,
         "line_breaks": 13,
         "num_char": 0.468,
         "number": "none",
         "spam": 1
        },
        {
         "_deepnote_index_column": 3883,
         "exclaim_mess": 0,
         "format": 0,
         "line_breaks": 9,
         "num_char": 0.25,
         "number": "none",
         "spam": 1
        },
        {
         "_deepnote_index_column": 3884,
         "exclaim_mess": 0,
         "format": 0,
         "line_breaks": 2,
         "num_char": 0.052,
         "number": "none",
         "spam": 1
        },
        {
         "_deepnote_index_column": 3885,
         "exclaim_mess": 0,
         "format": 1,
         "line_breaks": 6,
         "num_char": 0.288,
         "number": "small",
         "spam": 1
        },
        {
         "_deepnote_index_column": 3886,
         "exclaim_mess": 0,
         "format": 1,
         "line_breaks": 980,
         "num_char": 72.609,
         "number": "big",
         "spam": 1
        },
        {
         "_deepnote_index_column": 3887,
         "exclaim_mess": 0,
         "format": 0,
         "line_breaks": 6,
         "num_char": 0.242,
         "number": "big",
         "spam": 1
        },
        {
         "_deepnote_index_column": 3888,
         "exclaim_mess": 0,
         "format": 0,
         "line_breaks": 10,
         "num_char": 0.496,
         "number": "none",
         "spam": 1
        },
        {
         "_deepnote_index_column": 3889,
         "exclaim_mess": 0,
         "format": 0,
         "line_breaks": 16,
         "num_char": 1.365,
         "number": "none",
         "spam": 1
        },
        {
         "_deepnote_index_column": 3890,
         "exclaim_mess": 1,
         "format": 1,
         "line_breaks": 53,
         "num_char": 2.819,
         "number": "small",
         "spam": 1
        },
        {
         "_deepnote_index_column": 3891,
         "exclaim_mess": 3,
         "format": 0,
         "line_breaks": 22,
         "num_char": 0.537,
         "number": "small",
         "spam": 1
        },
        {
         "_deepnote_index_column": 3892,
         "exclaim_mess": 14,
         "format": 1,
         "line_breaks": 1292,
         "num_char": 68.137,
         "number": "big",
         "spam": 1
        },
        {
         "_deepnote_index_column": 3893,
         "exclaim_mess": 9,
         "format": 1,
         "line_breaks": 142,
         "num_char": 10.585,
         "number": "small",
         "spam": 1
        },
        {
         "_deepnote_index_column": 3894,
         "exclaim_mess": 0,
         "format": 0,
         "line_breaks": 21,
         "num_char": 0.459,
         "number": "none",
         "spam": 1
        },
        {
         "_deepnote_index_column": 3895,
         "exclaim_mess": 0,
         "format": 0,
         "line_breaks": 3,
         "num_char": 0.031,
         "number": "small",
         "spam": 1
        },
        {
         "_deepnote_index_column": 3896,
         "exclaim_mess": 0,
         "format": 1,
         "line_breaks": 7,
         "num_char": 0.11,
         "number": "none",
         "spam": 1
        },
        {
         "_deepnote_index_column": 3897,
         "exclaim_mess": 1,
         "format": 1,
         "line_breaks": 6,
         "num_char": 0.198,
         "number": "none",
         "spam": 1
        },
        {
         "_deepnote_index_column": 3898,
         "exclaim_mess": 0,
         "format": 0,
         "line_breaks": 16,
         "num_char": 1.362,
         "number": "none",
         "spam": 1
        },
        {
         "_deepnote_index_column": 3899,
         "exclaim_mess": 1,
         "format": 0,
         "line_breaks": 42,
         "num_char": 0.819,
         "number": "small",
         "spam": 1
        },
        {
         "_deepnote_index_column": 3900,
         "exclaim_mess": 2,
         "format": 1,
         "line_breaks": 27,
         "num_char": 0.999,
         "number": "small",
         "spam": 1
        },
        {
         "_deepnote_index_column": 3901,
         "exclaim_mess": 0,
         "format": 0,
         "line_breaks": 21,
         "num_char": 0.459,
         "number": "none",
         "spam": 1
        },
        {
         "_deepnote_index_column": 3902,
         "exclaim_mess": 0,
         "format": 0,
         "line_breaks": 22,
         "num_char": 0.65,
         "number": "small",
         "spam": 1
        },
        {
         "_deepnote_index_column": 3903,
         "exclaim_mess": 10,
         "format": 1,
         "line_breaks": 472,
         "num_char": 19.263,
         "number": "small",
         "spam": 1
        },
        {
         "_deepnote_index_column": 3904,
         "exclaim_mess": 0,
         "format": 0,
         "line_breaks": 40,
         "num_char": 1.535,
         "number": "small",
         "spam": 1
        },
        {
         "_deepnote_index_column": 3905,
         "exclaim_mess": 0,
         "format": 0,
         "line_breaks": 25,
         "num_char": 1.107,
         "number": "small",
         "spam": 1
        },
        {
         "_deepnote_index_column": 3906,
         "exclaim_mess": 1,
         "format": 0,
         "line_breaks": 5,
         "num_char": 0.073,
         "number": "none",
         "spam": 1
        },
        {
         "_deepnote_index_column": 3907,
         "exclaim_mess": 0,
         "format": 1,
         "line_breaks": 3,
         "num_char": 0.015,
         "number": "none",
         "spam": 1
        },
        {
         "_deepnote_index_column": 3908,
         "exclaim_mess": 0,
         "format": 0,
         "line_breaks": 11,
         "num_char": 0.249,
         "number": "none",
         "spam": 1
        },
        {
         "_deepnote_index_column": 3909,
         "exclaim_mess": 0,
         "format": 0,
         "line_breaks": 18,
         "num_char": 0.341,
         "number": "none",
         "spam": 1
        },
        {
         "_deepnote_index_column": 3910,
         "exclaim_mess": 0,
         "format": 0,
         "line_breaks": 55,
         "num_char": 2.402,
         "number": "none",
         "spam": 1
        },
        {
         "_deepnote_index_column": 3911,
         "exclaim_mess": 1,
         "format": 1,
         "line_breaks": 27,
         "num_char": 1.055,
         "number": "small",
         "spam": 1
        },
        {
         "_deepnote_index_column": 3912,
         "exclaim_mess": 2,
         "format": 1,
         "line_breaks": 19,
         "num_char": 0.819,
         "number": "small",
         "spam": 1
        },
        {
         "_deepnote_index_column": 3913,
         "exclaim_mess": 3,
         "format": 0,
         "line_breaks": 46,
         "num_char": 1.597,
         "number": "small",
         "spam": 1
        },
        {
         "_deepnote_index_column": 3914,
         "exclaim_mess": 0,
         "format": 0,
         "line_breaks": 13,
         "num_char": 0.333,
         "number": "big",
         "spam": 1
        },
        {
         "_deepnote_index_column": 3915,
         "exclaim_mess": 1,
         "format": 0,
         "line_breaks": 233,
         "num_char": 14.584,
         "number": "small",
         "spam": 0
        },
        {
         "_deepnote_index_column": 3916,
         "exclaim_mess": 0,
         "format": 0,
         "line_breaks": 12,
         "num_char": 0.332,
         "number": "small",
         "spam": 1
        },
        {
         "_deepnote_index_column": 3917,
         "exclaim_mess": 0,
         "format": 0,
         "line_breaks": 15,
         "num_char": 0.323,
         "number": "small",
         "spam": 1
        },
        {
         "_deepnote_index_column": 3918,
         "exclaim_mess": 5,
         "format": 1,
         "line_breaks": 208,
         "num_char": 8.656,
         "number": "small",
         "spam": 0
        },
        {
         "_deepnote_index_column": 3919,
         "exclaim_mess": 0,
         "format": 0,
         "line_breaks": 132,
         "num_char": 10.185,
         "number": "small",
         "spam": 0
        },
        {
         "_deepnote_index_column": 3920,
         "exclaim_mess": 1,
         "format": 0,
         "line_breaks": 65,
         "num_char": 2.225,
         "number": "small",
         "spam": 1
        }
       ],
       "rows_top": [
        {
         "_deepnote_index_column": 0,
         "exclaim_mess": 0,
         "format": 1,
         "line_breaks": 202,
         "num_char": 11.37,
         "number": "big",
         "spam": 0
        },
        {
         "_deepnote_index_column": 1,
         "exclaim_mess": 1,
         "format": 1,
         "line_breaks": 202,
         "num_char": 10.504,
         "number": "small",
         "spam": 0
        },
        {
         "_deepnote_index_column": 2,
         "exclaim_mess": 6,
         "format": 1,
         "line_breaks": 192,
         "num_char": 7.773,
         "number": "small",
         "spam": 0
        },
        {
         "_deepnote_index_column": 3,
         "exclaim_mess": 48,
         "format": 1,
         "line_breaks": 255,
         "num_char": 13.256,
         "number": "small",
         "spam": 0
        },
        {
         "_deepnote_index_column": 4,
         "exclaim_mess": 1,
         "format": 0,
         "line_breaks": 29,
         "num_char": 1.231,
         "number": "none",
         "spam": 0
        },
        {
         "_deepnote_index_column": 5,
         "exclaim_mess": 1,
         "format": 0,
         "line_breaks": 25,
         "num_char": 1.091,
         "number": "none",
         "spam": 0
        },
        {
         "_deepnote_index_column": 6,
         "exclaim_mess": 1,
         "format": 1,
         "line_breaks": 193,
         "num_char": 4.837,
         "number": "big",
         "spam": 0
        },
        {
         "_deepnote_index_column": 7,
         "exclaim_mess": 18,
         "format": 1,
         "line_breaks": 237,
         "num_char": 7.421,
         "number": "small",
         "spam": 0
        },
        {
         "_deepnote_index_column": 8,
         "exclaim_mess": 1,
         "format": 0,
         "line_breaks": 69,
         "num_char": 3.051,
         "number": "small",
         "spam": 0
        },
        {
         "_deepnote_index_column": 9,
         "exclaim_mess": 0,
         "format": 1,
         "line_breaks": 68,
         "num_char": 2.643,
         "number": "small",
         "spam": 0
        },
        {
         "_deepnote_index_column": 10,
         "exclaim_mess": 2,
         "format": 1,
         "line_breaks": 25,
         "num_char": 0.869,
         "number": "small",
         "spam": 0
        },
        {
         "_deepnote_index_column": 11,
         "exclaim_mess": 1,
         "format": 0,
         "line_breaks": 79,
         "num_char": 4.02,
         "number": "small",
         "spam": 0
        },
        {
         "_deepnote_index_column": 12,
         "exclaim_mess": 0,
         "format": 1,
         "line_breaks": 191,
         "num_char": 10.459,
         "number": "big",
         "spam": 0
        },
        {
         "_deepnote_index_column": 13,
         "exclaim_mess": 10,
         "format": 1,
         "line_breaks": 354,
         "num_char": 15.075,
         "number": "small",
         "spam": 0
        },
        {
         "_deepnote_index_column": 14,
         "exclaim_mess": 4,
         "format": 1,
         "line_breaks": 330,
         "num_char": 19.693,
         "number": "big",
         "spam": 0
        },
        {
         "_deepnote_index_column": 15,
         "exclaim_mess": 10,
         "format": 1,
         "line_breaks": 481,
         "num_char": 18.38,
         "number": "small",
         "spam": 0
        },
        {
         "_deepnote_index_column": 16,
         "exclaim_mess": 20,
         "format": 1,
         "line_breaks": 345,
         "num_char": 18.037,
         "number": "small",
         "spam": 0
        },
        {
         "_deepnote_index_column": 17,
         "exclaim_mess": 0,
         "format": 1,
         "line_breaks": 225,
         "num_char": 13.89,
         "number": "small",
         "spam": 0
        },
        {
         "_deepnote_index_column": 18,
         "exclaim_mess": 2,
         "format": 0,
         "line_breaks": 33,
         "num_char": 0.596,
         "number": "small",
         "spam": 0
        },
        {
         "_deepnote_index_column": 19,
         "exclaim_mess": 0,
         "format": 1,
         "line_breaks": 64,
         "num_char": 4.56,
         "number": "none",
         "spam": 0
        },
        {
         "_deepnote_index_column": 20,
         "exclaim_mess": 3,
         "format": 1,
         "line_breaks": 85,
         "num_char": 2.192,
         "number": "big",
         "spam": 0
        },
        {
         "_deepnote_index_column": 21,
         "exclaim_mess": 4,
         "format": 1,
         "line_breaks": 344,
         "num_char": 11.453,
         "number": "big",
         "spam": 0
        },
        {
         "_deepnote_index_column": 22,
         "exclaim_mess": 3,
         "format": 1,
         "line_breaks": 560,
         "num_char": 16.647,
         "number": "small",
         "spam": 0
        },
        {
         "_deepnote_index_column": 23,
         "exclaim_mess": 0,
         "format": 0,
         "line_breaks": 10,
         "num_char": 0.2,
         "number": "small",
         "spam": 0
        },
        {
         "_deepnote_index_column": 24,
         "exclaim_mess": 0,
         "format": 1,
         "line_breaks": 69,
         "num_char": 4.938,
         "number": "none",
         "spam": 0
        },
        {
         "_deepnote_index_column": 25,
         "exclaim_mess": 1,
         "format": 0,
         "line_breaks": 45,
         "num_char": 2.228,
         "number": "small",
         "spam": 0
        },
        {
         "_deepnote_index_column": 26,
         "exclaim_mess": 1,
         "format": 0,
         "line_breaks": 81,
         "num_char": 3.959,
         "number": "small",
         "spam": 0
        },
        {
         "_deepnote_index_column": 27,
         "exclaim_mess": 1,
         "format": 0,
         "line_breaks": 67,
         "num_char": 4.549,
         "number": "small",
         "spam": 0
        },
        {
         "_deepnote_index_column": 28,
         "exclaim_mess": 0,
         "format": 0,
         "line_breaks": 18,
         "num_char": 0.506,
         "number": "none",
         "spam": 0
        },
        {
         "_deepnote_index_column": 29,
         "exclaim_mess": 5,
         "format": 1,
         "line_breaks": 57,
         "num_char": 2.207,
         "number": "small",
         "spam": 0
        },
        {
         "_deepnote_index_column": 30,
         "exclaim_mess": 0,
         "format": 0,
         "line_breaks": 17,
         "num_char": 0.235,
         "number": "none",
         "spam": 0
        },
        {
         "_deepnote_index_column": 31,
         "exclaim_mess": 1,
         "format": 0,
         "line_breaks": 97,
         "num_char": 7.813,
         "number": "small",
         "spam": 0
        },
        {
         "_deepnote_index_column": 32,
         "exclaim_mess": 1,
         "format": 0,
         "line_breaks": 118,
         "num_char": 10.614,
         "number": "small",
         "spam": 0
        },
        {
         "_deepnote_index_column": 33,
         "exclaim_mess": 2,
         "format": 1,
         "line_breaks": 569,
         "num_char": 31.644,
         "number": "big",
         "spam": 0
        },
        {
         "_deepnote_index_column": 34,
         "exclaim_mess": 3,
         "format": 0,
         "line_breaks": 39,
         "num_char": 1.566,
         "number": "small",
         "spam": 0
        },
        {
         "_deepnote_index_column": 35,
         "exclaim_mess": 5,
         "format": 1,
         "line_breaks": 881,
         "num_char": 45.842,
         "number": "big",
         "spam": 0
        },
        {
         "_deepnote_index_column": 36,
         "exclaim_mess": 0,
         "format": 0,
         "line_breaks": 30,
         "num_char": 2.317,
         "number": "big",
         "spam": 0
        },
        {
         "_deepnote_index_column": 37,
         "exclaim_mess": 3,
         "format": 0,
         "line_breaks": 169,
         "num_char": 13.788,
         "number": "small",
         "spam": 0
        },
        {
         "_deepnote_index_column": 38,
         "exclaim_mess": 1,
         "format": 1,
         "line_breaks": 57,
         "num_char": 2.196,
         "number": "small",
         "spam": 0
        },
        {
         "_deepnote_index_column": 39,
         "exclaim_mess": 2,
         "format": 0,
         "line_breaks": 125,
         "num_char": 11.438,
         "number": "small",
         "spam": 0
        },
        {
         "_deepnote_index_column": 40,
         "exclaim_mess": 2,
         "format": 0,
         "line_breaks": 259,
         "num_char": 12.268,
         "number": "small",
         "spam": 0
        },
        {
         "_deepnote_index_column": 41,
         "exclaim_mess": 3,
         "format": 0,
         "line_breaks": 51,
         "num_char": 1.541,
         "number": "small",
         "spam": 0
        },
        {
         "_deepnote_index_column": 42,
         "exclaim_mess": 6,
         "format": 1,
         "line_breaks": 558,
         "num_char": 33.451,
         "number": "big",
         "spam": 0
        },
        {
         "_deepnote_index_column": 43,
         "exclaim_mess": 2,
         "format": 0,
         "line_breaks": 269,
         "num_char": 13.266,
         "number": "small",
         "spam": 0
        },
        {
         "_deepnote_index_column": 44,
         "exclaim_mess": 0,
         "format": 0,
         "line_breaks": 9,
         "num_char": 0.334,
         "number": "small",
         "spam": 0
        },
        {
         "_deepnote_index_column": 45,
         "exclaim_mess": 29,
         "format": 1,
         "line_breaks": 1231,
         "num_char": 45.966,
         "number": "small",
         "spam": 0
        },
        {
         "_deepnote_index_column": 46,
         "exclaim_mess": 3,
         "format": 0,
         "line_breaks": 185,
         "num_char": 8.718,
         "number": "small",
         "spam": 0
        },
        {
         "_deepnote_index_column": 47,
         "exclaim_mess": 0,
         "format": 1,
         "line_breaks": 24,
         "num_char": 1.482,
         "number": "none",
         "spam": 0
        },
        {
         "_deepnote_index_column": 48,
         "exclaim_mess": 4,
         "format": 1,
         "line_breaks": 154,
         "num_char": 8.549,
         "number": "small",
         "spam": 0
        },
        {
         "_deepnote_index_column": 49,
         "exclaim_mess": 0,
         "format": 1,
         "line_breaks": 296,
         "num_char": 14.431,
         "number": "small",
         "spam": 0
        },
        {
         "_deepnote_index_column": 50,
         "exclaim_mess": 32,
         "format": 1,
         "line_breaks": 417,
         "num_char": 24.167,
         "number": "small",
         "spam": 0
        },
        {
         "_deepnote_index_column": 51,
         "exclaim_mess": 1,
         "format": 0,
         "line_breaks": 13,
         "num_char": 1.143,
         "number": "none",
         "spam": 0
        },
        {
         "_deepnote_index_column": 52,
         "exclaim_mess": 2,
         "format": 1,
         "line_breaks": 350,
         "num_char": 15.517,
         "number": "small",
         "spam": 0
        },
        {
         "_deepnote_index_column": 53,
         "exclaim_mess": 4,
         "format": 1,
         "line_breaks": 182,
         "num_char": 9.535,
         "number": "small",
         "spam": 0
        },
        {
         "_deepnote_index_column": 54,
         "exclaim_mess": 6,
         "format": 1,
         "line_breaks": 308,
         "num_char": 14.241,
         "number": "small",
         "spam": 0
        },
        {
         "_deepnote_index_column": 55,
         "exclaim_mess": 0,
         "format": 0,
         "line_breaks": 13,
         "num_char": 0.978,
         "number": "small",
         "spam": 0
        },
        {
         "_deepnote_index_column": 56,
         "exclaim_mess": 0,
         "format": 1,
         "line_breaks": 207,
         "num_char": 7.472,
         "number": "big",
         "spam": 0
        },
        {
         "_deepnote_index_column": 57,
         "exclaim_mess": 1,
         "format": 0,
         "line_breaks": 41,
         "num_char": 1.398,
         "number": "none",
         "spam": 0
        },
        {
         "_deepnote_index_column": 58,
         "exclaim_mess": 6,
         "format": 1,
         "line_breaks": 192,
         "num_char": 7.792,
         "number": "small",
         "spam": 0
        },
        {
         "_deepnote_index_column": 59,
         "exclaim_mess": 0,
         "format": 0,
         "line_breaks": 14,
         "num_char": 0.978,
         "number": "small",
         "spam": 0
        },
        {
         "_deepnote_index_column": 60,
         "exclaim_mess": 1,
         "format": 1,
         "line_breaks": 166,
         "num_char": 10.09,
         "number": "small",
         "spam": 0
        },
        {
         "_deepnote_index_column": 61,
         "exclaim_mess": 0,
         "format": 0,
         "line_breaks": 95,
         "num_char": 5.159,
         "number": "small",
         "spam": 0
        },
        {
         "_deepnote_index_column": 62,
         "exclaim_mess": 15,
         "format": 1,
         "line_breaks": 555,
         "num_char": 29.981,
         "number": "small",
         "spam": 0
        },
        {
         "_deepnote_index_column": 63,
         "exclaim_mess": 16,
         "format": 1,
         "line_breaks": 249,
         "num_char": 18.945,
         "number": "small",
         "spam": 0
        },
        {
         "_deepnote_index_column": 64,
         "exclaim_mess": 9,
         "format": 1,
         "line_breaks": 595,
         "num_char": 15.42,
         "number": "big",
         "spam": 0
        },
        {
         "_deepnote_index_column": 65,
         "exclaim_mess": 0,
         "format": 0,
         "line_breaks": 32,
         "num_char": 2.018,
         "number": "small",
         "spam": 0
        },
        {
         "_deepnote_index_column": 66,
         "exclaim_mess": 2,
         "format": 1,
         "line_breaks": 25,
         "num_char": 0.988,
         "number": "small",
         "spam": 0
        },
        {
         "_deepnote_index_column": 67,
         "exclaim_mess": 0,
         "format": 0,
         "line_breaks": 11,
         "num_char": 0.159,
         "number": "small",
         "spam": 0
        },
        {
         "_deepnote_index_column": 68,
         "exclaim_mess": 4,
         "format": 1,
         "line_breaks": 80,
         "num_char": 2.828,
         "number": "small",
         "spam": 0
        },
        {
         "_deepnote_index_column": 69,
         "exclaim_mess": 49,
         "format": 1,
         "line_breaks": 411,
         "num_char": 22.393,
         "number": "small",
         "spam": 0
        },
        {
         "_deepnote_index_column": 70,
         "exclaim_mess": 6,
         "format": 1,
         "line_breaks": 142,
         "num_char": 7.844,
         "number": "small",
         "spam": 0
        },
        {
         "_deepnote_index_column": 71,
         "exclaim_mess": 10,
         "format": 1,
         "line_breaks": 134,
         "num_char": 4.77,
         "number": "small",
         "spam": 0
        },
        {
         "_deepnote_index_column": 72,
         "exclaim_mess": 1,
         "format": 0,
         "line_breaks": 30,
         "num_char": 0.795,
         "number": "none",
         "spam": 0
        },
        {
         "_deepnote_index_column": 73,
         "exclaim_mess": 0,
         "format": 0,
         "line_breaks": 22,
         "num_char": 0.829,
         "number": "small",
         "spam": 0
        },
        {
         "_deepnote_index_column": 74,
         "exclaim_mess": 0,
         "format": 1,
         "line_breaks": 13,
         "num_char": 0.432,
         "number": "small",
         "spam": 0
        },
        {
         "_deepnote_index_column": 75,
         "exclaim_mess": 3,
         "format": 1,
         "line_breaks": 557,
         "num_char": 16.615,
         "number": "small",
         "spam": 0
        },
        {
         "_deepnote_index_column": 76,
         "exclaim_mess": 0,
         "format": 1,
         "line_breaks": 54,
         "num_char": 1.732,
         "number": "small",
         "spam": 0
        },
        {
         "_deepnote_index_column": 77,
         "exclaim_mess": 0,
         "format": 1,
         "line_breaks": 159,
         "num_char": 8.596,
         "number": "small",
         "spam": 0
        },
        {
         "_deepnote_index_column": 78,
         "exclaim_mess": 4,
         "format": 1,
         "line_breaks": 81,
         "num_char": 2.938,
         "number": "small",
         "spam": 0
        },
        {
         "_deepnote_index_column": 79,
         "exclaim_mess": 0,
         "format": 1,
         "line_breaks": 173,
         "num_char": 4.103,
         "number": "small",
         "spam": 0
        },
        {
         "_deepnote_index_column": 80,
         "exclaim_mess": 0,
         "format": 1,
         "line_breaks": 16,
         "num_char": 0.599,
         "number": "none",
         "spam": 0
        },
        {
         "_deepnote_index_column": 81,
         "exclaim_mess": 0,
         "format": 0,
         "line_breaks": 108,
         "num_char": 3.485,
         "number": "small",
         "spam": 0
        },
        {
         "_deepnote_index_column": 82,
         "exclaim_mess": 0,
         "format": 1,
         "line_breaks": 107,
         "num_char": 4.512,
         "number": "small",
         "spam": 0
        }
       ]
      },
      "text/html": [
       "<div>\n",
       "<style scoped>\n",
       "    .dataframe tbody tr th:only-of-type {\n",
       "        vertical-align: middle;\n",
       "    }\n",
       "\n",
       "    .dataframe tbody tr th {\n",
       "        vertical-align: top;\n",
       "    }\n",
       "\n",
       "    .dataframe thead th {\n",
       "        text-align: right;\n",
       "    }\n",
       "</style>\n",
       "<table border=\"1\" class=\"dataframe\">\n",
       "  <thead>\n",
       "    <tr style=\"text-align: right;\">\n",
       "      <th></th>\n",
       "      <th>spam</th>\n",
       "      <th>exclaim_mess</th>\n",
       "      <th>format</th>\n",
       "      <th>num_char</th>\n",
       "      <th>line_breaks</th>\n",
       "      <th>number</th>\n",
       "    </tr>\n",
       "  </thead>\n",
       "  <tbody>\n",
       "    <tr>\n",
       "      <th>0</th>\n",
       "      <td>0</td>\n",
       "      <td>0</td>\n",
       "      <td>1</td>\n",
       "      <td>11.370</td>\n",
       "      <td>202</td>\n",
       "      <td>big</td>\n",
       "    </tr>\n",
       "    <tr>\n",
       "      <th>1</th>\n",
       "      <td>0</td>\n",
       "      <td>1</td>\n",
       "      <td>1</td>\n",
       "      <td>10.504</td>\n",
       "      <td>202</td>\n",
       "      <td>small</td>\n",
       "    </tr>\n",
       "    <tr>\n",
       "      <th>2</th>\n",
       "      <td>0</td>\n",
       "      <td>6</td>\n",
       "      <td>1</td>\n",
       "      <td>7.773</td>\n",
       "      <td>192</td>\n",
       "      <td>small</td>\n",
       "    </tr>\n",
       "    <tr>\n",
       "      <th>3</th>\n",
       "      <td>0</td>\n",
       "      <td>48</td>\n",
       "      <td>1</td>\n",
       "      <td>13.256</td>\n",
       "      <td>255</td>\n",
       "      <td>small</td>\n",
       "    </tr>\n",
       "    <tr>\n",
       "      <th>4</th>\n",
       "      <td>0</td>\n",
       "      <td>1</td>\n",
       "      <td>0</td>\n",
       "      <td>1.231</td>\n",
       "      <td>29</td>\n",
       "      <td>none</td>\n",
       "    </tr>\n",
       "    <tr>\n",
       "      <th>...</th>\n",
       "      <td>...</td>\n",
       "      <td>...</td>\n",
       "      <td>...</td>\n",
       "      <td>...</td>\n",
       "      <td>...</td>\n",
       "      <td>...</td>\n",
       "    </tr>\n",
       "    <tr>\n",
       "      <th>3916</th>\n",
       "      <td>1</td>\n",
       "      <td>0</td>\n",
       "      <td>0</td>\n",
       "      <td>0.332</td>\n",
       "      <td>12</td>\n",
       "      <td>small</td>\n",
       "    </tr>\n",
       "    <tr>\n",
       "      <th>3917</th>\n",
       "      <td>1</td>\n",
       "      <td>0</td>\n",
       "      <td>0</td>\n",
       "      <td>0.323</td>\n",
       "      <td>15</td>\n",
       "      <td>small</td>\n",
       "    </tr>\n",
       "    <tr>\n",
       "      <th>3918</th>\n",
       "      <td>0</td>\n",
       "      <td>5</td>\n",
       "      <td>1</td>\n",
       "      <td>8.656</td>\n",
       "      <td>208</td>\n",
       "      <td>small</td>\n",
       "    </tr>\n",
       "    <tr>\n",
       "      <th>3919</th>\n",
       "      <td>0</td>\n",
       "      <td>0</td>\n",
       "      <td>0</td>\n",
       "      <td>10.185</td>\n",
       "      <td>132</td>\n",
       "      <td>small</td>\n",
       "    </tr>\n",
       "    <tr>\n",
       "      <th>3920</th>\n",
       "      <td>1</td>\n",
       "      <td>1</td>\n",
       "      <td>0</td>\n",
       "      <td>2.225</td>\n",
       "      <td>65</td>\n",
       "      <td>small</td>\n",
       "    </tr>\n",
       "  </tbody>\n",
       "</table>\n",
       "<p>3921 rows × 6 columns</p>\n",
       "</div>"
      ],
      "text/plain": [
       "      spam  exclaim_mess  format  num_char  line_breaks number\n",
       "0        0             0       1    11.370          202    big\n",
       "1        0             1       1    10.504          202  small\n",
       "2        0             6       1     7.773          192  small\n",
       "3        0            48       1    13.256          255  small\n",
       "4        0             1       0     1.231           29   none\n",
       "...    ...           ...     ...       ...          ...    ...\n",
       "3916     1             0       0     0.332           12  small\n",
       "3917     1             0       0     0.323           15  small\n",
       "3918     0             5       1     8.656          208  small\n",
       "3919     0             0       0    10.185          132  small\n",
       "3920     1             1       0     2.225           65  small\n",
       "\n",
       "[3921 rows x 6 columns]"
      ]
     },
     "execution_count": 16,
     "metadata": {},
     "output_type": "execute_result"
    }
   ],
   "source": [
    "email = pd.read_csv('email.csv')[ ['spam', 'exclaim_mess', 'format', 'num_char', 'line_breaks', 'number'] ]\n",
    "email"
   ]
  },
  {
   "cell_type": "markdown",
   "metadata": {
    "cell_id": "00034-9777bcf6-9ca2-49c9-b2c7-66b1b18f26ed",
    "deepnote_cell_type": "markdown"
   },
   "source": [
    "Given that our data includes the `number` column which is categorical, we will take care of the necessary dummy coding (specifically one hot encoding here) before we begin to explore and model these data. Here we will use the pandas' `get_dummies` function but a similar outcome can be achieved using sklearn's `OneHotEncoder`."
   ]
  },
  {
   "cell_type": "code",
   "execution_count": null,
   "metadata": {
    "cell_id": "00035-0824ecf1-ce96-48ba-b8c6-4bd1f8f03193",
    "deepnote_cell_type": "code",
    "deepnote_to_be_reexecuted": false,
    "execution_millis": 104,
    "execution_start": 1614250674067,
    "output_cleared": false,
    "source_hash": "d98e4579"
   },
   "outputs": [
    {
     "data": {
      "application/vnd.deepnote.dataframe.v2+json": {
       "column_count": 8,
       "columns": [
        {
         "dtype": "int64",
         "name": "spam",
         "stats": {
          "histogram": [
           {
            "bin_end": 0.1,
            "bin_start": 0,
            "count": 3554
           },
           {
            "bin_end": 0.2,
            "bin_start": 0.1,
            "count": 0
           },
           {
            "bin_end": 0.30000000000000004,
            "bin_start": 0.2,
            "count": 0
           },
           {
            "bin_end": 0.4,
            "bin_start": 0.30000000000000004,
            "count": 0
           },
           {
            "bin_end": 0.5,
            "bin_start": 0.4,
            "count": 0
           },
           {
            "bin_end": 0.6000000000000001,
            "bin_start": 0.5,
            "count": 0
           },
           {
            "bin_end": 0.7000000000000001,
            "bin_start": 0.6000000000000001,
            "count": 0
           },
           {
            "bin_end": 0.8,
            "bin_start": 0.7000000000000001,
            "count": 0
           },
           {
            "bin_end": 0.9,
            "bin_start": 0.8,
            "count": 0
           },
           {
            "bin_end": 1,
            "bin_start": 0.9,
            "count": 367
           }
          ],
          "max": 1,
          "min": 0,
          "nan_count": 0,
          "unique_count": 2
         }
        },
        {
         "dtype": "int64",
         "name": "exclaim_mess",
         "stats": {
          "histogram": [
           {
            "bin_end": 123.6,
            "bin_start": 0,
            "count": 3908
           },
           {
            "bin_end": 247.2,
            "bin_start": 123.6,
            "count": 4
           },
           {
            "bin_end": 370.79999999999995,
            "bin_start": 247.2,
            "count": 0
           },
           {
            "bin_end": 494.4,
            "bin_start": 370.79999999999995,
            "count": 1
           },
           {
            "bin_end": 618,
            "bin_start": 494.4,
            "count": 0
           },
           {
            "bin_end": 741.5999999999999,
            "bin_start": 618,
            "count": 0
           },
           {
            "bin_end": 865.1999999999999,
            "bin_start": 741.5999999999999,
            "count": 0
           },
           {
            "bin_end": 988.8,
            "bin_start": 865.1999999999999,
            "count": 3
           },
           {
            "bin_end": 1112.3999999999999,
            "bin_start": 988.8,
            "count": 0
           },
           {
            "bin_end": 1236,
            "bin_start": 1112.3999999999999,
            "count": 5
           }
          ],
          "max": 1236,
          "min": 0,
          "nan_count": 0,
          "unique_count": 73
         }
        },
        {
         "dtype": "int64",
         "name": "format",
         "stats": {
          "histogram": [
           {
            "bin_end": 0.1,
            "bin_start": 0,
            "count": 1195
           },
           {
            "bin_end": 0.2,
            "bin_start": 0.1,
            "count": 0
           },
           {
            "bin_end": 0.30000000000000004,
            "bin_start": 0.2,
            "count": 0
           },
           {
            "bin_end": 0.4,
            "bin_start": 0.30000000000000004,
            "count": 0
           },
           {
            "bin_end": 0.5,
            "bin_start": 0.4,
            "count": 0
           },
           {
            "bin_end": 0.6000000000000001,
            "bin_start": 0.5,
            "count": 0
           },
           {
            "bin_end": 0.7000000000000001,
            "bin_start": 0.6000000000000001,
            "count": 0
           },
           {
            "bin_end": 0.8,
            "bin_start": 0.7000000000000001,
            "count": 0
           },
           {
            "bin_end": 0.9,
            "bin_start": 0.8,
            "count": 0
           },
           {
            "bin_end": 1,
            "bin_start": 0.9,
            "count": 2726
           }
          ],
          "max": 1,
          "min": 0,
          "nan_count": 0,
          "unique_count": 2
         }
        },
        {
         "dtype": "float64",
         "name": "num_char",
         "stats": {
          "histogram": [
           {
            "bin_end": 19.0096,
            "bin_start": 0.001,
            "count": 3191
           },
           {
            "bin_end": 38.01819999999999,
            "bin_start": 19.0096,
            "count": 589
           },
           {
            "bin_end": 57.02679999999999,
            "bin_start": 38.01819999999999,
            "count": 79
           },
           {
            "bin_end": 76.0354,
            "bin_start": 57.02679999999999,
            "count": 37
           },
           {
            "bin_end": 95.044,
            "bin_start": 76.0354,
            "count": 10
           },
           {
            "bin_end": 114.05259999999998,
            "bin_start": 95.044,
            "count": 5
           },
           {
            "bin_end": 133.06119999999999,
            "bin_start": 114.05259999999998,
            "count": 2
           },
           {
            "bin_end": 152.0698,
            "bin_start": 133.06119999999999,
            "count": 3
           },
           {
            "bin_end": 171.0784,
            "bin_start": 152.0698,
            "count": 3
           },
           {
            "bin_end": 190.087,
            "bin_start": 171.0784,
            "count": 2
           }
          ],
          "max": 190.087,
          "min": 0.001,
          "nan_count": 0,
          "unique_count": 3362
         }
        },
        {
         "dtype": "int64",
         "name": "line_breaks",
         "stats": {
          "histogram": [
           {
            "bin_end": 403.1,
            "bin_start": 1,
            "count": 3185
           },
           {
            "bin_end": 805.2,
            "bin_start": 403.1,
            "count": 593
           },
           {
            "bin_end": 1207.3000000000002,
            "bin_start": 805.2,
            "count": 81
           },
           {
            "bin_end": 1609.4,
            "bin_start": 1207.3000000000002,
            "count": 31
           },
           {
            "bin_end": 2011.5,
            "bin_start": 1609.4,
            "count": 12
           },
           {
            "bin_end": 2413.6000000000004,
            "bin_start": 2011.5,
            "count": 11
           },
           {
            "bin_end": 2815.7000000000003,
            "bin_start": 2413.6000000000004,
            "count": 0
           },
           {
            "bin_end": 3217.8,
            "bin_start": 2815.7000000000003,
            "count": 3
           },
           {
            "bin_end": 3619.9,
            "bin_start": 3217.8,
            "count": 3
           },
           {
            "bin_end": 4022,
            "bin_start": 3619.9,
            "count": 2
           }
          ],
          "max": 4022,
          "min": 1,
          "nan_count": 0,
          "unique_count": 797
         }
        },
        {
         "dtype": "uint8",
         "name": "number_big",
         "stats": {
          "histogram": [
           {
            "bin_end": 0.1,
            "bin_start": 0,
            "count": 3376
           },
           {
            "bin_end": 0.2,
            "bin_start": 0.1,
            "count": 0
           },
           {
            "bin_end": 0.30000000000000004,
            "bin_start": 0.2,
            "count": 0
           },
           {
            "bin_end": 0.4,
            "bin_start": 0.30000000000000004,
            "count": 0
           },
           {
            "bin_end": 0.5,
            "bin_start": 0.4,
            "count": 0
           },
           {
            "bin_end": 0.6000000000000001,
            "bin_start": 0.5,
            "count": 0
           },
           {
            "bin_end": 0.7000000000000001,
            "bin_start": 0.6000000000000001,
            "count": 0
           },
           {
            "bin_end": 0.8,
            "bin_start": 0.7000000000000001,
            "count": 0
           },
           {
            "bin_end": 0.9,
            "bin_start": 0.8,
            "count": 0
           },
           {
            "bin_end": 1,
            "bin_start": 0.9,
            "count": 545
           }
          ],
          "max": 1,
          "min": 0,
          "nan_count": 0,
          "unique_count": 2
         }
        },
        {
         "dtype": "uint8",
         "name": "number_none",
         "stats": {
          "histogram": [
           {
            "bin_end": 0.1,
            "bin_start": 0,
            "count": 3372
           },
           {
            "bin_end": 0.2,
            "bin_start": 0.1,
            "count": 0
           },
           {
            "bin_end": 0.30000000000000004,
            "bin_start": 0.2,
            "count": 0
           },
           {
            "bin_end": 0.4,
            "bin_start": 0.30000000000000004,
            "count": 0
           },
           {
            "bin_end": 0.5,
            "bin_start": 0.4,
            "count": 0
           },
           {
            "bin_end": 0.6000000000000001,
            "bin_start": 0.5,
            "count": 0
           },
           {
            "bin_end": 0.7000000000000001,
            "bin_start": 0.6000000000000001,
            "count": 0
           },
           {
            "bin_end": 0.8,
            "bin_start": 0.7000000000000001,
            "count": 0
           },
           {
            "bin_end": 0.9,
            "bin_start": 0.8,
            "count": 0
           },
           {
            "bin_end": 1,
            "bin_start": 0.9,
            "count": 549
           }
          ],
          "max": 1,
          "min": 0,
          "nan_count": 0,
          "unique_count": 2
         }
        },
        {
         "dtype": "uint8",
         "name": "number_small",
         "stats": {
          "histogram": [
           {
            "bin_end": 0.1,
            "bin_start": 0,
            "count": 1094
           },
           {
            "bin_end": 0.2,
            "bin_start": 0.1,
            "count": 0
           },
           {
            "bin_end": 0.30000000000000004,
            "bin_start": 0.2,
            "count": 0
           },
           {
            "bin_end": 0.4,
            "bin_start": 0.30000000000000004,
            "count": 0
           },
           {
            "bin_end": 0.5,
            "bin_start": 0.4,
            "count": 0
           },
           {
            "bin_end": 0.6000000000000001,
            "bin_start": 0.5,
            "count": 0
           },
           {
            "bin_end": 0.7000000000000001,
            "bin_start": 0.6000000000000001,
            "count": 0
           },
           {
            "bin_end": 0.8,
            "bin_start": 0.7000000000000001,
            "count": 0
           },
           {
            "bin_end": 0.9,
            "bin_start": 0.8,
            "count": 0
           },
           {
            "bin_end": 1,
            "bin_start": 0.9,
            "count": 2827
           }
          ],
          "max": 1,
          "min": 0,
          "nan_count": 0,
          "unique_count": 2
         }
        },
        {
         "dtype": "int64",
         "name": "_deepnote_index_column"
        }
       ],
       "row_count": 3921,
       "rows_bottom": [
        {
         "_deepnote_index_column": 3858,
         "exclaim_mess": 1,
         "format": 0,
         "line_breaks": 42,
         "num_char": 1.379,
         "number_big": 1,
         "number_none": 0,
         "number_small": 0,
         "spam": 1
        },
        {
         "_deepnote_index_column": 3859,
         "exclaim_mess": 0,
         "format": 0,
         "line_breaks": 25,
         "num_char": 1.584,
         "number_big": 0,
         "number_none": 1,
         "number_small": 0,
         "spam": 1
        },
        {
         "_deepnote_index_column": 3860,
         "exclaim_mess": 9,
         "format": 1,
         "line_breaks": 159,
         "num_char": 4.961,
         "number_big": 0,
         "number_none": 0,
         "number_small": 1,
         "spam": 1
        },
        {
         "_deepnote_index_column": 3861,
         "exclaim_mess": 2,
         "format": 1,
         "line_breaks": 712,
         "num_char": 42.238,
         "number_big": 1,
         "number_none": 0,
         "number_small": 0,
         "spam": 1
        },
        {
         "_deepnote_index_column": 3862,
         "exclaim_mess": 0,
         "format": 1,
         "line_breaks": 3,
         "num_char": 0.238,
         "number_big": 0,
         "number_none": 1,
         "number_small": 0,
         "spam": 1
        },
        {
         "_deepnote_index_column": 3863,
         "exclaim_mess": 1,
         "format": 1,
         "line_breaks": 15,
         "num_char": 1.001,
         "number_big": 0,
         "number_none": 0,
         "number_small": 1,
         "spam": 1
        },
        {
         "_deepnote_index_column": 3864,
         "exclaim_mess": 4,
         "format": 1,
         "line_breaks": 437,
         "num_char": 13.1,
         "number_big": 1,
         "number_none": 0,
         "number_small": 0,
         "spam": 1
        },
        {
         "_deepnote_index_column": 3865,
         "exclaim_mess": 2,
         "format": 0,
         "line_breaks": 33,
         "num_char": 3.708,
         "number_big": 0,
         "number_none": 0,
         "number_small": 1,
         "spam": 1
        },
        {
         "_deepnote_index_column": 3866,
         "exclaim_mess": 1,
         "format": 1,
         "line_breaks": 93,
         "num_char": 4.747,
         "number_big": 0,
         "number_none": 0,
         "number_small": 1,
         "spam": 1
        },
        {
         "_deepnote_index_column": 3867,
         "exclaim_mess": 1,
         "format": 1,
         "line_breaks": 77,
         "num_char": 3.555,
         "number_big": 0,
         "number_none": 0,
         "number_small": 1,
         "spam": 1
        },
        {
         "_deepnote_index_column": 3868,
         "exclaim_mess": 0,
         "format": 0,
         "line_breaks": 25,
         "num_char": 1.584,
         "number_big": 0,
         "number_none": 1,
         "number_small": 0,
         "spam": 1
        },
        {
         "_deepnote_index_column": 3869,
         "exclaim_mess": 17,
         "format": 1,
         "line_breaks": 232,
         "num_char": 14.792,
         "number_big": 0,
         "number_none": 0,
         "number_small": 1,
         "spam": 1
        },
        {
         "_deepnote_index_column": 3870,
         "exclaim_mess": 1,
         "format": 0,
         "line_breaks": 10,
         "num_char": 0.214,
         "number_big": 0,
         "number_none": 1,
         "number_small": 0,
         "spam": 1
        },
        {
         "_deepnote_index_column": 3871,
         "exclaim_mess": 0,
         "format": 1,
         "line_breaks": 7,
         "num_char": 0.09,
         "number_big": 0,
         "number_none": 1,
         "number_small": 0,
         "spam": 1
        },
        {
         "_deepnote_index_column": 3872,
         "exclaim_mess": 0,
         "format": 1,
         "line_breaks": 6,
         "num_char": 0.312,
         "number_big": 0,
         "number_none": 1,
         "number_small": 0,
         "spam": 1
        },
        {
         "_deepnote_index_column": 3873,
         "exclaim_mess": 0,
         "format": 1,
         "line_breaks": 102,
         "num_char": 2.776,
         "number_big": 0,
         "number_none": 0,
         "number_small": 1,
         "spam": 1
        },
        {
         "_deepnote_index_column": 3874,
         "exclaim_mess": 1,
         "format": 1,
         "line_breaks": 32,
         "num_char": 1.149,
         "number_big": 0,
         "number_none": 0,
         "number_small": 1,
         "spam": 1
        },
        {
         "_deepnote_index_column": 3875,
         "exclaim_mess": 3,
         "format": 1,
         "line_breaks": 31,
         "num_char": 1.247,
         "number_big": 0,
         "number_none": 0,
         "number_small": 1,
         "spam": 1
        },
        {
         "_deepnote_index_column": 3876,
         "exclaim_mess": 0,
         "format": 0,
         "line_breaks": 5,
         "num_char": 0.13,
         "number_big": 0,
         "number_none": 1,
         "number_small": 0,
         "spam": 1
        },
        {
         "_deepnote_index_column": 3877,
         "exclaim_mess": 0,
         "format": 0,
         "line_breaks": 11,
         "num_char": 0.71,
         "number_big": 0,
         "number_none": 0,
         "number_small": 1,
         "spam": 1
        },
        {
         "_deepnote_index_column": 3878,
         "exclaim_mess": 0,
         "format": 0,
         "line_breaks": 11,
         "num_char": 0.71,
         "number_big": 0,
         "number_none": 0,
         "number_small": 1,
         "spam": 1
        },
        {
         "_deepnote_index_column": 3879,
         "exclaim_mess": 0,
         "format": 1,
         "line_breaks": 7,
         "num_char": 0.09,
         "number_big": 0,
         "number_none": 1,
         "number_small": 0,
         "spam": 1
        },
        {
         "_deepnote_index_column": 3880,
         "exclaim_mess": 1,
         "format": 1,
         "line_breaks": 33,
         "num_char": 0.885,
         "number_big": 0,
         "number_none": 0,
         "number_small": 1,
         "spam": 1
        },
        {
         "_deepnote_index_column": 3881,
         "exclaim_mess": 1,
         "format": 1,
         "line_breaks": 84,
         "num_char": 3.374,
         "number_big": 0,
         "number_none": 0,
         "number_small": 1,
         "spam": 1
        },
        {
         "_deepnote_index_column": 3882,
         "exclaim_mess": 0,
         "format": 1,
         "line_breaks": 13,
         "num_char": 0.468,
         "number_big": 0,
         "number_none": 1,
         "number_small": 0,
         "spam": 1
        },
        {
         "_deepnote_index_column": 3883,
         "exclaim_mess": 0,
         "format": 0,
         "line_breaks": 9,
         "num_char": 0.25,
         "number_big": 0,
         "number_none": 1,
         "number_small": 0,
         "spam": 1
        },
        {
         "_deepnote_index_column": 3884,
         "exclaim_mess": 0,
         "format": 0,
         "line_breaks": 2,
         "num_char": 0.052,
         "number_big": 0,
         "number_none": 1,
         "number_small": 0,
         "spam": 1
        },
        {
         "_deepnote_index_column": 3885,
         "exclaim_mess": 0,
         "format": 1,
         "line_breaks": 6,
         "num_char": 0.288,
         "number_big": 0,
         "number_none": 0,
         "number_small": 1,
         "spam": 1
        },
        {
         "_deepnote_index_column": 3886,
         "exclaim_mess": 0,
         "format": 1,
         "line_breaks": 980,
         "num_char": 72.609,
         "number_big": 1,
         "number_none": 0,
         "number_small": 0,
         "spam": 1
        },
        {
         "_deepnote_index_column": 3887,
         "exclaim_mess": 0,
         "format": 0,
         "line_breaks": 6,
         "num_char": 0.242,
         "number_big": 1,
         "number_none": 0,
         "number_small": 0,
         "spam": 1
        },
        {
         "_deepnote_index_column": 3888,
         "exclaim_mess": 0,
         "format": 0,
         "line_breaks": 10,
         "num_char": 0.496,
         "number_big": 0,
         "number_none": 1,
         "number_small": 0,
         "spam": 1
        },
        {
         "_deepnote_index_column": 3889,
         "exclaim_mess": 0,
         "format": 0,
         "line_breaks": 16,
         "num_char": 1.365,
         "number_big": 0,
         "number_none": 1,
         "number_small": 0,
         "spam": 1
        },
        {
         "_deepnote_index_column": 3890,
         "exclaim_mess": 1,
         "format": 1,
         "line_breaks": 53,
         "num_char": 2.819,
         "number_big": 0,
         "number_none": 0,
         "number_small": 1,
         "spam": 1
        },
        {
         "_deepnote_index_column": 3891,
         "exclaim_mess": 3,
         "format": 0,
         "line_breaks": 22,
         "num_char": 0.537,
         "number_big": 0,
         "number_none": 0,
         "number_small": 1,
         "spam": 1
        },
        {
         "_deepnote_index_column": 3892,
         "exclaim_mess": 14,
         "format": 1,
         "line_breaks": 1292,
         "num_char": 68.137,
         "number_big": 1,
         "number_none": 0,
         "number_small": 0,
         "spam": 1
        },
        {
         "_deepnote_index_column": 3893,
         "exclaim_mess": 9,
         "format": 1,
         "line_breaks": 142,
         "num_char": 10.585,
         "number_big": 0,
         "number_none": 0,
         "number_small": 1,
         "spam": 1
        },
        {
         "_deepnote_index_column": 3894,
         "exclaim_mess": 0,
         "format": 0,
         "line_breaks": 21,
         "num_char": 0.459,
         "number_big": 0,
         "number_none": 1,
         "number_small": 0,
         "spam": 1
        },
        {
         "_deepnote_index_column": 3895,
         "exclaim_mess": 0,
         "format": 0,
         "line_breaks": 3,
         "num_char": 0.031,
         "number_big": 0,
         "number_none": 0,
         "number_small": 1,
         "spam": 1
        },
        {
         "_deepnote_index_column": 3896,
         "exclaim_mess": 0,
         "format": 1,
         "line_breaks": 7,
         "num_char": 0.11,
         "number_big": 0,
         "number_none": 1,
         "number_small": 0,
         "spam": 1
        },
        {
         "_deepnote_index_column": 3897,
         "exclaim_mess": 1,
         "format": 1,
         "line_breaks": 6,
         "num_char": 0.198,
         "number_big": 0,
         "number_none": 1,
         "number_small": 0,
         "spam": 1
        },
        {
         "_deepnote_index_column": 3898,
         "exclaim_mess": 0,
         "format": 0,
         "line_breaks": 16,
         "num_char": 1.362,
         "number_big": 0,
         "number_none": 1,
         "number_small": 0,
         "spam": 1
        },
        {
         "_deepnote_index_column": 3899,
         "exclaim_mess": 1,
         "format": 0,
         "line_breaks": 42,
         "num_char": 0.819,
         "number_big": 0,
         "number_none": 0,
         "number_small": 1,
         "spam": 1
        },
        {
         "_deepnote_index_column": 3900,
         "exclaim_mess": 2,
         "format": 1,
         "line_breaks": 27,
         "num_char": 0.999,
         "number_big": 0,
         "number_none": 0,
         "number_small": 1,
         "spam": 1
        },
        {
         "_deepnote_index_column": 3901,
         "exclaim_mess": 0,
         "format": 0,
         "line_breaks": 21,
         "num_char": 0.459,
         "number_big": 0,
         "number_none": 1,
         "number_small": 0,
         "spam": 1
        },
        {
         "_deepnote_index_column": 3902,
         "exclaim_mess": 0,
         "format": 0,
         "line_breaks": 22,
         "num_char": 0.65,
         "number_big": 0,
         "number_none": 0,
         "number_small": 1,
         "spam": 1
        },
        {
         "_deepnote_index_column": 3903,
         "exclaim_mess": 10,
         "format": 1,
         "line_breaks": 472,
         "num_char": 19.263,
         "number_big": 0,
         "number_none": 0,
         "number_small": 1,
         "spam": 1
        },
        {
         "_deepnote_index_column": 3904,
         "exclaim_mess": 0,
         "format": 0,
         "line_breaks": 40,
         "num_char": 1.535,
         "number_big": 0,
         "number_none": 0,
         "number_small": 1,
         "spam": 1
        },
        {
         "_deepnote_index_column": 3905,
         "exclaim_mess": 0,
         "format": 0,
         "line_breaks": 25,
         "num_char": 1.107,
         "number_big": 0,
         "number_none": 0,
         "number_small": 1,
         "spam": 1
        },
        {
         "_deepnote_index_column": 3906,
         "exclaim_mess": 1,
         "format": 0,
         "line_breaks": 5,
         "num_char": 0.073,
         "number_big": 0,
         "number_none": 1,
         "number_small": 0,
         "spam": 1
        },
        {
         "_deepnote_index_column": 3907,
         "exclaim_mess": 0,
         "format": 1,
         "line_breaks": 3,
         "num_char": 0.015,
         "number_big": 0,
         "number_none": 1,
         "number_small": 0,
         "spam": 1
        },
        {
         "_deepnote_index_column": 3908,
         "exclaim_mess": 0,
         "format": 0,
         "line_breaks": 11,
         "num_char": 0.249,
         "number_big": 0,
         "number_none": 1,
         "number_small": 0,
         "spam": 1
        },
        {
         "_deepnote_index_column": 3909,
         "exclaim_mess": 0,
         "format": 0,
         "line_breaks": 18,
         "num_char": 0.341,
         "number_big": 0,
         "number_none": 1,
         "number_small": 0,
         "spam": 1
        },
        {
         "_deepnote_index_column": 3910,
         "exclaim_mess": 0,
         "format": 0,
         "line_breaks": 55,
         "num_char": 2.402,
         "number_big": 0,
         "number_none": 1,
         "number_small": 0,
         "spam": 1
        },
        {
         "_deepnote_index_column": 3911,
         "exclaim_mess": 1,
         "format": 1,
         "line_breaks": 27,
         "num_char": 1.055,
         "number_big": 0,
         "number_none": 0,
         "number_small": 1,
         "spam": 1
        },
        {
         "_deepnote_index_column": 3912,
         "exclaim_mess": 2,
         "format": 1,
         "line_breaks": 19,
         "num_char": 0.819,
         "number_big": 0,
         "number_none": 0,
         "number_small": 1,
         "spam": 1
        },
        {
         "_deepnote_index_column": 3913,
         "exclaim_mess": 3,
         "format": 0,
         "line_breaks": 46,
         "num_char": 1.597,
         "number_big": 0,
         "number_none": 0,
         "number_small": 1,
         "spam": 1
        },
        {
         "_deepnote_index_column": 3914,
         "exclaim_mess": 0,
         "format": 0,
         "line_breaks": 13,
         "num_char": 0.333,
         "number_big": 1,
         "number_none": 0,
         "number_small": 0,
         "spam": 1
        },
        {
         "_deepnote_index_column": 3915,
         "exclaim_mess": 1,
         "format": 0,
         "line_breaks": 233,
         "num_char": 14.584,
         "number_big": 0,
         "number_none": 0,
         "number_small": 1,
         "spam": 0
        },
        {
         "_deepnote_index_column": 3916,
         "exclaim_mess": 0,
         "format": 0,
         "line_breaks": 12,
         "num_char": 0.332,
         "number_big": 0,
         "number_none": 0,
         "number_small": 1,
         "spam": 1
        },
        {
         "_deepnote_index_column": 3917,
         "exclaim_mess": 0,
         "format": 0,
         "line_breaks": 15,
         "num_char": 0.323,
         "number_big": 0,
         "number_none": 0,
         "number_small": 1,
         "spam": 1
        },
        {
         "_deepnote_index_column": 3918,
         "exclaim_mess": 5,
         "format": 1,
         "line_breaks": 208,
         "num_char": 8.656,
         "number_big": 0,
         "number_none": 0,
         "number_small": 1,
         "spam": 0
        },
        {
         "_deepnote_index_column": 3919,
         "exclaim_mess": 0,
         "format": 0,
         "line_breaks": 132,
         "num_char": 10.185,
         "number_big": 0,
         "number_none": 0,
         "number_small": 1,
         "spam": 0
        },
        {
         "_deepnote_index_column": 3920,
         "exclaim_mess": 1,
         "format": 0,
         "line_breaks": 65,
         "num_char": 2.225,
         "number_big": 0,
         "number_none": 0,
         "number_small": 1,
         "spam": 1
        }
       ],
       "rows_top": [
        {
         "_deepnote_index_column": 0,
         "exclaim_mess": 0,
         "format": 1,
         "line_breaks": 202,
         "num_char": 11.37,
         "number_big": 1,
         "number_none": 0,
         "number_small": 0,
         "spam": 0
        },
        {
         "_deepnote_index_column": 1,
         "exclaim_mess": 1,
         "format": 1,
         "line_breaks": 202,
         "num_char": 10.504,
         "number_big": 0,
         "number_none": 0,
         "number_small": 1,
         "spam": 0
        },
        {
         "_deepnote_index_column": 2,
         "exclaim_mess": 6,
         "format": 1,
         "line_breaks": 192,
         "num_char": 7.773,
         "number_big": 0,
         "number_none": 0,
         "number_small": 1,
         "spam": 0
        },
        {
         "_deepnote_index_column": 3,
         "exclaim_mess": 48,
         "format": 1,
         "line_breaks": 255,
         "num_char": 13.256,
         "number_big": 0,
         "number_none": 0,
         "number_small": 1,
         "spam": 0
        },
        {
         "_deepnote_index_column": 4,
         "exclaim_mess": 1,
         "format": 0,
         "line_breaks": 29,
         "num_char": 1.231,
         "number_big": 0,
         "number_none": 1,
         "number_small": 0,
         "spam": 0
        },
        {
         "_deepnote_index_column": 5,
         "exclaim_mess": 1,
         "format": 0,
         "line_breaks": 25,
         "num_char": 1.091,
         "number_big": 0,
         "number_none": 1,
         "number_small": 0,
         "spam": 0
        },
        {
         "_deepnote_index_column": 6,
         "exclaim_mess": 1,
         "format": 1,
         "line_breaks": 193,
         "num_char": 4.837,
         "number_big": 1,
         "number_none": 0,
         "number_small": 0,
         "spam": 0
        },
        {
         "_deepnote_index_column": 7,
         "exclaim_mess": 18,
         "format": 1,
         "line_breaks": 237,
         "num_char": 7.421,
         "number_big": 0,
         "number_none": 0,
         "number_small": 1,
         "spam": 0
        },
        {
         "_deepnote_index_column": 8,
         "exclaim_mess": 1,
         "format": 0,
         "line_breaks": 69,
         "num_char": 3.051,
         "number_big": 0,
         "number_none": 0,
         "number_small": 1,
         "spam": 0
        },
        {
         "_deepnote_index_column": 9,
         "exclaim_mess": 0,
         "format": 1,
         "line_breaks": 68,
         "num_char": 2.643,
         "number_big": 0,
         "number_none": 0,
         "number_small": 1,
         "spam": 0
        },
        {
         "_deepnote_index_column": 10,
         "exclaim_mess": 2,
         "format": 1,
         "line_breaks": 25,
         "num_char": 0.869,
         "number_big": 0,
         "number_none": 0,
         "number_small": 1,
         "spam": 0
        },
        {
         "_deepnote_index_column": 11,
         "exclaim_mess": 1,
         "format": 0,
         "line_breaks": 79,
         "num_char": 4.02,
         "number_big": 0,
         "number_none": 0,
         "number_small": 1,
         "spam": 0
        },
        {
         "_deepnote_index_column": 12,
         "exclaim_mess": 0,
         "format": 1,
         "line_breaks": 191,
         "num_char": 10.459,
         "number_big": 1,
         "number_none": 0,
         "number_small": 0,
         "spam": 0
        },
        {
         "_deepnote_index_column": 13,
         "exclaim_mess": 10,
         "format": 1,
         "line_breaks": 354,
         "num_char": 15.075,
         "number_big": 0,
         "number_none": 0,
         "number_small": 1,
         "spam": 0
        },
        {
         "_deepnote_index_column": 14,
         "exclaim_mess": 4,
         "format": 1,
         "line_breaks": 330,
         "num_char": 19.693,
         "number_big": 1,
         "number_none": 0,
         "number_small": 0,
         "spam": 0
        },
        {
         "_deepnote_index_column": 15,
         "exclaim_mess": 10,
         "format": 1,
         "line_breaks": 481,
         "num_char": 18.38,
         "number_big": 0,
         "number_none": 0,
         "number_small": 1,
         "spam": 0
        },
        {
         "_deepnote_index_column": 16,
         "exclaim_mess": 20,
         "format": 1,
         "line_breaks": 345,
         "num_char": 18.037,
         "number_big": 0,
         "number_none": 0,
         "number_small": 1,
         "spam": 0
        },
        {
         "_deepnote_index_column": 17,
         "exclaim_mess": 0,
         "format": 1,
         "line_breaks": 225,
         "num_char": 13.89,
         "number_big": 0,
         "number_none": 0,
         "number_small": 1,
         "spam": 0
        },
        {
         "_deepnote_index_column": 18,
         "exclaim_mess": 2,
         "format": 0,
         "line_breaks": 33,
         "num_char": 0.596,
         "number_big": 0,
         "number_none": 0,
         "number_small": 1,
         "spam": 0
        },
        {
         "_deepnote_index_column": 19,
         "exclaim_mess": 0,
         "format": 1,
         "line_breaks": 64,
         "num_char": 4.56,
         "number_big": 0,
         "number_none": 1,
         "number_small": 0,
         "spam": 0
        },
        {
         "_deepnote_index_column": 20,
         "exclaim_mess": 3,
         "format": 1,
         "line_breaks": 85,
         "num_char": 2.192,
         "number_big": 1,
         "number_none": 0,
         "number_small": 0,
         "spam": 0
        },
        {
         "_deepnote_index_column": 21,
         "exclaim_mess": 4,
         "format": 1,
         "line_breaks": 344,
         "num_char": 11.453,
         "number_big": 1,
         "number_none": 0,
         "number_small": 0,
         "spam": 0
        },
        {
         "_deepnote_index_column": 22,
         "exclaim_mess": 3,
         "format": 1,
         "line_breaks": 560,
         "num_char": 16.647,
         "number_big": 0,
         "number_none": 0,
         "number_small": 1,
         "spam": 0
        },
        {
         "_deepnote_index_column": 23,
         "exclaim_mess": 0,
         "format": 0,
         "line_breaks": 10,
         "num_char": 0.2,
         "number_big": 0,
         "number_none": 0,
         "number_small": 1,
         "spam": 0
        },
        {
         "_deepnote_index_column": 24,
         "exclaim_mess": 0,
         "format": 1,
         "line_breaks": 69,
         "num_char": 4.938,
         "number_big": 0,
         "number_none": 1,
         "number_small": 0,
         "spam": 0
        },
        {
         "_deepnote_index_column": 25,
         "exclaim_mess": 1,
         "format": 0,
         "line_breaks": 45,
         "num_char": 2.228,
         "number_big": 0,
         "number_none": 0,
         "number_small": 1,
         "spam": 0
        },
        {
         "_deepnote_index_column": 26,
         "exclaim_mess": 1,
         "format": 0,
         "line_breaks": 81,
         "num_char": 3.959,
         "number_big": 0,
         "number_none": 0,
         "number_small": 1,
         "spam": 0
        },
        {
         "_deepnote_index_column": 27,
         "exclaim_mess": 1,
         "format": 0,
         "line_breaks": 67,
         "num_char": 4.549,
         "number_big": 0,
         "number_none": 0,
         "number_small": 1,
         "spam": 0
        },
        {
         "_deepnote_index_column": 28,
         "exclaim_mess": 0,
         "format": 0,
         "line_breaks": 18,
         "num_char": 0.506,
         "number_big": 0,
         "number_none": 1,
         "number_small": 0,
         "spam": 0
        },
        {
         "_deepnote_index_column": 29,
         "exclaim_mess": 5,
         "format": 1,
         "line_breaks": 57,
         "num_char": 2.207,
         "number_big": 0,
         "number_none": 0,
         "number_small": 1,
         "spam": 0
        },
        {
         "_deepnote_index_column": 30,
         "exclaim_mess": 0,
         "format": 0,
         "line_breaks": 17,
         "num_char": 0.235,
         "number_big": 0,
         "number_none": 1,
         "number_small": 0,
         "spam": 0
        },
        {
         "_deepnote_index_column": 31,
         "exclaim_mess": 1,
         "format": 0,
         "line_breaks": 97,
         "num_char": 7.813,
         "number_big": 0,
         "number_none": 0,
         "number_small": 1,
         "spam": 0
        },
        {
         "_deepnote_index_column": 32,
         "exclaim_mess": 1,
         "format": 0,
         "line_breaks": 118,
         "num_char": 10.614,
         "number_big": 0,
         "number_none": 0,
         "number_small": 1,
         "spam": 0
        },
        {
         "_deepnote_index_column": 33,
         "exclaim_mess": 2,
         "format": 1,
         "line_breaks": 569,
         "num_char": 31.644,
         "number_big": 1,
         "number_none": 0,
         "number_small": 0,
         "spam": 0
        },
        {
         "_deepnote_index_column": 34,
         "exclaim_mess": 3,
         "format": 0,
         "line_breaks": 39,
         "num_char": 1.566,
         "number_big": 0,
         "number_none": 0,
         "number_small": 1,
         "spam": 0
        },
        {
         "_deepnote_index_column": 35,
         "exclaim_mess": 5,
         "format": 1,
         "line_breaks": 881,
         "num_char": 45.842,
         "number_big": 1,
         "number_none": 0,
         "number_small": 0,
         "spam": 0
        },
        {
         "_deepnote_index_column": 36,
         "exclaim_mess": 0,
         "format": 0,
         "line_breaks": 30,
         "num_char": 2.317,
         "number_big": 1,
         "number_none": 0,
         "number_small": 0,
         "spam": 0
        },
        {
         "_deepnote_index_column": 37,
         "exclaim_mess": 3,
         "format": 0,
         "line_breaks": 169,
         "num_char": 13.788,
         "number_big": 0,
         "number_none": 0,
         "number_small": 1,
         "spam": 0
        },
        {
         "_deepnote_index_column": 38,
         "exclaim_mess": 1,
         "format": 1,
         "line_breaks": 57,
         "num_char": 2.196,
         "number_big": 0,
         "number_none": 0,
         "number_small": 1,
         "spam": 0
        },
        {
         "_deepnote_index_column": 39,
         "exclaim_mess": 2,
         "format": 0,
         "line_breaks": 125,
         "num_char": 11.438,
         "number_big": 0,
         "number_none": 0,
         "number_small": 1,
         "spam": 0
        },
        {
         "_deepnote_index_column": 40,
         "exclaim_mess": 2,
         "format": 0,
         "line_breaks": 259,
         "num_char": 12.268,
         "number_big": 0,
         "number_none": 0,
         "number_small": 1,
         "spam": 0
        },
        {
         "_deepnote_index_column": 41,
         "exclaim_mess": 3,
         "format": 0,
         "line_breaks": 51,
         "num_char": 1.541,
         "number_big": 0,
         "number_none": 0,
         "number_small": 1,
         "spam": 0
        },
        {
         "_deepnote_index_column": 42,
         "exclaim_mess": 6,
         "format": 1,
         "line_breaks": 558,
         "num_char": 33.451,
         "number_big": 1,
         "number_none": 0,
         "number_small": 0,
         "spam": 0
        },
        {
         "_deepnote_index_column": 43,
         "exclaim_mess": 2,
         "format": 0,
         "line_breaks": 269,
         "num_char": 13.266,
         "number_big": 0,
         "number_none": 0,
         "number_small": 1,
         "spam": 0
        },
        {
         "_deepnote_index_column": 44,
         "exclaim_mess": 0,
         "format": 0,
         "line_breaks": 9,
         "num_char": 0.334,
         "number_big": 0,
         "number_none": 0,
         "number_small": 1,
         "spam": 0
        },
        {
         "_deepnote_index_column": 45,
         "exclaim_mess": 29,
         "format": 1,
         "line_breaks": 1231,
         "num_char": 45.966,
         "number_big": 0,
         "number_none": 0,
         "number_small": 1,
         "spam": 0
        },
        {
         "_deepnote_index_column": 46,
         "exclaim_mess": 3,
         "format": 0,
         "line_breaks": 185,
         "num_char": 8.718,
         "number_big": 0,
         "number_none": 0,
         "number_small": 1,
         "spam": 0
        },
        {
         "_deepnote_index_column": 47,
         "exclaim_mess": 0,
         "format": 1,
         "line_breaks": 24,
         "num_char": 1.482,
         "number_big": 0,
         "number_none": 1,
         "number_small": 0,
         "spam": 0
        },
        {
         "_deepnote_index_column": 48,
         "exclaim_mess": 4,
         "format": 1,
         "line_breaks": 154,
         "num_char": 8.549,
         "number_big": 0,
         "number_none": 0,
         "number_small": 1,
         "spam": 0
        },
        {
         "_deepnote_index_column": 49,
         "exclaim_mess": 0,
         "format": 1,
         "line_breaks": 296,
         "num_char": 14.431,
         "number_big": 0,
         "number_none": 0,
         "number_small": 1,
         "spam": 0
        },
        {
         "_deepnote_index_column": 50,
         "exclaim_mess": 32,
         "format": 1,
         "line_breaks": 417,
         "num_char": 24.167,
         "number_big": 0,
         "number_none": 0,
         "number_small": 1,
         "spam": 0
        },
        {
         "_deepnote_index_column": 51,
         "exclaim_mess": 1,
         "format": 0,
         "line_breaks": 13,
         "num_char": 1.143,
         "number_big": 0,
         "number_none": 1,
         "number_small": 0,
         "spam": 0
        },
        {
         "_deepnote_index_column": 52,
         "exclaim_mess": 2,
         "format": 1,
         "line_breaks": 350,
         "num_char": 15.517,
         "number_big": 0,
         "number_none": 0,
         "number_small": 1,
         "spam": 0
        },
        {
         "_deepnote_index_column": 53,
         "exclaim_mess": 4,
         "format": 1,
         "line_breaks": 182,
         "num_char": 9.535,
         "number_big": 0,
         "number_none": 0,
         "number_small": 1,
         "spam": 0
        },
        {
         "_deepnote_index_column": 54,
         "exclaim_mess": 6,
         "format": 1,
         "line_breaks": 308,
         "num_char": 14.241,
         "number_big": 0,
         "number_none": 0,
         "number_small": 1,
         "spam": 0
        },
        {
         "_deepnote_index_column": 55,
         "exclaim_mess": 0,
         "format": 0,
         "line_breaks": 13,
         "num_char": 0.978,
         "number_big": 0,
         "number_none": 0,
         "number_small": 1,
         "spam": 0
        },
        {
         "_deepnote_index_column": 56,
         "exclaim_mess": 0,
         "format": 1,
         "line_breaks": 207,
         "num_char": 7.472,
         "number_big": 1,
         "number_none": 0,
         "number_small": 0,
         "spam": 0
        },
        {
         "_deepnote_index_column": 57,
         "exclaim_mess": 1,
         "format": 0,
         "line_breaks": 41,
         "num_char": 1.398,
         "number_big": 0,
         "number_none": 1,
         "number_small": 0,
         "spam": 0
        },
        {
         "_deepnote_index_column": 58,
         "exclaim_mess": 6,
         "format": 1,
         "line_breaks": 192,
         "num_char": 7.792,
         "number_big": 0,
         "number_none": 0,
         "number_small": 1,
         "spam": 0
        },
        {
         "_deepnote_index_column": 59,
         "exclaim_mess": 0,
         "format": 0,
         "line_breaks": 14,
         "num_char": 0.978,
         "number_big": 0,
         "number_none": 0,
         "number_small": 1,
         "spam": 0
        },
        {
         "_deepnote_index_column": 60,
         "exclaim_mess": 1,
         "format": 1,
         "line_breaks": 166,
         "num_char": 10.09,
         "number_big": 0,
         "number_none": 0,
         "number_small": 1,
         "spam": 0
        },
        {
         "_deepnote_index_column": 61,
         "exclaim_mess": 0,
         "format": 0,
         "line_breaks": 95,
         "num_char": 5.159,
         "number_big": 0,
         "number_none": 0,
         "number_small": 1,
         "spam": 0
        }
       ]
      },
      "text/html": [
       "<div>\n",
       "<style scoped>\n",
       "    .dataframe tbody tr th:only-of-type {\n",
       "        vertical-align: middle;\n",
       "    }\n",
       "\n",
       "    .dataframe tbody tr th {\n",
       "        vertical-align: top;\n",
       "    }\n",
       "\n",
       "    .dataframe thead th {\n",
       "        text-align: right;\n",
       "    }\n",
       "</style>\n",
       "<table border=\"1\" class=\"dataframe\">\n",
       "  <thead>\n",
       "    <tr style=\"text-align: right;\">\n",
       "      <th></th>\n",
       "      <th>spam</th>\n",
       "      <th>exclaim_mess</th>\n",
       "      <th>format</th>\n",
       "      <th>num_char</th>\n",
       "      <th>line_breaks</th>\n",
       "      <th>number_big</th>\n",
       "      <th>number_none</th>\n",
       "      <th>number_small</th>\n",
       "    </tr>\n",
       "  </thead>\n",
       "  <tbody>\n",
       "    <tr>\n",
       "      <th>0</th>\n",
       "      <td>0</td>\n",
       "      <td>0</td>\n",
       "      <td>1</td>\n",
       "      <td>11.370</td>\n",
       "      <td>202</td>\n",
       "      <td>1</td>\n",
       "      <td>0</td>\n",
       "      <td>0</td>\n",
       "    </tr>\n",
       "    <tr>\n",
       "      <th>1</th>\n",
       "      <td>0</td>\n",
       "      <td>1</td>\n",
       "      <td>1</td>\n",
       "      <td>10.504</td>\n",
       "      <td>202</td>\n",
       "      <td>0</td>\n",
       "      <td>0</td>\n",
       "      <td>1</td>\n",
       "    </tr>\n",
       "    <tr>\n",
       "      <th>2</th>\n",
       "      <td>0</td>\n",
       "      <td>6</td>\n",
       "      <td>1</td>\n",
       "      <td>7.773</td>\n",
       "      <td>192</td>\n",
       "      <td>0</td>\n",
       "      <td>0</td>\n",
       "      <td>1</td>\n",
       "    </tr>\n",
       "    <tr>\n",
       "      <th>3</th>\n",
       "      <td>0</td>\n",
       "      <td>48</td>\n",
       "      <td>1</td>\n",
       "      <td>13.256</td>\n",
       "      <td>255</td>\n",
       "      <td>0</td>\n",
       "      <td>0</td>\n",
       "      <td>1</td>\n",
       "    </tr>\n",
       "    <tr>\n",
       "      <th>4</th>\n",
       "      <td>0</td>\n",
       "      <td>1</td>\n",
       "      <td>0</td>\n",
       "      <td>1.231</td>\n",
       "      <td>29</td>\n",
       "      <td>0</td>\n",
       "      <td>1</td>\n",
       "      <td>0</td>\n",
       "    </tr>\n",
       "    <tr>\n",
       "      <th>...</th>\n",
       "      <td>...</td>\n",
       "      <td>...</td>\n",
       "      <td>...</td>\n",
       "      <td>...</td>\n",
       "      <td>...</td>\n",
       "      <td>...</td>\n",
       "      <td>...</td>\n",
       "      <td>...</td>\n",
       "    </tr>\n",
       "    <tr>\n",
       "      <th>3916</th>\n",
       "      <td>1</td>\n",
       "      <td>0</td>\n",
       "      <td>0</td>\n",
       "      <td>0.332</td>\n",
       "      <td>12</td>\n",
       "      <td>0</td>\n",
       "      <td>0</td>\n",
       "      <td>1</td>\n",
       "    </tr>\n",
       "    <tr>\n",
       "      <th>3917</th>\n",
       "      <td>1</td>\n",
       "      <td>0</td>\n",
       "      <td>0</td>\n",
       "      <td>0.323</td>\n",
       "      <td>15</td>\n",
       "      <td>0</td>\n",
       "      <td>0</td>\n",
       "      <td>1</td>\n",
       "    </tr>\n",
       "    <tr>\n",
       "      <th>3918</th>\n",
       "      <td>0</td>\n",
       "      <td>5</td>\n",
       "      <td>1</td>\n",
       "      <td>8.656</td>\n",
       "      <td>208</td>\n",
       "      <td>0</td>\n",
       "      <td>0</td>\n",
       "      <td>1</td>\n",
       "    </tr>\n",
       "    <tr>\n",
       "      <th>3919</th>\n",
       "      <td>0</td>\n",
       "      <td>0</td>\n",
       "      <td>0</td>\n",
       "      <td>10.185</td>\n",
       "      <td>132</td>\n",
       "      <td>0</td>\n",
       "      <td>0</td>\n",
       "      <td>1</td>\n",
       "    </tr>\n",
       "    <tr>\n",
       "      <th>3920</th>\n",
       "      <td>1</td>\n",
       "      <td>1</td>\n",
       "      <td>0</td>\n",
       "      <td>2.225</td>\n",
       "      <td>65</td>\n",
       "      <td>0</td>\n",
       "      <td>0</td>\n",
       "      <td>1</td>\n",
       "    </tr>\n",
       "  </tbody>\n",
       "</table>\n",
       "<p>3921 rows × 8 columns</p>\n",
       "</div>"
      ],
      "text/plain": [
       "      spam  exclaim_mess  format  num_char  line_breaks  number_big  \\\n",
       "0        0             0       1    11.370          202           1   \n",
       "1        0             1       1    10.504          202           0   \n",
       "2        0             6       1     7.773          192           0   \n",
       "3        0            48       1    13.256          255           0   \n",
       "4        0             1       0     1.231           29           0   \n",
       "...    ...           ...     ...       ...          ...         ...   \n",
       "3916     1             0       0     0.332           12           0   \n",
       "3917     1             0       0     0.323           15           0   \n",
       "3918     0             5       1     8.656          208           0   \n",
       "3919     0             0       0    10.185          132           0   \n",
       "3920     1             1       0     2.225           65           0   \n",
       "\n",
       "      number_none  number_small  \n",
       "0               0             0  \n",
       "1               0             1  \n",
       "2               0             1  \n",
       "3               0             1  \n",
       "4               1             0  \n",
       "...           ...           ...  \n",
       "3916            0             1  \n",
       "3917            0             1  \n",
       "3918            0             1  \n",
       "3919            0             1  \n",
       "3920            0             1  \n",
       "\n",
       "[3921 rows x 8 columns]"
      ]
     },
     "execution_count": 17,
     "metadata": {},
     "output_type": "execute_result"
    }
   ],
   "source": [
    "email = pd.get_dummies(email)\n",
    "email"
   ]
  },
  {
   "cell_type": "markdown",
   "metadata": {
    "cell_id": "00036-4f321d6e-3b2d-444a-a13a-351710113dea",
    "deepnote_cell_type": "markdown"
   },
   "source": [
    "---\n",
    "\n",
    "## 3.2 Exploration\n",
    "\n",
    "We can construct a pair plot of these data to explore some of the basic relationships between the outcome and the features, since our outcome variable, `spam`, is binary (categorical) we can use it is as the `hue` argument with the `pairplot` function to get a better sense about how spam and non-spam messages differ across our features."
   ]
  },
  {
   "cell_type": "code",
   "execution_count": null,
   "metadata": {
    "cell_id": "00037-6592b1da-65db-4f17-9aba-476cf21fcd0a",
    "deepnote_cell_type": "code",
    "deepnote_to_be_reexecuted": false,
    "execution_millis": 49065,
    "execution_start": 1614250674186,
    "output_cleared": false,
    "source_hash": "6bbe1ef0"
   },
   "outputs": [
    {
     "data": {
      "text/plain": [
       "<seaborn.axisgrid.PairGrid at 0x7fa4722b0ed0>"
      ]
     },
     "execution_count": 18,
     "metadata": {},
     "output_type": "execute_result"
    },
    {
     "data": {
      "image/png": "[encoded data removed]",
      "text/plain": [
       "<Figure size 1447x1400 with 56 Axes>"
      ]
     },
     "metadata": {
      "needs_background": "light"
     },
     "output_type": "display_data"
    }
   ],
   "source": [
    "sns.pairplot(email, hue='spam', diag_kind='hist')"
   ]
  },
  {
   "cell_type": "markdown",
   "metadata": {
    "cell_id": "00038-8a60c1cf-2fbf-49a2-8e32-1dd1c3a3c0ce",
    "deepnote_cell_type": "markdown"
   },
   "source": [
    "---\n",
    "\n",
    "### &diams; Exercise 5\n",
    "\n",
    "Of the plots provided by the pair plot which are the most useful? Explain."
   ]
  },
  {
   "cell_type": "markdown",
   "metadata": {
    "cell_id": "00039-daf44510-9092-4898-aea4-c00b8e8275d4",
    "deepnote_cell_type": "markdown"
   },
   "source": [
    "*Both scatter plots and density plots have their issues, most significant is overplotting in the scatter plots (particularly format). If density plots are used instead of histograms this can cause a problem because density plots are normalized and do not show that spam frequency is lower than non-spam frequency.*"
   ]
  },
  {
   "cell_type": "markdown",
   "metadata": {
    "cell_id": "00040-11b252f1-4a9b-4332-b58d-18778cb8ffdf",
    "deepnote_cell_type": "markdown"
   },
   "source": [
    "---\n",
    "\n",
    "When plotting data with categorical or binary features there are a number of additional plotting methods in seaborn that are useful for exploring potential relationships. In particular, `stripplot`, `swarmplot` and `violinplot` can all provide useful insights while avoiding the overplotting issue.\n",
    "\n",
    "Another useful type of plot for data like this is known as a strip plot which adds jitter to avoid the overplotting while showing \"all\" of the data, which is particularly important when your categories are not balanced."
   ]
  },
  {
   "cell_type": "code",
   "execution_count": null,
   "metadata": {
    "cell_id": "00041-efaa8a97-1795-41f8-bc1d-3d7b3f8ddd81",
    "deepnote_cell_type": "code",
    "deepnote_to_be_reexecuted": false,
    "execution_millis": 0,
    "execution_start": 1614250723252,
    "output_cleared": true,
    "source_hash": "c38b32eb"
   },
   "outputs": [],
   "source": [
    "# Since some methods show all points, we will sample the data to get a more managable n\n",
    "# swarmplot in particular is very slow for large n\n",
    "\n",
    "email_samp = email.sample(frac=0.1, random_state=1234)"
   ]
  },
  {
   "cell_type": "code",
   "execution_count": null,
   "metadata": {
    "cell_id": "00042-0ea7bc57-1eff-4bb4-bdb1-085b58690fb0",
    "deepnote_cell_type": "code",
    "deepnote_to_be_reexecuted": false,
    "execution_millis": 910,
    "execution_start": 1614250723253,
    "output_cleared": false,
    "source_hash": "ba3cf684"
   },
   "outputs": [
    {
     "name": "stderr",
     "output_type": "stream",
     "text": [
      "/shared-libs/python3.7/py/lib/python3.7/site-packages/seaborn/categorical.py:1296: UserWarning: 8.2% of the points cannot be placed; you may want to decrease the size of the markers or use stripplot.\n",
      "  warnings.warn(msg, UserWarning)\n"
     ]
    },
    {
     "data": {
      "image/png": "[encoded data removed]",
      "text/plain": [
       "<Figure size 960x480 with 3 Axes>"
      ]
     },
     "metadata": {
      "needs_background": "light"
     },
     "output_type": "display_data"
    }
   ],
   "source": [
    "plt.figure(figsize=(12,6))\n",
    "\n",
    "plt.subplot(131)\n",
    "sns.stripplot(y='num_char', x='spam', data=email_samp)\n",
    "\n",
    "plt.subplot(132)\n",
    "sns.swarmplot(y='num_char', x='spam', size=3, data=email_samp)\n",
    "\n",
    "plt.subplot(133)\n",
    "sns.violinplot(y='num_char', x='spam', data=email_samp)\n",
    "\n",
    "plt.show()"
   ]
  },
  {
   "cell_type": "markdown",
   "metadata": {
    "cell_id": "00043-fb3ad9a6-ff95-4bb5-bffa-d34f17cdaa8e",
    "deepnote_cell_type": "markdown"
   },
   "source": [
    "---\n",
    "\n",
    "### &diams; Exercise 6\n",
    "\n",
    "Comment on any structure you see in these plots, does `num_char` appear to have different distributions between the spam and non-spam emails?"
   ]
  },
  {
   "cell_type": "markdown",
   "metadata": {
    "cell_id": "00044-4aa70249-eed3-4163-92e5-17bf8f742925",
    "deepnote_cell_type": "markdown"
   },
   "source": [
    "*Distributions look somewhat similar when comparing the violin plots but the strip and swarm plots give the impression that spam messages tend to have fewer characters but it is difficult to judge the relative frequency of these values for the non-spam messages.*"
   ]
  },
  {
   "cell_type": "markdown",
   "metadata": {
    "cell_id": "00045-5d6b4dfa-75eb-4688-b147-f0e53f630e01",
    "deepnote_cell_type": "markdown"
   },
   "source": [
    "---\n",
    "\n",
    "Since the `num_char` variable is quite right skewed we can explore using a log transform of the variable before plotting,"
   ]
  },
  {
   "cell_type": "code",
   "execution_count": null,
   "metadata": {
    "cell_id": "00046-a96bd200-4752-4c4d-bca6-58a60771fed3",
    "deepnote_cell_type": "code",
    "deepnote_to_be_reexecuted": false,
    "execution_millis": 0,
    "execution_start": 1614250724167,
    "output_cleared": true,
    "source_hash": "cc2b92fd"
   },
   "outputs": [],
   "source": [
    "email_samp['log_num_char'] = np.log(email_samp.num_char)"
   ]
  },
  {
   "cell_type": "code",
   "execution_count": null,
   "metadata": {
    "cell_id": "00047-8c9b4d9c-e4d1-46a1-8b98-04c76085a5d5",
    "deepnote_cell_type": "code",
    "deepnote_to_be_reexecuted": false,
    "execution_millis": 795,
    "execution_start": 1614250724223,
    "output_cleared": false,
    "source_hash": "c8c72f50"
   },
   "outputs": [
    {
     "data": {
      "image/png": "[encoded data removed]",
      "text/plain": [
       "<Figure size 960x480 with 3 Axes>"
      ]
     },
     "metadata": {
      "needs_background": "light"
     },
     "output_type": "display_data"
    }
   ],
   "source": [
    "plt.figure(figsize=(12,6))\n",
    "\n",
    "plt.subplot(131)\n",
    "sns.stripplot(y='log_num_char', x='spam', data=email_samp)\n",
    "\n",
    "plt.subplot(132)\n",
    "sns.swarmplot(y='log_num_char', x='spam', size=4, data=email_samp)\n",
    "\n",
    "plt.subplot(133)\n",
    "sns.violinplot(y='log_num_char', x='spam', data=email_samp)\n",
    "\n",
    "plt.show()"
   ]
  },
  {
   "cell_type": "markdown",
   "metadata": {
    "cell_id": "00048-045ccf34-fe79-4630-a581-fa7ca7423291",
    "deepnote_cell_type": "markdown"
   },
   "source": [
    "---\n",
    "\n",
    "### &diams; Exercise 7\n",
    "\n",
    "Comment on any structure you see in these plots, does `log_num_char` appear to have different distributions between the spam and non-spam emails?"
   ]
  },
  {
   "cell_type": "markdown",
   "metadata": {
    "cell_id": "00049-bac9016d-dee5-4867-8596-2c67372602bb",
    "deepnote_cell_type": "markdown"
   },
   "source": [
    "*Distributions look more distinct in the violin plots, spam messages tending towards fewer characters*"
   ]
  },
  {
   "cell_type": "markdown",
   "metadata": {
    "cell_id": "00050-c8e18e74-9e13-416e-9ad5-86cddf6de868",
    "deepnote_cell_type": "markdown"
   },
   "source": [
    "---\n",
    "\n",
    "## 3.2 Model Fitting\n",
    "\n",
    "Logistic (and multinomial) regression models are fit using the `LogisticRegression` model function from the `linear_model` submodule of sklearn. "
   ]
  },
  {
   "cell_type": "code",
   "execution_count": null,
   "metadata": {
    "cell_id": "00051-f7c8aa5f-51f2-49a2-b8d3-5a4f1cafa95d",
    "deepnote_cell_type": "code",
    "deepnote_to_be_reexecuted": false,
    "execution_millis": 1,
    "execution_start": 1614250725010,
    "output_cleared": true,
    "source_hash": "af35732f"
   },
   "outputs": [],
   "source": [
    "from sklearn.linear_model import LogisticRegression"
   ]
  },
  {
   "cell_type": "code",
   "execution_count": null,
   "metadata": {
    "cell_id": "00052-57f337b9-9450-4f3e-8170-85fbb7ceff7e",
    "deepnote_cell_type": "code",
    "deepnote_to_be_reexecuted": false,
    "execution_millis": 2,
    "execution_start": 1614250725029,
    "output_cleared": true,
    "source_hash": "2611693f"
   },
   "outputs": [],
   "source": [
    "y = email.spam\n",
    "X = email.drop('spam', axis=1)"
   ]
  },
  {
   "cell_type": "markdown",
   "metadata": {
    "cell_id": "00053-a70c5893-8d20-496f-bd8c-94c90ca8c238",
    "deepnote_cell_type": "markdown"
   },
   "source": [
    "There are a couple of \"unique\" properties of this model implementation in sklearn that are important to be aware of. The first is that the model can be fit with regularization (i.e. an $\\ell_2$ or $\\ell_1$ penalty) but the inclusion of the $\\ell_2$ penalty is the default behavior for these models. \n",
    "\n",
    "For those coming from other programming / modeling languages this may be somewhat surprising, this strange default is probably the most common reason that results from sklearn might not immediately match results from other tools. This behavior can be explicitly controlled via the `penalty` argument. Note that if you did wish to include a penalty on the coefficients then just like with ridge or lasso it is necessary to tune this penalty parameter. However, `LogisticRegression` does not use `alpha` for this tuning parameter but instead uses `C` which is the inverse of the `alpha` we have been using - i.e. smaller values of `C` imply more regularization. \n",
    "\n",
    "Otherwise, this model function behaves as all of the other model functions we have seen so far, below we fit the model and then extract the fitted coefficients."
   ]
  },
  {
   "cell_type": "code",
   "execution_count": null,
   "metadata": {
    "cell_id": "00054-6833af60-3934-49bc-8bdc-e4b7b9d7ded0",
    "deepnote_cell_type": "code",
    "deepnote_to_be_reexecuted": false,
    "execution_millis": 437,
    "execution_start": 1614250725047,
    "output_cleared": true,
    "source_hash": "3b259064"
   },
   "outputs": [],
   "source": [
    "# Note we use `fit_intercept = False` to avoid a rank deficient model matrix sicne\n",
    "# we used one-hot encoding for the `number` feature.\n",
    "\n",
    "m = LogisticRegression(penalty = 'none', fit_intercept = False, solver='lbfgs', max_iter=1000).fit(X, y)"
   ]
  },
  {
   "cell_type": "code",
   "execution_count": null,
   "metadata": {
    "cell_id": "00055-591053e6-5f06-4434-843d-b0a2183a059c",
    "deepnote_cell_type": "code",
    "deepnote_to_be_reexecuted": false,
    "execution_millis": 23,
    "execution_start": 1614250725493,
    "output_cleared": false,
    "source_hash": "e48a938"
   },
   "outputs": [
    {
     "data": {
      "text/plain": [
       "{'exclaim_mess': (0.009587289119825483,),\n",
       " 'format': (-0.6049992877993677,),\n",
       " 'num_char': (0.054763383048135474,),\n",
       " 'line_breaks': (-0.00548088130738752,),\n",
       " 'number_big': (-1.2645214679407282,),\n",
       " 'number_none': (-0.7069241167272334,),\n",
       " 'number_small': (-1.9503311143327773,)}"
      ]
     },
     "execution_count": 26,
     "metadata": {},
     "output_type": "execute_result"
    }
   ],
   "source": [
    "# This is just some fancy python code for attaching the column names to \n",
    "# their corresponding coefficeint values\n",
    "\n",
    "dict(zip(X.columns, zip(*m.coef_)))"
   ]
  },
  {
   "cell_type": "markdown",
   "metadata": {
    "cell_id": "00056-440befcf-4157-42a5-aa18-ceb00b9f3f39",
    "deepnote_cell_type": "markdown"
   },
   "source": [
    "---\n",
    "\n",
    "### &diams; Exercise 8\n",
    "\n",
    "Based on these results, interpret the coefficient for `num_char` in context."
   ]
  },
  {
   "cell_type": "markdown",
   "metadata": {
    "cell_id": "00057-f8dc1147-1299-4a14-b737-8283199d7807",
    "deepnote_cell_type": "markdown"
   },
   "source": [
    "*For each additional 1000 characters in a message, a message's log odd ratio of being spam changes by 0.054. Alternatively, the odds ratio changes by $exp(0.054) = 1.05$.*"
   ]
  },
  {
   "cell_type": "markdown",
   "metadata": {
    "cell_id": "00058-f0b5dfb7-c5c4-4714-8b3f-b3cd6671c9c3",
    "deepnote_cell_type": "markdown"
   },
   "source": [
    "---\n",
    "\n",
    "### &diams; Exercise 9\n",
    "\n",
    "Generally comment on how each feature is related to the probability of an email being spam."
   ]
  },
  {
   "cell_type": "markdown",
   "metadata": {
    "cell_id": "00059-4cde088e-7946-49f2-8f84-6a76d507b4d8",
    "deepnote_cell_type": "markdown"
   },
   "source": [
    "*More exclaimation marks, unformated messages, more characters, fewer line breaks. Big or small numbers are less associated with spam than no numbers.*"
   ]
  },
  {
   "cell_type": "markdown",
   "metadata": {
    "cell_id": "00060-c63b1da7-b503-48da-9dd3-22f8d745b51e",
    "deepnote_cell_type": "markdown"
   },
   "source": [
    "---\n",
    "\n",
    "## 3.3 Model Predictions\n",
    "\n",
    "Unlike with our previous regression models, the fitted `LogisticRegression` objects provide multiple prediction methods. Specifically: `predict` which predicts the class label (either `0` or `1`), `predict_proba` which predicts the class probabilities, and `predict_log_proba` which predicts the log probabilities of each class."
   ]
  },
  {
   "cell_type": "code",
   "execution_count": null,
   "metadata": {
    "cell_id": "00061-e1d065a7-3f92-4158-a642-6881ab2269cf",
    "deepnote_cell_type": "code",
    "deepnote_to_be_reexecuted": false,
    "execution_millis": 31,
    "execution_start": 1614250725521,
    "output_cleared": false,
    "source_hash": "8f813c9b"
   },
   "outputs": [
    {
     "data": {
      "text/plain": [
       "array([0, 0, 0, 0, 0])"
      ]
     },
     "execution_count": 27,
     "metadata": {},
     "output_type": "execute_result"
    }
   ],
   "source": [
    "m.predict(X.head())"
   ]
  },
  {
   "cell_type": "code",
   "execution_count": null,
   "metadata": {
    "cell_id": "00062-e5a43fba-9f6e-4174-8b52-7d412a8a3c67",
    "deepnote_cell_type": "code",
    "deepnote_to_be_reexecuted": false,
    "execution_millis": 37,
    "execution_start": 1614250725559,
    "output_cleared": false,
    "source_hash": "9868c304"
   },
   "outputs": [
    {
     "data": {
      "text/plain": [
       "array([[0.91325157, 0.08674843],\n",
       "       [0.95596121, 0.04403879],\n",
       "       [0.9578905 , 0.0421095 ],\n",
       "       [0.94085638, 0.05914362],\n",
       "       [0.68758836, 0.31241164]])"
      ]
     },
     "execution_count": 28,
     "metadata": {},
     "output_type": "execute_result"
    }
   ],
   "source": [
    "m.predict_proba(X.head())"
   ]
  },
  {
   "cell_type": "code",
   "execution_count": null,
   "metadata": {
    "cell_id": "00063-2c82c4f3-ee3e-4199-8571-3fa55267fc01",
    "deepnote_cell_type": "code",
    "deepnote_to_be_reexecuted": false,
    "execution_millis": 43,
    "execution_start": 1614250725591,
    "output_cleared": false,
    "source_hash": "877371c8"
   },
   "outputs": [
    {
     "data": {
      "text/plain": [
       "array([[-0.09074389, -2.444743  ],\n",
       "       [-0.04503794, -3.1226845 ],\n",
       "       [-0.04302181, -3.16748191],\n",
       "       [-0.06096477, -2.82778662],\n",
       "       [-0.37456494, -1.1634336 ]])"
      ]
     },
     "execution_count": 29,
     "metadata": {},
     "output_type": "execute_result"
    }
   ],
   "source": [
    "m.predict_log_proba(X.head())"
   ]
  },
  {
   "cell_type": "markdown",
   "metadata": {
    "cell_id": "00064-091eac43-4b25-4135-a603-c67c93909ba4",
    "deepnote_cell_type": "markdown"
   },
   "source": [
    "Here the class label prediction is based on which of the classes has the largest probability. In this case the model is predicting that all five of these messages are not spam (`spam==0`)."
   ]
  },
  {
   "cell_type": "markdown",
   "metadata": {
    "cell_id": "00065-e697a4cf-eb49-4fec-ab23-864c860afdba",
    "deepnote_cell_type": "markdown"
   },
   "source": [
    "---\n",
    "\n",
    "### &diams; Exercise 10\n",
    "\n",
    "According to this model, what is the probability that a message with 5 exclamation marks, unformated, with 5000 characters, 10 line breaks, and no numbers was spam?"
   ]
  },
  {
   "cell_type": "code",
   "execution_count": null,
   "metadata": {
    "cell_id": "00066-201ceed8-0f0e-4665-b701-fd19e4372baa",
    "deepnote_cell_type": "code",
    "deepnote_to_be_reexecuted": false,
    "execution_millis": 31,
    "execution_start": 1614250725618,
    "output_cleared": false,
    "source_hash": "a84e2f66"
   },
   "outputs": [
    {
     "data": {
      "text/plain": [
       "array([0.39174584])"
      ]
     },
     "execution_count": 30,
     "metadata": {},
     "output_type": "execute_result"
    }
   ],
   "source": [
    "m.predict_proba([[5,0,5,10,0,1,0]])[:,1]"
   ]
  },
  {
   "cell_type": "markdown",
   "metadata": {
    "cell_id": "00067-e2f97154-1c82-40a9-8469-ffafd7d070f8",
    "deepnote_cell_type": "markdown"
   },
   "source": [
    "---\n",
    "\n",
    "## 3.3 Model Validation\n",
    "\n",
    "### 3.3.1 Confusion Matrix\n",
    "\n",
    "As our outcome variable of interest is binary, either 0 or 1, using metrics like root mean squared error does not make sense. Instead we use metrics that measure our classifier's ability to correctly label our data using the following possible outcomes for each prediction:\n",
    "\n",
    "* *true positives* - labeled as spam when it is spam\n",
    "* *false positives* - labeled as spam when it is not spam\n",
    "* *true negatives* - labeled as not spam when it is not spam\n",
    "* *false negatives* - labeled as not spam when it is spam\n",
    "\n",
    "The `predict` function chooses these labels based on whichever probability is larger, in the binary case this is equivalent to asking if the probability of being spam is $\\geq 0.5$ for each observation. This choice of threshold however is arbitrary and we can use any value between 0 and 1 for determining what we will label spam vs not spam. Below we engage is some data book keeping and then define the `confusion_plot` function for visualizing these different outcomes for the different possible threshold values. "
   ]
  },
  {
   "cell_type": "code",
   "execution_count": null,
   "metadata": {
    "cell_id": "00068-39178552-e234-47b0-8b56-064840547464",
    "deepnote_cell_type": "code",
    "deepnote_to_be_reexecuted": false,
    "execution_millis": 33,
    "execution_start": 1614250725649,
    "output_cleared": true,
    "source_hash": "891f38bc"
   },
   "outputs": [],
   "source": [
    "# This transformation is necessary so that seaborn behaves correctly when plotting the data horizontally\n",
    "truth = pd.Categorical.from_codes(y, categories = ('not spam','spam'))\n",
    "probs = m.predict_proba(X)[:,1]"
   ]
  },
  {
   "cell_type": "code",
   "execution_count": null,
   "metadata": {
    "cell_id": "00069-3fdea004-f5b1-4f25-8c93-4960e2fa997e",
    "deepnote_cell_type": "code",
    "deepnote_to_be_reexecuted": false,
    "execution_millis": 37,
    "execution_start": 1614250725696,
    "output_cleared": true,
    "source_hash": "4471f62d"
   },
   "outputs": [],
   "source": [
    "def confusion_plot(threshold=0.5):\n",
    "    d = pd.DataFrame(\n",
    "        data = {'spam': y, 'truth': truth, 'probs': probs}\n",
    "    )\n",
    "    \n",
    "    # Create a column called outcome that contains the labeling outcome\n",
    "    # for the given threshold\n",
    "    d['outcome'] = 'other'\n",
    "    d.loc[(d.spam == 1) & (d.probs >= threshold), 'outcome'] = 'true positive'\n",
    "    d.loc[(d.spam == 0) & (d.probs >= threshold), 'outcome'] = 'false positive'\n",
    "    d.loc[(d.spam == 1) & (d.probs <  threshold), 'outcome'] = 'false negative'\n",
    "    d.loc[(d.spam == 0) & (d.probs <  threshold), 'outcome'] = 'true negative'\n",
    "    \n",
    "    # Create plot and color according to outcome\n",
    "    plt.figure(figsize=(12,4))\n",
    "    plt.xlim((-0.05,1.05))\n",
    "    sns.stripplot(y='truth', x='probs', hue='outcome', data=d)\n",
    "    plt.axvline(x=threshold, linestyle='dashed', color='black', alpha=0.5)\n",
    "    plt.title(\"threshold = %.2f\" % threshold)\n",
    "    plt.show()\n",
    "    \n",
    "    return sklearn.metrics.confusion_matrix(y_true=d.spam, y_pred=d.probs >= threshold)"
   ]
  },
  {
   "cell_type": "markdown",
   "metadata": {
    "cell_id": "00070-2f7356e4-8551-4871-b25f-514f5e855ed0",
    "deepnote_cell_type": "markdown"
   },
   "source": [
    "Below we run this function using a threshold of 0.5 to examine how the logistic regression classifier is performing. Feel free to vary this between 0 and 1 and observe the effect."
   ]
  },
  {
   "cell_type": "code",
   "execution_count": null,
   "metadata": {
    "cell_id": "00071-fd83d295-f821-47e8-bef5-64b57aca290c",
    "deepnote_cell_type": "code",
    "deepnote_to_be_reexecuted": false,
    "execution_millis": 590,
    "execution_start": 1614251991209,
    "output_cleared": false,
    "source_hash": "17403c0d"
   },
   "outputs": [
    {
     "data": {
      "image/png": "[encoded data removed]",
      "text/plain": [
       "<Figure size 960x320 with 1 Axes>"
      ]
     },
     "metadata": {
      "needs_background": "light"
     },
     "output_type": "display_data"
    },
    {
     "data": {
      "text/plain": [
       "array([[3554,    0],\n",
       "       [ 361,    6]])"
      ]
     },
     "execution_count": 35,
     "metadata": {},
     "output_type": "execute_result"
    }
   ],
   "source": [
    "confusion_plot(threshold=0.34)"
   ]
  },
  {
   "cell_type": "markdown",
   "metadata": {
    "cell_id": "00072-f141d04a-31b0-4eaf-9d5f-d7798bddd77d",
    "deepnote_cell_type": "markdown"
   },
   "source": [
    "The small matrix that is returned by the function is the confusion matrix for the given threshold and it contains the number of each outcome (in the same order as presented in the graph), this is calculated use the `confusion_matrix` function from the `sklearn.metrics` submodule."
   ]
  },
  {
   "cell_type": "markdown",
   "metadata": {
    "cell_id": "00073-19c4f5c1-9873-4254-8dac-59a5d8c55b95",
    "deepnote_cell_type": "markdown"
   },
   "source": [
    "---\n",
    "\n",
    "### &diams; Exercise 11\n",
    "\n",
    "Based on these results what value of threshold for this model might be a reasonable choice? Think about the relative cost of a false negative vs a false positive."
   ]
  },
  {
   "cell_type": "markdown",
   "metadata": {
    "cell_id": "00074-3754c255-f715-4ec3-b03e-6189f5d52529",
    "deepnote_cell_type": "markdown"
   },
   "source": [
    "*This is generally a terrible model - anything above 0.34 is probably fine since there are no false positives but then almost all spam messages are not caught. The issue is for email a false positive is much worse than a false negative (think missing an important email vs having to click the spam button).\n",
    "*\n"
   ]
  },
  {
   "cell_type": "markdown",
   "metadata": {
    "cell_id": "00075-5798f012-7e98-474f-83ab-809efeb548c7",
    "deepnote_cell_type": "markdown"
   },
   "source": [
    "---\n",
    "\n",
    "### 3.3.2 ROC curves\n",
    "\n",
    "Another method for seeing the effect of these different choices of threshold is to generate a Receiver operating characteristic (ROC) curve for the model which plots the true positive rate against the false positive rate for different threshold values."
   ]
  },
  {
   "cell_type": "code",
   "execution_count": null,
   "metadata": {
    "cell_id": "00076-beddb1f0-9d37-4bc8-886d-f4ed3ecb8c8c",
    "deepnote_cell_type": "code",
    "deepnote_to_be_reexecuted": false,
    "execution_millis": 0,
    "execution_start": 1614161682980,
    "output_cleared": true,
    "source_hash": "a3c54144"
   },
   "outputs": [],
   "source": [
    "from sklearn.metrics import roc_curve, precision_recall_curve"
   ]
  },
  {
   "cell_type": "markdown",
   "metadata": {
    "cell_id": "00077-04d8c4d9-1a5d-42da-833c-d5f27d100d2e",
    "deepnote_cell_type": "markdown"
   },
   "source": [
    "This function returns a tuple of the false positive rate, true positive rate, and threshold values based on the true labels and the predicted probabilities. \n",
    "\n",
    "Here we take those results and construct a data frame to enable us to create the ROC plot using seaborn. "
   ]
  },
  {
   "cell_type": "code",
   "execution_count": null,
   "metadata": {
    "cell_id": "00079-6c8e0a05-505b-4c38-8bd9-fbbb5b4e4b72",
    "deepnote_cell_type": "code",
    "deepnote_to_be_reexecuted": false,
    "execution_millis": 26,
    "execution_start": 1614161684786,
    "output_cleared": false,
    "source_hash": "2bf033fb"
   },
   "outputs": [
    {
     "data": {
      "application/vnd.deepnote.dataframe.v2+json": {
       "column_count": 3,
       "columns": [
        {
         "dtype": "float64",
         "name": "false positive rate",
         "stats": {
          "histogram": [
           {
            "bin_end": 0.1,
            "bin_start": 0,
            "count": 174
           },
           {
            "bin_end": 0.2,
            "bin_start": 0.1,
            "count": 76
           },
           {
            "bin_end": 0.30000000000000004,
            "bin_start": 0.2,
            "count": 90
           },
           {
            "bin_end": 0.4,
            "bin_start": 0.30000000000000004,
            "count": 72
           },
           {
            "bin_end": 0.5,
            "bin_start": 0.4,
            "count": 50
           },
           {
            "bin_end": 0.6000000000000001,
            "bin_start": 0.5,
            "count": 34
           },
           {
            "bin_end": 0.7000000000000001,
            "bin_start": 0.6000000000000001,
            "count": 32
           },
           {
            "bin_end": 0.8,
            "bin_start": 0.7000000000000001,
            "count": 26
           },
           {
            "bin_end": 0.9,
            "bin_start": 0.8,
            "count": 16
           },
           {
            "bin_end": 1,
            "bin_start": 0.9,
            "count": 9
           }
          ],
          "max": 1,
          "min": 0,
          "nan_count": 0,
          "unique_count": 345
         }
        },
        {
         "dtype": "float64",
         "name": "true positive rate",
         "stats": {
          "histogram": [
           {
            "bin_end": 0.1,
            "bin_start": 0,
            "count": 47
           },
           {
            "bin_end": 0.2,
            "bin_start": 0.1,
            "count": 39
           },
           {
            "bin_end": 0.30000000000000004,
            "bin_start": 0.2,
            "count": 27
           },
           {
            "bin_end": 0.4,
            "bin_start": 0.30000000000000004,
            "count": 39
           },
           {
            "bin_end": 0.5,
            "bin_start": 0.4,
            "count": 57
           },
           {
            "bin_end": 0.6000000000000001,
            "bin_start": 0.5,
            "count": 61
           },
           {
            "bin_end": 0.7000000000000001,
            "bin_start": 0.6000000000000001,
            "count": 85
           },
           {
            "bin_end": 0.8,
            "bin_start": 0.7000000000000001,
            "count": 60
           },
           {
            "bin_end": 0.9,
            "bin_start": 0.8,
            "count": 78
           },
           {
            "bin_end": 1,
            "bin_start": 0.9,
            "count": 86
           }
          ],
          "max": 1,
          "min": 0,
          "nan_count": 0,
          "unique_count": 244
         }
        },
        {
         "dtype": "float64",
         "name": "threshold",
         "stats": {
          "histogram": [
           {
            "bin_end": 0.13802633074356344,
            "bin_start": 2.2850312911469352e-05,
            "count": 379
           },
           {
            "bin_end": 0.27602981117421543,
            "bin_start": 0.13802633074356344,
            "count": 96
           },
           {
            "bin_end": 0.4140332916048674,
            "bin_start": 0.27602981117421543,
            "count": 103
           },
           {
            "bin_end": 0.5520367720355194,
            "bin_start": 0.4140332916048674,
            "count": 0
           },
           {
            "bin_end": 0.6900402524661714,
            "bin_start": 0.5520367720355194,
            "count": 0
           },
           {
            "bin_end": 0.8280437328968233,
            "bin_start": 0.6900402524661714,
            "count": 0
           },
           {
            "bin_end": 0.9660472133274752,
            "bin_start": 0.8280437328968233,
            "count": 0
           },
           {
            "bin_end": 1.1040506937581271,
            "bin_start": 0.9660472133274752,
            "count": 0
           },
           {
            "bin_end": 1.2420541741887792,
            "bin_start": 1.1040506937581271,
            "count": 0
           },
           {
            "bin_end": 1.380057654619431,
            "bin_start": 1.2420541741887792,
            "count": 1
           }
          ],
          "max": 1.380057654619431,
          "min": 2.2850312911469352e-05,
          "nan_count": 0,
          "unique_count": 579
         }
        },
        {
         "dtype": "int64",
         "name": "_deepnote_index_column"
        }
       ],
       "row_count": 579,
       "rows_bottom": [
        {
         "_deepnote_index_column": 412,
         "false positive rate": 0.41502532357906585,
         "threshold": 0.06737914168432042,
         "true positive rate": 0.7956403269754768
        },
        {
         "_deepnote_index_column": 413,
         "false positive rate": 0.41502532357906585,
         "threshold": 0.06734630518702907,
         "true positive rate": 0.7983651226158038
        },
        {
         "_deepnote_index_column": 414,
         "false positive rate": 0.41643218908272367,
         "threshold": 0.06729449550694139,
         "true positive rate": 0.7983651226158038
        },
        {
         "_deepnote_index_column": 415,
         "false positive rate": 0.41643218908272367,
         "threshold": 0.06726814267476597,
         "true positive rate": 0.8010899182561307
        },
        {
         "_deepnote_index_column": 416,
         "false positive rate": 0.41699493528418685,
         "threshold": 0.06722882996822897,
         "true positive rate": 0.8010899182561307
        },
        {
         "_deepnote_index_column": 417,
         "false positive rate": 0.41699493528418685,
         "threshold": 0.0672020862322849,
         "true positive rate": 0.8038147138964578
        },
        {
         "_deepnote_index_column": 418,
         "false positive rate": 0.41783905458638154,
         "threshold": 0.0671876274474047,
         "true positive rate": 0.8038147138964578
        },
        {
         "_deepnote_index_column": 419,
         "false positive rate": 0.41783905458638154,
         "threshold": 0.06714952577957897,
         "true positive rate": 0.8092643051771117
        },
        {
         "_deepnote_index_column": 420,
         "false positive rate": 0.421496904895892,
         "threshold": 0.06686600108258675,
         "true positive rate": 0.8092643051771117
        },
        {
         "_deepnote_index_column": 421,
         "false positive rate": 0.421496904895892,
         "threshold": 0.06686017612601866,
         "true positive rate": 0.8119891008174387
        },
        {
         "_deepnote_index_column": 422,
         "false positive rate": 0.42796848621271805,
         "threshold": 0.06622734115655492,
         "true positive rate": 0.8119891008174387
        },
        {
         "_deepnote_index_column": 423,
         "false positive rate": 0.42796848621271805,
         "threshold": 0.066167711858003,
         "true positive rate": 0.8174386920980926
        },
        {
         "_deepnote_index_column": 424,
         "false positive rate": 0.4288126055149128,
         "threshold": 0.06603211897566483,
         "true positive rate": 0.8174386920980926
        },
        {
         "_deepnote_index_column": 425,
         "false positive rate": 0.4288126055149128,
         "threshold": 0.06594026872413764,
         "true positive rate": 0.8201634877384196
        },
        {
         "_deepnote_index_column": 426,
         "false positive rate": 0.43275182892515474,
         "threshold": 0.06564824517838691,
         "true positive rate": 0.8201634877384196
        },
        {
         "_deepnote_index_column": 427,
         "false positive rate": 0.43275182892515474,
         "threshold": 0.06562635490555913,
         "true positive rate": 0.8228882833787466
        },
        {
         "_deepnote_index_column": 428,
         "false positive rate": 0.43444006752954417,
         "threshold": 0.06550950867071527,
         "true positive rate": 0.8228882833787466
        },
        {
         "_deepnote_index_column": 429,
         "false positive rate": 0.43444006752954417,
         "threshold": 0.06548490096073742,
         "true positive rate": 0.8256130790190735
        },
        {
         "_deepnote_index_column": 430,
         "false positive rate": 0.43472144063027574,
         "threshold": 0.06545451925770701,
         "true positive rate": 0.8256130790190735
        },
        {
         "_deepnote_index_column": 431,
         "false positive rate": 0.43472144063027574,
         "threshold": 0.06542772525133463,
         "true positive rate": 0.8283378746594006
        },
        {
         "_deepnote_index_column": 432,
         "false positive rate": 0.43669105233539673,
         "threshold": 0.0652050220862922,
         "true positive rate": 0.8283378746594006
        },
        {
         "_deepnote_index_column": 433,
         "false positive rate": 0.43669105233539673,
         "threshold": 0.06518147110561445,
         "true positive rate": 0.8310626702997275
        },
        {
         "_deepnote_index_column": 434,
         "false positive rate": 0.439786156443444,
         "threshold": 0.06498987002120696,
         "true positive rate": 0.8310626702997275
        },
        {
         "_deepnote_index_column": 435,
         "false positive rate": 0.439786156443444,
         "threshold": 0.06490888016456499,
         "true positive rate": 0.8337874659400545
        },
        {
         "_deepnote_index_column": 436,
         "false positive rate": 0.443725379853686,
         "threshold": 0.06457370317108152,
         "true positive rate": 0.8337874659400545
        },
        {
         "_deepnote_index_column": 437,
         "false positive rate": 0.443725379853686,
         "threshold": 0.06456880379341406,
         "true positive rate": 0.8365122615803815
        },
        {
         "_deepnote_index_column": 438,
         "false positive rate": 0.4445694991558807,
         "threshold": 0.064502947001789,
         "true positive rate": 0.8365122615803815
        },
        {
         "_deepnote_index_column": 439,
         "false positive rate": 0.4445694991558807,
         "threshold": 0.06449243483603251,
         "true positive rate": 0.8392370572207084
        },
        {
         "_deepnote_index_column": 440,
         "false positive rate": 0.44597636465953855,
         "threshold": 0.06436924939918455,
         "true positive rate": 0.8392370572207084
        },
        {
         "_deepnote_index_column": 441,
         "false positive rate": 0.44597636465953855,
         "threshold": 0.06436369675845277,
         "true positive rate": 0.8419618528610354
        },
        {
         "_deepnote_index_column": 442,
         "false positive rate": 0.4462577377602701,
         "threshold": 0.06434946320408007,
         "true positive rate": 0.8419618528610354
        },
        {
         "_deepnote_index_column": 443,
         "false positive rate": 0.4462577377602701,
         "threshold": 0.06427525708961898,
         "true positive rate": 0.8446866485013624
        },
        {
         "_deepnote_index_column": 444,
         "false positive rate": 0.4490714687675858,
         "threshold": 0.06407065349526442,
         "true positive rate": 0.8446866485013624
        },
        {
         "_deepnote_index_column": 445,
         "false positive rate": 0.4490714687675858,
         "threshold": 0.06405276858047187,
         "true positive rate": 0.8474114441416893
        },
        {
         "_deepnote_index_column": 446,
         "false positive rate": 0.4535734383792909,
         "threshold": 0.06371429394753679,
         "true positive rate": 0.8474114441416893
        },
        {
         "_deepnote_index_column": 447,
         "false positive rate": 0.4535734383792909,
         "threshold": 0.06368608266369126,
         "true positive rate": 0.8501362397820164
        },
        {
         "_deepnote_index_column": 448,
         "false positive rate": 0.45807540799099605,
         "threshold": 0.06321063270429765,
         "true positive rate": 0.8501362397820164
        },
        {
         "_deepnote_index_column": 449,
         "false positive rate": 0.4586381541924592,
         "threshold": 0.06318269948144825,
         "true positive rate": 0.8501362397820164
        },
        {
         "_deepnote_index_column": 450,
         "false positive rate": 0.45891952729319074,
         "threshold": 0.06313780113323367,
         "true positive rate": 0.8501362397820164
        },
        {
         "_deepnote_index_column": 451,
         "false positive rate": 0.45920090039392236,
         "threshold": 0.06307717037856318,
         "true positive rate": 0.8528610354223434
        },
        {
         "_deepnote_index_column": 452,
         "false positive rate": 0.47608328643781656,
         "threshold": 0.06166716010153457,
         "true positive rate": 0.8528610354223434
        },
        {
         "_deepnote_index_column": 453,
         "false positive rate": 0.47608328643781656,
         "threshold": 0.06166053954119309,
         "true positive rate": 0.8555858310626703
        },
        {
         "_deepnote_index_column": 454,
         "false positive rate": 0.48227349465391106,
         "threshold": 0.06127325786006222,
         "true positive rate": 0.8555858310626703
        },
        {
         "_deepnote_index_column": 455,
         "false positive rate": 0.48227349465391106,
         "threshold": 0.061272775541922245,
         "true positive rate": 0.8583106267029973
        },
        {
         "_deepnote_index_column": 456,
         "false positive rate": 0.4831176139561058,
         "threshold": 0.0611876435946259,
         "true positive rate": 0.8583106267029973
        },
        {
         "_deepnote_index_column": 457,
         "false positive rate": 0.48368036015756893,
         "threshold": 0.06116734794351829,
         "true positive rate": 0.8583106267029973
        },
        {
         "_deepnote_index_column": 458,
         "false positive rate": 0.4915588069780529,
         "threshold": 0.060511785260319806,
         "true positive rate": 0.8583106267029973
        },
        {
         "_deepnote_index_column": 459,
         "false positive rate": 0.4915588069780529,
         "threshold": 0.06050838565118107,
         "true positive rate": 0.8610354223433242
        },
        {
         "_deepnote_index_column": 460,
         "false positive rate": 0.4935284186831739,
         "threshold": 0.06041070893598887,
         "true positive rate": 0.8610354223433242
        },
        {
         "_deepnote_index_column": 461,
         "false positive rate": 0.4935284186831739,
         "threshold": 0.06039352580157862,
         "true positive rate": 0.8637602179836512
        },
        {
         "_deepnote_index_column": 462,
         "false positive rate": 0.5092853123241418,
         "threshold": 0.05968136462734714,
         "true positive rate": 0.8637602179836512
        },
        {
         "_deepnote_index_column": 463,
         "false positive rate": 0.5092853123241418,
         "threshold": 0.05968023812788418,
         "true positive rate": 0.8664850136239782
        },
        {
         "_deepnote_index_column": 464,
         "false positive rate": 0.5135059088351154,
         "threshold": 0.059346908821627624,
         "true positive rate": 0.8664850136239782
        },
        {
         "_deepnote_index_column": 465,
         "false positive rate": 0.5135059088351154,
         "threshold": 0.059318366777569825,
         "true positive rate": 0.8692098092643051
        },
        {
         "_deepnote_index_column": 466,
         "false positive rate": 0.5140686550365785,
         "threshold": 0.05928884944856625,
         "true positive rate": 0.8692098092643051
        },
        {
         "_deepnote_index_column": 467,
         "false positive rate": 0.5140686550365785,
         "threshold": 0.059257787172058166,
         "true positive rate": 0.8719346049046321
        },
        {
         "_deepnote_index_column": 468,
         "false positive rate": 0.5236353404614519,
         "threshold": 0.05880377614428156,
         "true positive rate": 0.8719346049046321
        },
        {
         "_deepnote_index_column": 469,
         "false positive rate": 0.5236353404614519,
         "threshold": 0.05879594103148472,
         "true positive rate": 0.8746594005449592
        },
        {
         "_deepnote_index_column": 470,
         "false positive rate": 0.5270118176702308,
         "threshold": 0.058407779908507255,
         "true positive rate": 0.8746594005449592
        },
        {
         "_deepnote_index_column": 471,
         "false positive rate": 0.5270118176702308,
         "threshold": 0.05839014702817079,
         "true positive rate": 0.8773841961852861
        },
        {
         "_deepnote_index_column": 472,
         "false positive rate": 0.5348902644907146,
         "threshold": 0.05793955876521155,
         "true positive rate": 0.8773841961852861
        },
        {
         "_deepnote_index_column": 473,
         "false positive rate": 0.5354530106921779,
         "threshold": 0.05792248489247475,
         "true positive rate": 0.8773841961852861
        },
        {
         "_deepnote_index_column": 474,
         "false positive rate": 0.5438942037141249,
         "threshold": 0.05759515619625706,
         "true positive rate": 0.8773841961852861
        },
        {
         "_deepnote_index_column": 475,
         "false positive rate": 0.5438942037141249,
         "threshold": 0.05756765359727349,
         "true positive rate": 0.8801089918256131
        },
        {
         "_deepnote_index_column": 476,
         "false positive rate": 0.5630275745638716,
         "threshold": 0.05678586441060924,
         "true positive rate": 0.8801089918256131
        },
        {
         "_deepnote_index_column": 477,
         "false positive rate": 0.5635903207653349,
         "threshold": 0.056785372192149686,
         "true positive rate": 0.8801089918256131
        },
        {
         "_deepnote_index_column": 478,
         "false positive rate": 0.5658413055711874,
         "threshold": 0.05665924945831061,
         "true positive rate": 0.8801089918256131
        },
        {
         "_deepnote_index_column": 479,
         "false positive rate": 0.5658413055711874,
         "threshold": 0.05665610817157451,
         "true positive rate": 0.8828337874659401
        },
        {
         "_deepnote_index_column": 480,
         "false positive rate": 0.5694991558806978,
         "threshold": 0.0563510831513686,
         "true positive rate": 0.8828337874659401
        },
        {
         "_deepnote_index_column": 481,
         "false positive rate": 0.5700619020821609,
         "threshold": 0.056329574905986564,
         "true positive rate": 0.8828337874659401
        },
        {
         "_deepnote_index_column": 482,
         "false positive rate": 0.5723128868880135,
         "threshold": 0.056195314435126216,
         "true positive rate": 0.8828337874659401
        },
        {
         "_deepnote_index_column": 483,
         "false positive rate": 0.5723128868880135,
         "threshold": 0.05618048569440427,
         "true positive rate": 0.885558583106267
        },
        {
         "_deepnote_index_column": 484,
         "false positive rate": 0.5728756330894766,
         "threshold": 0.05617811020482567,
         "true positive rate": 0.885558583106267
        },
        {
         "_deepnote_index_column": 485,
         "false positive rate": 0.5728756330894766,
         "threshold": 0.05615825483395467,
         "true positive rate": 0.888283378746594
        },
        {
         "_deepnote_index_column": 486,
         "false positive rate": 0.5740011254924029,
         "threshold": 0.05610073075681885,
         "true positive rate": 0.888283378746594
        },
        {
         "_deepnote_index_column": 487,
         "false positive rate": 0.5740011254924029,
         "threshold": 0.05610022892714551,
         "true positive rate": 0.8910081743869209
        },
        {
         "_deepnote_index_column": 488,
         "false positive rate": 0.574563871693866,
         "threshold": 0.05607549599181536,
         "true positive rate": 0.8910081743869209
        },
        {
         "_deepnote_index_column": 489,
         "false positive rate": 0.574563871693866,
         "threshold": 0.056070996676930426,
         "true positive rate": 0.896457765667575
        },
        {
         "_deepnote_index_column": 490,
         "false positive rate": 0.5869442881260551,
         "threshold": 0.05494322123383337,
         "true positive rate": 0.896457765667575
        },
        {
         "_deepnote_index_column": 491,
         "false positive rate": 0.5869442881260551,
         "threshold": 0.05493439856286066,
         "true positive rate": 0.8991825613079019
        },
        {
         "_deepnote_index_column": 492,
         "false positive rate": 0.594259988745076,
         "threshold": 0.054484526207869914,
         "true positive rate": 0.8991825613079019
        },
        {
         "_deepnote_index_column": 493,
         "false positive rate": 0.594259988745076,
         "threshold": 0.05448259577025214,
         "true positive rate": 0.9019073569482289
        },
        {
         "_deepnote_index_column": 494,
         "false positive rate": 0.5976364659538548,
         "threshold": 0.05433180544476295,
         "true positive rate": 0.9019073569482289
        },
        {
         "_deepnote_index_column": 495,
         "false positive rate": 0.5990433314575127,
         "threshold": 0.05432684963189218,
         "true positive rate": 0.9019073569482289
        },
        {
         "_deepnote_index_column": 496,
         "false positive rate": 0.6038266741699494,
         "threshold": 0.05412089992407069,
         "true positive rate": 0.9019073569482289
        },
        {
         "_deepnote_index_column": 497,
         "false positive rate": 0.6043894203714125,
         "threshold": 0.05411880688076651,
         "true positive rate": 0.9019073569482289
        },
        {
         "_deepnote_index_column": 498,
         "false positive rate": 0.6060776589758019,
         "threshold": 0.05407390777255978,
         "true positive rate": 0.9019073569482289
        },
        {
         "_deepnote_index_column": 499,
         "false positive rate": 0.6060776589758019,
         "threshold": 0.054064863855607444,
         "true positive rate": 0.9046321525885559
        },
        {
         "_deepnote_index_column": 500,
         "false positive rate": 0.6150815981992122,
         "threshold": 0.053316704021302355,
         "true positive rate": 0.9046321525885559
        },
        {
         "_deepnote_index_column": 501,
         "false positive rate": 0.6150815981992122,
         "threshold": 0.053305654401990483,
         "true positive rate": 0.9073569482288828
        },
        {
         "_deepnote_index_column": 502,
         "false positive rate": 0.6181767023072594,
         "threshold": 0.05303080112451456,
         "true positive rate": 0.9073569482288828
        },
        {
         "_deepnote_index_column": 503,
         "false positive rate": 0.6181767023072594,
         "threshold": 0.05301016261385981,
         "true positive rate": 0.9100817438692098
        },
        {
         "_deepnote_index_column": 504,
         "false positive rate": 0.6353404614518852,
         "threshold": 0.05177482344582754,
         "true positive rate": 0.9100817438692098
        },
        {
         "_deepnote_index_column": 505,
         "false positive rate": 0.6353404614518852,
         "threshold": 0.05172163467259395,
         "true positive rate": 0.9128065395095368
        },
        {
         "_deepnote_index_column": 506,
         "false positive rate": 0.6460326392796849,
         "threshold": 0.050727617231327946,
         "true positive rate": 0.9128065395095368
        },
        {
         "_deepnote_index_column": 507,
         "false positive rate": 0.6460326392796849,
         "threshold": 0.050666898297370415,
         "true positive rate": 0.9155313351498637
        },
        {
         "_deepnote_index_column": 508,
         "false positive rate": 0.6553179516038267,
         "threshold": 0.0494932539390056,
         "true positive rate": 0.9155313351498637
        },
        {
         "_deepnote_index_column": 509,
         "false positive rate": 0.6558806978052898,
         "threshold": 0.04945160838659463,
         "true positive rate": 0.9155313351498637
        },
        {
         "_deepnote_index_column": 510,
         "false positive rate": 0.6584130557118739,
         "threshold": 0.04916597992619855,
         "true positive rate": 0.9155313351498637
        },
        {
         "_deepnote_index_column": 511,
         "false positive rate": 0.6584130557118739,
         "threshold": 0.04915571735038145,
         "true positive rate": 0.9182561307901907
        },
        {
         "_deepnote_index_column": 512,
         "false positive rate": 0.6679797411367473,
         "threshold": 0.04778550577312593,
         "true positive rate": 0.9182561307901907
        },
        {
         "_deepnote_index_column": 513,
         "false positive rate": 0.6679797411367473,
         "threshold": 0.04777354310383625,
         "true positive rate": 0.9209809264305178
        },
        {
         "_deepnote_index_column": 514,
         "false positive rate": 0.668823860438942,
         "threshold": 0.04763901800800586,
         "true positive rate": 0.9209809264305178
        },
        {
         "_deepnote_index_column": 515,
         "false positive rate": 0.668823860438942,
         "threshold": 0.047637724815449846,
         "true positive rate": 0.9237057220708447
        },
        {
         "_deepnote_index_column": 516,
         "false positive rate": 0.6752954417557682,
         "threshold": 0.0467508634911712,
         "true positive rate": 0.9237057220708447
        },
        {
         "_deepnote_index_column": 517,
         "false positive rate": 0.6752954417557682,
         "threshold": 0.04674140810599259,
         "true positive rate": 0.9264305177111717
        },
        {
         "_deepnote_index_column": 518,
         "false positive rate": 0.6769836803601575,
         "threshold": 0.04662005377685086,
         "true positive rate": 0.9264305177111717
        },
        {
         "_deepnote_index_column": 519,
         "false positive rate": 0.6769836803601575,
         "threshold": 0.04659361335442717,
         "true positive rate": 0.9318801089918256
        },
        {
         "_deepnote_index_column": 520,
         "false positive rate": 0.6781091727630838,
         "threshold": 0.046359438844266715,
         "true positive rate": 0.9318801089918256
        },
        {
         "_deepnote_index_column": 521,
         "false positive rate": 0.6781091727630838,
         "threshold": 0.046319560783459036,
         "true positive rate": 0.9346049046321526
        },
        {
         "_deepnote_index_column": 522,
         "false positive rate": 0.678671918964547,
         "threshold": 0.04629757112696116,
         "true positive rate": 0.9346049046321526
        },
        {
         "_deepnote_index_column": 523,
         "false positive rate": 0.678671918964547,
         "threshold": 0.046259412631811735,
         "true positive rate": 0.9373297002724795
        },
        {
         "_deepnote_index_column": 524,
         "false positive rate": 0.685143500281373,
         "threshold": 0.04524863159873193,
         "true positive rate": 0.9373297002724795
        },
        {
         "_deepnote_index_column": 525,
         "false positive rate": 0.6857062464828363,
         "threshold": 0.04520057822673414,
         "true positive rate": 0.9373297002724795
        },
        {
         "_deepnote_index_column": 526,
         "false positive rate": 0.6927405740011255,
         "threshold": 0.04441422399693736,
         "true positive rate": 0.9373297002724795
        },
        {
         "_deepnote_index_column": 527,
         "false positive rate": 0.6927405740011255,
         "threshold": 0.044411718626421445,
         "true positive rate": 0.9400544959128065
        },
        {
         "_deepnote_index_column": 528,
         "false positive rate": 0.7281935846933033,
         "threshold": 0.040400251023385514,
         "true positive rate": 0.9400544959128065
        },
        {
         "_deepnote_index_column": 529,
         "false positive rate": 0.729037703995498,
         "threshold": 0.040383550859859105,
         "true positive rate": 0.9400544959128065
        },
        {
         "_deepnote_index_column": 530,
         "false positive rate": 0.7400112549240293,
         "threshold": 0.03879979881889999,
         "true positive rate": 0.9400544959128065
        },
        {
         "_deepnote_index_column": 531,
         "false positive rate": 0.7408553742262239,
         "threshold": 0.03877614483029517,
         "true positive rate": 0.9400544959128065
        },
        {
         "_deepnote_index_column": 532,
         "false positive rate": 0.7422622397298818,
         "threshold": 0.03858062488118876,
         "true positive rate": 0.9400544959128065
        },
        {
         "_deepnote_index_column": 533,
         "false positive rate": 0.7422622397298818,
         "threshold": 0.038479643569790806,
         "true positive rate": 0.9427792915531336
        },
        {
         "_deepnote_index_column": 534,
         "false positive rate": 0.7445132245357344,
         "threshold": 0.03813866993714336,
         "true positive rate": 0.9427792915531336
        },
        {
         "_deepnote_index_column": 535,
         "false positive rate": 0.7450759707371976,
         "threshold": 0.0381350914972162,
         "true positive rate": 0.9427792915531336
        },
        {
         "_deepnote_index_column": 536,
         "false positive rate": 0.7532357906584131,
         "threshold": 0.03682216302884961,
         "true positive rate": 0.9427792915531336
        },
        {
         "_deepnote_index_column": 537,
         "false positive rate": 0.7532357906584131,
         "threshold": 0.03681039666620218,
         "true positive rate": 0.9455040871934605
        },
        {
         "_deepnote_index_column": 538,
         "false positive rate": 0.7602701181767023,
         "threshold": 0.03578234153249029,
         "true positive rate": 0.9455040871934605
        },
        {
         "_deepnote_index_column": 539,
         "false positive rate": 0.7608328643781654,
         "threshold": 0.035709612478818424,
         "true positive rate": 0.9455040871934605
        },
        {
         "_deepnote_index_column": 540,
         "false positive rate": 0.7777152504220597,
         "threshold": 0.03324752386708839,
         "true positive rate": 0.9455040871934605
        },
        {
         "_deepnote_index_column": 541,
         "false positive rate": 0.7777152504220597,
         "threshold": 0.0332102753461557,
         "true positive rate": 0.9482288828337875
        },
        {
         "_deepnote_index_column": 542,
         "false positive rate": 0.7779966235227912,
         "threshold": 0.033205623538717824,
         "true positive rate": 0.9482288828337875
        },
        {
         "_deepnote_index_column": 543,
         "false positive rate": 0.7779966235227912,
         "threshold": 0.03318918213015731,
         "true positive rate": 0.9509536784741145
        },
        {
         "_deepnote_index_column": 544,
         "false positive rate": 0.7867191896454699,
         "threshold": 0.03202219112268659,
         "true positive rate": 0.9509536784741145
        },
        {
         "_deepnote_index_column": 545,
         "false positive rate": 0.7867191896454699,
         "threshold": 0.03200780584697858,
         "true positive rate": 0.9536784741144414
        },
        {
         "_deepnote_index_column": 546,
         "false positive rate": 0.7920652785593697,
         "threshold": 0.031080544117276974,
         "true positive rate": 0.9536784741144414
        },
        {
         "_deepnote_index_column": 547,
         "false positive rate": 0.7920652785593697,
         "threshold": 0.03107938653693247,
         "true positive rate": 0.9564032697547684
        },
        {
         "_deepnote_index_column": 548,
         "false positive rate": 0.7929093978615644,
         "threshold": 0.030936941557228318,
         "true positive rate": 0.9564032697547684
        },
        {
         "_deepnote_index_column": 549,
         "false positive rate": 0.7929093978615644,
         "threshold": 0.030936454958538154,
         "true positive rate": 0.9591280653950953
        },
        {
         "_deepnote_index_column": 550,
         "false positive rate": 0.7962858750703433,
         "threshold": 0.030429931857431237,
         "true positive rate": 0.9591280653950953
        },
        {
         "_deepnote_index_column": 551,
         "false positive rate": 0.7962858750703433,
         "threshold": 0.030407628387826915,
         "true positive rate": 0.9618528610354223
        },
        {
         "_deepnote_index_column": 552,
         "false positive rate": 0.7976927405740011,
         "threshold": 0.030240256864118045,
         "true positive rate": 0.9618528610354223
        },
        {
         "_deepnote_index_column": 553,
         "false positive rate": 0.7976927405740011,
         "threshold": 0.03003557306137013,
         "true positive rate": 0.9645776566757494
        },
        {
         "_deepnote_index_column": 554,
         "false positive rate": 0.80106921778278,
         "threshold": 0.02921640057618667,
         "true positive rate": 0.9645776566757494
        },
        {
         "_deepnote_index_column": 555,
         "false positive rate": 0.80106921778278,
         "threshold": 0.02905959380129929,
         "true positive rate": 0.9673024523160763
        },
        {
         "_deepnote_index_column": 556,
         "false positive rate": 0.8117613956105796,
         "threshold": 0.02706967656886655,
         "true positive rate": 0.9673024523160763
        },
        {
         "_deepnote_index_column": 557,
         "false positive rate": 0.8117613956105796,
         "threshold": 0.02697248211403118,
         "true positive rate": 0.9700272479564033
        },
        {
         "_deepnote_index_column": 558,
         "false positive rate": 0.8123241418120428,
         "threshold": 0.02690616512687737,
         "true positive rate": 0.9700272479564033
        },
        {
         "_deepnote_index_column": 559,
         "false positive rate": 0.8123241418120428,
         "threshold": 0.026902145539463202,
         "true positive rate": 0.9727520435967303
        },
        {
         "_deepnote_index_column": 560,
         "false positive rate": 0.8224535734383793,
         "threshold": 0.02572417957182135,
         "true positive rate": 0.9727520435967303
        },
        {
         "_deepnote_index_column": 561,
         "false positive rate": 0.8230163196398425,
         "threshold": 0.025643298470708623,
         "true positive rate": 0.9727520435967303
        },
        {
         "_deepnote_index_column": 562,
         "false positive rate": 0.8525604952166573,
         "threshold": 0.0213429300159286,
         "true positive rate": 0.9727520435967303
        },
        {
         "_deepnote_index_column": 563,
         "false positive rate": 0.8525604952166573,
         "threshold": 0.0212561492412692,
         "true positive rate": 0.9754768392370572
        },
        {
         "_deepnote_index_column": 564,
         "false positive rate": 0.8576252110298256,
         "threshold": 0.019606911634858656,
         "true positive rate": 0.9754768392370572
        },
        {
         "_deepnote_index_column": 565,
         "false positive rate": 0.8576252110298256,
         "threshold": 0.019522733538320947,
         "true positive rate": 0.9782016348773842
        },
        {
         "_deepnote_index_column": 566,
         "false positive rate": 0.8624085537422622,
         "threshold": 0.01815114336879625,
         "true positive rate": 0.9782016348773842
        },
        {
         "_deepnote_index_column": 567,
         "false positive rate": 0.8624085537422622,
         "threshold": 0.018118862728037078,
         "true positive rate": 0.9836512261580381
        },
        {
         "_deepnote_index_column": 568,
         "false positive rate": 0.8809791783905458,
         "threshold": 0.011821022925301052,
         "true positive rate": 0.9836512261580381
        },
        {
         "_deepnote_index_column": 569,
         "false positive rate": 0.8809791783905458,
         "threshold": 0.011767532113146833,
         "true positive rate": 0.9863760217983651
        },
        {
         "_deepnote_index_column": 570,
         "false positive rate": 0.9032076533483399,
         "threshold": 0.009567252102247598,
         "true positive rate": 0.9863760217983651
        },
        {
         "_deepnote_index_column": 571,
         "false positive rate": 0.9037703995498031,
         "threshold": 0.009565640036933654,
         "true positive rate": 0.9863760217983651
        },
        {
         "_deepnote_index_column": 572,
         "false positive rate": 0.9563871693866066,
         "threshold": 0.007893912749174068,
         "true positive rate": 0.9863760217983651
        },
        {
         "_deepnote_index_column": 573,
         "false positive rate": 0.9563871693866066,
         "threshold": 0.007864723698067533,
         "true positive rate": 0.9918256130790191
        },
        {
         "_deepnote_index_column": 574,
         "false positive rate": 0.9577940348902645,
         "threshold": 0.007744159058761812,
         "true positive rate": 0.9918256130790191
        },
        {
         "_deepnote_index_column": 575,
         "false positive rate": 0.9577940348902645,
         "threshold": 0.007731822653980957,
         "true positive rate": 0.997275204359673
        },
        {
         "_deepnote_index_column": 576,
         "false positive rate": 0.9735509285312324,
         "threshold": 0.006153780704125825,
         "true positive rate": 0.997275204359673
        },
        {
         "_deepnote_index_column": 577,
         "false positive rate": 0.9735509285312324,
         "threshold": 0.006149691230041961,
         "true positive rate": 1
        },
        {
         "_deepnote_index_column": 578,
         "false positive rate": 1,
         "threshold": 2.2850312911469352e-05,
         "true positive rate": 1
        }
       ],
       "rows_top": [
        {
         "_deepnote_index_column": 0,
         "false positive rate": 0,
         "threshold": 1.380057654619431,
         "true positive rate": 0
        },
        {
         "_deepnote_index_column": 1,
         "false positive rate": 0,
         "threshold": 0.380057654619431,
         "true positive rate": 0.0027247956403269754
        },
        {
         "_deepnote_index_column": 2,
         "false positive rate": 0,
         "threshold": 0.3420322632470365,
         "true positive rate": 0.01634877384196185
        },
        {
         "_deepnote_index_column": 3,
         "false positive rate": 0.0008441193021947102,
         "threshold": 0.33246012961108273,
         "true positive rate": 0.01634877384196185
        },
        {
         "_deepnote_index_column": 4,
         "false positive rate": 0.0008441193021947102,
         "threshold": 0.33076161221236844,
         "true positive rate": 0.01907356948228883
        },
        {
         "_deepnote_index_column": 5,
         "false positive rate": 0.0014068655036578502,
         "threshold": 0.33048468124572616,
         "true positive rate": 0.01907356948228883
        },
        {
         "_deepnote_index_column": 6,
         "false positive rate": 0.0014068655036578502,
         "threshold": 0.3302163349136711,
         "true positive rate": 0.027247956403269755
        },
        {
         "_deepnote_index_column": 7,
         "false positive rate": 0.0014068655036578502,
         "threshold": 0.330155776681941,
         "true positive rate": 0.0326975476839237
        },
        {
         "_deepnote_index_column": 8,
         "false positive rate": 0.0016882386043894203,
         "threshold": 0.3293511171473364,
         "true positive rate": 0.0326975476839237
        },
        {
         "_deepnote_index_column": 9,
         "false positive rate": 0.0016882386043894203,
         "threshold": 0.32907973237923144,
         "true positive rate": 0.03814713896457766
        },
        {
         "_deepnote_index_column": 10,
         "false positive rate": 0.0028137310073157004,
         "threshold": 0.3285808116281309,
         "true positive rate": 0.03814713896457766
        },
        {
         "_deepnote_index_column": 11,
         "false positive rate": 0.0028137310073157004,
         "threshold": 0.32848654310020775,
         "true positive rate": 0.04087193460490463
        },
        {
         "_deepnote_index_column": 12,
         "false positive rate": 0.004220596510973551,
         "threshold": 0.32805655789335214,
         "true positive rate": 0.04087193460490463
        },
        {
         "_deepnote_index_column": 13,
         "false positive rate": 0.005346088913899831,
         "threshold": 0.3278949016977094,
         "true positive rate": 0.04087193460490463
        },
        {
         "_deepnote_index_column": 14,
         "false positive rate": 0.005627462014631401,
         "threshold": 0.3278194901094422,
         "true positive rate": 0.04087193460490463
        },
        {
         "_deepnote_index_column": 15,
         "false positive rate": 0.005627462014631401,
         "threshold": 0.3276755130992619,
         "true positive rate": 0.043596730245231606
        },
        {
         "_deepnote_index_column": 16,
         "false positive rate": 0.0061902082160945416,
         "threshold": 0.32755606539353077,
         "true positive rate": 0.043596730245231606
        },
        {
         "_deepnote_index_column": 17,
         "false positive rate": 0.0061902082160945416,
         "threshold": 0.3274224473322786,
         "true positive rate": 0.04904632152588556
        },
        {
         "_deepnote_index_column": 18,
         "false positive rate": 0.0061902082160945416,
         "threshold": 0.3273992740737659,
         "true positive rate": 0.05449591280653951
        },
        {
         "_deepnote_index_column": 19,
         "false positive rate": 0.0061902082160945416,
         "threshold": 0.3273862688762658,
         "true positive rate": 0.05722070844686648
        },
        {
         "_deepnote_index_column": 20,
         "false positive rate": 0.006471581316826111,
         "threshold": 0.327302806256072,
         "true positive rate": 0.05722070844686648
        },
        {
         "_deepnote_index_column": 21,
         "false positive rate": 0.006471581316826111,
         "threshold": 0.3272907488050462,
         "true positive rate": 0.05994550408719346
        },
        {
         "_deepnote_index_column": 22,
         "false positive rate": 0.007034327518289252,
         "threshold": 0.32726326151123525,
         "true positive rate": 0.05994550408719346
        },
        {
         "_deepnote_index_column": 23,
         "false positive rate": 0.007034327518289252,
         "threshold": 0.3272292785982863,
         "true positive rate": 0.06267029972752043
        },
        {
         "_deepnote_index_column": 24,
         "false positive rate": 0.010692177827799663,
         "threshold": 0.32646601107307344,
         "true positive rate": 0.06267029972752043
        },
        {
         "_deepnote_index_column": 25,
         "false positive rate": 0.010692177827799663,
         "threshold": 0.3263008176748773,
         "true positive rate": 0.0681198910081744
        },
        {
         "_deepnote_index_column": 26,
         "false positive rate": 0.011254924029262802,
         "threshold": 0.32610922845710216,
         "true positive rate": 0.0681198910081744
        },
        {
         "_deepnote_index_column": 27,
         "false positive rate": 0.011254924029262802,
         "threshold": 0.3260851590944199,
         "true positive rate": 0.07084468664850137
        },
        {
         "_deepnote_index_column": 28,
         "false positive rate": 0.011536297129994372,
         "threshold": 0.3259756742805994,
         "true positive rate": 0.07084468664850137
        },
        {
         "_deepnote_index_column": 29,
         "false positive rate": 0.011536297129994372,
         "threshold": 0.32594076217738666,
         "true positive rate": 0.07356948228882834
        },
        {
         "_deepnote_index_column": 30,
         "false positive rate": 0.012661789532920653,
         "threshold": 0.3258445159147325,
         "true positive rate": 0.07356948228882834
        },
        {
         "_deepnote_index_column": 31,
         "false positive rate": 0.012661789532920653,
         "threshold": 0.32580742944923763,
         "true positive rate": 0.07629427792915532
        },
        {
         "_deepnote_index_column": 32,
         "false positive rate": 0.019133370849746763,
         "threshold": 0.3242084592903751,
         "true positive rate": 0.07629427792915532
        },
        {
         "_deepnote_index_column": 33,
         "false positive rate": 0.019133370849746763,
         "threshold": 0.32419261068544386,
         "true positive rate": 0.07901907356948229
        },
        {
         "_deepnote_index_column": 34,
         "false positive rate": 0.020258863252673044,
         "threshold": 0.32404063388639537,
         "true positive rate": 0.07901907356948229
        },
        {
         "_deepnote_index_column": 35,
         "false positive rate": 0.020821609454136185,
         "threshold": 0.3240286387235793,
         "true positive rate": 0.07901907356948229
        },
        {
         "_deepnote_index_column": 36,
         "false positive rate": 0.020821609454136185,
         "threshold": 0.3240036540582862,
         "true positive rate": 0.08174386920980926
        },
        {
         "_deepnote_index_column": 37,
         "false positive rate": 0.020821609454136185,
         "threshold": 0.3239426891846988,
         "true positive rate": 0.08719346049046321
        },
        {
         "_deepnote_index_column": 38,
         "false positive rate": 0.021947101857062466,
         "threshold": 0.3234007316472714,
         "true positive rate": 0.08719346049046321
        },
        {
         "_deepnote_index_column": 39,
         "false positive rate": 0.021947101857062466,
         "threshold": 0.3232484557309588,
         "true positive rate": 0.08991825613079019
        },
        {
         "_deepnote_index_column": 40,
         "false positive rate": 0.022228474957794037,
         "threshold": 0.3231722351719511,
         "true positive rate": 0.08991825613079019
        },
        {
         "_deepnote_index_column": 41,
         "false positive rate": 0.023072594259988744,
         "threshold": 0.32308975492281866,
         "true positive rate": 0.08991825613079019
        },
        {
         "_deepnote_index_column": 42,
         "false positive rate": 0.023635340461451885,
         "threshold": 0.322983958984296,
         "true positive rate": 0.08991825613079019
        },
        {
         "_deepnote_index_column": 43,
         "false positive rate": 0.023635340461451885,
         "threshold": 0.32291093581583014,
         "true positive rate": 0.09264305177111716
        },
        {
         "_deepnote_index_column": 44,
         "false positive rate": 0.024760832864378166,
         "threshold": 0.3226507939346735,
         "true positive rate": 0.09264305177111716
        },
        {
         "_deepnote_index_column": 45,
         "false positive rate": 0.024760832864378166,
         "threshold": 0.32244433332253125,
         "true positive rate": 0.09536784741144415
        },
        {
         "_deepnote_index_column": 46,
         "false positive rate": 0.025042205965109737,
         "threshold": 0.3219031972503715,
         "true positive rate": 0.09536784741144415
        },
        {
         "_deepnote_index_column": 47,
         "false positive rate": 0.025042205965109737,
         "threshold": 0.32172589869404294,
         "true positive rate": 0.1008174386920981
        },
        {
         "_deepnote_index_column": 48,
         "false positive rate": 0.025886325267304444,
         "threshold": 0.3209932691954776,
         "true positive rate": 0.1008174386920981
        },
        {
         "_deepnote_index_column": 49,
         "false positive rate": 0.025886325267304444,
         "threshold": 0.3208879647591557,
         "true positive rate": 0.10354223433242507
        },
        {
         "_deepnote_index_column": 50,
         "false positive rate": 0.027011817670230726,
         "threshold": 0.32079159576061245,
         "true positive rate": 0.10354223433242507
        },
        {
         "_deepnote_index_column": 51,
         "false positive rate": 0.027011817670230726,
         "threshold": 0.32053802021663935,
         "true positive rate": 0.10899182561307902
        },
        {
         "_deepnote_index_column": 52,
         "false positive rate": 0.028137310073157007,
         "threshold": 0.32027065922098463,
         "true positive rate": 0.10899182561307902
        },
        {
         "_deepnote_index_column": 53,
         "false positive rate": 0.028137310073157007,
         "threshold": 0.3200283374628879,
         "true positive rate": 0.11716621253405994
        },
        {
         "_deepnote_index_column": 54,
         "false positive rate": 0.028981429375351718,
         "threshold": 0.31970765028899684,
         "true positive rate": 0.11716621253405994
        },
        {
         "_deepnote_index_column": 55,
         "false positive rate": 0.030106921778277996,
         "threshold": 0.3193718988785543,
         "true positive rate": 0.11989100817438691
        },
        {
         "_deepnote_index_column": 56,
         "false positive rate": 0.030669667979741137,
         "threshold": 0.319302821014742,
         "true positive rate": 0.11989100817438691
        },
        {
         "_deepnote_index_column": 57,
         "false positive rate": 0.030669667979741137,
         "threshold": 0.31925427835764986,
         "true positive rate": 0.12534059945504086
        },
        {
         "_deepnote_index_column": 58,
         "false positive rate": 0.03629712999437254,
         "threshold": 0.3165793600643917,
         "true positive rate": 0.12534059945504086
        },
        {
         "_deepnote_index_column": 59,
         "false positive rate": 0.03629712999437254,
         "threshold": 0.3165566465434331,
         "true positive rate": 0.12806539509536785
        },
        {
         "_deepnote_index_column": 60,
         "false positive rate": 0.03657850309510411,
         "threshold": 0.3162002026821356,
         "true positive rate": 0.12806539509536785
        },
        {
         "_deepnote_index_column": 61,
         "false positive rate": 0.03657850309510411,
         "threshold": 0.31605433137937416,
         "true positive rate": 0.1307901907356948
        },
        {
         "_deepnote_index_column": 62,
         "false positive rate": 0.03714124929656725,
         "threshold": 0.31583834331576094,
         "true positive rate": 0.1307901907356948
        },
        {
         "_deepnote_index_column": 63,
         "false positive rate": 0.03714124929656725,
         "threshold": 0.3155977422015201,
         "true positive rate": 0.1335149863760218
        },
        {
         "_deepnote_index_column": 64,
         "false positive rate": 0.037985368598761955,
         "threshold": 0.3154822814965045,
         "true positive rate": 0.1335149863760218
        },
        {
         "_deepnote_index_column": 65,
         "false positive rate": 0.03995498030388295,
         "threshold": 0.3141043369947317,
         "true positive rate": 0.1335149863760218
        },
        {
         "_deepnote_index_column": 66,
         "false positive rate": 0.03995498030388295,
         "threshold": 0.31402566872771537,
         "true positive rate": 0.1362397820163488
        },
        {
         "_deepnote_index_column": 67,
         "false positive rate": 0.04051772650534609,
         "threshold": 0.31297095398760355,
         "true positive rate": 0.1362397820163488
        },
        {
         "_deepnote_index_column": 68,
         "false positive rate": 0.04108047270680923,
         "threshold": 0.3128334686517214,
         "true positive rate": 0.1553133514986376
        },
        {
         "_deepnote_index_column": 69,
         "false positive rate": 0.04220596510973551,
         "threshold": 0.31241164144667877,
         "true positive rate": 0.1553133514986376
        },
        {
         "_deepnote_index_column": 70,
         "false positive rate": 0.04220596510973551,
         "threshold": 0.31195912419503086,
         "true positive rate": 0.16076294277929154
        },
        {
         "_deepnote_index_column": 71,
         "false positive rate": 0.04276871131119865,
         "threshold": 0.31179745709236334,
         "true positive rate": 0.16076294277929154
        },
        {
         "_deepnote_index_column": 72,
         "false positive rate": 0.04305008441193022,
         "threshold": 0.3115593784959645,
         "true positive rate": 0.16893732970027248
        },
        {
         "_deepnote_index_column": 73,
         "false positive rate": 0.04361283061339336,
         "threshold": 0.31152334803226117,
         "true positive rate": 0.16893732970027248
        },
        {
         "_deepnote_index_column": 74,
         "false positive rate": 0.0441755768148565,
         "threshold": 0.3114998575940962,
         "true positive rate": 0.16893732970027248
        },
        {
         "_deepnote_index_column": 75,
         "false positive rate": 0.04558244231851435,
         "threshold": 0.3113237102302206,
         "true positive rate": 0.16893732970027248
        },
        {
         "_deepnote_index_column": 76,
         "false positive rate": 0.04614518851997749,
         "threshold": 0.31131196901334,
         "true positive rate": 0.16893732970027248
        },
        {
         "_deepnote_index_column": 77,
         "false positive rate": 0.04642656162070906,
         "threshold": 0.3113109950088382,
         "true positive rate": 0.16893732970027248
        },
        {
         "_deepnote_index_column": 78,
         "false positive rate": 0.0469893078221722,
         "threshold": 0.31130199465427166,
         "true positive rate": 0.17166212534059946
        },
        {
         "_deepnote_index_column": 79,
         "false positive rate": 0.04783342712436691,
         "threshold": 0.3113002280391055,
         "true positive rate": 0.17166212534059946
        },
        {
         "_deepnote_index_column": 80,
         "false positive rate": 0.04952166572875633,
         "threshold": 0.3107946227150964,
         "true positive rate": 0.17166212534059946
        },
        {
         "_deepnote_index_column": 81,
         "false positive rate": 0.05008441193021947,
         "threshold": 0.3107594326413791,
         "true positive rate": 0.17166212534059946
        },
        {
         "_deepnote_index_column": 82,
         "false positive rate": 0.051209904333145755,
         "threshold": 0.31072211759358204,
         "true positive rate": 0.17166212534059946
        },
        {
         "_deepnote_index_column": 83,
         "false positive rate": 0.05177265053460889,
         "threshold": 0.31069197787290787,
         "true positive rate": 0.1989100817438692
        },
        {
         "_deepnote_index_column": 84,
         "false positive rate": 0.05233539673607203,
         "threshold": 0.31065387554976714,
         "true positive rate": 0.1989100817438692
        },
        {
         "_deepnote_index_column": 85,
         "false positive rate": 0.05374226223972988,
         "threshold": 0.3104241090254632,
         "true positive rate": 0.1989100817438692
        },
        {
         "_deepnote_index_column": 86,
         "false positive rate": 0.05374226223972988,
         "threshold": 0.3104084436724703,
         "true positive rate": 0.2016348773841962
        },
        {
         "_deepnote_index_column": 87,
         "false positive rate": 0.05571187394485087,
         "threshold": 0.30934688526699855,
         "true positive rate": 0.2016348773841962
        },
        {
         "_deepnote_index_column": 88,
         "false positive rate": 0.056274620146314014,
         "threshold": 0.30910991240445546,
         "true positive rate": 0.2098092643051771
        },
        {
         "_deepnote_index_column": 89,
         "false positive rate": 0.056274620146314014,
         "threshold": 0.309084581919008,
         "true positive rate": 0.2125340599455041
        },
        {
         "_deepnote_index_column": 90,
         "false positive rate": 0.056555993247045584,
         "threshold": 0.3086205551923405,
         "true positive rate": 0.2125340599455041
        },
        {
         "_deepnote_index_column": 91,
         "false positive rate": 0.056837366347777155,
         "threshold": 0.3086030014638843,
         "true positive rate": 0.21798365122615804
        },
        {
         "_deepnote_index_column": 92,
         "false positive rate": 0.05880697805289814,
         "threshold": 0.3077821613579537,
         "true positive rate": 0.21798365122615804
        },
        {
         "_deepnote_index_column": 93,
         "false positive rate": 0.05965109735509285,
         "threshold": 0.30727875355088147,
         "true positive rate": 0.21798365122615804
        },
        {
         "_deepnote_index_column": 94,
         "false positive rate": 0.05993247045582442,
         "threshold": 0.3069689405939378,
         "true positive rate": 0.21798365122615804
        },
        {
         "_deepnote_index_column": 95,
         "false positive rate": 0.05993247045582442,
         "threshold": 0.30652055205706163,
         "true positive rate": 0.22343324250681199
        },
        {
         "_deepnote_index_column": 96,
         "false positive rate": 0.06021384355655599,
         "threshold": 0.3062653598877723,
         "true positive rate": 0.22343324250681199
        },
        {
         "_deepnote_index_column": 97,
         "false positive rate": 0.06077658975801913,
         "threshold": 0.30614028040939084,
         "true positive rate": 0.22343324250681199
        },
        {
         "_deepnote_index_column": 98,
         "false positive rate": 0.061620709060213844,
         "threshold": 0.3057586424306559,
         "true positive rate": 0.22343324250681199
        },
        {
         "_deepnote_index_column": 99,
         "false positive rate": 0.062183455261676984,
         "threshold": 0.30528693077268154,
         "true positive rate": 0.22343324250681199
        },
        {
         "_deepnote_index_column": 100,
         "false positive rate": 0.06499718626899269,
         "threshold": 0.2995320424577427,
         "true positive rate": 0.22343324250681199
        },
        {
         "_deepnote_index_column": 101,
         "false positive rate": 0.06499718626899269,
         "threshold": 0.297970782480802,
         "true positive rate": 0.22615803814713897
        },
        {
         "_deepnote_index_column": 102,
         "false positive rate": 0.06584130557118739,
         "threshold": 0.29589011557206085,
         "true positive rate": 0.22615803814713897
        },
        {
         "_deepnote_index_column": 103,
         "false positive rate": 0.06584130557118739,
         "threshold": 0.28344782932946033,
         "true positive rate": 0.23433242506811988
        },
        {
         "_deepnote_index_column": 104,
         "false positive rate": 0.06612267867191897,
         "threshold": 0.2747470633111522,
         "true positive rate": 0.23433242506811988
        },
        {
         "_deepnote_index_column": 105,
         "false positive rate": 0.06612267867191897,
         "threshold": 0.26585964275816065,
         "true positive rate": 0.2452316076294278
        },
        {
         "_deepnote_index_column": 106,
         "false positive rate": 0.06612267867191897,
         "threshold": 0.2655953362285895,
         "true positive rate": 0.2506811989100817
        },
        {
         "_deepnote_index_column": 107,
         "false positive rate": 0.06612267867191897,
         "threshold": 0.26461111597497433,
         "true positive rate": 0.2670299727520436
        },
        {
         "_deepnote_index_column": 108,
         "false positive rate": 0.06640405177265053,
         "threshold": 0.26447040391345716,
         "true positive rate": 0.2670299727520436
        },
        {
         "_deepnote_index_column": 109,
         "false positive rate": 0.06640405177265053,
         "threshold": 0.26446283533257664,
         "true positive rate": 0.26975476839237056
        },
        {
         "_deepnote_index_column": 110,
         "false positive rate": 0.06696679797411367,
         "threshold": 0.26171798792324247,
         "true positive rate": 0.26975476839237056
        },
        {
         "_deepnote_index_column": 111,
         "false positive rate": 0.06696679797411367,
         "threshold": 0.25662748831800125,
         "true positive rate": 0.2997275204359673
        },
        {
         "_deepnote_index_column": 112,
         "false positive rate": 0.06752954417557681,
         "threshold": 0.2399053061712449,
         "true positive rate": 0.2997275204359673
        },
        {
         "_deepnote_index_column": 113,
         "false positive rate": 0.06752954417557681,
         "threshold": 0.23320965864028326,
         "true positive rate": 0.3024523160762943
        },
        {
         "_deepnote_index_column": 114,
         "false positive rate": 0.06837366347777153,
         "threshold": 0.22360449189339443,
         "true positive rate": 0.3024523160762943
        },
        {
         "_deepnote_index_column": 115,
         "false positive rate": 0.06837366347777153,
         "threshold": 0.221532411817429,
         "true positive rate": 0.3079019073569482
        },
        {
         "_deepnote_index_column": 116,
         "false positive rate": 0.0686550365785031,
         "threshold": 0.22075507604400757,
         "true positive rate": 0.3079019073569482
        },
        {
         "_deepnote_index_column": 117,
         "false positive rate": 0.0686550365785031,
         "threshold": 0.21890637888330294,
         "true positive rate": 0.3106267029972752
        },
        {
         "_deepnote_index_column": 118,
         "false positive rate": 0.06893640967923466,
         "threshold": 0.21781246264621343,
         "true positive rate": 0.3106267029972752
        },
        {
         "_deepnote_index_column": 119,
         "false positive rate": 0.0694991558806978,
         "threshold": 0.2171417393846986,
         "true positive rate": 0.3106267029972752
        },
        {
         "_deepnote_index_column": 120,
         "false positive rate": 0.06978052898142938,
         "threshold": 0.21701139551120965,
         "true positive rate": 0.3106267029972752
        },
        {
         "_deepnote_index_column": 121,
         "false positive rate": 0.06978052898142938,
         "threshold": 0.2161057957277475,
         "true positive rate": 0.3188010899182561
        },
        {
         "_deepnote_index_column": 122,
         "false positive rate": 0.0714687675858188,
         "threshold": 0.21268893100191208,
         "true positive rate": 0.3188010899182561
        },
        {
         "_deepnote_index_column": 123,
         "false positive rate": 0.0714687675858188,
         "threshold": 0.21265760875662257,
         "true positive rate": 0.3215258855585831
        },
        {
         "_deepnote_index_column": 124,
         "false positive rate": 0.07175014068655036,
         "threshold": 0.2124506018533054,
         "true positive rate": 0.3215258855585831
        },
        {
         "_deepnote_index_column": 125,
         "false positive rate": 0.07175014068655036,
         "threshold": 0.2124093516910193,
         "true positive rate": 0.32697547683923706
        },
        {
         "_deepnote_index_column": 126,
         "false positive rate": 0.0723128868880135,
         "threshold": 0.2116728102282069,
         "true positive rate": 0.32697547683923706
        },
        {
         "_deepnote_index_column": 127,
         "false positive rate": 0.0723128868880135,
         "threshold": 0.21154110522520794,
         "true positive rate": 0.33242506811989103
        },
        {
         "_deepnote_index_column": 128,
         "false positive rate": 0.07343837929093978,
         "threshold": 0.21123908127167135,
         "true positive rate": 0.33242506811989103
        },
        {
         "_deepnote_index_column": 129,
         "false positive rate": 0.07343837929093978,
         "threshold": 0.21122841128171094,
         "true positive rate": 0.335149863760218
        },
        {
         "_deepnote_index_column": 130,
         "false positive rate": 0.07568936409679235,
         "threshold": 0.21061017650982863,
         "true positive rate": 0.335149863760218
        },
        {
         "_deepnote_index_column": 131,
         "false positive rate": 0.07568936409679235,
         "threshold": 0.21009078846940474,
         "true positive rate": 0.3460490463215259
        },
        {
         "_deepnote_index_column": 132,
         "false positive rate": 0.07653348339898705,
         "threshold": 0.209574126617671,
         "true positive rate": 0.3460490463215259
        },
        {
         "_deepnote_index_column": 133,
         "false positive rate": 0.07653348339898705,
         "threshold": 0.20953633716576944,
         "true positive rate": 0.35149863760217986
        },
        {
         "_deepnote_index_column": 134,
         "false positive rate": 0.07737760270118177,
         "threshold": 0.20900092848931603,
         "true positive rate": 0.35149863760217986
        },
        {
         "_deepnote_index_column": 135,
         "false positive rate": 0.07737760270118177,
         "threshold": 0.2086495633277689,
         "true positive rate": 0.35967302452316074
        },
        {
         "_deepnote_index_column": 136,
         "false positive rate": 0.07822172200337647,
         "threshold": 0.20835586293055952,
         "true positive rate": 0.35967302452316074
        },
        {
         "_deepnote_index_column": 137,
         "false positive rate": 0.07822172200337647,
         "threshold": 0.20834679873484863,
         "true positive rate": 0.3651226158038147
        },
        {
         "_deepnote_index_column": 138,
         "false positive rate": 0.07934721440630275,
         "threshold": 0.2079865059307798,
         "true positive rate": 0.3651226158038147
        },
        {
         "_deepnote_index_column": 139,
         "false positive rate": 0.07934721440630275,
         "threshold": 0.20784142637091418,
         "true positive rate": 0.3678474114441417
        },
        {
         "_deepnote_index_column": 140,
         "false positive rate": 0.08075407990996061,
         "threshold": 0.20719526148773254,
         "true positive rate": 0.3678474114441417
        },
        {
         "_deepnote_index_column": 141,
         "false positive rate": 0.08159819921215532,
         "threshold": 0.20702738724271907,
         "true positive rate": 0.3678474114441417
        },
        {
         "_deepnote_index_column": 142,
         "false positive rate": 0.0818795723128869,
         "threshold": 0.20696617479606239,
         "true positive rate": 0.3678474114441417
        },
        {
         "_deepnote_index_column": 143,
         "false positive rate": 0.0818795723128869,
         "threshold": 0.20680945711101398,
         "true positive rate": 0.37057220708446864
        },
        {
         "_deepnote_index_column": 144,
         "false positive rate": 0.08216094541361846,
         "threshold": 0.20673536445389196,
         "true positive rate": 0.37057220708446864
        },
        {
         "_deepnote_index_column": 145,
         "false positive rate": 0.08216094541361846,
         "threshold": 0.20662984785896574,
         "true positive rate": 0.3814713896457766
        },
        {
         "_deepnote_index_column": 146,
         "false positive rate": 0.08216094541361846,
         "threshold": 0.2065647781353552,
         "true positive rate": 0.3869209809264305
        },
        {
         "_deepnote_index_column": 147,
         "false positive rate": 0.08300506471581316,
         "threshold": 0.20640326610242057,
         "true positive rate": 0.3869209809264305
        },
        {
         "_deepnote_index_column": 148,
         "false positive rate": 0.08300506471581316,
         "threshold": 0.20624259124736805,
         "true positive rate": 0.3896457765667575
        },
        {
         "_deepnote_index_column": 149,
         "false positive rate": 0.086381541924592,
         "threshold": 0.20550693708298928,
         "true positive rate": 0.3896457765667575
        },
        {
         "_deepnote_index_column": 150,
         "false positive rate": 0.086381541924592,
         "threshold": 0.20544361257056407,
         "true positive rate": 0.39509536784741145
        },
        {
         "_deepnote_index_column": 151,
         "false positive rate": 0.088351153629713,
         "threshold": 0.20495806942362077,
         "true positive rate": 0.39509536784741145
        },
        {
         "_deepnote_index_column": 152,
         "false positive rate": 0.088351153629713,
         "threshold": 0.20488918489244043,
         "true positive rate": 0.40054495912806537
        },
        {
         "_deepnote_index_column": 153,
         "false positive rate": 0.08863252673044457,
         "threshold": 0.20486242174648037,
         "true positive rate": 0.40054495912806537
        },
        {
         "_deepnote_index_column": 154,
         "false positive rate": 0.08863252673044457,
         "threshold": 0.20479262628427983,
         "true positive rate": 0.4032697547683924
        },
        {
         "_deepnote_index_column": 155,
         "false positive rate": 0.08947664603263927,
         "threshold": 0.2046403658743504,
         "true positive rate": 0.4032697547683924
        },
        {
         "_deepnote_index_column": 156,
         "false positive rate": 0.08947664603263927,
         "threshold": 0.204621670217898,
         "true positive rate": 0.4087193460490463
        },
        {
         "_deepnote_index_column": 157,
         "false positive rate": 0.09172763083849184,
         "threshold": 0.2040874193866586,
         "true positive rate": 0.4087193460490463
        },
        {
         "_deepnote_index_column": 158,
         "false positive rate": 0.09172763083849184,
         "threshold": 0.2040000342425752,
         "true positive rate": 0.4114441416893733
        },
        {
         "_deepnote_index_column": 159,
         "false positive rate": 0.09200900393922341,
         "threshold": 0.20386589870377195,
         "true positive rate": 0.4114441416893733
        },
        {
         "_deepnote_index_column": 160,
         "false positive rate": 0.09200900393922341,
         "threshold": 0.2035291261333759,
         "true positive rate": 0.41689373297002724
        },
        {
         "_deepnote_index_column": 161,
         "false positive rate": 0.09229037703995498,
         "threshold": 0.2034824534965373,
         "true positive rate": 0.41689373297002724
        },
        {
         "_deepnote_index_column": 162,
         "false positive rate": 0.09229037703995498,
         "threshold": 0.20333526754334236,
         "true positive rate": 0.4223433242506812
        },
        {
         "_deepnote_index_column": 163,
         "false positive rate": 0.09285312324141812,
         "threshold": 0.203135041699318,
         "true positive rate": 0.4223433242506812
        },
        {
         "_deepnote_index_column": 164,
         "false positive rate": 0.09285312324141812,
         "threshold": 0.20312244361866622,
         "true positive rate": 0.4250681198910082
        },
        {
         "_deepnote_index_column": 165,
         "false positive rate": 0.09538548114800226,
         "threshold": 0.20250564683538586,
         "true positive rate": 0.4250681198910082
        }
       ]
      },
      "text/html": [
       "<div>\n",
       "<style scoped>\n",
       "    .dataframe tbody tr th:only-of-type {\n",
       "        vertical-align: middle;\n",
       "    }\n",
       "\n",
       "    .dataframe tbody tr th {\n",
       "        vertical-align: top;\n",
       "    }\n",
       "\n",
       "    .dataframe thead th {\n",
       "        text-align: right;\n",
       "    }\n",
       "</style>\n",
       "<table border=\"1\" class=\"dataframe\">\n",
       "  <thead>\n",
       "    <tr style=\"text-align: right;\">\n",
       "      <th></th>\n",
       "      <th>false positive rate</th>\n",
       "      <th>true positive rate</th>\n",
       "      <th>threshold</th>\n",
       "    </tr>\n",
       "  </thead>\n",
       "  <tbody>\n",
       "    <tr>\n",
       "      <th>0</th>\n",
       "      <td>0.000000</td>\n",
       "      <td>0.000000</td>\n",
       "      <td>1.380058</td>\n",
       "    </tr>\n",
       "    <tr>\n",
       "      <th>1</th>\n",
       "      <td>0.000000</td>\n",
       "      <td>0.002725</td>\n",
       "      <td>0.380058</td>\n",
       "    </tr>\n",
       "    <tr>\n",
       "      <th>2</th>\n",
       "      <td>0.000000</td>\n",
       "      <td>0.016349</td>\n",
       "      <td>0.342032</td>\n",
       "    </tr>\n",
       "    <tr>\n",
       "      <th>3</th>\n",
       "      <td>0.000844</td>\n",
       "      <td>0.016349</td>\n",
       "      <td>0.332460</td>\n",
       "    </tr>\n",
       "    <tr>\n",
       "      <th>4</th>\n",
       "      <td>0.000844</td>\n",
       "      <td>0.019074</td>\n",
       "      <td>0.330762</td>\n",
       "    </tr>\n",
       "    <tr>\n",
       "      <th>...</th>\n",
       "      <td>...</td>\n",
       "      <td>...</td>\n",
       "      <td>...</td>\n",
       "    </tr>\n",
       "    <tr>\n",
       "      <th>574</th>\n",
       "      <td>0.957794</td>\n",
       "      <td>0.991826</td>\n",
       "      <td>0.007744</td>\n",
       "    </tr>\n",
       "    <tr>\n",
       "      <th>575</th>\n",
       "      <td>0.957794</td>\n",
       "      <td>0.997275</td>\n",
       "      <td>0.007732</td>\n",
       "    </tr>\n",
       "    <tr>\n",
       "      <th>576</th>\n",
       "      <td>0.973551</td>\n",
       "      <td>0.997275</td>\n",
       "      <td>0.006154</td>\n",
       "    </tr>\n",
       "    <tr>\n",
       "      <th>577</th>\n",
       "      <td>0.973551</td>\n",
       "      <td>1.000000</td>\n",
       "      <td>0.006150</td>\n",
       "    </tr>\n",
       "    <tr>\n",
       "      <th>578</th>\n",
       "      <td>1.000000</td>\n",
       "      <td>1.000000</td>\n",
       "      <td>0.000023</td>\n",
       "    </tr>\n",
       "  </tbody>\n",
       "</table>\n",
       "<p>579 rows × 3 columns</p>\n",
       "</div>"
      ],
      "text/plain": [
       "     false positive rate  true positive rate  threshold\n",
       "0               0.000000            0.000000   1.380058\n",
       "1               0.000000            0.002725   0.380058\n",
       "2               0.000000            0.016349   0.342032\n",
       "3               0.000844            0.016349   0.332460\n",
       "4               0.000844            0.019074   0.330762\n",
       "..                   ...                 ...        ...\n",
       "574             0.957794            0.991826   0.007744\n",
       "575             0.957794            0.997275   0.007732\n",
       "576             0.973551            0.997275   0.006154\n",
       "577             0.973551            1.000000   0.006150\n",
       "578             1.000000            1.000000   0.000023\n",
       "\n",
       "[579 rows x 3 columns]"
      ]
     },
     "execution_count": 35,
     "metadata": {},
     "output_type": "execute_result"
    }
   ],
   "source": [
    "roc_calc = roc_curve(y_true=y, y_score=probs)\n",
    "\n",
    "roc = pd.DataFrame(\n",
    "    data = np.c_[roc_calc],\n",
    "    columns = ('false positive rate', 'true positive rate', 'threshold')\n",
    ")\n",
    "\n",
    "roc"
   ]
  },
  {
   "cell_type": "markdown",
   "metadata": {
    "cell_id": "00080-0d15ea64-2d38-482e-8ac5-52962e1b90ee",
    "deepnote_cell_type": "markdown"
   },
   "source": [
    "Using this data frame, the function below creates the ROC curve (blue) via a seaborn lineplot, while the remaining code draws the point on the ROC curve that corresponds to the given threshold value (red), and finally the 0-1 line (grey, dashed). The 0-1 line is the ROC curve expected for a model that determines labels by chance (e.g. flipping a coin with `heads` is spam, `tails` is not spam as a model). "
   ]
  },
  {
   "cell_type": "code",
   "execution_count": null,
   "metadata": {
    "cell_id": "00081-3a06387c-cd74-4a50-bf3c-9364cba0cb10",
    "deepnote_cell_type": "code",
    "deepnote_to_be_reexecuted": false,
    "execution_millis": 2,
    "execution_start": 1614161685931,
    "output_cleared": true,
    "source_hash": "796c62a0"
   },
   "outputs": [],
   "source": [
    "def roc_plot(threshold=0.5):\n",
    "    i = (np.abs(roc.threshold - threshold)).idxmin()\n",
    "\n",
    "    sns.lineplot(x='false positive rate', y='true positive rate', data=roc, ci=None)\n",
    "\n",
    "    plt.plot([0,1],[0,1], 'k--', alpha=0.5) # 0-1 line \n",
    "    plt.plot(roc.iloc[i,0], roc.iloc[i,1], 'r.')\n",
    "\n",
    "    plt.title(\"threshold = %.2f\" % threshold)\n",
    "    plt.show()"
   ]
  },
  {
   "cell_type": "code",
   "execution_count": null,
   "metadata": {
    "cell_id": "00082-73446663-148c-41d3-925c-a33ce5e6acca",
    "deepnote_cell_type": "code",
    "deepnote_to_be_reexecuted": false,
    "execution_millis": 219,
    "execution_start": 1614161686487,
    "output_cleared": false,
    "source_hash": "68e60215"
   },
   "outputs": [
    {
     "data": {
      "image/png": "[encoded data removed]",
      "text/plain": [
       "<Figure size 800x480 with 1 Axes>"
      ]
     },
     "metadata": {
      "needs_background": "light"
     },
     "output_type": "display_data"
    }
   ],
   "source": [
    "roc_plot(threshold=0.5)"
   ]
  },
  {
   "cell_type": "markdown",
   "metadata": {
    "cell_id": "00083-00adf5bd-ba39-4331-80c7-616f79f4b59d",
    "deepnote_cell_type": "markdown"
   },
   "source": [
    "---\n",
    "\n",
    "### &diams; Exercise 12\n",
    "\n",
    "Try adjusting the threshold value in `roc_plot`, what happens to the red point as this value is changed?"
   ]
  },
  {
   "cell_type": "markdown",
   "metadata": {
    "cell_id": "00084-ffb2cfa9-46ab-461d-9548-f029e7b858dc",
    "deepnote_cell_type": "markdown"
   },
   "source": [
    "*As we decrease the threshold, the red dot moves up and to the right - this makes sense as increasing this threshold will increase both the TPR and the FPR.*"
   ]
  },
  {
   "cell_type": "markdown",
   "metadata": {
    "cell_id": "00085-8d21a8e8-be12-4ad7-8d6f-3a860393dbc6",
    "deepnote_cell_type": "markdown"
   },
   "source": [
    "---\n",
    "\n",
    "### 3.3.3 Area under the curve (AUC)\n",
    "\n",
    "Finally, a common summary statistic that is used to summarize the performance of a binary classifier over all the possible thresholds is the area under the curve (AUC), which as the name implies, is the area under the ROC curve. This can be calculated from the prediction results using the `roc_auc_score` function  from the `sklearn.metrics` submodule."
   ]
  },
  {
   "cell_type": "code",
   "execution_count": null,
   "metadata": {
    "cell_id": "00086-1de56a88-5cf2-4118-9672-50cb504fc576",
    "deepnote_cell_type": "code",
    "deepnote_to_be_reexecuted": false,
    "execution_millis": 12,
    "execution_start": 1614161687437,
    "output_cleared": false,
    "source_hash": "5e810c6e"
   },
   "outputs": [
    {
     "data": {
      "text/plain": [
       "0.7606967779329888"
      ]
     },
     "execution_count": 38,
     "metadata": {},
     "output_type": "execute_result"
    }
   ],
   "source": [
    "sklearn.metrics.roc_auc_score(y_true=y, y_score=probs)"
   ]
  },
  {
   "cell_type": "markdown",
   "metadata": {
    "cell_id": "00087-dc2fd003-5670-4b5b-ad36-81c97123f7a7",
    "deepnote_cell_type": "markdown"
   },
   "source": [
    "Beyond giving a simple numeric summary statistic for a classifier, the AUC also has a useful alternative interpretation - the AUC also equals the probability that the classifier will rank a randomly chosen positive case (`spam` here) higher than a randomly chosen negative case (`not spam` here)."
   ]
  },
  {
   "cell_type": "markdown",
   "metadata": {
    "cell_id": "00088-b30a57d4-ad03-49a4-afbe-4a48a8db673f",
    "deepnote_cell_type": "markdown"
   },
   "source": [
    "---\n",
    "\n",
    "### &diams; Exercise 13\n",
    "\n",
    "Based on these and the preceeding results, how well does this classifier perform? Justify your answer."
   ]
  },
  {
   "cell_type": "markdown",
   "metadata": {
    "cell_id": "00089-8b64092f-ed8b-45d8-93da-ce651e1c94bc",
    "deepnote_cell_type": "markdown"
   },
   "source": [
    "*Not very well in a practical sense, see answer for Exercise 11 - but it is at least performing better than chance.*"
   ]
  },
  {
   "cell_type": "markdown",
   "metadata": {
    "cell_id": "00090-8cc38d63-b4ba-4883-8f6c-c9d635d07453",
    "deepnote_cell_type": "markdown"
   },
   "source": [
    "---\n",
    "\n",
    "Note that the AUC does not tell us what value of threshold should be used for our classifier, just its overall performance. If we would like to choose an optimal threshold value for practical decision making then we need to define a specific loss function for our data / problem. Specifically, we need to have some numeric measure of the benefit for true positives and true negatives and the costs of false negatives and false positives. For example the cost of a false positive vs. false negative is very different for this spam example than it would be for a medical diagnostic test like a Cancer screening test."
   ]
  },
  {
   "cell_type": "markdown",
   "metadata": {
    "cell_id": "00091-8788453e-d509-47c7-aca7-073e5746f0e6",
    "deepnote_cell_type": "markdown",
    "tags": []
   },
   "source": [
    "---\n",
    "\n",
    "## 4. Competing the worksheet\n",
    "\n",
    "At this point you have hopefully been able to complete all the preceeding exercises. Now \n",
    "is a good time to check the reproducibility of this document by restarting the notebook's\n",
    "kernel and rerunning all cells in order.\n",
    "\n",
    "Once that is done and you are happy with everything, you can then run the following cell \n",
    "to generate your PDF and turn it in on gradescope under the `mlp-week06` assignment."
   ]
  },
  {
   "cell_type": "code",
   "execution_count": null,
   "metadata": {
    "cell_id": "00092-8ca6702d-91a0-4422-9b3f-f0731c75956e",
    "deepnote_cell_type": "code",
    "deepnote_to_be_reexecuted": false,
    "execution_millis": 12851,
    "execution_start": 1614161690343,
    "output_cleared": false,
    "source_hash": "3248841c",
    "tags": []
   },
   "outputs": [
    {
     "name": "stdout",
     "output_type": "stream",
     "text": [
      "[NbConvertApp] Converting notebook mlp-week06.ipynb to pdf\n",
      "[NbConvertApp] Support files will be in mlp-week06_files/\n",
      "[NbConvertApp] Making directory ./mlp-week06_files\n",
      "[NbConvertApp] Making directory ./mlp-week06_files\n",
      "[NbConvertApp] Making directory ./mlp-week06_files\n",
      "[NbConvertApp] Making directory ./mlp-week06_files\n",
      "[NbConvertApp] Making directory ./mlp-week06_files\n",
      "[NbConvertApp] Making directory ./mlp-week06_files\n",
      "[NbConvertApp] Making directory ./mlp-week06_files\n",
      "[NbConvertApp] Making directory ./mlp-week06_files\n",
      "[NbConvertApp] Making directory ./mlp-week06_files\n",
      "[NbConvertApp] Making directory ./mlp-week06_files\n",
      "[NbConvertApp] Making directory ./mlp-week06_files\n",
      "[NbConvertApp] Making directory ./mlp-week06_files\n",
      "[NbConvertApp] Writing 81759 bytes to notebook.tex\n",
      "[NbConvertApp] Building PDF\n",
      "[NbConvertApp] Running xelatex 3 times: ['xelatex', 'notebook.tex', '-quiet']\n",
      "[NbConvertApp] Running bibtex 1 time: ['bibtex', 'notebook']\n",
      "[NbConvertApp] WARNING | bibtex had problems, most likely because there were no citations\n",
      "[NbConvertApp] PDF successfully created\n",
      "[NbConvertApp] Writing 632885 bytes to mlp-week06.pdf\n"
     ]
    }
   ],
   "source": [
    "!jupyter nbconvert --to pdf mlp-week06.ipynb"
   ]
  },
  {
   "cell_type": "code",
   "execution_count": null,
   "metadata": {
    "cell_id": "00092-cc20ca71-c27a-4df0-a121-6ef930a0492a",
    "deepnote_cell_type": "code",
    "tags": []
   },
   "outputs": [],
   "source": []
  },
  {
   "cell_type": "markdown",
   "metadata": {
    "created_in_deepnote_cell": true,
    "deepnote_cell_type": "markdown",
    "tags": []
   },
   "source": [
    "<a style='text-decoration:none;line-height:16px;display:flex;color:#5B5B62;padding:10px;justify-content:end;' href='https://deepnote.com?utm_source=created-in-deepnote-cell&projectId=2c66f970-4c37-4def-bef4-01448e36898f' target=\"_blank\">\n",
    "<img style='display:inline;max-height:16px;margin:0px;margin-right:7.5px;' src='data:image/svg+xml;base64,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' > </img>\n",
    "Created in <span style='font-weight:600;margin-left:4px;'>Deepnote</span></a>"
   ]
  }
 ],
 "metadata": {
  "deepnote": {},
  "deepnote_execution_queue": [],
  "deepnote_notebook_id": "3d673876-b81e-42ce-808e-7df32080b25c",
  "kernelspec": {
   "display_name": "Python 3",
   "language": "python",
   "name": "python3"
  },
  "language_info": {
   "codemirror_mode": {
    "name": "ipython",
    "version": 3
   },
   "file_extension": ".py",
   "mimetype": "text/x-python",
   "name": "python",
   "nbconvert_exporter": "python",
   "pygments_lexer": "ipython3",
   "version": "3.8.3"
  }
 },
 "nbformat": 4,
 "nbformat_minor": 4
}
